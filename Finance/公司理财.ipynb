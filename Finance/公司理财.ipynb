{
 "cells": [
  {
   "cell_type": "markdown",
   "id": "cc991dd7",
   "metadata": {},
   "source": [
    "## 回收期"
   ]
  },
  {
   "cell_type": "code",
   "execution_count": 1,
   "id": "294d4d1e",
   "metadata": {},
   "outputs": [],
   "source": [
    "import pandas as pd\n",
    "import numpy as np"
   ]
  },
  {
   "cell_type": "code",
   "execution_count": 87,
   "id": "8585021c",
   "metadata": {},
   "outputs": [],
   "source": [
    "def PBT(cf_series,r):\n",
    "    discont = pd.Series([(1/(1+r))**(i) for i in range(len(cf_series))])\n",
    "    discf = cf_series*discont\n",
    "    cums = (cf_series*discont).cumsum()\n",
    "    df = pd.DataFrame([discf,cums],index=['折现','累积']).transpose()\n",
    "    return df"
   ]
  },
  {
   "cell_type": "code",
   "execution_count": 88,
   "id": "56224fd0",
   "metadata": {},
   "outputs": [
    {
     "data": {
      "text/html": [
       "<div>\n",
       "<style scoped>\n",
       "    .dataframe tbody tr th:only-of-type {\n",
       "        vertical-align: middle;\n",
       "    }\n",
       "\n",
       "    .dataframe tbody tr th {\n",
       "        vertical-align: top;\n",
       "    }\n",
       "\n",
       "    .dataframe thead th {\n",
       "        text-align: right;\n",
       "    }\n",
       "</style>\n",
       "<table border=\"1\" class=\"dataframe\">\n",
       "  <thead>\n",
       "    <tr style=\"text-align: right;\">\n",
       "      <th></th>\n",
       "      <th>折现</th>\n",
       "      <th>累积</th>\n",
       "    </tr>\n",
       "  </thead>\n",
       "  <tbody>\n",
       "    <tr>\n",
       "      <th>0</th>\n",
       "      <td>-1.000000</td>\n",
       "      <td>-1.000000</td>\n",
       "    </tr>\n",
       "    <tr>\n",
       "      <th>1</th>\n",
       "      <td>0.909091</td>\n",
       "      <td>-0.090909</td>\n",
       "    </tr>\n",
       "    <tr>\n",
       "      <th>2</th>\n",
       "      <td>0.826446</td>\n",
       "      <td>0.735537</td>\n",
       "    </tr>\n",
       "    <tr>\n",
       "      <th>3</th>\n",
       "      <td>0.751315</td>\n",
       "      <td>1.486852</td>\n",
       "    </tr>\n",
       "    <tr>\n",
       "      <th>4</th>\n",
       "      <td>0.683013</td>\n",
       "      <td>2.169865</td>\n",
       "    </tr>\n",
       "  </tbody>\n",
       "</table>\n",
       "</div>"
      ],
      "text/plain": [
       "         折现        累积\n",
       "0 -1.000000 -1.000000\n",
       "1  0.909091 -0.090909\n",
       "2  0.826446  0.735537\n",
       "3  0.751315  1.486852\n",
       "4  0.683013  2.169865"
      ]
     },
     "execution_count": 88,
     "metadata": {},
     "output_type": "execute_result"
    }
   ],
   "source": [
    "PBT(pd.Series([-1,1,1,1,1]),0.1)"
   ]
  },
  {
   "cell_type": "code",
   "execution_count": 162,
   "id": "a8399c46",
   "metadata": {},
   "outputs": [
    {
     "data": {
      "text/html": [
       "<div>\n",
       "<style scoped>\n",
       "    .dataframe tbody tr th:only-of-type {\n",
       "        vertical-align: middle;\n",
       "    }\n",
       "\n",
       "    .dataframe tbody tr th {\n",
       "        vertical-align: top;\n",
       "    }\n",
       "\n",
       "    .dataframe thead th {\n",
       "        text-align: right;\n",
       "    }\n",
       "</style>\n",
       "<table border=\"1\" class=\"dataframe\">\n",
       "  <thead>\n",
       "    <tr style=\"text-align: right;\">\n",
       "      <th></th>\n",
       "      <th>折现</th>\n",
       "      <th>累积</th>\n",
       "    </tr>\n",
       "  </thead>\n",
       "  <tbody>\n",
       "    <tr>\n",
       "      <th>0</th>\n",
       "      <td>-10000.000000</td>\n",
       "      <td>-10000.000000</td>\n",
       "    </tr>\n",
       "    <tr>\n",
       "      <th>1</th>\n",
       "      <td>2678.571429</td>\n",
       "      <td>-7321.428571</td>\n",
       "    </tr>\n",
       "    <tr>\n",
       "      <th>2</th>\n",
       "      <td>2630.739796</td>\n",
       "      <td>-4690.688776</td>\n",
       "    </tr>\n",
       "    <tr>\n",
       "      <th>3</th>\n",
       "      <td>2420.052843</td>\n",
       "      <td>-2270.635933</td>\n",
       "    </tr>\n",
       "    <tr>\n",
       "      <th>4</th>\n",
       "      <td>2414.968698</td>\n",
       "      <td>144.332765</td>\n",
       "    </tr>\n",
       "    <tr>\n",
       "      <th>5</th>\n",
       "      <td>2269.707423</td>\n",
       "      <td>2414.040188</td>\n",
       "    </tr>\n",
       "  </tbody>\n",
       "</table>\n",
       "</div>"
      ],
      "text/plain": [
       "             折现            累积\n",
       "0 -10000.000000 -10000.000000\n",
       "1   2678.571429  -7321.428571\n",
       "2   2630.739796  -4690.688776\n",
       "3   2420.052843  -2270.635933\n",
       "4   2414.968698    144.332765\n",
       "5   2269.707423   2414.040188"
      ]
     },
     "execution_count": 162,
     "metadata": {},
     "output_type": "execute_result"
    }
   ],
   "source": [
    "PBT(pd.Series([-10000,3000,3300,3400,3800,4000]),0.12)"
   ]
  },
  {
   "cell_type": "markdown",
   "id": "8e14fce5",
   "metadata": {},
   "source": [
    "## 净现值"
   ]
  },
  {
   "cell_type": "code",
   "execution_count": 89,
   "id": "79c3b34e",
   "metadata": {},
   "outputs": [],
   "source": [
    "def NPV(cf_series,r):\n",
    "    if r < 0:\n",
    "        return 99999\n",
    "    discont = pd.Series([(1/(1+r))**(i) for i in range(len(cf_series))])\n",
    "    discf = cf_series*discont\n",
    "    return discf.sum()"
   ]
  },
  {
   "cell_type": "code",
   "execution_count": 170,
   "id": "d33996f9",
   "metadata": {},
   "outputs": [
    {
     "data": {
      "text/plain": [
       "27.953443319196992"
      ]
     },
     "execution_count": 170,
     "metadata": {},
     "output_type": "execute_result"
    }
   ],
   "source": [
    "NPV(pd.Series([-440,87,87,87,87,309.5]),0.1)"
   ]
  },
  {
   "cell_type": "code",
   "execution_count": null,
   "id": "0a82b939",
   "metadata": {},
   "outputs": [],
   "source": []
  },
  {
   "cell_type": "markdown",
   "id": "55a1b2d4",
   "metadata": {},
   "source": [
    "## 内部收益率"
   ]
  },
  {
   "cell_type": "code",
   "execution_count": 153,
   "id": "dbff1424",
   "metadata": {},
   "outputs": [
    {
     "name": "stdout",
     "output_type": "stream",
     "text": [
      "78.81975274912904\n",
      "49.17696878628499\n"
     ]
    }
   ],
   "source": [
    "cf_series1 = pd.Series([-1000,500,400,300,100])\n",
    "cf_series2 = pd.Series([-1000,100,300,400,600])\n",
    "print(NPV(cf_series1,0.1))\n",
    "print(NPV(cf_series2,0.1))"
   ]
  },
  {
   "cell_type": "code",
   "execution_count": 173,
   "id": "cfeb01b1",
   "metadata": {},
   "outputs": [],
   "source": [
    "from scipy.optimize import fsolve\n",
    "\n",
    "def IRR(cf_series,ix=0.01):\n",
    "    def func(i):\n",
    "        x = i[0]\n",
    "        return [NPV(cf_series,x)]\n",
    "    r = fsolve(func,[ix])\n",
    "    return r \n"
   ]
  },
  {
   "cell_type": "code",
   "execution_count": 174,
   "id": "a36320f8",
   "metadata": {},
   "outputs": [
    {
     "name": "stdout",
     "output_type": "stream",
     "text": [
      "[0.14488844]\n",
      "[0.11790556]\n"
     ]
    }
   ],
   "source": [
    "print(IRR(cf_series1))\n",
    "print(IRR(cf_series2))"
   ]
  },
  {
   "cell_type": "code",
   "execution_count": 72,
   "id": "47ad1870",
   "metadata": {},
   "outputs": [],
   "source": [
    "# 事实上这可能存在多个内部收益率\n",
    "print(IRR(pd.Series([-60,155,-100]),0.3))\n",
    "print(IRR(pd.Series([-60,155,-100]),0.01))"
   ]
  },
  {
   "cell_type": "code",
   "execution_count": null,
   "id": "035f4d2a",
   "metadata": {},
   "outputs": [],
   "source": []
  },
  {
   "cell_type": "markdown",
   "id": "0138c7dd",
   "metadata": {},
   "source": [
    "## 获利能力指数"
   ]
  },
  {
   "cell_type": "code",
   "execution_count": 168,
   "id": "ad06ba2b",
   "metadata": {},
   "outputs": [],
   "source": [
    "cf_series=pd.Series([0,1000,2000,30000])\n",
    "cd_series=pd.Series([-10000,0,0,0])\n",
    "r=0.1"
   ]
  },
  {
   "cell_type": "code",
   "execution_count": 169,
   "id": "9a65a436",
   "metadata": {},
   "outputs": [
    {
     "data": {
      "text/plain": [
       "-2.510142749812171"
      ]
     },
     "execution_count": 169,
     "metadata": {},
     "output_type": "execute_result"
    }
   ],
   "source": [
    "PI = NPV(cf_series,r)/NPV(cd_series,r)\n",
    "PI"
   ]
  },
  {
   "cell_type": "code",
   "execution_count": 179,
   "id": "194b43af",
   "metadata": {},
   "outputs": [
    {
     "data": {
      "text/plain": [
       "-39.91182917212586"
      ]
     },
     "execution_count": 179,
     "metadata": {},
     "output_type": "execute_result"
    }
   ],
   "source": [
    "NPV(pd.Series([-2360,752,742,612,474,386]),0.1)"
   ]
  },
  {
   "cell_type": "code",
   "execution_count": 178,
   "id": "8b647133",
   "metadata": {},
   "outputs": [
    {
     "data": {
      "text/plain": [
       "array([0.09251613])"
      ]
     },
     "execution_count": 178,
     "metadata": {},
     "output_type": "execute_result"
    }
   ],
   "source": [
    "IRR(pd.Series([-2360,752,742,612,474,386]),0.1)"
   ]
  },
  {
   "cell_type": "code",
   "execution_count": null,
   "id": "3ffdaccc",
   "metadata": {},
   "outputs": [],
   "source": []
  },
  {
   "cell_type": "code",
   "execution_count": null,
   "id": "9f7c06cb",
   "metadata": {},
   "outputs": [],
   "source": []
  },
  {
   "cell_type": "code",
   "execution_count": null,
   "id": "26532182",
   "metadata": {},
   "outputs": [],
   "source": []
  },
  {
   "cell_type": "code",
   "execution_count": null,
   "id": "4bb79478",
   "metadata": {},
   "outputs": [],
   "source": []
  },
  {
   "cell_type": "markdown",
   "id": "fdfe1731",
   "metadata": {},
   "source": [
    "### 边际资本成本"
   ]
  },
  {
   "cell_type": "code",
   "execution_count": 1,
   "id": "88bf9dcf",
   "metadata": {
    "ExecuteTime": {
     "end_time": "2022-06-19T02:46:10.887256Z",
     "start_time": "2022-06-19T02:46:10.880255Z"
    }
   },
   "outputs": [],
   "source": [
    "def I(a,b,x):\n",
    "    return x>a and x<=b"
   ]
  },
  {
   "cell_type": "code",
   "execution_count": 6,
   "id": "59b98f86",
   "metadata": {
    "ExecuteTime": {
     "end_time": "2022-06-19T03:02:12.267940Z",
     "start_time": "2022-06-19T03:02:12.251152Z"
    }
   },
   "outputs": [
    {
     "ename": "IndexError",
     "evalue": "list index out of range",
     "output_type": "error",
     "traceback": [
      "\u001b[1;31m---------------------------------------------------------------------------\u001b[0m",
      "\u001b[1;31mIndexError\u001b[0m                                Traceback (most recent call last)",
      "\u001b[1;32m~\\AppData\\Local\\Temp/ipykernel_13768/3111965198.py\u001b[0m in \u001b[0;36m<module>\u001b[1;34m\u001b[0m\n\u001b[0;32m     10\u001b[0m \u001b[0mSP_cost\u001b[0m \u001b[1;33m=\u001b[0m \u001b[1;33m[\u001b[0m\u001b[0mD0\u001b[0m\u001b[1;33m/\u001b[0m\u001b[0mP0\u001b[0m\u001b[1;33m[\u001b[0m\u001b[0mi\u001b[0m\u001b[1;33m]\u001b[0m \u001b[1;32mfor\u001b[0m \u001b[0mi\u001b[0m \u001b[1;32min\u001b[0m \u001b[0mrange\u001b[0m\u001b[1;33m(\u001b[0m\u001b[0mlen\u001b[0m\u001b[1;33m(\u001b[0m\u001b[0mP0\u001b[0m\u001b[1;33m)\u001b[0m\u001b[1;33m)\u001b[0m\u001b[1;33m]\u001b[0m\u001b[1;33m\u001b[0m\u001b[1;33m\u001b[0m\u001b[0m\n\u001b[0;32m     11\u001b[0m \u001b[0mS_lst\u001b[0m \u001b[1;33m=\u001b[0m \u001b[1;33m[\u001b[0m\u001b[1;36m0\u001b[0m\u001b[1;33m,\u001b[0m\u001b[1;36m18000\u001b[0m\u001b[1;33m]\u001b[0m\u001b[1;33m\u001b[0m\u001b[1;33m\u001b[0m\u001b[0m\n\u001b[1;32m---> 12\u001b[1;33m \u001b[0mS_cost\u001b[0m \u001b[1;33m=\u001b[0m \u001b[1;33m[\u001b[0m\u001b[0mD0\u001b[0m\u001b[1;33m*\u001b[0m\u001b[1;33m(\u001b[0m\u001b[1;36m1\u001b[0m\u001b[1;33m+\u001b[0m\u001b[0mg\u001b[0m\u001b[1;33m)\u001b[0m\u001b[1;33m/\u001b[0m\u001b[1;33m(\u001b[0m\u001b[0mP0\u001b[0m\u001b[1;33m[\u001b[0m\u001b[0mi\u001b[0m\u001b[1;33m]\u001b[0m\u001b[1;33m*\u001b[0m\u001b[1;33m(\u001b[0m\u001b[1;36m1\u001b[0m\u001b[1;33m-\u001b[0m\u001b[0mf\u001b[0m\u001b[1;33m[\u001b[0m\u001b[0mi\u001b[0m\u001b[1;33m]\u001b[0m\u001b[1;33m)\u001b[0m\u001b[1;33m)\u001b[0m\u001b[1;33m+\u001b[0m\u001b[0mg\u001b[0m \u001b[1;32mfor\u001b[0m \u001b[0mi\u001b[0m \u001b[1;32min\u001b[0m \u001b[0mrange\u001b[0m\u001b[1;33m(\u001b[0m\u001b[0mlen\u001b[0m\u001b[1;33m(\u001b[0m\u001b[0mP0\u001b[0m\u001b[1;33m)\u001b[0m\u001b[1;33m)\u001b[0m\u001b[1;33m]\u001b[0m\u001b[1;33m\u001b[0m\u001b[1;33m\u001b[0m\u001b[0m\n\u001b[0m\u001b[0;32m     13\u001b[0m \u001b[1;33m\u001b[0m\u001b[0m\n",
      "\u001b[1;32m~\\AppData\\Local\\Temp/ipykernel_13768/3111965198.py\u001b[0m in \u001b[0;36m<listcomp>\u001b[1;34m(.0)\u001b[0m\n\u001b[0;32m     10\u001b[0m \u001b[0mSP_cost\u001b[0m \u001b[1;33m=\u001b[0m \u001b[1;33m[\u001b[0m\u001b[0mD0\u001b[0m\u001b[1;33m/\u001b[0m\u001b[0mP0\u001b[0m\u001b[1;33m[\u001b[0m\u001b[0mi\u001b[0m\u001b[1;33m]\u001b[0m \u001b[1;32mfor\u001b[0m \u001b[0mi\u001b[0m \u001b[1;32min\u001b[0m \u001b[0mrange\u001b[0m\u001b[1;33m(\u001b[0m\u001b[0mlen\u001b[0m\u001b[1;33m(\u001b[0m\u001b[0mP0\u001b[0m\u001b[1;33m)\u001b[0m\u001b[1;33m)\u001b[0m\u001b[1;33m]\u001b[0m\u001b[1;33m\u001b[0m\u001b[1;33m\u001b[0m\u001b[0m\n\u001b[0;32m     11\u001b[0m \u001b[0mS_lst\u001b[0m \u001b[1;33m=\u001b[0m \u001b[1;33m[\u001b[0m\u001b[1;36m0\u001b[0m\u001b[1;33m,\u001b[0m\u001b[1;36m18000\u001b[0m\u001b[1;33m]\u001b[0m\u001b[1;33m\u001b[0m\u001b[1;33m\u001b[0m\u001b[0m\n\u001b[1;32m---> 12\u001b[1;33m \u001b[0mS_cost\u001b[0m \u001b[1;33m=\u001b[0m \u001b[1;33m[\u001b[0m\u001b[0mD0\u001b[0m\u001b[1;33m*\u001b[0m\u001b[1;33m(\u001b[0m\u001b[1;36m1\u001b[0m\u001b[1;33m+\u001b[0m\u001b[0mg\u001b[0m\u001b[1;33m)\u001b[0m\u001b[1;33m/\u001b[0m\u001b[1;33m(\u001b[0m\u001b[0mP0\u001b[0m\u001b[1;33m[\u001b[0m\u001b[0mi\u001b[0m\u001b[1;33m]\u001b[0m\u001b[1;33m*\u001b[0m\u001b[1;33m(\u001b[0m\u001b[1;36m1\u001b[0m\u001b[1;33m-\u001b[0m\u001b[0mf\u001b[0m\u001b[1;33m[\u001b[0m\u001b[0mi\u001b[0m\u001b[1;33m]\u001b[0m\u001b[1;33m)\u001b[0m\u001b[1;33m)\u001b[0m\u001b[1;33m+\u001b[0m\u001b[0mg\u001b[0m \u001b[1;32mfor\u001b[0m \u001b[0mi\u001b[0m \u001b[1;32min\u001b[0m \u001b[0mrange\u001b[0m\u001b[1;33m(\u001b[0m\u001b[0mlen\u001b[0m\u001b[1;33m(\u001b[0m\u001b[0mP0\u001b[0m\u001b[1;33m)\u001b[0m\u001b[1;33m)\u001b[0m\u001b[1;33m]\u001b[0m\u001b[1;33m\u001b[0m\u001b[1;33m\u001b[0m\u001b[0m\n\u001b[0m\u001b[0;32m     13\u001b[0m \u001b[1;33m\u001b[0m\u001b[0m\n",
      "\u001b[1;31mIndexError\u001b[0m: list index out of range"
     ]
    }
   ],
   "source": [
    "weight = [0.4,0,0.6] #债务，优先股，普通股\n",
    "retained_income = 12500*0.5\n",
    "g  = 0.05\n",
    "D0 = 0.5\n",
    "P0 = [7,26,7.26,6.5]\n",
    "T = 0.33\n",
    "f = [0,0.1,0.1]\n",
    "D_lst = [0,10000,20000]\n",
    "D_cost = [0.08,0.1,0.12]\n",
    "SP_cost = [D0/P0[i] for i in range(len(P0))]\n",
    "S_lst = [0,18000]\n",
    "S_cost = [D0*(1+g)/(P0[i]*(1-f[i]))+g for i in range(len(P0))]\n",
    "\n"
   ]
  },
  {
   "cell_type": "code",
   "execution_count": null,
   "id": "abc4229e",
   "metadata": {},
   "outputs": [],
   "source": []
  },
  {
   "cell_type": "code",
   "execution_count": null,
   "id": "142e8947",
   "metadata": {},
   "outputs": [],
   "source": []
  },
  {
   "cell_type": "code",
   "execution_count": null,
   "id": "1e0df30d",
   "metadata": {},
   "outputs": [],
   "source": []
  }
 ],
 "metadata": {
  "kernelspec": {
   "display_name": "Python 3 (ipykernel)",
   "language": "python",
   "name": "python3"
  },
  "language_info": {
   "codemirror_mode": {
    "name": "ipython",
    "version": 3
   },
   "file_extension": ".py",
   "mimetype": "text/x-python",
   "name": "python",
   "nbconvert_exporter": "python",
   "pygments_lexer": "ipython3",
   "version": "3.9.7"
  },
  "latex_envs": {
   "LaTeX_envs_menu_present": true,
   "autoclose": false,
   "autocomplete": true,
   "bibliofile": "biblio.bib",
   "cite_by": "apalike",
   "current_citInitial": 1,
   "eqLabelWithNumbers": true,
   "eqNumInitial": 1,
   "hotkeys": {
    "equation": "Ctrl-E",
    "itemize": "Ctrl-I"
   },
   "labels_anchors": false,
   "latex_user_defs": false,
   "report_style_numbering": false,
   "user_envs_cfg": false
  },
  "toc": {
   "base_numbering": 1,
   "nav_menu": {},
   "number_sections": true,
   "sideBar": true,
   "skip_h1_title": false,
   "title_cell": "Table of Contents",
   "title_sidebar": "Contents",
   "toc_cell": false,
   "toc_position": {
    "height": "calc(100% - 180px)",
    "left": "10px",
    "top": "150px",
    "width": "280.666px"
   },
   "toc_section_display": true,
   "toc_window_display": true
  },
  "varInspector": {
   "cols": {
    "lenName": 16,
    "lenType": 16,
    "lenVar": 40
   },
   "kernels_config": {
    "python": {
     "delete_cmd_postfix": "",
     "delete_cmd_prefix": "del ",
     "library": "var_list.py",
     "varRefreshCmd": "print(var_dic_list())"
    },
    "r": {
     "delete_cmd_postfix": ") ",
     "delete_cmd_prefix": "rm(",
     "library": "var_list.r",
     "varRefreshCmd": "cat(var_dic_list()) "
    }
   },
   "types_to_exclude": [
    "module",
    "function",
    "builtin_function_or_method",
    "instance",
    "_Feature"
   ],
   "window_display": false
  }
 },
 "nbformat": 4,
 "nbformat_minor": 5
}
