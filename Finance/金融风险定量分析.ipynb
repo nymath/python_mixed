{
 "cells": [
  {
   "cell_type": "code",
   "execution_count": 1,
   "id": "4f498c0a",
   "metadata": {
    "ExecuteTime": {
     "end_time": "2022-07-31T10:32:12.905088Z",
     "start_time": "2022-07-31T10:32:11.455798Z"
    }
   },
   "outputs": [],
   "source": [
    "import scipy.stats as st\n",
    "import numpy as np\n",
    "import pandas as pd\n",
    "from scipy import optimize"
   ]
  },
  {
   "cell_type": "code",
   "execution_count": 2,
   "id": "2bcd057d",
   "metadata": {
    "ExecuteTime": {
     "end_time": "2022-07-31T10:32:14.204660Z",
     "start_time": "2022-07-31T10:32:14.196834Z"
    }
   },
   "outputs": [],
   "source": [
    "qnorm = st.norm.ppf\n",
    "pnorm = st.norm.cdf"
   ]
  },
  {
   "cell_type": "code",
   "execution_count": 3,
   "id": "44cba0bf",
   "metadata": {
    "ExecuteTime": {
     "end_time": "2022-07-31T10:32:14.510657Z",
     "start_time": "2022-07-31T10:32:14.490187Z"
    }
   },
   "outputs": [
    {
     "data": {
      "text/plain": [
       "123123"
      ]
     },
     "execution_count": 3,
     "metadata": {},
     "output_type": "execute_result"
    }
   ],
   "source": [
    "123123"
   ]
  },
  {
   "cell_type": "markdown",
   "id": "e04e1bcc",
   "metadata": {},
   "source": [
    "\\begin{equation*}\n",
    "cdf(x) = Pr(X \\leq x)\n",
    "\\end{equation*}"
   ]
  },
  {
   "cell_type": "markdown",
   "id": "15162ca5",
   "metadata": {},
   "source": [
    "## 波动性"
   ]
  },
  {
   "cell_type": "code",
   "execution_count": 4,
   "id": "98f815de",
   "metadata": {
    "ExecuteTime": {
     "end_time": "2022-07-31T10:32:15.657622Z",
     "start_time": "2022-07-31T10:32:14.987641Z"
    }
   },
   "outputs": [
    {
     "ename": "FileNotFoundError",
     "evalue": "[Errno 2] No such file or directory: 'C:/Users/17800/Desktop/python/sp500.csv'",
     "output_type": "error",
     "traceback": [
      "\u001b[0;31m---------------------------------------------------------------------------\u001b[0m",
      "\u001b[0;31mFileNotFoundError\u001b[0m                         Traceback (most recent call last)",
      "Input \u001b[0;32mIn [4]\u001b[0m, in \u001b[0;36m<cell line: 2>\u001b[0;34m()\u001b[0m\n\u001b[1;32m      1\u001b[0m \u001b[38;5;66;03m##条件极大似然估计\u001b[39;00m\n\u001b[0;32m----> 2\u001b[0m data \u001b[38;5;241m=\u001b[39m \u001b[43mpd\u001b[49m\u001b[38;5;241;43m.\u001b[39;49m\u001b[43mread_csv\u001b[49m\u001b[43m(\u001b[49m\u001b[38;5;124;43m'\u001b[39;49m\u001b[38;5;124;43mC:/Users/17800/Desktop/python/sp500.csv\u001b[39;49m\u001b[38;5;124;43m'\u001b[39;49m\u001b[43m)\u001b[49m\n\u001b[1;32m      3\u001b[0m data \u001b[38;5;241m=\u001b[39m data\u001b[38;5;241m.\u001b[39miloc[\u001b[38;5;241m0\u001b[39m:\u001b[38;5;241m20\u001b[39m]\n",
      "File \u001b[0;32m/opt/anaconda3/lib/python3.9/site-packages/pandas/util/_decorators.py:311\u001b[0m, in \u001b[0;36mdeprecate_nonkeyword_arguments.<locals>.decorate.<locals>.wrapper\u001b[0;34m(*args, **kwargs)\u001b[0m\n\u001b[1;32m    305\u001b[0m \u001b[38;5;28;01mif\u001b[39;00m \u001b[38;5;28mlen\u001b[39m(args) \u001b[38;5;241m>\u001b[39m num_allow_args:\n\u001b[1;32m    306\u001b[0m     warnings\u001b[38;5;241m.\u001b[39mwarn(\n\u001b[1;32m    307\u001b[0m         msg\u001b[38;5;241m.\u001b[39mformat(arguments\u001b[38;5;241m=\u001b[39marguments),\n\u001b[1;32m    308\u001b[0m         \u001b[38;5;167;01mFutureWarning\u001b[39;00m,\n\u001b[1;32m    309\u001b[0m         stacklevel\u001b[38;5;241m=\u001b[39mstacklevel,\n\u001b[1;32m    310\u001b[0m     )\n\u001b[0;32m--> 311\u001b[0m \u001b[38;5;28;01mreturn\u001b[39;00m \u001b[43mfunc\u001b[49m\u001b[43m(\u001b[49m\u001b[38;5;241;43m*\u001b[39;49m\u001b[43margs\u001b[49m\u001b[43m,\u001b[49m\u001b[43m \u001b[49m\u001b[38;5;241;43m*\u001b[39;49m\u001b[38;5;241;43m*\u001b[39;49m\u001b[43mkwargs\u001b[49m\u001b[43m)\u001b[49m\n",
      "File \u001b[0;32m/opt/anaconda3/lib/python3.9/site-packages/pandas/io/parsers/readers.py:680\u001b[0m, in \u001b[0;36mread_csv\u001b[0;34m(filepath_or_buffer, sep, delimiter, header, names, index_col, usecols, squeeze, prefix, mangle_dupe_cols, dtype, engine, converters, true_values, false_values, skipinitialspace, skiprows, skipfooter, nrows, na_values, keep_default_na, na_filter, verbose, skip_blank_lines, parse_dates, infer_datetime_format, keep_date_col, date_parser, dayfirst, cache_dates, iterator, chunksize, compression, thousands, decimal, lineterminator, quotechar, quoting, doublequote, escapechar, comment, encoding, encoding_errors, dialect, error_bad_lines, warn_bad_lines, on_bad_lines, delim_whitespace, low_memory, memory_map, float_precision, storage_options)\u001b[0m\n\u001b[1;32m    665\u001b[0m kwds_defaults \u001b[38;5;241m=\u001b[39m _refine_defaults_read(\n\u001b[1;32m    666\u001b[0m     dialect,\n\u001b[1;32m    667\u001b[0m     delimiter,\n\u001b[0;32m   (...)\u001b[0m\n\u001b[1;32m    676\u001b[0m     defaults\u001b[38;5;241m=\u001b[39m{\u001b[38;5;124m\"\u001b[39m\u001b[38;5;124mdelimiter\u001b[39m\u001b[38;5;124m\"\u001b[39m: \u001b[38;5;124m\"\u001b[39m\u001b[38;5;124m,\u001b[39m\u001b[38;5;124m\"\u001b[39m},\n\u001b[1;32m    677\u001b[0m )\n\u001b[1;32m    678\u001b[0m kwds\u001b[38;5;241m.\u001b[39mupdate(kwds_defaults)\n\u001b[0;32m--> 680\u001b[0m \u001b[38;5;28;01mreturn\u001b[39;00m \u001b[43m_read\u001b[49m\u001b[43m(\u001b[49m\u001b[43mfilepath_or_buffer\u001b[49m\u001b[43m,\u001b[49m\u001b[43m \u001b[49m\u001b[43mkwds\u001b[49m\u001b[43m)\u001b[49m\n",
      "File \u001b[0;32m/opt/anaconda3/lib/python3.9/site-packages/pandas/io/parsers/readers.py:575\u001b[0m, in \u001b[0;36m_read\u001b[0;34m(filepath_or_buffer, kwds)\u001b[0m\n\u001b[1;32m    572\u001b[0m _validate_names(kwds\u001b[38;5;241m.\u001b[39mget(\u001b[38;5;124m\"\u001b[39m\u001b[38;5;124mnames\u001b[39m\u001b[38;5;124m\"\u001b[39m, \u001b[38;5;28;01mNone\u001b[39;00m))\n\u001b[1;32m    574\u001b[0m \u001b[38;5;66;03m# Create the parser.\u001b[39;00m\n\u001b[0;32m--> 575\u001b[0m parser \u001b[38;5;241m=\u001b[39m \u001b[43mTextFileReader\u001b[49m\u001b[43m(\u001b[49m\u001b[43mfilepath_or_buffer\u001b[49m\u001b[43m,\u001b[49m\u001b[43m \u001b[49m\u001b[38;5;241;43m*\u001b[39;49m\u001b[38;5;241;43m*\u001b[39;49m\u001b[43mkwds\u001b[49m\u001b[43m)\u001b[49m\n\u001b[1;32m    577\u001b[0m \u001b[38;5;28;01mif\u001b[39;00m chunksize \u001b[38;5;129;01mor\u001b[39;00m iterator:\n\u001b[1;32m    578\u001b[0m     \u001b[38;5;28;01mreturn\u001b[39;00m parser\n",
      "File \u001b[0;32m/opt/anaconda3/lib/python3.9/site-packages/pandas/io/parsers/readers.py:933\u001b[0m, in \u001b[0;36mTextFileReader.__init__\u001b[0;34m(self, f, engine, **kwds)\u001b[0m\n\u001b[1;32m    930\u001b[0m     \u001b[38;5;28mself\u001b[39m\u001b[38;5;241m.\u001b[39moptions[\u001b[38;5;124m\"\u001b[39m\u001b[38;5;124mhas_index_names\u001b[39m\u001b[38;5;124m\"\u001b[39m] \u001b[38;5;241m=\u001b[39m kwds[\u001b[38;5;124m\"\u001b[39m\u001b[38;5;124mhas_index_names\u001b[39m\u001b[38;5;124m\"\u001b[39m]\n\u001b[1;32m    932\u001b[0m \u001b[38;5;28mself\u001b[39m\u001b[38;5;241m.\u001b[39mhandles: IOHandles \u001b[38;5;241m|\u001b[39m \u001b[38;5;28;01mNone\u001b[39;00m \u001b[38;5;241m=\u001b[39m \u001b[38;5;28;01mNone\u001b[39;00m\n\u001b[0;32m--> 933\u001b[0m \u001b[38;5;28mself\u001b[39m\u001b[38;5;241m.\u001b[39m_engine \u001b[38;5;241m=\u001b[39m \u001b[38;5;28;43mself\u001b[39;49m\u001b[38;5;241;43m.\u001b[39;49m\u001b[43m_make_engine\u001b[49m\u001b[43m(\u001b[49m\u001b[43mf\u001b[49m\u001b[43m,\u001b[49m\u001b[43m \u001b[49m\u001b[38;5;28;43mself\u001b[39;49m\u001b[38;5;241;43m.\u001b[39;49m\u001b[43mengine\u001b[49m\u001b[43m)\u001b[49m\n",
      "File \u001b[0;32m/opt/anaconda3/lib/python3.9/site-packages/pandas/io/parsers/readers.py:1217\u001b[0m, in \u001b[0;36mTextFileReader._make_engine\u001b[0;34m(self, f, engine)\u001b[0m\n\u001b[1;32m   1213\u001b[0m     mode \u001b[38;5;241m=\u001b[39m \u001b[38;5;124m\"\u001b[39m\u001b[38;5;124mrb\u001b[39m\u001b[38;5;124m\"\u001b[39m\n\u001b[1;32m   1214\u001b[0m \u001b[38;5;66;03m# error: No overload variant of \"get_handle\" matches argument types\u001b[39;00m\n\u001b[1;32m   1215\u001b[0m \u001b[38;5;66;03m# \"Union[str, PathLike[str], ReadCsvBuffer[bytes], ReadCsvBuffer[str]]\"\u001b[39;00m\n\u001b[1;32m   1216\u001b[0m \u001b[38;5;66;03m# , \"str\", \"bool\", \"Any\", \"Any\", \"Any\", \"Any\", \"Any\"\u001b[39;00m\n\u001b[0;32m-> 1217\u001b[0m \u001b[38;5;28mself\u001b[39m\u001b[38;5;241m.\u001b[39mhandles \u001b[38;5;241m=\u001b[39m \u001b[43mget_handle\u001b[49m\u001b[43m(\u001b[49m\u001b[43m  \u001b[49m\u001b[38;5;66;43;03m# type: ignore[call-overload]\u001b[39;49;00m\n\u001b[1;32m   1218\u001b[0m \u001b[43m    \u001b[49m\u001b[43mf\u001b[49m\u001b[43m,\u001b[49m\n\u001b[1;32m   1219\u001b[0m \u001b[43m    \u001b[49m\u001b[43mmode\u001b[49m\u001b[43m,\u001b[49m\n\u001b[1;32m   1220\u001b[0m \u001b[43m    \u001b[49m\u001b[43mencoding\u001b[49m\u001b[38;5;241;43m=\u001b[39;49m\u001b[38;5;28;43mself\u001b[39;49m\u001b[38;5;241;43m.\u001b[39;49m\u001b[43moptions\u001b[49m\u001b[38;5;241;43m.\u001b[39;49m\u001b[43mget\u001b[49m\u001b[43m(\u001b[49m\u001b[38;5;124;43m\"\u001b[39;49m\u001b[38;5;124;43mencoding\u001b[39;49m\u001b[38;5;124;43m\"\u001b[39;49m\u001b[43m,\u001b[49m\u001b[43m \u001b[49m\u001b[38;5;28;43;01mNone\u001b[39;49;00m\u001b[43m)\u001b[49m\u001b[43m,\u001b[49m\n\u001b[1;32m   1221\u001b[0m \u001b[43m    \u001b[49m\u001b[43mcompression\u001b[49m\u001b[38;5;241;43m=\u001b[39;49m\u001b[38;5;28;43mself\u001b[39;49m\u001b[38;5;241;43m.\u001b[39;49m\u001b[43moptions\u001b[49m\u001b[38;5;241;43m.\u001b[39;49m\u001b[43mget\u001b[49m\u001b[43m(\u001b[49m\u001b[38;5;124;43m\"\u001b[39;49m\u001b[38;5;124;43mcompression\u001b[39;49m\u001b[38;5;124;43m\"\u001b[39;49m\u001b[43m,\u001b[49m\u001b[43m \u001b[49m\u001b[38;5;28;43;01mNone\u001b[39;49;00m\u001b[43m)\u001b[49m\u001b[43m,\u001b[49m\n\u001b[1;32m   1222\u001b[0m \u001b[43m    \u001b[49m\u001b[43mmemory_map\u001b[49m\u001b[38;5;241;43m=\u001b[39;49m\u001b[38;5;28;43mself\u001b[39;49m\u001b[38;5;241;43m.\u001b[39;49m\u001b[43moptions\u001b[49m\u001b[38;5;241;43m.\u001b[39;49m\u001b[43mget\u001b[49m\u001b[43m(\u001b[49m\u001b[38;5;124;43m\"\u001b[39;49m\u001b[38;5;124;43mmemory_map\u001b[39;49m\u001b[38;5;124;43m\"\u001b[39;49m\u001b[43m,\u001b[49m\u001b[43m \u001b[49m\u001b[38;5;28;43;01mFalse\u001b[39;49;00m\u001b[43m)\u001b[49m\u001b[43m,\u001b[49m\n\u001b[1;32m   1223\u001b[0m \u001b[43m    \u001b[49m\u001b[43mis_text\u001b[49m\u001b[38;5;241;43m=\u001b[39;49m\u001b[43mis_text\u001b[49m\u001b[43m,\u001b[49m\n\u001b[1;32m   1224\u001b[0m \u001b[43m    \u001b[49m\u001b[43merrors\u001b[49m\u001b[38;5;241;43m=\u001b[39;49m\u001b[38;5;28;43mself\u001b[39;49m\u001b[38;5;241;43m.\u001b[39;49m\u001b[43moptions\u001b[49m\u001b[38;5;241;43m.\u001b[39;49m\u001b[43mget\u001b[49m\u001b[43m(\u001b[49m\u001b[38;5;124;43m\"\u001b[39;49m\u001b[38;5;124;43mencoding_errors\u001b[39;49m\u001b[38;5;124;43m\"\u001b[39;49m\u001b[43m,\u001b[49m\u001b[43m \u001b[49m\u001b[38;5;124;43m\"\u001b[39;49m\u001b[38;5;124;43mstrict\u001b[39;49m\u001b[38;5;124;43m\"\u001b[39;49m\u001b[43m)\u001b[49m\u001b[43m,\u001b[49m\n\u001b[1;32m   1225\u001b[0m \u001b[43m    \u001b[49m\u001b[43mstorage_options\u001b[49m\u001b[38;5;241;43m=\u001b[39;49m\u001b[38;5;28;43mself\u001b[39;49m\u001b[38;5;241;43m.\u001b[39;49m\u001b[43moptions\u001b[49m\u001b[38;5;241;43m.\u001b[39;49m\u001b[43mget\u001b[49m\u001b[43m(\u001b[49m\u001b[38;5;124;43m\"\u001b[39;49m\u001b[38;5;124;43mstorage_options\u001b[39;49m\u001b[38;5;124;43m\"\u001b[39;49m\u001b[43m,\u001b[49m\u001b[43m \u001b[49m\u001b[38;5;28;43;01mNone\u001b[39;49;00m\u001b[43m)\u001b[49m\u001b[43m,\u001b[49m\n\u001b[1;32m   1226\u001b[0m \u001b[43m\u001b[49m\u001b[43m)\u001b[49m\n\u001b[1;32m   1227\u001b[0m \u001b[38;5;28;01massert\u001b[39;00m \u001b[38;5;28mself\u001b[39m\u001b[38;5;241m.\u001b[39mhandles \u001b[38;5;129;01mis\u001b[39;00m \u001b[38;5;129;01mnot\u001b[39;00m \u001b[38;5;28;01mNone\u001b[39;00m\n\u001b[1;32m   1228\u001b[0m f \u001b[38;5;241m=\u001b[39m \u001b[38;5;28mself\u001b[39m\u001b[38;5;241m.\u001b[39mhandles\u001b[38;5;241m.\u001b[39mhandle\n",
      "File \u001b[0;32m/opt/anaconda3/lib/python3.9/site-packages/pandas/io/common.py:789\u001b[0m, in \u001b[0;36mget_handle\u001b[0;34m(path_or_buf, mode, encoding, compression, memory_map, is_text, errors, storage_options)\u001b[0m\n\u001b[1;32m    784\u001b[0m \u001b[38;5;28;01melif\u001b[39;00m \u001b[38;5;28misinstance\u001b[39m(handle, \u001b[38;5;28mstr\u001b[39m):\n\u001b[1;32m    785\u001b[0m     \u001b[38;5;66;03m# Check whether the filename is to be opened in binary mode.\u001b[39;00m\n\u001b[1;32m    786\u001b[0m     \u001b[38;5;66;03m# Binary mode does not support 'encoding' and 'newline'.\u001b[39;00m\n\u001b[1;32m    787\u001b[0m     \u001b[38;5;28;01mif\u001b[39;00m ioargs\u001b[38;5;241m.\u001b[39mencoding \u001b[38;5;129;01mand\u001b[39;00m \u001b[38;5;124m\"\u001b[39m\u001b[38;5;124mb\u001b[39m\u001b[38;5;124m\"\u001b[39m \u001b[38;5;129;01mnot\u001b[39;00m \u001b[38;5;129;01min\u001b[39;00m ioargs\u001b[38;5;241m.\u001b[39mmode:\n\u001b[1;32m    788\u001b[0m         \u001b[38;5;66;03m# Encoding\u001b[39;00m\n\u001b[0;32m--> 789\u001b[0m         handle \u001b[38;5;241m=\u001b[39m \u001b[38;5;28;43mopen\u001b[39;49m\u001b[43m(\u001b[49m\n\u001b[1;32m    790\u001b[0m \u001b[43m            \u001b[49m\u001b[43mhandle\u001b[49m\u001b[43m,\u001b[49m\n\u001b[1;32m    791\u001b[0m \u001b[43m            \u001b[49m\u001b[43mioargs\u001b[49m\u001b[38;5;241;43m.\u001b[39;49m\u001b[43mmode\u001b[49m\u001b[43m,\u001b[49m\n\u001b[1;32m    792\u001b[0m \u001b[43m            \u001b[49m\u001b[43mencoding\u001b[49m\u001b[38;5;241;43m=\u001b[39;49m\u001b[43mioargs\u001b[49m\u001b[38;5;241;43m.\u001b[39;49m\u001b[43mencoding\u001b[49m\u001b[43m,\u001b[49m\n\u001b[1;32m    793\u001b[0m \u001b[43m            \u001b[49m\u001b[43merrors\u001b[49m\u001b[38;5;241;43m=\u001b[39;49m\u001b[43merrors\u001b[49m\u001b[43m,\u001b[49m\n\u001b[1;32m    794\u001b[0m \u001b[43m            \u001b[49m\u001b[43mnewline\u001b[49m\u001b[38;5;241;43m=\u001b[39;49m\u001b[38;5;124;43m\"\u001b[39;49m\u001b[38;5;124;43m\"\u001b[39;49m\u001b[43m,\u001b[49m\n\u001b[1;32m    795\u001b[0m \u001b[43m        \u001b[49m\u001b[43m)\u001b[49m\n\u001b[1;32m    796\u001b[0m     \u001b[38;5;28;01melse\u001b[39;00m:\n\u001b[1;32m    797\u001b[0m         \u001b[38;5;66;03m# Binary mode\u001b[39;00m\n\u001b[1;32m    798\u001b[0m         handle \u001b[38;5;241m=\u001b[39m \u001b[38;5;28mopen\u001b[39m(handle, ioargs\u001b[38;5;241m.\u001b[39mmode)\n",
      "\u001b[0;31mFileNotFoundError\u001b[0m: [Errno 2] No such file or directory: 'C:/Users/17800/Desktop/python/sp500.csv'"
     ]
    }
   ],
   "source": [
    "##条件极大似然估计\n",
    "data = pd.read_csv('C:/Users/17800/Desktop/python/sp500.csv')\n",
    "data = data.iloc[0:20]"
   ]
  },
  {
   "cell_type": "code",
   "execution_count": null,
   "id": "5493203f",
   "metadata": {
    "ExecuteTime": {
     "end_time": "2022-07-31T10:32:15.660387Z",
     "start_time": "2022-07-31T10:32:15.660380Z"
    }
   },
   "outputs": [],
   "source": [
    "def a(n,beta,dt=data):\n",
    "    if n ==1:\n",
    "        return np.sqrt(np.var(dt))\n",
    "    else:\n",
    "        return dt.iloc[n-1]-beta[0]-beta[1]*dt.iloc[n-2]\n",
    "\n",
    "def sigma_2(n,beta,dt=data):\n",
    "    if n == 1:\n",
    "        return np.var(dt)\n",
    "    else:\n",
    "        return beta[2] + beta[3]*sigma_2(n-1,beta,dt=data)+beta[4]*a(n-1,beta,dt=data)**2"
   ]
  },
  {
   "cell_type": "code",
   "execution_count": null,
   "id": "19ea3ce3",
   "metadata": {
    "ExecuteTime": {
     "end_time": "2022-07-31T10:32:15.662015Z",
     "start_time": "2022-07-31T10:32:15.662008Z"
    }
   },
   "outputs": [],
   "source": [
    "def loss(beta,dt=data):\n",
    "    #s1 = pd.Series([i for i in range(2,len(dt)+1)])\n",
    "    #ss = s1.apply(lambda t:sigma_2(t,beta))\n",
    "    #sr = s1.apply(lambda t:(dt.iloc[t-1]-beta[0]-beta[1]*dt.iloc[t-2])**2)\n",
    "    aa = 0\n",
    "    for t in range(2,len(dt)+1):\n",
    "        aa += np.log(sigma_2(t,beta))+(dt.iloc[t-1]-beta[0]-beta[1]*dt.iloc[t-2])**2/sigma_2(t,beta)\n",
    "    return -aa"
   ]
  },
  {
   "cell_type": "code",
   "execution_count": null,
   "id": "0d30a76e",
   "metadata": {
    "ExecuteTime": {
     "end_time": "2022-07-31T10:32:15.663604Z",
     "start_time": "2022-07-31T10:32:15.663597Z"
    }
   },
   "outputs": [],
   "source": [
    "bnds = ((-10,10),(-10,10),(0,1),(0.0001,1),(0.0001,1))\n",
    "optimize.minimize(loss,(0.1,0.1,0.1,0.1,0.1),bounds=bnds)"
   ]
  },
  {
   "cell_type": "markdown",
   "id": "8bb60421",
   "metadata": {},
   "source": [
    "### 波动率估计"
   ]
  },
  {
   "cell_type": "markdown",
   "id": "16869feb",
   "metadata": {},
   "source": [
    "#### GARCH(1,1)"
   ]
  },
  {
   "cell_type": "code",
   "execution_count": 5,
   "id": "8f3995d0",
   "metadata": {
    "ExecuteTime": {
     "end_time": "2022-07-31T10:32:15.922172Z",
     "start_time": "2022-07-31T10:32:15.909667Z"
    }
   },
   "outputs": [],
   "source": [
    "p_omega = 0.000002\n",
    "p_alpha = 0.03\n",
    "p_beta = 0.95\n",
    "p_s_0 = 0.014\n",
    "# 给定当前的波动率为s_0,则s_t^2的估计为\n",
    "def V(t,omega=p_omega,alpha=p_alpha,beta=p_beta,s_0=p_s_0):\n",
    "    V_L = omega/(1-alpha-beta)\n",
    "    return V_L + (alpha+beta)**t*(s_0**2-V_L)\n",
    "\n",
    "#持续期限为T的期权的波动率\n",
    "def sigma(T,omega=p_omega,alpha=p_alpha,beta=p_beta,s_0=p_s_0):\n",
    "    a = -np.log(alpha+beta)\n",
    "    V_L = omega/(1-alpha-beta)\n",
    "    return np.sqrt(252*((V_L+((1-np.exp(-a*T))/(a*T))*(V(0)-V(T)))))"
   ]
  },
  {
   "cell_type": "code",
   "execution_count": 6,
   "id": "3a210329",
   "metadata": {
    "ExecuteTime": {
     "end_time": "2022-07-31T10:32:16.095196Z",
     "start_time": "2022-07-31T10:32:16.081325Z"
    }
   },
   "outputs": [
    {
     "data": {
      "text/plain": [
       "0.011617241035993148"
      ]
     },
     "execution_count": 6,
     "metadata": {},
     "output_type": "execute_result"
    }
   ],
   "source": [
    "np.sqrt(V(50))"
   ]
  },
  {
   "cell_type": "code",
   "execution_count": 7,
   "id": "c5c5b698",
   "metadata": {
    "ExecuteTime": {
     "end_time": "2022-07-31T10:32:16.249213Z",
     "start_time": "2022-07-31T10:32:16.240109Z"
    }
   },
   "outputs": [
    {
     "data": {
      "text/plain": [
       "0.17090053968985033"
      ]
     },
     "execution_count": 7,
     "metadata": {},
     "output_type": "execute_result"
    }
   ],
   "source": [
    "sigma(10)"
   ]
  },
  {
   "cell_type": "markdown",
   "id": "4e69bf37",
   "metadata": {},
   "source": [
    "### WCDR"
   ]
  },
  {
   "cell_type": "code",
   "execution_count": 8,
   "id": "d7733fa4",
   "metadata": {
    "ExecuteTime": {
     "end_time": "2022-07-31T10:32:16.626206Z",
     "start_time": "2022-07-31T10:32:16.617486Z"
    }
   },
   "outputs": [],
   "source": [
    "# worst case default rate\n",
    "# 违约率在时间段T内不超过X的概率\n",
    "def WCDR(T,X,rho,PD):\n",
    "    return pnorm((qnorm(PD)+np.sqrt(rho)*qnorm(X))/(np.sqrt(1-rho)))"
   ]
  },
  {
   "cell_type": "code",
   "execution_count": 9,
   "id": "ad90c516",
   "metadata": {
    "ExecuteTime": {
     "end_time": "2022-07-31T10:32:16.810234Z",
     "start_time": "2022-07-31T10:32:16.799240Z"
    }
   },
   "outputs": [
    {
     "data": {
      "text/plain": [
       "0.32759001848758695"
      ]
     },
     "execution_count": 9,
     "metadata": {},
     "output_type": "execute_result"
    }
   ],
   "source": [
    "WCDR(15,0.9999,0.0826,0.06725)"
   ]
  },
  {
   "cell_type": "code",
   "execution_count": null,
   "id": "0c6c0d0f",
   "metadata": {},
   "outputs": [],
   "source": []
  },
  {
   "cell_type": "markdown",
   "id": "0abbee50",
   "metadata": {},
   "source": [
    "### Vasicek模型中PD和rho的估计"
   ]
  },
  {
   "cell_type": "code",
   "execution_count": 10,
   "id": "5237eb0c",
   "metadata": {
    "ExecuteTime": {
     "end_time": "2022-07-31T10:32:17.353488Z",
     "start_time": "2022-07-31T10:32:17.341867Z"
    }
   },
   "outputs": [],
   "source": [
    "# 违约概率\n",
    "data = pd.Series([0.02,0.04,0.07,0.12,0.06,0.05,0.08,0.14,0.1,0.02,0.03,0.02,0.06,0.07,0.09,0.06,0.11])"
   ]
  },
  {
   "cell_type": "code",
   "execution_count": 13,
   "id": "d0b33b09",
   "metadata": {
    "ExecuteTime": {
     "end_time": "2022-07-31T13:18:13.373029Z",
     "start_time": "2022-07-31T13:18:13.365482Z"
    }
   },
   "outputs": [],
   "source": [
    "# 定义损失函数\n",
    "def gfunc(x,r,PD):\n",
    "    return np.sqrt((1-r)/r)*np.exp(0.5*(st.norm.ppf(x)**2-((np.sqrt(1-r)*st.norm.ppf(x)-st.norm.ppf(PD))/np.sqrt(r))**2))\n",
    "\n",
    "def loss(beta,dt=data):\n",
    "    return -dt.apply(lambda t:gfunc(t,beta[0],beta[1])).prod()"
   ]
  },
  {
   "cell_type": "code",
   "execution_count": 14,
   "id": "d86f488b",
   "metadata": {
    "ExecuteTime": {
     "end_time": "2022-07-31T13:18:14.421940Z",
     "start_time": "2022-07-31T13:18:13.947924Z"
    }
   },
   "outputs": [
    {
     "data": {
      "text/plain": [
       "array([0.08262462, 0.06725271])"
      ]
     },
     "execution_count": 14,
     "metadata": {},
     "output_type": "execute_result"
    }
   ],
   "source": [
    "#极大似然估计结果\n",
    "optimize.minimize(loss,(0.1,0.1)).x"
   ]
  },
  {
   "cell_type": "code",
   "execution_count": null,
   "id": "99a391d0",
   "metadata": {},
   "outputs": [],
   "source": []
  },
  {
   "cell_type": "markdown",
   "id": "026cd439",
   "metadata": {},
   "source": [
    "## VaR"
   ]
  },
  {
   "cell_type": "code",
   "execution_count": 36,
   "id": "2c3068eb",
   "metadata": {},
   "outputs": [
    {
     "data": {
      "text/plain": [
       "1.6448536269514722"
      ]
     },
     "execution_count": 36,
     "metadata": {},
     "output_type": "execute_result"
    }
   ],
   "source": [
    "st.norm.ppf(0.95)"
   ]
  },
  {
   "cell_type": "code",
   "execution_count": null,
   "id": "a9f72520",
   "metadata": {},
   "outputs": [],
   "source": []
  },
  {
   "cell_type": "markdown",
   "id": "061ae55f",
   "metadata": {},
   "source": [
    "### 自相关修正的VaR"
   ]
  },
  {
   "cell_type": "code",
   "execution_count": 109,
   "id": "07f6b2af",
   "metadata": {},
   "outputs": [
    {
     "data": {
      "text/plain": [
       "13.356009075281241"
      ]
     },
     "execution_count": 109,
     "metadata": {},
     "output_type": "execute_result"
    }
   ],
   "source": [
    "a = 0\n",
    "rho = 0.1\n",
    "T = 10\n",
    "for i in range(1,T+1):\n",
    "    for j in range(1,T+1):\n",
    "        a += (0.16)**np.abs(i-j)\n",
    "a"
   ]
  },
  {
   "cell_type": "markdown",
   "id": "8b0f7989",
   "metadata": {},
   "source": [
    "### VaR单边test"
   ]
  },
  {
   "cell_type": "markdown",
   "id": "945801fe",
   "metadata": {},
   "source": [
    "假定置信水平为$p=(1-X)$，观测期为n天，实际有m天损失超过-VaR(p)。如果$\\frac{m}{n} \\geq p$,我们想检验VaR是不是定的太低。\n",
    "\\begin{equation*} \n",
    "H_0:\\frac{m}{n} = p  \\\\\n",
    "H_1:\\frac{m}{n}  \\geq p\n",
    "\\end{equation*}  \n",
    "在H1成立的情况下，Z(超过VaR(p)的次数)\n",
    "\\begin{equation*}\n",
    "    Z \\sim Binomial(n,p)\n",
    "\\end{equation*}  \n",
    "所以出现比m次更极端的概率为\n",
    "\\begin{equation*}\n",
    "p-value=1-Binomial(m-1,n,p)\n",
    "\\end{equation*}\n"
   ]
  },
  {
   "cell_type": "code",
   "execution_count": 8,
   "id": "375355e9",
   "metadata": {
    "ExecuteTime": {
     "end_time": "2022-05-05T02:03:49.444527Z",
     "start_time": "2022-05-05T02:03:49.425478Z"
    }
   },
   "outputs": [
    {
     "data": {
      "text/plain": [
       "0.01675064861961062"
      ]
     },
     "execution_count": 8,
     "metadata": {},
     "output_type": "execute_result"
    }
   ],
   "source": [
    "1-st.binom.cdf(14,n=800,p=0.01)"
   ]
  },
  {
   "cell_type": "markdown",
   "id": "a20ce994",
   "metadata": {},
   "source": [
    "### Kupiec Test"
   ]
  },
  {
   "cell_type": "markdown",
   "id": "ca3da940",
   "metadata": {},
   "source": [
    "- p:VaR的置信水平\n",
    "- m:例外的次数\n",
    "- n:总观测此时"
   ]
  },
  {
   "cell_type": "code",
   "execution_count": 4,
   "id": "4d4d3808",
   "metadata": {
    "ExecuteTime": {
     "end_time": "2022-05-05T02:00:19.153385Z",
     "start_time": "2022-05-05T02:00:19.141235Z"
    }
   },
   "outputs": [],
   "source": [
    "def Kup_test(m,n,p):\n",
    "    LR = -2*np.log(((1-p)**(n-m))*(p**m))+2*np.log((1-m/n)**(n-m)*(m/n)**m)\n",
    "    return LR"
   ]
  },
  {
   "cell_type": "code",
   "execution_count": 5,
   "id": "264f67fa",
   "metadata": {
    "ExecuteTime": {
     "end_time": "2022-05-05T02:00:19.618618Z",
     "start_time": "2022-05-05T02:00:19.600521Z"
    }
   },
   "outputs": [
    {
     "data": {
      "text/plain": [
       "4.920311552403831"
      ]
     },
     "execution_count": 5,
     "metadata": {},
     "output_type": "execute_result"
    }
   ],
   "source": [
    "Kup_test(15,800,0.01)"
   ]
  },
  {
   "cell_type": "markdown",
   "id": "8703125c",
   "metadata": {},
   "source": [
    "![在线编辑Markdown](https://github.com/nymath/Nymath/微信图片_20220505111644.jpg)"
   ]
  },
  {
   "cell_type": "markdown",
   "id": "8413b5d5",
   "metadata": {
    "ExecuteTime": {
     "end_time": "2022-05-05T03:19:18.634536Z",
     "start_time": "2022-05-05T03:19:18.600570Z"
    }
   },
   "source": [
    "<img src=\"C:/Users/17800/Desktop/微信图片_20220505111644.jpg\">"
   ]
  },
  {
   "cell_type": "code",
   "execution_count": 10,
   "id": "d3224149",
   "metadata": {
    "ExecuteTime": {
     "end_time": "2022-05-05T04:47:04.516341Z",
     "start_time": "2022-05-05T04:47:04.479325Z"
    }
   },
   "outputs": [
    {
     "data": {
      "text/plain": [
       "inf"
      ]
     },
     "execution_count": 10,
     "metadata": {},
     "output_type": "execute_result"
    }
   ],
   "source": [
    "qnorm(1)"
   ]
  },
  {
   "cell_type": "code",
   "execution_count": null,
   "id": "7f1bc424",
   "metadata": {},
   "outputs": [],
   "source": []
  },
  {
   "cell_type": "code",
   "execution_count": null,
   "id": "95ea0f4e",
   "metadata": {},
   "outputs": [],
   "source": []
  },
  {
   "cell_type": "code",
   "execution_count": null,
   "id": "e7530208",
   "metadata": {},
   "outputs": [],
   "source": []
  },
  {
   "cell_type": "code",
   "execution_count": null,
   "id": "b8d101b0",
   "metadata": {},
   "outputs": [],
   "source": []
  },
  {
   "cell_type": "code",
   "execution_count": null,
   "id": "4cce49b0",
   "metadata": {},
   "outputs": [],
   "source": []
  },
  {
   "cell_type": "code",
   "execution_count": null,
   "id": "65f7912f",
   "metadata": {},
   "outputs": [],
   "source": []
  },
  {
   "cell_type": "code",
   "execution_count": null,
   "id": "b13da366",
   "metadata": {},
   "outputs": [],
   "source": []
  },
  {
   "cell_type": "code",
   "execution_count": null,
   "id": "c8074924",
   "metadata": {},
   "outputs": [],
   "source": []
  },
  {
   "cell_type": "code",
   "execution_count": null,
   "id": "611817db",
   "metadata": {},
   "outputs": [],
   "source": []
  },
  {
   "cell_type": "code",
   "execution_count": null,
   "id": "41eb9659",
   "metadata": {},
   "outputs": [],
   "source": []
  },
  {
   "cell_type": "code",
   "execution_count": null,
   "id": "ece0d506",
   "metadata": {},
   "outputs": [],
   "source": []
  },
  {
   "cell_type": "code",
   "execution_count": null,
   "id": "410dfd70",
   "metadata": {},
   "outputs": [],
   "source": []
  },
  {
   "cell_type": "code",
   "execution_count": null,
   "id": "8648d45f",
   "metadata": {},
   "outputs": [],
   "source": []
  },
  {
   "cell_type": "code",
   "execution_count": null,
   "id": "f4c3a5b1",
   "metadata": {},
   "outputs": [],
   "source": []
  },
  {
   "cell_type": "code",
   "execution_count": null,
   "id": "9ff02fe6",
   "metadata": {},
   "outputs": [],
   "source": []
  }
 ],
 "metadata": {
  "kernelspec": {
   "display_name": "Python 3 (ipykernel)",
   "language": "python",
   "name": "python3"
  },
  "language_info": {
   "codemirror_mode": {
    "name": "ipython",
    "version": 3
   },
   "file_extension": ".py",
   "mimetype": "text/x-python",
   "name": "python",
   "nbconvert_exporter": "python",
   "pygments_lexer": "ipython3",
   "version": "3.9.12"
  },
  "latex_envs": {
   "LaTeX_envs_menu_present": true,
   "autoclose": false,
   "autocomplete": true,
   "bibliofile": "biblio.bib",
   "cite_by": "apalike",
   "current_citInitial": 1,
   "eqLabelWithNumbers": true,
   "eqNumInitial": 1,
   "hotkeys": {
    "equation": "Ctrl-E",
    "itemize": "Ctrl-I"
   },
   "labels_anchors": false,
   "latex_user_defs": false,
   "report_style_numbering": false,
   "user_envs_cfg": false
  },
  "nbTranslate": {
   "displayLangs": [
    "*"
   ],
   "hotkey": "alt-t",
   "langInMainMenu": true,
   "sourceLang": "en",
   "targetLang": "fr",
   "useGoogleTranslate": true
  },
  "toc": {
   "base_numbering": 1,
   "nav_menu": {},
   "number_sections": true,
   "sideBar": true,
   "skip_h1_title": false,
   "title_cell": "Table of Contents",
   "title_sidebar": "Contents",
   "toc_cell": false,
   "toc_position": {
    "height": "calc(100% - 180px)",
    "left": "10px",
    "top": "150px",
    "width": "280.666px"
   },
   "toc_section_display": true,
   "toc_window_display": true
  },
  "varInspector": {
   "cols": {
    "lenName": 16,
    "lenType": 16,
    "lenVar": 40
   },
   "kernels_config": {
    "python": {
     "delete_cmd_postfix": "",
     "delete_cmd_prefix": "del ",
     "library": "var_list.py",
     "varRefreshCmd": "print(var_dic_list())"
    },
    "r": {
     "delete_cmd_postfix": ") ",
     "delete_cmd_prefix": "rm(",
     "library": "var_list.r",
     "varRefreshCmd": "cat(var_dic_list()) "
    }
   },
   "types_to_exclude": [
    "module",
    "function",
    "builtin_function_or_method",
    "instance",
    "_Feature"
   ],
   "window_display": false
  }
 },
 "nbformat": 4,
 "nbformat_minor": 5
}
