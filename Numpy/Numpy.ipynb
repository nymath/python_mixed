{
 "cells": [
  {
   "cell_type": "code",
   "execution_count": 1,
   "id": "79c54167",
   "metadata": {
    "ExecuteTime": {
     "end_time": "2022-11-09T09:20:45.403967Z",
     "start_time": "2022-11-09T09:20:45.022179Z"
    }
   },
   "outputs": [],
   "source": [
    "import numpy as np\n",
    "from scipy import sparse\n",
    "import zsh_in_jupyter"
   ]
  },
  {
   "cell_type": "code",
   "execution_count": null,
   "id": "b2146420",
   "metadata": {},
   "outputs": [],
   "source": []
  },
  {
   "cell_type": "code",
   "execution_count": 2,
   "id": "34e3ce20",
   "metadata": {
    "ExecuteTime": {
     "end_time": "2022-11-09T09:20:48.111395Z",
     "start_time": "2022-11-09T09:20:47.790685Z"
    }
   },
   "outputs": [],
   "source": [
    "# 打开当前文件夹\n",
    "!temp=$(pwd);\\\n",
    "open $temp"
   ]
  },
  {
   "cell_type": "code",
   "execution_count": 3,
   "id": "1edada3d",
   "metadata": {
    "ExecuteTime": {
     "end_time": "2022-11-09T09:20:52.048179Z",
     "start_time": "2022-11-09T09:20:51.805993Z"
    }
   },
   "outputs": [],
   "source": [
    "zsh_in_jupyter.opendir()"
   ]
  },
  {
   "cell_type": "code",
   "execution_count": 11,
   "id": "3bcf960b",
   "metadata": {
    "ExecuteTime": {
     "end_time": "2022-09-29T16:14:42.674549Z",
     "start_time": "2022-09-29T16:14:42.489054Z"
    }
   },
   "outputs": [
    {
     "name": "stdout",
     "output_type": "stream",
     "text": [
      "1\r\n"
     ]
    }
   ],
   "source": [
    "# 在terminal里跑的文件不能拿到这里来用\n",
    "!python fib.py 1"
   ]
  },
  {
   "cell_type": "code",
   "execution_count": 22,
   "id": "584196b9",
   "metadata": {
    "ExecuteTime": {
     "end_time": "2022-09-29T16:17:15.104167Z",
     "start_time": "2022-09-29T16:17:15.090733Z"
    }
   },
   "outputs": [
    {
     "name": "stdout",
     "output_type": "stream",
     "text": [
      "3628800\n"
     ]
    }
   ],
   "source": [
    "# 要run一次之后才能将.py文件中定义的函数或者对象导入目前的环境\n",
    "%run fib.py 10"
   ]
  },
  {
   "cell_type": "code",
   "execution_count": 23,
   "id": "c6a67403",
   "metadata": {
    "ExecuteTime": {
     "end_time": "2022-09-29T16:19:39.758568Z",
     "start_time": "2022-09-29T16:19:39.747419Z"
    }
   },
   "outputs": [
    {
     "name": "stdout",
     "output_type": "stream",
     "text": [
      "NamespaceMagics\t fib\t get_ipython\t getsizeof\t json\t np\t para\t sparse\t sys\t \n",
      "var_dic_list\t yapf_reformat\t \n"
     ]
    }
   ],
   "source": [
    "%who"
   ]
  },
  {
   "cell_type": "code",
   "execution_count": null,
   "id": "9e518f0f",
   "metadata": {},
   "outputs": [],
   "source": []
  },
  {
   "cell_type": "markdown",
   "id": "fdee5015",
   "metadata": {},
   "source": [
    "# Vector"
   ]
  },
  {
   "cell_type": "code",
   "execution_count": 8,
   "id": "620322d3",
   "metadata": {
    "ExecuteTime": {
     "end_time": "2022-11-09T09:25:55.074769Z",
     "start_time": "2022-11-09T09:25:55.065967Z"
    }
   },
   "outputs": [
    {
     "name": "stdout",
     "output_type": "stream",
     "text": [
      "(3,)\n",
      "(3, 1)\n"
     ]
    }
   ],
   "source": [
    "vector_row = np.array([1,2,3])\n",
    "vector_column = np.array([[1],\n",
    "                          [2],\n",
    "                          [3]])\n",
    "print(vector_row.shape)\n",
    "print(vector_column.shape) # 这个已经不是一个vector了，而是一个array"
   ]
  },
  {
   "cell_type": "code",
   "execution_count": 10,
   "id": "ec3c8cde",
   "metadata": {
    "ExecuteTime": {
     "end_time": "2022-11-09T09:30:50.791079Z",
     "start_time": "2022-11-09T09:30:50.776996Z"
    }
   },
   "outputs": [
    {
     "data": {
      "text/plain": [
       "numpy.ndarray"
      ]
     },
     "execution_count": 10,
     "metadata": {},
     "output_type": "execute_result"
    }
   ],
   "source": [
    "type(vector_column)"
   ]
  },
  {
   "cell_type": "code",
   "execution_count": 11,
   "id": "7c5ab3e7",
   "metadata": {
    "ExecuteTime": {
     "end_time": "2022-11-09T09:30:52.367122Z",
     "start_time": "2022-11-09T09:30:52.358447Z"
    }
   },
   "outputs": [
    {
     "data": {
      "text/plain": [
       "numpy.ndarray"
      ]
     },
     "execution_count": 11,
     "metadata": {},
     "output_type": "execute_result"
    }
   ],
   "source": [
    "type(vector_row)"
   ]
  },
  {
   "cell_type": "markdown",
   "id": "311d743f",
   "metadata": {},
   "source": [
    "# Array"
   ]
  },
  {
   "cell_type": "code",
   "execution_count": 12,
   "id": "2cce3ca4",
   "metadata": {
    "ExecuteTime": {
     "end_time": "2022-11-09T09:31:02.596473Z",
     "start_time": "2022-11-09T09:31:02.591748Z"
    }
   },
   "outputs": [],
   "source": [
    "matrix = np.array([[1,2],\n",
    "                   [0,4],\n",
    "                   [5,6]])"
   ]
  },
  {
   "cell_type": "code",
   "execution_count": 13,
   "id": "81a05059",
   "metadata": {
    "ExecuteTime": {
     "end_time": "2022-11-09T09:31:03.391938Z",
     "start_time": "2022-11-09T09:31:03.374601Z"
    }
   },
   "outputs": [
    {
     "name": "stdout",
     "output_type": "stream",
     "text": [
      "  (0, 0)\t1\n",
      "  (0, 1)\t2\n",
      "  (1, 1)\t4\n",
      "  (2, 0)\t5\n",
      "  (2, 1)\t6\n"
     ]
    }
   ],
   "source": [
    "print(sparse.csr_matrix(matrix))"
   ]
  },
  {
   "cell_type": "code",
   "execution_count": null,
   "id": "33fb6e48",
   "metadata": {},
   "outputs": [],
   "source": []
  },
  {
   "cell_type": "markdown",
   "id": "d16fdb9c",
   "metadata": {
    "heading_collapsed": true
   },
   "source": [
    "# Selecting Elements   \n",
    "Expression| Description\n",
    "---|----\n",
    "a[m]\n",
    "a[-m]\n",
    "a[m:n]\n",
    "a[:],a[0:-1]\n",
    "a[:n]\n",
    "a[m:],a[m:-1]\n",
    "a[m:n:p]\n",
    "a[::-1]| Select all the elements, in reverse order.\n"
   ]
  },
  {
   "cell_type": "markdown",
   "id": "3da8ff6a",
   "metadata": {
    "hidden": true
   },
   "source": [
    "注意提取部分元素出来的时候，存储地址并没有改变，所以一般是用.copy()"
   ]
  },
  {
   "cell_type": "code",
   "execution_count": 13,
   "id": "0dd48bbe",
   "metadata": {
    "ExecuteTime": {
     "end_time": "2022-09-29T11:30:59.553748Z",
     "start_time": "2022-09-29T11:30:59.540448Z"
    },
    "hidden": true
   },
   "outputs": [
    {
     "data": {
      "text/plain": [
       "array([[1, 2],\n",
       "       [0, 4],\n",
       "       [5, 6]])"
      ]
     },
     "execution_count": 13,
     "metadata": {},
     "output_type": "execute_result"
    }
   ],
   "source": [
    "matrix"
   ]
  },
  {
   "cell_type": "code",
   "execution_count": 17,
   "id": "19be3026",
   "metadata": {
    "ExecuteTime": {
     "end_time": "2022-09-29T11:31:41.167746Z",
     "start_time": "2022-09-29T11:31:41.156223Z"
    },
    "hidden": true
   },
   "outputs": [
    {
     "name": "stdout",
     "output_type": "stream",
     "text": [
      "4\n",
      "0\n"
     ]
    }
   ],
   "source": [
    "print(matrix[1,1])\n",
    "print(matrix[1,-2])"
   ]
  },
  {
   "cell_type": "markdown",
   "id": "8b1d96eb",
   "metadata": {},
   "source": [
    "# Creating Arrays"
   ]
  },
  {
   "cell_type": "markdown",
   "id": "7b45486f",
   "metadata": {},
   "source": [
    "Function Name| Type of Array\n",
    "------|---------\n",
    "np.array\n",
    "np.zeros\n",
    "np.ones\n",
    "np.diag\n",
    "np.linspace\n",
    "np.logspcae\n",
    "np.fromfunction\n",
    "np.fromfile\n",
    "np.random.rand"
   ]
  },
  {
   "cell_type": "code",
   "execution_count": 7,
   "id": "706ddce8",
   "metadata": {
    "ExecuteTime": {
     "end_time": "2022-09-30T10:13:41.162451Z",
     "start_time": "2022-09-30T10:13:41.147524Z"
    }
   },
   "outputs": [
    {
     "data": {
      "text/plain": [
       "(4,)"
      ]
     },
     "execution_count": 7,
     "metadata": {},
     "output_type": "execute_result"
    }
   ],
   "source": [
    "np.array([1,2,3,4]).shape"
   ]
  },
  {
   "cell_type": "code",
   "execution_count": 9,
   "id": "32e5291c",
   "metadata": {
    "ExecuteTime": {
     "end_time": "2022-09-30T10:14:07.998114Z",
     "start_time": "2022-09-30T10:14:07.983913Z"
    }
   },
   "outputs": [
    {
     "data": {
      "text/plain": [
       "(4, 1)"
      ]
     },
     "execution_count": 9,
     "metadata": {},
     "output_type": "execute_result"
    }
   ],
   "source": [
    "np.array([[1],\n",
    "          [2],\n",
    "          [3],\n",
    "          [4]]).shape"
   ]
  },
  {
   "cell_type": "code",
   "execution_count": 10,
   "id": "6bbc2fdf",
   "metadata": {
    "ExecuteTime": {
     "end_time": "2022-09-30T10:14:49.490952Z",
     "start_time": "2022-09-30T10:14:49.476517Z"
    }
   },
   "outputs": [
    {
     "data": {
      "text/plain": [
       "array([[0., 0., 0.],\n",
       "       [0., 0., 0.]])"
      ]
     },
     "execution_count": 10,
     "metadata": {},
     "output_type": "execute_result"
    }
   ],
   "source": [
    "np.zeros((2,3))"
   ]
  },
  {
   "cell_type": "code",
   "execution_count": 11,
   "id": "5d4023ed",
   "metadata": {
    "ExecuteTime": {
     "end_time": "2022-09-30T10:15:06.600589Z",
     "start_time": "2022-09-30T10:15:06.582229Z"
    }
   },
   "outputs": [
    {
     "data": {
      "text/plain": [
       "array([[1., 1., 1.],\n",
       "       [1., 1., 1.]])"
      ]
     },
     "execution_count": 11,
     "metadata": {},
     "output_type": "execute_result"
    }
   ],
   "source": [
    "np.ones((2,3))"
   ]
  },
  {
   "cell_type": "code",
   "execution_count": 13,
   "id": "063df79e",
   "metadata": {
    "ExecuteTime": {
     "end_time": "2022-09-30T10:15:32.930491Z",
     "start_time": "2022-09-30T10:15:32.915265Z"
    }
   },
   "outputs": [
    {
     "data": {
      "text/plain": [
       "array([ 0. ,  2.5,  5. ,  7.5, 10. ])"
      ]
     },
     "execution_count": 13,
     "metadata": {},
     "output_type": "execute_result"
    }
   ],
   "source": [
    "np.linspace(0,10,5)"
   ]
  },
  {
   "cell_type": "code",
   "execution_count": 14,
   "id": "7293fc71",
   "metadata": {
    "ExecuteTime": {
     "end_time": "2022-09-30T10:16:01.412334Z",
     "start_time": "2022-09-30T10:16:01.404892Z"
    }
   },
   "outputs": [
    {
     "data": {
      "text/plain": [
       "array([[1., 0., 0., 0.],\n",
       "       [0., 1., 0., 0.],\n",
       "       [0., 0., 1., 0.],\n",
       "       [0., 0., 0., 1.]])"
      ]
     },
     "execution_count": 14,
     "metadata": {},
     "output_type": "execute_result"
    }
   ],
   "source": [
    "np.identity(4)"
   ]
  },
  {
   "cell_type": "code",
   "execution_count": 15,
   "id": "34d5c202",
   "metadata": {
    "ExecuteTime": {
     "end_time": "2022-09-30T10:16:17.461571Z",
     "start_time": "2022-09-30T10:16:17.448152Z"
    }
   },
   "outputs": [
    {
     "data": {
      "text/plain": [
       "array([[0., 1., 0.],\n",
       "       [0., 0., 1.],\n",
       "       [0., 0., 0.]])"
      ]
     },
     "execution_count": 15,
     "metadata": {},
     "output_type": "execute_result"
    }
   ],
   "source": [
    "np.eye(3,k=1)"
   ]
  },
  {
   "cell_type": "code",
   "execution_count": 17,
   "id": "de2fec81",
   "metadata": {
    "ExecuteTime": {
     "end_time": "2022-09-30T10:17:26.300339Z",
     "start_time": "2022-09-30T10:17:26.284693Z"
    }
   },
   "outputs": [
    {
     "data": {
      "text/plain": [
       "array([[ 3,  0,  0,  0],\n",
       "       [ 0,  5,  0,  0],\n",
       "       [ 0,  0,  6,  0],\n",
       "       [ 0,  0,  0, 10]])"
      ]
     },
     "execution_count": 17,
     "metadata": {},
     "output_type": "execute_result"
    }
   ],
   "source": [
    "np.diag((3,5,6,10))"
   ]
  },
  {
   "cell_type": "code",
   "execution_count": 14,
   "id": "359aa3db",
   "metadata": {
    "ExecuteTime": {
     "end_time": "2022-11-09T09:35:46.741855Z",
     "start_time": "2022-11-09T09:35:46.728701Z"
    }
   },
   "outputs": [
    {
     "data": {
      "text/plain": [
       "array([[ 1.        ,  0.54030231, -0.41614684, -0.9899925 , -0.65364362],\n",
       "       [ 1.84147098,  1.38177329,  0.42532415, -0.14852151,  0.18782736],\n",
       "       [ 1.90929743,  1.44959973,  0.49315059, -0.08069507,  0.25565381],\n",
       "       [ 1.14112001,  0.68142231, -0.27502683, -0.84887249, -0.51252361],\n",
       "       [ 0.2431975 , -0.21650019, -1.17294933, -1.74679499, -1.41044612]])"
      ]
     },
     "execution_count": 14,
     "metadata": {},
     "output_type": "execute_result"
    }
   ],
   "source": [
    "f = lambda m,n:np.sin(m)+np.cos(n)\n",
    "A = np.fromfunction(f,(5,5))\n",
    "A"
   ]
  },
  {
   "cell_type": "code",
   "execution_count": 16,
   "id": "1458b54f",
   "metadata": {
    "ExecuteTime": {
     "end_time": "2022-11-09T09:36:04.282914Z",
     "start_time": "2022-11-09T09:36:04.275519Z"
    }
   },
   "outputs": [],
   "source": [
    "A[0,0] = np.nan"
   ]
  },
  {
   "cell_type": "code",
   "execution_count": 18,
   "id": "cfb61351",
   "metadata": {
    "ExecuteTime": {
     "end_time": "2022-11-09T09:36:20.740840Z",
     "start_time": "2022-11-09T09:36:20.735706Z"
    }
   },
   "outputs": [
    {
     "data": {
      "text/plain": [
       "array([[       nan, 1.7165257 , 0.65958341, 0.37157948, 0.5201471 ],\n",
       "       [6.30580719, 3.98195654, 1.53008631, 0.86198146, 1.20662519],\n",
       "       [6.74834593, 4.26140847, 1.63746709, 0.92247494, 1.29130561],\n",
       "       [3.13027233, 1.9766872 , 0.75955175, 0.42789712, 0.59898207],\n",
       "       [1.27532048, 0.80533238, 0.30945291, 0.17433178, 0.24403439]])"
      ]
     },
     "execution_count": 18,
     "metadata": {},
     "output_type": "execute_result"
    }
   ],
   "source": [
    "np.exp(A)"
   ]
  },
  {
   "cell_type": "code",
   "execution_count": null,
   "id": "0dcaec2a",
   "metadata": {},
   "outputs": [],
   "source": []
  },
  {
   "cell_type": "markdown",
   "id": "b0fa1fe5",
   "metadata": {},
   "source": [
    "# Features of a Matrix"
   ]
  },
  {
   "cell_type": "markdown",
   "id": "b6206bc1",
   "metadata": {},
   "source": [
    "------------\n",
    "Feature| Description \n",
    "---| :-----------:\n",
    "shape      | Something  here\n",
    "size   | Text\n",
    "|"
   ]
  },
  {
   "cell_type": "code",
   "execution_count": 18,
   "id": "69408abd",
   "metadata": {
    "ExecuteTime": {
     "end_time": "2022-09-29T11:32:43.050624Z",
     "start_time": "2022-09-29T11:32:43.045420Z"
    }
   },
   "outputs": [],
   "source": [
    "matrix = np.array([[1,2,3,4],\n",
    "                   [5,6,7,8],\n",
    "                   [4,3,2,1]])"
   ]
  },
  {
   "cell_type": "code",
   "execution_count": 19,
   "id": "2fac6d5f",
   "metadata": {
    "ExecuteTime": {
     "end_time": "2022-09-29T11:32:50.992400Z",
     "start_time": "2022-09-29T11:32:50.979470Z"
    }
   },
   "outputs": [
    {
     "data": {
      "text/plain": [
       "(3, 4)"
      ]
     },
     "execution_count": 19,
     "metadata": {},
     "output_type": "execute_result"
    }
   ],
   "source": [
    "matrix.shape"
   ]
  },
  {
   "cell_type": "markdown",
   "id": "9bbd1a6d",
   "metadata": {},
   "source": [
    "# Reshaping and Resizing"
   ]
  },
  {
   "cell_type": "markdown",
   "id": "e9a8e0e8",
   "metadata": {},
   "source": [
    "Function/Method| Decription\n",
    "-----|-----\n",
    "np.reshape\n",
    "np.ndarray.flatten\n",
    "np.transpose\n",
    "np.append\n",
    "np.insert\n",
    "np.delete"
   ]
  },
  {
   "cell_type": "code",
   "execution_count": null,
   "id": "9f4fd984",
   "metadata": {},
   "outputs": [],
   "source": []
  },
  {
   "cell_type": "markdown",
   "id": "2d2ddaaf",
   "metadata": {},
   "source": [
    "# Vetorized Expressions\n",
    "Function| Description\n",
    "-----|-----\n",
    "np.cos\n",
    "np.arccos\n",
    "np.cosh\n",
    "np.arccosh\n",
    "np.sqrt\n",
    "np.exp\n",
    "np.log\n",
    "np.sign\n",
    "np.vectorize"
   ]
  },
  {
   "cell_type": "code",
   "execution_count": 23,
   "id": "b3082013",
   "metadata": {
    "ExecuteTime": {
     "end_time": "2022-09-30T10:29:50.060643Z",
     "start_time": "2022-09-30T10:29:50.051798Z"
    }
   },
   "outputs": [],
   "source": [
    "def heaviside(x):\n",
    "    return 1 if x>0 else 0"
   ]
  },
  {
   "cell_type": "code",
   "execution_count": 26,
   "id": "37c5237e",
   "metadata": {
    "ExecuteTime": {
     "end_time": "2022-09-30T10:30:24.512329Z",
     "start_time": "2022-09-30T10:30:24.478501Z"
    }
   },
   "outputs": [
    {
     "ename": "ValueError",
     "evalue": "The truth value of an array with more than one element is ambiguous. Use a.any() or a.all()",
     "output_type": "error",
     "traceback": [
      "\u001b[0;31m---------------------------------------------------------------------------\u001b[0m",
      "\u001b[0;31mValueError\u001b[0m                                Traceback (most recent call last)",
      "Input \u001b[0;32mIn [26]\u001b[0m, in \u001b[0;36m<cell line: 1>\u001b[0;34m()\u001b[0m\n\u001b[0;32m----> 1\u001b[0m \u001b[43mheaviside\u001b[49m\u001b[43m(\u001b[49m\u001b[43mnp\u001b[49m\u001b[38;5;241;43m.\u001b[39;49m\u001b[43mlinspace\u001b[49m\u001b[43m(\u001b[49m\u001b[38;5;241;43m-\u001b[39;49m\u001b[38;5;241;43m5\u001b[39;49m\u001b[43m,\u001b[49m\u001b[38;5;241;43m5\u001b[39;49m\u001b[43m,\u001b[49m\u001b[38;5;241;43m10\u001b[39;49m\u001b[43m)\u001b[49m\u001b[43m)\u001b[49m\n",
      "Input \u001b[0;32mIn [23]\u001b[0m, in \u001b[0;36mheaviside\u001b[0;34m(x)\u001b[0m\n\u001b[1;32m      1\u001b[0m \u001b[38;5;28;01mdef\u001b[39;00m \u001b[38;5;21mheaviside\u001b[39m(x):\n\u001b[0;32m----> 2\u001b[0m     \u001b[38;5;28;01mreturn\u001b[39;00m \u001b[38;5;241m1\u001b[39m \u001b[38;5;28;01mif\u001b[39;00m x\u001b[38;5;241m>\u001b[39m\u001b[38;5;241m0\u001b[39m \u001b[38;5;28;01melse\u001b[39;00m \u001b[38;5;241m0\u001b[39m\n",
      "\u001b[0;31mValueError\u001b[0m: The truth value of an array with more than one element is ambiguous. Use a.any() or a.all()"
     ]
    }
   ],
   "source": [
    "heaviside(np.linspace(-5,5,10))"
   ]
  },
  {
   "cell_type": "code",
   "execution_count": 28,
   "id": "8912ca6d",
   "metadata": {
    "ExecuteTime": {
     "end_time": "2022-09-30T10:31:10.443295Z",
     "start_time": "2022-09-30T10:31:10.426491Z"
    }
   },
   "outputs": [
    {
     "data": {
      "text/plain": [
       "array([0, 0, 0, 0, 0, 1, 1, 1, 1, 1])"
      ]
     },
     "execution_count": 28,
     "metadata": {},
     "output_type": "execute_result"
    }
   ],
   "source": [
    "# 对函数进行向量化的操作\n",
    "heaviside = np.vectorize(heaviside)\n",
    "heaviside(np.linspace(-5,5,10))"
   ]
  },
  {
   "cell_type": "code",
   "execution_count": null,
   "id": "aa29de04",
   "metadata": {},
   "outputs": [],
   "source": []
  },
  {
   "cell_type": "code",
   "execution_count": null,
   "id": "fef5b3b1",
   "metadata": {},
   "outputs": [],
   "source": []
  },
  {
   "cell_type": "code",
   "execution_count": null,
   "id": "d925445f",
   "metadata": {},
   "outputs": [],
   "source": []
  },
  {
   "cell_type": "code",
   "execution_count": null,
   "id": "06528e64",
   "metadata": {},
   "outputs": [],
   "source": []
  },
  {
   "cell_type": "markdown",
   "id": "7c54c88d",
   "metadata": {},
   "source": [
    "# Operations of a Matrix"
   ]
  },
  {
   "cell_type": "markdown",
   "id": "783ffdc8",
   "metadata": {},
   "source": [
    "$(M^{m \\times n},+)$ is a Abelian Group."
   ]
  },
  {
   "cell_type": "markdown",
   "id": "104cd13d",
   "metadata": {},
   "source": [
    "func| function\n",
    "---| ----|\n",
    "np.max|\n",
    "np.mean|\n",
    "np.var|\n",
    "np.std|\n",
    "\n",
    "上述函数均可以指定axis=1以获得每列的最大值,"
   ]
  },
  {
   "cell_type": "markdown",
   "id": "9eff6351",
   "metadata": {},
   "source": [
    "Supppose matrix is in array class, then we have \n",
    "\n",
    "func| roles|          \n",
    "---| ---  |    \n",
    "matrix.T| transpose  \n",
    "matrix.diagonal()| 可以指定offset = -1以获得次对角线 \n",
    "matrix.trace()|"
   ]
  },
  {
   "cell_type": "markdown",
   "id": "d2fd5a1d",
   "metadata": {},
   "source": [
    "Linear algebra\n",
    "\n",
    "func| roles  \n",
    "---| ---\n",
    "np.linalg.matrix_rank()\n",
    "np.linalg.det()\n",
    "np.linalg.eig()\n",
    "np.dot()| 对于向量而言是内积，对矩阵则是矩阵乘法\n",
    "np.linalg.inv()"
   ]
  },
  {
   "cell_type": "code",
   "execution_count": 28,
   "id": "d9ea8ddd",
   "metadata": {
    "ExecuteTime": {
     "end_time": "2022-09-29T11:40:26.302794Z",
     "start_time": "2022-09-29T11:40:26.293707Z"
    }
   },
   "outputs": [],
   "source": [
    "add_100 = lambda i:i + 100\n",
    "def add_func(x):\n",
    "    y = x^2 + x\n",
    "    return y**0.5 + 100"
   ]
  },
  {
   "cell_type": "code",
   "execution_count": 29,
   "id": "cff6223b",
   "metadata": {
    "ExecuteTime": {
     "end_time": "2022-09-29T11:40:26.444715Z",
     "start_time": "2022-09-29T11:40:26.433949Z"
    }
   },
   "outputs": [
    {
     "name": "stdout",
     "output_type": "stream",
     "text": [
      "110\n",
      "102.44948974278317\n"
     ]
    }
   ],
   "source": [
    "print(add_100(10))\n",
    "print(add_func(10))"
   ]
  },
  {
   "cell_type": "code",
   "execution_count": 47,
   "id": "3e617538",
   "metadata": {
    "ExecuteTime": {
     "end_time": "2022-09-29T11:55:05.470631Z",
     "start_time": "2022-09-29T11:55:05.459199Z"
    }
   },
   "outputs": [],
   "source": [
    "matrix = np.array([[1,-1,3],\n",
    "                   [1,1,6],\n",
    "                   [3,8,9]])"
   ]
  },
  {
   "cell_type": "code",
   "execution_count": 57,
   "id": "90def556",
   "metadata": {
    "ExecuteTime": {
     "end_time": "2022-09-29T11:59:56.029805Z",
     "start_time": "2022-09-29T11:59:56.017434Z"
    }
   },
   "outputs": [
    {
     "data": {
      "text/plain": [
       "array([[ 1,  1,  3],\n",
       "       [-1,  1,  8],\n",
       "       [ 3,  6,  9]])"
      ]
     },
     "execution_count": 57,
     "metadata": {},
     "output_type": "execute_result"
    }
   ],
   "source": [
    "matrix.T"
   ]
  },
  {
   "cell_type": "code",
   "execution_count": 36,
   "id": "4f33ecd3",
   "metadata": {
    "ExecuteTime": {
     "end_time": "2022-09-29T11:42:12.564655Z",
     "start_time": "2022-09-29T11:42:12.536352Z"
    }
   },
   "outputs": [
    {
     "data": {
      "text/plain": [
       "[array([101.41421356, 102.44948974, 102.44948974, 101.41421356]),\n",
       " array([101.41421356, 103.74165739, 103.74165739, 101.41421356]),\n",
       " array([101.41421356, 102.44948974, 102.44948974, 101.41421356])]"
      ]
     },
     "execution_count": 36,
     "metadata": {},
     "output_type": "execute_result"
    }
   ],
   "source": [
    "list(map(add_100,matrix))\n",
    "list(map(add_func,matrix))"
   ]
  },
  {
   "cell_type": "code",
   "execution_count": 40,
   "id": "a8b7688f",
   "metadata": {
    "ExecuteTime": {
     "end_time": "2022-09-29T11:43:36.864597Z",
     "start_time": "2022-09-29T11:43:36.850183Z"
    }
   },
   "outputs": [
    {
     "name": "stdout",
     "output_type": "stream",
     "text": [
      "[[101 102 103 104]\n",
      " [105 106 107 108]\n",
      " [104 103 102 101]]\n",
      "[[ 1  4  9 16]\n",
      " [25 36 49 64]\n",
      " [16  9  4  1]]\n"
     ]
    }
   ],
   "source": [
    "print(matrix + 100)\n",
    "print(matrix*matrix)"
   ]
  },
  {
   "cell_type": "code",
   "execution_count": 48,
   "id": "2b81fa73",
   "metadata": {
    "ExecuteTime": {
     "end_time": "2022-09-29T11:55:09.477032Z",
     "start_time": "2022-09-29T11:55:09.462784Z"
    }
   },
   "outputs": [],
   "source": [
    "# eigenspace\n",
    "# 值得注意的是，\n",
    "eigenvalues, eigenvectors = np.linalg.eig(matrix)"
   ]
  },
  {
   "cell_type": "code",
   "execution_count": 52,
   "id": "a4f11607",
   "metadata": {
    "ExecuteTime": {
     "end_time": "2022-09-29T11:57:55.579152Z",
     "start_time": "2022-09-29T11:57:55.565304Z"
    }
   },
   "outputs": [
    {
     "data": {
      "text/plain": [
       "array([ 5.55111512e-16,  3.60822483e-16, -5.68989300e-16])"
      ]
     },
     "execution_count": 52,
     "metadata": {},
     "output_type": "execute_result"
    }
   ],
   "source": [
    "i = 1\n",
    "matrix.dot(eigenvectors[:,i])-eigenvalues[i]*eigenvectors[:,i]"
   ]
  },
  {
   "cell_type": "code",
   "execution_count": 59,
   "id": "9129e864",
   "metadata": {
    "ExecuteTime": {
     "end_time": "2022-09-29T12:03:34.893781Z",
     "start_time": "2022-09-29T12:03:34.878817Z"
    }
   },
   "outputs": [
    {
     "data": {
      "text/plain": [
       "array([ 5.55111512e-16,  3.60822483e-16, -5.68989300e-16])"
      ]
     },
     "execution_count": 59,
     "metadata": {},
     "output_type": "execute_result"
    }
   ],
   "source": [
    "# 注意这等价于\n",
    "matrix @ eigenvectors[:,i] - eigenvalues[i]*eigenvectors[:,i]"
   ]
  },
  {
   "cell_type": "code",
   "execution_count": null,
   "id": "1488a2fe",
   "metadata": {},
   "outputs": [],
   "source": []
  },
  {
   "cell_type": "markdown",
   "id": "d48bd3e6",
   "metadata": {},
   "source": [
    "# Aggregate Functions\n",
    "Functions| Description\n",
    "-----|-------\n",
    "np.mean\n",
    "np.std\n",
    "np.var\n",
    "np.sum\n",
    "np.prod\n",
    "np.cumsum\n",
    "np.cumprod\n",
    "np.min\n",
    "np.argmin\n",
    "np.all\n",
    "np.any"
   ]
  },
  {
   "cell_type": "markdown",
   "id": "a8310d8b",
   "metadata": {},
   "source": [
    "Functions| Description\n",
    "-----|-------\n",
    "np.where| \n",
    "np.choose|"
   ]
  },
  {
   "cell_type": "code",
   "execution_count": 7,
   "id": "dca20a50",
   "metadata": {
    "ExecuteTime": {
     "end_time": "2022-10-08T15:22:02.804409Z",
     "start_time": "2022-10-08T15:22:02.789404Z"
    }
   },
   "outputs": [],
   "source": [
    "data = np.random.rand(100000)\n",
    "data.resize(10000,10)\n",
    "df=pd.DataFrame(data)\n"
   ]
  },
  {
   "cell_type": "code",
   "execution_count": 36,
   "id": "02e80730",
   "metadata": {
    "ExecuteTime": {
     "end_time": "2022-10-08T15:32:04.634093Z",
     "start_time": "2022-10-08T15:32:04.620493Z"
    }
   },
   "outputs": [
    {
     "data": {
      "text/plain": [
       "array([[10000, 10000, 10000, 10000, 10000, 10000, 10000, 10000, 10000,\n",
       "        10000]])"
      ]
     },
     "execution_count": 36,
     "metadata": {},
     "output_type": "execute_result"
    }
   ],
   "source": [
    "np.apply_along_axis(lambda x:x.shape,0,data)"
   ]
  },
  {
   "cell_type": "code",
   "execution_count": 53,
   "id": "b659a0a7",
   "metadata": {
    "ExecuteTime": {
     "end_time": "2022-10-08T15:39:11.143128Z",
     "start_time": "2022-10-08T15:39:11.135497Z"
    }
   },
   "outputs": [],
   "source": [
    "def func(x):\n",
    "    return x.sum();"
   ]
  },
  {
   "cell_type": "code",
   "execution_count": 61,
   "id": "1a4150c0",
   "metadata": {
    "ExecuteTime": {
     "end_time": "2022-10-08T15:49:15.650022Z",
     "start_time": "2022-10-08T15:49:11.720560Z"
    }
   },
   "outputs": [
    {
     "data": {
      "text/html": [
       "<div>\n",
       "<style scoped>\n",
       "    .dataframe tbody tr th:only-of-type {\n",
       "        vertical-align: middle;\n",
       "    }\n",
       "\n",
       "    .dataframe tbody tr th {\n",
       "        vertical-align: top;\n",
       "    }\n",
       "\n",
       "    .dataframe thead th {\n",
       "        text-align: right;\n",
       "    }\n",
       "</style>\n",
       "<table border=\"1\" class=\"dataframe\">\n",
       "  <thead>\n",
       "    <tr style=\"text-align: right;\">\n",
       "      <th></th>\n",
       "      <th>0</th>\n",
       "      <th>1</th>\n",
       "      <th>2</th>\n",
       "      <th>3</th>\n",
       "      <th>4</th>\n",
       "      <th>5</th>\n",
       "      <th>6</th>\n",
       "      <th>7</th>\n",
       "      <th>8</th>\n",
       "      <th>9</th>\n",
       "    </tr>\n",
       "  </thead>\n",
       "  <tbody>\n",
       "    <tr>\n",
       "      <th>0</th>\n",
       "      <td>NaN</td>\n",
       "      <td>NaN</td>\n",
       "      <td>NaN</td>\n",
       "      <td>NaN</td>\n",
       "      <td>NaN</td>\n",
       "      <td>NaN</td>\n",
       "      <td>NaN</td>\n",
       "      <td>NaN</td>\n",
       "      <td>NaN</td>\n",
       "      <td>NaN</td>\n",
       "    </tr>\n",
       "    <tr>\n",
       "      <th>1</th>\n",
       "      <td>NaN</td>\n",
       "      <td>NaN</td>\n",
       "      <td>NaN</td>\n",
       "      <td>NaN</td>\n",
       "      <td>NaN</td>\n",
       "      <td>NaN</td>\n",
       "      <td>NaN</td>\n",
       "      <td>NaN</td>\n",
       "      <td>NaN</td>\n",
       "      <td>NaN</td>\n",
       "    </tr>\n",
       "    <tr>\n",
       "      <th>2</th>\n",
       "      <td>NaN</td>\n",
       "      <td>NaN</td>\n",
       "      <td>NaN</td>\n",
       "      <td>NaN</td>\n",
       "      <td>NaN</td>\n",
       "      <td>NaN</td>\n",
       "      <td>NaN</td>\n",
       "      <td>NaN</td>\n",
       "      <td>NaN</td>\n",
       "      <td>NaN</td>\n",
       "    </tr>\n",
       "    <tr>\n",
       "      <th>3</th>\n",
       "      <td>NaN</td>\n",
       "      <td>NaN</td>\n",
       "      <td>NaN</td>\n",
       "      <td>NaN</td>\n",
       "      <td>NaN</td>\n",
       "      <td>NaN</td>\n",
       "      <td>NaN</td>\n",
       "      <td>NaN</td>\n",
       "      <td>NaN</td>\n",
       "      <td>NaN</td>\n",
       "    </tr>\n",
       "    <tr>\n",
       "      <th>4</th>\n",
       "      <td>2.635972</td>\n",
       "      <td>3.070456</td>\n",
       "      <td>2.980133</td>\n",
       "      <td>3.578833</td>\n",
       "      <td>3.890773</td>\n",
       "      <td>2.113300</td>\n",
       "      <td>2.417604</td>\n",
       "      <td>2.340682</td>\n",
       "      <td>3.143515</td>\n",
       "      <td>1.707335</td>\n",
       "    </tr>\n",
       "    <tr>\n",
       "      <th>...</th>\n",
       "      <td>...</td>\n",
       "      <td>...</td>\n",
       "      <td>...</td>\n",
       "      <td>...</td>\n",
       "      <td>...</td>\n",
       "      <td>...</td>\n",
       "      <td>...</td>\n",
       "      <td>...</td>\n",
       "      <td>...</td>\n",
       "      <td>...</td>\n",
       "    </tr>\n",
       "    <tr>\n",
       "      <th>9995</th>\n",
       "      <td>2.735663</td>\n",
       "      <td>2.308812</td>\n",
       "      <td>2.333262</td>\n",
       "      <td>0.987390</td>\n",
       "      <td>2.155822</td>\n",
       "      <td>1.629107</td>\n",
       "      <td>1.404240</td>\n",
       "      <td>3.323115</td>\n",
       "      <td>2.783520</td>\n",
       "      <td>1.582242</td>\n",
       "    </tr>\n",
       "    <tr>\n",
       "      <th>9996</th>\n",
       "      <td>2.590306</td>\n",
       "      <td>2.055295</td>\n",
       "      <td>2.711499</td>\n",
       "      <td>1.374067</td>\n",
       "      <td>2.443862</td>\n",
       "      <td>1.875957</td>\n",
       "      <td>1.625650</td>\n",
       "      <td>2.741136</td>\n",
       "      <td>2.688636</td>\n",
       "      <td>1.410324</td>\n",
       "    </tr>\n",
       "    <tr>\n",
       "      <th>9997</th>\n",
       "      <td>3.038121</td>\n",
       "      <td>2.583288</td>\n",
       "      <td>2.616227</td>\n",
       "      <td>1.417873</td>\n",
       "      <td>2.748492</td>\n",
       "      <td>2.691603</td>\n",
       "      <td>2.295152</td>\n",
       "      <td>2.207244</td>\n",
       "      <td>2.484935</td>\n",
       "      <td>1.068682</td>\n",
       "    </tr>\n",
       "    <tr>\n",
       "      <th>9998</th>\n",
       "      <td>2.628768</td>\n",
       "      <td>2.806818</td>\n",
       "      <td>2.727379</td>\n",
       "      <td>2.112378</td>\n",
       "      <td>2.328959</td>\n",
       "      <td>2.224719</td>\n",
       "      <td>2.299257</td>\n",
       "      <td>2.620573</td>\n",
       "      <td>2.650969</td>\n",
       "      <td>1.249636</td>\n",
       "    </tr>\n",
       "    <tr>\n",
       "      <th>9999</th>\n",
       "      <td>2.163500</td>\n",
       "      <td>3.043179</td>\n",
       "      <td>2.990538</td>\n",
       "      <td>2.400327</td>\n",
       "      <td>2.461323</td>\n",
       "      <td>2.211213</td>\n",
       "      <td>2.063410</td>\n",
       "      <td>2.686238</td>\n",
       "      <td>1.861731</td>\n",
       "      <td>1.890837</td>\n",
       "    </tr>\n",
       "  </tbody>\n",
       "</table>\n",
       "<p>10000 rows × 10 columns</p>\n",
       "</div>"
      ],
      "text/plain": [
       "             0         1         2         3         4         5         6  \\\n",
       "0          NaN       NaN       NaN       NaN       NaN       NaN       NaN   \n",
       "1          NaN       NaN       NaN       NaN       NaN       NaN       NaN   \n",
       "2          NaN       NaN       NaN       NaN       NaN       NaN       NaN   \n",
       "3          NaN       NaN       NaN       NaN       NaN       NaN       NaN   \n",
       "4     2.635972  3.070456  2.980133  3.578833  3.890773  2.113300  2.417604   \n",
       "...        ...       ...       ...       ...       ...       ...       ...   \n",
       "9995  2.735663  2.308812  2.333262  0.987390  2.155822  1.629107  1.404240   \n",
       "9996  2.590306  2.055295  2.711499  1.374067  2.443862  1.875957  1.625650   \n",
       "9997  3.038121  2.583288  2.616227  1.417873  2.748492  2.691603  2.295152   \n",
       "9998  2.628768  2.806818  2.727379  2.112378  2.328959  2.224719  2.299257   \n",
       "9999  2.163500  3.043179  2.990538  2.400327  2.461323  2.211213  2.063410   \n",
       "\n",
       "             7         8         9  \n",
       "0          NaN       NaN       NaN  \n",
       "1          NaN       NaN       NaN  \n",
       "2          NaN       NaN       NaN  \n",
       "3          NaN       NaN       NaN  \n",
       "4     2.340682  3.143515  1.707335  \n",
       "...        ...       ...       ...  \n",
       "9995  3.323115  2.783520  1.582242  \n",
       "9996  2.741136  2.688636  1.410324  \n",
       "9997  2.207244  2.484935  1.068682  \n",
       "9998  2.620573  2.650969  1.249636  \n",
       "9999  2.686238  1.861731  1.890837  \n",
       "\n",
       "[10000 rows x 10 columns]"
      ]
     },
     "execution_count": 61,
     "metadata": {},
     "output_type": "execute_result"
    }
   ],
   "source": [
    "df.apply(lambda x:x.rolling(5).apply(lambda y:y.sum()),axis=0)"
   ]
  },
  {
   "cell_type": "code",
   "execution_count": 59,
   "id": "3054508a",
   "metadata": {
    "ExecuteTime": {
     "end_time": "2022-10-08T15:46:30.577447Z",
     "start_time": "2022-10-08T15:46:30.562613Z"
    }
   },
   "outputs": [
    {
     "data": {
      "text/plain": [
       "array([5006.21823313, 4973.04360786, 4940.40132472, 4983.03829584,\n",
       "       5021.52932979, 4971.32888347, 4972.24972261, 5010.9656087 ,\n",
       "       5014.20597124, 4997.6854893 ])"
      ]
     },
     "execution_count": 59,
     "metadata": {},
     "output_type": "execute_result"
    }
   ],
   "source": [
    "np.apply_along_axis(lambda y:y.sum(),0,df)"
   ]
  },
  {
   "cell_type": "code",
   "execution_count": null,
   "id": "6d26ffe7",
   "metadata": {},
   "outputs": [],
   "source": []
  },
  {
   "cell_type": "markdown",
   "id": "1ed33235",
   "metadata": {},
   "source": [
    "# Random samples"
   ]
  },
  {
   "cell_type": "markdown",
   "id": "76950a7e",
   "metadata": {},
   "source": [
    "a|b\n",
    "---|---\n",
    "np.random.random()| U(0,1)\n",
    "np.random.normal($\\mu$,$\\sigma$,n)| N($\\mu$,$\\sigma$) \n",
    "np.random.logistic($\\mu$,$\\sigma$,n)\n",
    "np.random.uniform(a,b,n)| U(a,b)"
   ]
  },
  {
   "cell_type": "code",
   "execution_count": 60,
   "id": "96885bbf",
   "metadata": {
    "ExecuteTime": {
     "end_time": "2022-09-29T12:09:21.608376Z",
     "start_time": "2022-09-29T12:09:21.597083Z"
    }
   },
   "outputs": [],
   "source": [
    "np.random.seed(0)"
   ]
  },
  {
   "cell_type": "code",
   "execution_count": 64,
   "id": "82803390",
   "metadata": {
    "ExecuteTime": {
     "end_time": "2022-09-29T12:13:53.366968Z",
     "start_time": "2022-09-29T12:13:53.352245Z"
    }
   },
   "outputs": [
    {
     "data": {
      "text/plain": [
       "array([0.5488135 , 0.71518937, 0.60276338, 0.54488318, 0.4236548 ,\n",
       "       0.64589411, 0.43758721, 0.891773  , 0.96366276, 0.38344152])"
      ]
     },
     "execution_count": 64,
     "metadata": {},
     "output_type": "execute_result"
    }
   ],
   "source": [
    "np.random.random(10)"
   ]
  },
  {
   "cell_type": "code",
   "execution_count": 68,
   "id": "34217df5",
   "metadata": {
    "ExecuteTime": {
     "end_time": "2022-09-29T12:14:34.874417Z",
     "start_time": "2022-09-29T12:14:34.860639Z"
    }
   },
   "outputs": [
    {
     "data": {
      "text/plain": [
       "array([  1.21675016,   4.43863233,   3.33674327,  14.94079073,\n",
       "        -2.05158264,   3.13067702,  -8.54095739, -25.52989816,\n",
       "         6.53618595,   8.64436199])"
      ]
     },
     "execution_count": 68,
     "metadata": {},
     "output_type": "execute_result"
    }
   ],
   "source": [
    "np.random.normal(0,10,10)"
   ]
  },
  {
   "cell_type": "code",
   "execution_count": 69,
   "id": "0f89b7a2",
   "metadata": {
    "ExecuteTime": {
     "end_time": "2022-09-29T12:15:30.306701Z",
     "start_time": "2022-09-29T12:15:30.289649Z"
    }
   },
   "outputs": [
    {
     "data": {
      "text/plain": [
       "module"
      ]
     },
     "execution_count": 69,
     "metadata": {},
     "output_type": "execute_result"
    }
   ],
   "source": []
  },
  {
   "cell_type": "code",
   "execution_count": null,
   "id": "cc875fe2",
   "metadata": {},
   "outputs": [],
   "source": []
  },
  {
   "cell_type": "code",
   "execution_count": null,
   "id": "3041234c",
   "metadata": {},
   "outputs": [],
   "source": []
  },
  {
   "cell_type": "code",
   "execution_count": null,
   "id": "c9367b55",
   "metadata": {},
   "outputs": [],
   "source": []
  },
  {
   "cell_type": "code",
   "execution_count": null,
   "id": "5dd3111e",
   "metadata": {},
   "outputs": [],
   "source": []
  },
  {
   "cell_type": "code",
   "execution_count": null,
   "id": "adb6e11a",
   "metadata": {},
   "outputs": [],
   "source": []
  },
  {
   "cell_type": "code",
   "execution_count": null,
   "id": "50acda6a",
   "metadata": {},
   "outputs": [],
   "source": []
  },
  {
   "cell_type": "code",
   "execution_count": null,
   "id": "9d8e34e7",
   "metadata": {},
   "outputs": [],
   "source": []
  },
  {
   "cell_type": "code",
   "execution_count": null,
   "id": "1e6043f8",
   "metadata": {},
   "outputs": [],
   "source": []
  },
  {
   "cell_type": "code",
   "execution_count": null,
   "id": "5c454815",
   "metadata": {},
   "outputs": [],
   "source": []
  },
  {
   "cell_type": "code",
   "execution_count": null,
   "id": "a8748584",
   "metadata": {},
   "outputs": [],
   "source": []
  },
  {
   "cell_type": "code",
   "execution_count": null,
   "id": "33d8b707",
   "metadata": {},
   "outputs": [],
   "source": []
  },
  {
   "cell_type": "code",
   "execution_count": null,
   "id": "1079ffee",
   "metadata": {},
   "outputs": [],
   "source": []
  },
  {
   "cell_type": "code",
   "execution_count": null,
   "id": "e28d321c",
   "metadata": {},
   "outputs": [],
   "source": []
  },
  {
   "cell_type": "code",
   "execution_count": null,
   "id": "d68fff7f",
   "metadata": {},
   "outputs": [],
   "source": []
  },
  {
   "cell_type": "code",
   "execution_count": null,
   "id": "24ebf119",
   "metadata": {},
   "outputs": [],
   "source": []
  }
 ],
 "metadata": {
  "author": "",
  "kernelspec": {
   "display_name": "Python 3 (ipykernel)",
   "language": "python",
   "name": "python3"
  },
  "language_info": {
   "codemirror_mode": {
    "name": "ipython",
    "version": 3
   },
   "file_extension": ".py",
   "mimetype": "text/x-python",
   "name": "python",
   "nbconvert_exporter": "python",
   "pygments_lexer": "ipython3",
   "version": "3.10.6"
  },
  "latex_envs": {
   "LaTeX_envs_menu_present": true,
   "autoclose": false,
   "autocomplete": true,
   "bibliofile": "biblio.bib",
   "cite_by": "apalike",
   "current_citInitial": 1,
   "eqLabelWithNumbers": true,
   "eqNumInitial": 1,
   "hotkeys": {
    "equation": "Ctrl-E",
    "itemize": "Ctrl-I"
   },
   "labels_anchors": false,
   "latex_user_defs": false,
   "report_style_numbering": false,
   "user_envs_cfg": false
  },
  "nbTranslate": {
   "displayLangs": [
    "*"
   ],
   "hotkey": "alt-t",
   "langInMainMenu": true,
   "sourceLang": "en",
   "targetLang": "fr",
   "useGoogleTranslate": true
  },
  "toc": {
   "base_numbering": 1,
   "nav_menu": {},
   "number_sections": true,
   "sideBar": true,
   "skip_h1_title": false,
   "title_cell": "Table of Contents",
   "title_sidebar": "Contents",
   "toc_cell": false,
   "toc_position": {
    "height": "calc(100% - 180px)",
    "left": "10px",
    "top": "150px",
    "width": "302.391px"
   },
   "toc_section_display": true,
   "toc_window_display": true
  },
  "varInspector": {
   "cols": {
    "lenName": 16,
    "lenType": 16,
    "lenVar": 40
   },
   "kernels_config": {
    "python": {
     "delete_cmd_postfix": "",
     "delete_cmd_prefix": "del ",
     "library": "var_list.py",
     "varRefreshCmd": "print(var_dic_list())"
    },
    "r": {
     "delete_cmd_postfix": ") ",
     "delete_cmd_prefix": "rm(",
     "library": "var_list.r",
     "varRefreshCmd": "cat(var_dic_list()) "
    }
   },
   "types_to_exclude": [
    "module",
    "function",
    "builtin_function_or_method",
    "instance",
    "_Feature"
   ],
   "window_display": false
  }
 },
 "nbformat": 4,
 "nbformat_minor": 5
}
