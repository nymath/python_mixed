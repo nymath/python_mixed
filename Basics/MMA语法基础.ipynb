{
 "cells": [
  {
   "cell_type": "markdown",
   "id": "ff241a2c",
   "metadata": {},
   "source": [
    "## Mathematica应用--语法基础"
   ]
  },
  {
   "cell_type": "code",
   "execution_count": 7,
   "id": "fea5fa77",
   "metadata": {
    "ExecuteTime": {
     "end_time": "2022-06-05T18:47:41Z",
     "start_time": "2022-06-05T10:47:41.748Z"
    }
   },
   "outputs": [
    {
     "data": {
      "text/html": [
       "<div>&#36;&#36;&#45;&#92;&#102;&#114;&#97;&#99;&#123;&#54;&#57;&#53;&#125;&#123;&#54;&#125;&#36;&#36;</div>"
      ],
      "text/plain": [
       "-\\frac{695}{6}"
      ]
     },
     "execution_count": 7,
     "metadata": {
      "text/html": [],
      "text/plain": []
     },
     "output_type": "execute_result"
    }
   ],
   "source": [
    "Integrate[x^5+6x+2,{x,-3,2}]//TeXForm"
   ]
  },
  {
   "cell_type": "code",
   "execution_count": 2,
   "id": "fe6fd3d3",
   "metadata": {
    "ExecuteTime": {
     "end_time": "2022-06-05T19:30:57Z",
     "start_time": "2022-06-05T11:30:57.325Z"
    }
   },
   "outputs": [
    {
     "data": {
      "text/html": [
       "<div>&#36;&#36;&#92;&#98;&#101;&#103;&#105;&#110;&#123;&#99;&#97;&#115;&#101;&#115;&#125;&#10;&#32;&#40;&#45;&#49;&#41;&#94;&#110;&#32;&#40;&#110;&#43;&#49;&#41;&#32;&#38;&#32;&#110;&#92;&#103;&#101;&#113;&#32;&#48;&#32;&#92;&#92;&#10;&#32;&#48;&#32;&#38;&#32;&#92;&#116;&#101;&#120;&#116;&#123;&#84;&#114;&#117;&#101;&#125;&#10;&#92;&#101;&#110;&#100;&#123;&#99;&#97;&#115;&#101;&#115;&#125;&#36;&#36;</div>"
      ],
      "text/plain": [
       "\\begin{cases}\n",
       " (-1)^n (n+1) & n\\geq 0 \\\\\n",
       " 0 & \\text{True}\n",
       "\\end{cases}"
      ]
     },
     "execution_count": 2,
     "metadata": {
      "text/html": [],
      "text/plain": []
     },
     "output_type": "execute_result"
    }
   ],
   "source": [
    "SeriesCoefficient[1/(1+x)^2,{x,0,n}]//TeXForm"
   ]
  },
  {
   "cell_type": "code",
   "execution_count": null,
   "id": "3726ac82",
   "metadata": {},
   "outputs": [],
   "source": []
  },
  {
   "cell_type": "code",
   "execution_count": null,
   "id": "da49f6d0",
   "metadata": {},
   "outputs": [],
   "source": []
  },
  {
   "cell_type": "code",
   "execution_count": null,
   "id": "a23c0013",
   "metadata": {},
   "outputs": [],
   "source": []
  },
  {
   "cell_type": "code",
   "execution_count": null,
   "id": "e64d5dcb",
   "metadata": {},
   "outputs": [],
   "source": []
  },
  {
   "cell_type": "code",
   "execution_count": null,
   "id": "cdacb634",
   "metadata": {},
   "outputs": [],
   "source": []
  },
  {
   "cell_type": "code",
   "execution_count": null,
   "id": "ae137e48",
   "metadata": {},
   "outputs": [],
   "source": []
  },
  {
   "cell_type": "code",
   "execution_count": null,
   "id": "d068627a",
   "metadata": {},
   "outputs": [],
   "source": []
  },
  {
   "cell_type": "code",
   "execution_count": null,
   "id": "4a726766",
   "metadata": {},
   "outputs": [],
   "source": []
  },
  {
   "cell_type": "code",
   "execution_count": null,
   "id": "48ce5204",
   "metadata": {},
   "outputs": [],
   "source": []
  }
 ],
 "metadata": {
  "kernelspec": {
   "display_name": "Python 3 (ipykernel)",
   "language": "python",
   "name": "python3"
  },
  "language_info": {
   "codemirror_mode": {
    "name": "ipython",
    "version": 3
   },
   "file_extension": ".py",
   "mimetype": "text/x-python",
   "name": "python",
   "nbconvert_exporter": "python",
   "pygments_lexer": "ipython3",
   "version": "3.9.12"
  },
  "latex_envs": {
   "LaTeX_envs_menu_present": true,
   "autoclose": false,
   "autocomplete": true,
   "bibliofile": "biblio.bib",
   "cite_by": "apalike",
   "current_citInitial": 1,
   "eqLabelWithNumbers": true,
   "eqNumInitial": 1,
   "hotkeys": {
    "equation": "Ctrl-E",
    "itemize": "Ctrl-I"
   },
   "labels_anchors": false,
   "latex_user_defs": false,
   "report_style_numbering": false,
   "user_envs_cfg": false
  },
  "nbTranslate": {
   "displayLangs": [
    "*"
   ],
   "hotkey": "alt-t",
   "langInMainMenu": true,
   "sourceLang": "en",
   "targetLang": "fr",
   "useGoogleTranslate": true
  },
  "toc": {
   "base_numbering": 1,
   "nav_menu": {},
   "number_sections": true,
   "sideBar": true,
   "skip_h1_title": false,
   "title_cell": "Table of Contents",
   "title_sidebar": "Contents",
   "toc_cell": false,
   "toc_position": {
    "height": "calc(100% - 180px)",
    "left": "10px",
    "top": "150px",
    "width": "256px"
   },
   "toc_section_display": true,
   "toc_window_display": true
  },
  "varInspector": {
   "cols": {
    "lenName": 16,
    "lenType": 16,
    "lenVar": 40
   },
   "kernels_config": {
    "python": {
     "delete_cmd_postfix": "",
     "delete_cmd_prefix": "del ",
     "library": "var_list.py",
     "varRefreshCmd": "print(var_dic_list())"
    },
    "r": {
     "delete_cmd_postfix": ") ",
     "delete_cmd_prefix": "rm(",
     "library": "var_list.r",
     "varRefreshCmd": "cat(var_dic_list()) "
    }
   },
   "types_to_exclude": [
    "module",
    "function",
    "builtin_function_or_method",
    "instance",
    "_Feature"
   ],
   "window_display": false
  }
 },
 "nbformat": 4,
 "nbformat_minor": 5
}
