{
 "cells": [
  {
   "cell_type": "code",
   "execution_count": 151,
   "id": "d576b0a4",
   "metadata": {
    "ExecuteTime": {
     "end_time": "2022-09-28T13:19:45.200029Z",
     "start_time": "2022-09-28T13:19:45.138340Z"
    }
   },
   "outputs": [],
   "source": [
    "from sklearn import datasets\n",
    "import pandas as pd\n",
    "import numpy as np\n",
    "from toolz import pipe"
   ]
  },
  {
   "cell_type": "code",
   "execution_count": 41,
   "id": "041a3d6a",
   "metadata": {
    "ExecuteTime": {
     "end_time": "2022-09-28T12:24:19.138626Z",
     "start_time": "2022-09-28T12:24:15.632507Z"
    }
   },
   "outputs": [],
   "source": [
    "from sklearn.linear_model import LinearRegression"
   ]
  },
  {
   "cell_type": "code",
   "execution_count": null,
   "id": "2b3c641d",
   "metadata": {},
   "outputs": [],
   "source": []
  },
  {
   "cell_type": "markdown",
   "id": "ba833629",
   "metadata": {},
   "source": [
    "# Multivariate Linear Regression"
   ]
  },
  {
   "cell_type": "code",
   "execution_count": 3,
   "id": "f7aded2f",
   "metadata": {
    "ExecuteTime": {
     "end_time": "2022-09-28T12:14:38.550494Z",
     "start_time": "2022-09-28T12:14:38.517598Z"
    }
   },
   "outputs": [],
   "source": [
    "diabetes = datasets.load_diabetes()"
   ]
  },
  {
   "cell_type": "code",
   "execution_count": 37,
   "id": "24b4f09d",
   "metadata": {
    "ExecuteTime": {
     "end_time": "2022-09-28T12:22:45.584694Z",
     "start_time": "2022-09-28T12:22:45.572338Z"
    }
   },
   "outputs": [],
   "source": [
    "X = pd.DataFrame(diabetes.data)\n",
    "Y = pd.DataFrame(diabetes.target)\n",
    "X.columns = diabetes.feature_names\n",
    "Y.columns = ['y']"
   ]
  },
  {
   "cell_type": "code",
   "execution_count": 38,
   "id": "f8f937ab",
   "metadata": {
    "ExecuteTime": {
     "end_time": "2022-09-28T12:22:46.242163Z",
     "start_time": "2022-09-28T12:22:46.219889Z"
    }
   },
   "outputs": [
    {
     "data": {
      "text/html": [
       "<div>\n",
       "<style scoped>\n",
       "    .dataframe tbody tr th:only-of-type {\n",
       "        vertical-align: middle;\n",
       "    }\n",
       "\n",
       "    .dataframe tbody tr th {\n",
       "        vertical-align: top;\n",
       "    }\n",
       "\n",
       "    .dataframe thead th {\n",
       "        text-align: right;\n",
       "    }\n",
       "</style>\n",
       "<table border=\"1\" class=\"dataframe\">\n",
       "  <thead>\n",
       "    <tr style=\"text-align: right;\">\n",
       "      <th></th>\n",
       "      <th>age</th>\n",
       "      <th>sex</th>\n",
       "      <th>bmi</th>\n",
       "      <th>bp</th>\n",
       "      <th>s1</th>\n",
       "      <th>s2</th>\n",
       "      <th>s3</th>\n",
       "      <th>s4</th>\n",
       "      <th>s5</th>\n",
       "      <th>s6</th>\n",
       "    </tr>\n",
       "  </thead>\n",
       "  <tbody>\n",
       "    <tr>\n",
       "      <th>0</th>\n",
       "      <td>0.038076</td>\n",
       "      <td>0.050680</td>\n",
       "      <td>0.061696</td>\n",
       "      <td>0.021872</td>\n",
       "      <td>-0.044223</td>\n",
       "      <td>-0.034821</td>\n",
       "      <td>-0.043401</td>\n",
       "      <td>-0.002592</td>\n",
       "      <td>0.019908</td>\n",
       "      <td>-0.017646</td>\n",
       "    </tr>\n",
       "    <tr>\n",
       "      <th>1</th>\n",
       "      <td>-0.001882</td>\n",
       "      <td>-0.044642</td>\n",
       "      <td>-0.051474</td>\n",
       "      <td>-0.026328</td>\n",
       "      <td>-0.008449</td>\n",
       "      <td>-0.019163</td>\n",
       "      <td>0.074412</td>\n",
       "      <td>-0.039493</td>\n",
       "      <td>-0.068330</td>\n",
       "      <td>-0.092204</td>\n",
       "    </tr>\n",
       "    <tr>\n",
       "      <th>2</th>\n",
       "      <td>0.085299</td>\n",
       "      <td>0.050680</td>\n",
       "      <td>0.044451</td>\n",
       "      <td>-0.005671</td>\n",
       "      <td>-0.045599</td>\n",
       "      <td>-0.034194</td>\n",
       "      <td>-0.032356</td>\n",
       "      <td>-0.002592</td>\n",
       "      <td>0.002864</td>\n",
       "      <td>-0.025930</td>\n",
       "    </tr>\n",
       "    <tr>\n",
       "      <th>3</th>\n",
       "      <td>-0.089063</td>\n",
       "      <td>-0.044642</td>\n",
       "      <td>-0.011595</td>\n",
       "      <td>-0.036656</td>\n",
       "      <td>0.012191</td>\n",
       "      <td>0.024991</td>\n",
       "      <td>-0.036038</td>\n",
       "      <td>0.034309</td>\n",
       "      <td>0.022692</td>\n",
       "      <td>-0.009362</td>\n",
       "    </tr>\n",
       "    <tr>\n",
       "      <th>4</th>\n",
       "      <td>0.005383</td>\n",
       "      <td>-0.044642</td>\n",
       "      <td>-0.036385</td>\n",
       "      <td>0.021872</td>\n",
       "      <td>0.003935</td>\n",
       "      <td>0.015596</td>\n",
       "      <td>0.008142</td>\n",
       "      <td>-0.002592</td>\n",
       "      <td>-0.031991</td>\n",
       "      <td>-0.046641</td>\n",
       "    </tr>\n",
       "  </tbody>\n",
       "</table>\n",
       "</div>"
      ],
      "text/plain": [
       "        age       sex       bmi        bp        s1        s2        s3  \\\n",
       "0  0.038076  0.050680  0.061696  0.021872 -0.044223 -0.034821 -0.043401   \n",
       "1 -0.001882 -0.044642 -0.051474 -0.026328 -0.008449 -0.019163  0.074412   \n",
       "2  0.085299  0.050680  0.044451 -0.005671 -0.045599 -0.034194 -0.032356   \n",
       "3 -0.089063 -0.044642 -0.011595 -0.036656  0.012191  0.024991 -0.036038   \n",
       "4  0.005383 -0.044642 -0.036385  0.021872  0.003935  0.015596  0.008142   \n",
       "\n",
       "         s4        s5        s6  \n",
       "0 -0.002592  0.019908 -0.017646  \n",
       "1 -0.039493 -0.068330 -0.092204  \n",
       "2 -0.002592  0.002864 -0.025930  \n",
       "3  0.034309  0.022692 -0.009362  \n",
       "4 -0.002592 -0.031991 -0.046641  "
      ]
     },
     "execution_count": 38,
     "metadata": {},
     "output_type": "execute_result"
    }
   ],
   "source": [
    "X.head()"
   ]
  },
  {
   "cell_type": "code",
   "execution_count": 40,
   "id": "6cdfb999",
   "metadata": {
    "ExecuteTime": {
     "end_time": "2022-09-28T12:22:54.571403Z",
     "start_time": "2022-09-28T12:22:54.545065Z"
    }
   },
   "outputs": [
    {
     "data": {
      "text/html": [
       "<div>\n",
       "<style scoped>\n",
       "    .dataframe tbody tr th:only-of-type {\n",
       "        vertical-align: middle;\n",
       "    }\n",
       "\n",
       "    .dataframe tbody tr th {\n",
       "        vertical-align: top;\n",
       "    }\n",
       "\n",
       "    .dataframe thead th {\n",
       "        text-align: right;\n",
       "    }\n",
       "</style>\n",
       "<table border=\"1\" class=\"dataframe\">\n",
       "  <thead>\n",
       "    <tr style=\"text-align: right;\">\n",
       "      <th></th>\n",
       "      <th>age</th>\n",
       "      <th>sex</th>\n",
       "      <th>bmi</th>\n",
       "      <th>bp</th>\n",
       "      <th>s1</th>\n",
       "      <th>s2</th>\n",
       "      <th>s3</th>\n",
       "      <th>s4</th>\n",
       "      <th>s5</th>\n",
       "      <th>s6</th>\n",
       "    </tr>\n",
       "  </thead>\n",
       "  <tbody>\n",
       "    <tr>\n",
       "      <th>0</th>\n",
       "      <td>0.038076</td>\n",
       "      <td>0.050680</td>\n",
       "      <td>0.061696</td>\n",
       "      <td>0.021872</td>\n",
       "      <td>-0.044223</td>\n",
       "      <td>-0.034821</td>\n",
       "      <td>-0.043401</td>\n",
       "      <td>-0.002592</td>\n",
       "      <td>0.019908</td>\n",
       "      <td>-0.017646</td>\n",
       "    </tr>\n",
       "    <tr>\n",
       "      <th>1</th>\n",
       "      <td>-0.001882</td>\n",
       "      <td>-0.044642</td>\n",
       "      <td>-0.051474</td>\n",
       "      <td>-0.026328</td>\n",
       "      <td>-0.008449</td>\n",
       "      <td>-0.019163</td>\n",
       "      <td>0.074412</td>\n",
       "      <td>-0.039493</td>\n",
       "      <td>-0.068330</td>\n",
       "      <td>-0.092204</td>\n",
       "    </tr>\n",
       "    <tr>\n",
       "      <th>2</th>\n",
       "      <td>0.085299</td>\n",
       "      <td>0.050680</td>\n",
       "      <td>0.044451</td>\n",
       "      <td>-0.005671</td>\n",
       "      <td>-0.045599</td>\n",
       "      <td>-0.034194</td>\n",
       "      <td>-0.032356</td>\n",
       "      <td>-0.002592</td>\n",
       "      <td>0.002864</td>\n",
       "      <td>-0.025930</td>\n",
       "    </tr>\n",
       "    <tr>\n",
       "      <th>3</th>\n",
       "      <td>-0.089063</td>\n",
       "      <td>-0.044642</td>\n",
       "      <td>-0.011595</td>\n",
       "      <td>-0.036656</td>\n",
       "      <td>0.012191</td>\n",
       "      <td>0.024991</td>\n",
       "      <td>-0.036038</td>\n",
       "      <td>0.034309</td>\n",
       "      <td>0.022692</td>\n",
       "      <td>-0.009362</td>\n",
       "    </tr>\n",
       "    <tr>\n",
       "      <th>4</th>\n",
       "      <td>0.005383</td>\n",
       "      <td>-0.044642</td>\n",
       "      <td>-0.036385</td>\n",
       "      <td>0.021872</td>\n",
       "      <td>0.003935</td>\n",
       "      <td>0.015596</td>\n",
       "      <td>0.008142</td>\n",
       "      <td>-0.002592</td>\n",
       "      <td>-0.031991</td>\n",
       "      <td>-0.046641</td>\n",
       "    </tr>\n",
       "    <tr>\n",
       "      <th>...</th>\n",
       "      <td>...</td>\n",
       "      <td>...</td>\n",
       "      <td>...</td>\n",
       "      <td>...</td>\n",
       "      <td>...</td>\n",
       "      <td>...</td>\n",
       "      <td>...</td>\n",
       "      <td>...</td>\n",
       "      <td>...</td>\n",
       "      <td>...</td>\n",
       "    </tr>\n",
       "    <tr>\n",
       "      <th>437</th>\n",
       "      <td>0.041708</td>\n",
       "      <td>0.050680</td>\n",
       "      <td>0.019662</td>\n",
       "      <td>0.059744</td>\n",
       "      <td>-0.005697</td>\n",
       "      <td>-0.002566</td>\n",
       "      <td>-0.028674</td>\n",
       "      <td>-0.002592</td>\n",
       "      <td>0.031193</td>\n",
       "      <td>0.007207</td>\n",
       "    </tr>\n",
       "    <tr>\n",
       "      <th>438</th>\n",
       "      <td>-0.005515</td>\n",
       "      <td>0.050680</td>\n",
       "      <td>-0.015906</td>\n",
       "      <td>-0.067642</td>\n",
       "      <td>0.049341</td>\n",
       "      <td>0.079165</td>\n",
       "      <td>-0.028674</td>\n",
       "      <td>0.034309</td>\n",
       "      <td>-0.018118</td>\n",
       "      <td>0.044485</td>\n",
       "    </tr>\n",
       "    <tr>\n",
       "      <th>439</th>\n",
       "      <td>0.041708</td>\n",
       "      <td>0.050680</td>\n",
       "      <td>-0.015906</td>\n",
       "      <td>0.017282</td>\n",
       "      <td>-0.037344</td>\n",
       "      <td>-0.013840</td>\n",
       "      <td>-0.024993</td>\n",
       "      <td>-0.011080</td>\n",
       "      <td>-0.046879</td>\n",
       "      <td>0.015491</td>\n",
       "    </tr>\n",
       "    <tr>\n",
       "      <th>440</th>\n",
       "      <td>-0.045472</td>\n",
       "      <td>-0.044642</td>\n",
       "      <td>0.039062</td>\n",
       "      <td>0.001215</td>\n",
       "      <td>0.016318</td>\n",
       "      <td>0.015283</td>\n",
       "      <td>-0.028674</td>\n",
       "      <td>0.026560</td>\n",
       "      <td>0.044528</td>\n",
       "      <td>-0.025930</td>\n",
       "    </tr>\n",
       "    <tr>\n",
       "      <th>441</th>\n",
       "      <td>-0.045472</td>\n",
       "      <td>-0.044642</td>\n",
       "      <td>-0.073030</td>\n",
       "      <td>-0.081414</td>\n",
       "      <td>0.083740</td>\n",
       "      <td>0.027809</td>\n",
       "      <td>0.173816</td>\n",
       "      <td>-0.039493</td>\n",
       "      <td>-0.004220</td>\n",
       "      <td>0.003064</td>\n",
       "    </tr>\n",
       "  </tbody>\n",
       "</table>\n",
       "<p>442 rows × 10 columns</p>\n",
       "</div>"
      ],
      "text/plain": [
       "          age       sex       bmi        bp        s1        s2        s3  \\\n",
       "0    0.038076  0.050680  0.061696  0.021872 -0.044223 -0.034821 -0.043401   \n",
       "1   -0.001882 -0.044642 -0.051474 -0.026328 -0.008449 -0.019163  0.074412   \n",
       "2    0.085299  0.050680  0.044451 -0.005671 -0.045599 -0.034194 -0.032356   \n",
       "3   -0.089063 -0.044642 -0.011595 -0.036656  0.012191  0.024991 -0.036038   \n",
       "4    0.005383 -0.044642 -0.036385  0.021872  0.003935  0.015596  0.008142   \n",
       "..        ...       ...       ...       ...       ...       ...       ...   \n",
       "437  0.041708  0.050680  0.019662  0.059744 -0.005697 -0.002566 -0.028674   \n",
       "438 -0.005515  0.050680 -0.015906 -0.067642  0.049341  0.079165 -0.028674   \n",
       "439  0.041708  0.050680 -0.015906  0.017282 -0.037344 -0.013840 -0.024993   \n",
       "440 -0.045472 -0.044642  0.039062  0.001215  0.016318  0.015283 -0.028674   \n",
       "441 -0.045472 -0.044642 -0.073030 -0.081414  0.083740  0.027809  0.173816   \n",
       "\n",
       "           s4        s5        s6  \n",
       "0   -0.002592  0.019908 -0.017646  \n",
       "1   -0.039493 -0.068330 -0.092204  \n",
       "2   -0.002592  0.002864 -0.025930  \n",
       "3    0.034309  0.022692 -0.009362  \n",
       "4   -0.002592 -0.031991 -0.046641  \n",
       "..        ...       ...       ...  \n",
       "437 -0.002592  0.031193  0.007207  \n",
       "438  0.034309 -0.018118  0.044485  \n",
       "439 -0.011080 -0.046879  0.015491  \n",
       "440  0.026560  0.044528 -0.025930  \n",
       "441 -0.039493 -0.004220  0.003064  \n",
       "\n",
       "[442 rows x 10 columns]"
      ]
     },
     "execution_count": 40,
     "metadata": {},
     "output_type": "execute_result"
    }
   ],
   "source": [
    "pd.DataFrame(diabetes)"
   ]
  },
  {
   "cell_type": "markdown",
   "id": "8419f20c",
   "metadata": {},
   "source": [
    "这里尝试先尝试用用一元线性回归"
   ]
  },
  {
   "cell_type": "code",
   "execution_count": 59,
   "id": "25f0d27f",
   "metadata": {
    "ExecuteTime": {
     "end_time": "2022-09-28T12:27:56.683786Z",
     "start_time": "2022-09-28T12:27:56.667002Z"
    }
   },
   "outputs": [],
   "source": [
    "reg = LinearRegression().fit(X.iloc[:,0:1],Y)"
   ]
  },
  {
   "cell_type": "code",
   "execution_count": 63,
   "id": "6977b15f",
   "metadata": {
    "ExecuteTime": {
     "end_time": "2022-09-28T12:28:38.619957Z",
     "start_time": "2022-09-28T12:28:38.607913Z"
    }
   },
   "outputs": [
    {
     "data": {
      "text/plain": [
       "array([[304.18307453]])"
      ]
     },
     "execution_count": 63,
     "metadata": {},
     "output_type": "execute_result"
    }
   ],
   "source": [
    "reg.coef_"
   ]
  },
  {
   "cell_type": "code",
   "execution_count": 64,
   "id": "c86ec5be",
   "metadata": {
    "ExecuteTime": {
     "end_time": "2022-09-28T12:28:38.778081Z",
     "start_time": "2022-09-28T12:28:38.769506Z"
    }
   },
   "outputs": [
    {
     "data": {
      "text/plain": [
       "array([152.13348416])"
      ]
     },
     "execution_count": 64,
     "metadata": {},
     "output_type": "execute_result"
    }
   ],
   "source": [
    "reg.intercept_"
   ]
  },
  {
   "cell_type": "code",
   "execution_count": 105,
   "id": "a043c691",
   "metadata": {
    "ExecuteTime": {
     "end_time": "2022-09-28T12:44:36.547161Z",
     "start_time": "2022-09-28T12:44:36.536916Z"
    }
   },
   "outputs": [],
   "source": [
    "I = np.linspace(1,1,X.shape[0])\n",
    "y = np.array(Y.y)\n",
    "x_1 = np.array(X.iloc[:,0])"
   ]
  },
  {
   "cell_type": "code",
   "execution_count": 106,
   "id": "ffcfbde2",
   "metadata": {
    "ExecuteTime": {
     "end_time": "2022-09-28T12:44:36.735739Z",
     "start_time": "2022-09-28T12:44:36.733005Z"
    }
   },
   "outputs": [],
   "source": [
    "residual_0 = y - (np.dot(y,I)/(np.dot(I,I)))*I"
   ]
  },
  {
   "cell_type": "code",
   "execution_count": 107,
   "id": "d1002d22",
   "metadata": {
    "ExecuteTime": {
     "end_time": "2022-09-28T12:44:36.927494Z",
     "start_time": "2022-09-28T12:44:36.920913Z"
    }
   },
   "outputs": [
    {
     "data": {
      "text/plain": [
       "-1.3642420526593924e-12"
      ]
     },
     "execution_count": 107,
     "metadata": {},
     "output_type": "execute_result"
    }
   ],
   "source": [
    "np.dot(I,residual_0) # 可以发现 I 与 residual_0正交"
   ]
  },
  {
   "cell_type": "markdown",
   "id": "a1bf6f52",
   "metadata": {},
   "source": [
    "接下来将Residual_0 投影至 $X_1$上，我们得到"
   ]
  },
  {
   "cell_type": "code",
   "execution_count": 108,
   "id": "1b04d525",
   "metadata": {
    "ExecuteTime": {
     "end_time": "2022-09-28T12:44:37.829773Z",
     "start_time": "2022-09-28T12:44:37.823153Z"
    }
   },
   "outputs": [],
   "source": [
    "residual_1 = residual_0 - ((np.dot(residual_0,x_1))/(np.dot(x_1,x_1)))*x_1"
   ]
  },
  {
   "cell_type": "code",
   "execution_count": 170,
   "id": "11430b4d",
   "metadata": {
    "ExecuteTime": {
     "end_time": "2022-09-29T08:59:20.578724Z",
     "start_time": "2022-09-29T08:59:20.564648Z"
    }
   },
   "outputs": [
    {
     "data": {
      "text/plain": [
       "-3.552713678800501e-15"
      ]
     },
     "execution_count": 170,
     "metadata": {},
     "output_type": "execute_result"
    }
   ],
   "source": [
    "np.dot(x_1,residual_1)"
   ]
  },
  {
   "cell_type": "code",
   "execution_count": null,
   "id": "59866b50",
   "metadata": {},
   "outputs": [],
   "source": []
  },
  {
   "cell_type": "markdown",
   "id": "797b2804",
   "metadata": {},
   "source": [
    "我们发现x_1与residual_1是正交的"
   ]
  },
  {
   "cell_type": "code",
   "execution_count": 114,
   "id": "52c08f46",
   "metadata": {
    "ExecuteTime": {
     "end_time": "2022-09-28T12:47:52.382112Z",
     "start_time": "2022-09-28T12:47:52.370171Z"
    }
   },
   "outputs": [
    {
     "name": "stdout",
     "output_type": "stream",
     "text": [
      "152.13348416289594\n",
      "304.18307452829487\n"
     ]
    }
   ],
   "source": [
    "print((np.dot(y,I)/(np.dot(I,I))))\n",
    "print(((np.dot(residual_0,x_1))/(np.dot(x_1,x_1))))"
   ]
  },
  {
   "cell_type": "markdown",
   "id": "7bce0d7e",
   "metadata": {
    "lang": "en"
   },
   "source": [
    "而且不难发现，上述投影的系数，就是我们需要的回归系数。上述流程被称为Schmit正交化，也可看作矩阵的\"QR\"分解。"
   ]
  },
  {
   "cell_type": "markdown",
   "id": "455c8123",
   "metadata": {},
   "source": [
    "QR decompositon: Suppose $X$ is a matrix, then there exists a orthonormal matrix $Q$ and an unpper triangular matrix $R$, such that for\n",
    "$$\n",
    "X = QR.\n",
    "$$\n",
    "If $X$ is the data matrix, then we have\n",
    "\\begin{eqnarray}\n",
    "\\hat \\beta & = &R^{-1}Q^\\prime \\mathbf y \\\\\n",
    "\\hat{\\mathbf{y}} &=& QQ^\\prime \\mathbf y\n",
    "\\end{eqnarray}"
   ]
  },
  {
   "cell_type": "markdown",
   "id": "1b9eb2d8",
   "metadata": {},
   "source": [
    "Or the OLS implies that \n",
    "$$\n",
    "\\hat \\beta = (X^\\prime X)^{-1}X^\\prime\\mathrm y\n",
    "$$"
   ]
  },
  {
   "cell_type": "code",
   "execution_count": 123,
   "id": "4bd12382",
   "metadata": {
    "ExecuteTime": {
     "end_time": "2022-09-28T13:09:28.469720Z",
     "start_time": "2022-09-28T13:09:28.459992Z"
    }
   },
   "outputs": [],
   "source": [
    "X = np.array(X)\n",
    "X = np.c_[I_n,X]"
   ]
  },
  {
   "cell_type": "code",
   "execution_count": 130,
   "id": "cd2e4173",
   "metadata": {
    "ExecuteTime": {
     "end_time": "2022-09-28T13:10:51.965999Z",
     "start_time": "2022-09-28T13:10:51.955936Z"
    }
   },
   "outputs": [],
   "source": [
    "Q,R = np.linalg.qr(X)"
   ]
  },
  {
   "cell_type": "code",
   "execution_count": 166,
   "id": "6e84ae5b",
   "metadata": {
    "ExecuteTime": {
     "end_time": "2022-09-28T13:25:12.814582Z",
     "start_time": "2022-09-28T13:25:12.799559Z"
    }
   },
   "outputs": [
    {
     "data": {
      "text/plain": [
       "array([ 152.13348416,  -10.01219782, -239.81908937,  519.83978679,\n",
       "        324.39042769, -792.18416163,  476.74583782,  101.04457032,\n",
       "        177.06417623,  751.27932109,   67.62538639])"
      ]
     },
     "execution_count": 166,
     "metadata": {},
     "output_type": "execute_result"
    }
   ],
   "source": [
    "np.dot(np.dot(np.linalg.inv(R),Q.transpose()),y)\n",
    "np.linalg.inv(R).dot(Q.transpose()).dot(y) # 或者更快了，属于是"
   ]
  },
  {
   "cell_type": "code",
   "execution_count": 167,
   "id": "067f04a4",
   "metadata": {
    "ExecuteTime": {
     "end_time": "2022-09-28T13:26:56.733493Z",
     "start_time": "2022-09-28T13:26:56.716533Z"
    }
   },
   "outputs": [
    {
     "data": {
      "text/plain": [
       "array([ 152.13348416,  -10.01219782, -239.81908937,  519.83978679,\n",
       "        324.39042769, -792.18416163,  476.74583782,  101.04457032,\n",
       "        177.06417623,  751.27932109,   67.62538639])"
      ]
     },
     "execution_count": 167,
     "metadata": {},
     "output_type": "execute_result"
    }
   ],
   "source": [
    "# 或者我们还可以用OLS得到系数的估计值\n",
    "np.linalg.inv(X.transpose().dot(X)).dot(X.transpose()).dot(yb)"
   ]
  },
  {
   "cell_type": "code",
   "execution_count": 183,
   "id": "75a9d746",
   "metadata": {
    "ExecuteTime": {
     "end_time": "2022-09-29T09:06:46.126895Z",
     "start_time": "2022-09-29T09:06:46.112453Z"
    }
   },
   "outputs": [
    {
     "data": {
      "text/plain": [
       "0.17373710056366723"
      ]
     },
     "execution_count": 183,
     "metadata": {},
     "output_type": "execute_result"
    }
   ],
   "source": [
    "np.dot(X[:,1],X[:,2])"
   ]
  },
  {
   "cell_type": "code",
   "execution_count": 175,
   "id": "e69dcfc7",
   "metadata": {
    "ExecuteTime": {
     "end_time": "2022-09-29T09:05:34.532057Z",
     "start_time": "2022-09-29T09:05:34.518735Z"
    }
   },
   "outputs": [],
   "source": [
    "reg = LinearRegression().fit(X,y)"
   ]
  },
  {
   "cell_type": "code",
   "execution_count": 165,
   "id": "10181167",
   "metadata": {
    "ExecuteTime": {
     "end_time": "2022-09-28T13:22:44.342943Z",
     "start_time": "2022-09-28T13:22:44.330267Z"
    }
   },
   "outputs": [
    {
     "data": {
      "text/plain": [
       "152.1334841628965"
      ]
     },
     "execution_count": 165,
     "metadata": {},
     "output_type": "execute_result"
    }
   ],
   "source": [
    "reg.intercept_"
   ]
  },
  {
   "cell_type": "code",
   "execution_count": 164,
   "id": "01d08cd8",
   "metadata": {
    "ExecuteTime": {
     "end_time": "2022-09-28T13:22:15.552654Z",
     "start_time": "2022-09-28T13:22:15.535936Z"
    }
   },
   "outputs": [
    {
     "data": {
      "text/plain": [
       "array([   0.        ,  -10.01219782, -239.81908937,  519.83978679,\n",
       "        324.39042769, -792.18416163,  476.74583782,  101.04457032,\n",
       "        177.06417623,  751.27932109,   67.62538639])"
      ]
     },
     "execution_count": 164,
     "metadata": {},
     "output_type": "execute_result"
    }
   ],
   "source": [
    "reg.coef_"
   ]
  },
  {
   "cell_type": "markdown",
   "id": "c14c223a",
   "metadata": {},
   "source": [
    "md，这个数据太特殊了，推导出现问题都没发现。"
   ]
  },
  {
   "cell_type": "code",
   "execution_count": null,
   "id": "bc513689",
   "metadata": {},
   "outputs": [],
   "source": []
  },
  {
   "cell_type": "code",
   "execution_count": null,
   "id": "f5ece504",
   "metadata": {},
   "outputs": [],
   "source": []
  },
  {
   "cell_type": "code",
   "execution_count": null,
   "id": "4ac31078",
   "metadata": {},
   "outputs": [],
   "source": []
  },
  {
   "cell_type": "code",
   "execution_count": null,
   "id": "018fd8a3",
   "metadata": {},
   "outputs": [],
   "source": []
  },
  {
   "cell_type": "code",
   "execution_count": null,
   "id": "8f9fbb15",
   "metadata": {},
   "outputs": [],
   "source": []
  },
  {
   "cell_type": "code",
   "execution_count": null,
   "id": "0355fe9e",
   "metadata": {},
   "outputs": [],
   "source": []
  },
  {
   "cell_type": "code",
   "execution_count": null,
   "id": "d1ab21ad",
   "metadata": {},
   "outputs": [],
   "source": []
  },
  {
   "cell_type": "code",
   "execution_count": null,
   "id": "373ecd4f",
   "metadata": {},
   "outputs": [],
   "source": []
  },
  {
   "cell_type": "code",
   "execution_count": null,
   "id": "05b45034",
   "metadata": {},
   "outputs": [],
   "source": []
  },
  {
   "cell_type": "code",
   "execution_count": null,
   "id": "3a42fc35",
   "metadata": {},
   "outputs": [],
   "source": []
  },
  {
   "cell_type": "code",
   "execution_count": null,
   "id": "a58116ac",
   "metadata": {},
   "outputs": [],
   "source": []
  },
  {
   "cell_type": "code",
   "execution_count": null,
   "id": "6c469470",
   "metadata": {},
   "outputs": [],
   "source": []
  },
  {
   "cell_type": "code",
   "execution_count": null,
   "id": "c5d07e0b",
   "metadata": {},
   "outputs": [],
   "source": []
  },
  {
   "cell_type": "code",
   "execution_count": null,
   "id": "c6144831",
   "metadata": {},
   "outputs": [],
   "source": []
  },
  {
   "cell_type": "code",
   "execution_count": null,
   "id": "9a7d95cc",
   "metadata": {},
   "outputs": [],
   "source": []
  },
  {
   "cell_type": "code",
   "execution_count": null,
   "id": "41559dcf",
   "metadata": {},
   "outputs": [],
   "source": []
  },
  {
   "cell_type": "code",
   "execution_count": null,
   "id": "de6ff697",
   "metadata": {},
   "outputs": [],
   "source": []
  },
  {
   "cell_type": "code",
   "execution_count": null,
   "id": "69c5ebc8",
   "metadata": {},
   "outputs": [],
   "source": []
  },
  {
   "cell_type": "code",
   "execution_count": null,
   "id": "e7ca7207",
   "metadata": {},
   "outputs": [],
   "source": []
  }
 ],
 "metadata": {
  "kernelspec": {
   "display_name": "Python 3 (ipykernel)",
   "language": "python",
   "name": "python3"
  },
  "language_info": {
   "codemirror_mode": {
    "name": "ipython",
    "version": 3
   },
   "file_extension": ".py",
   "mimetype": "text/x-python",
   "name": "python",
   "nbconvert_exporter": "python",
   "pygments_lexer": "ipython3",
   "version": "3.9.12"
  },
  "latex_envs": {
   "LaTeX_envs_menu_present": true,
   "autoclose": false,
   "autocomplete": true,
   "bibliofile": "biblio.bib",
   "cite_by": "apalike",
   "current_citInitial": 1,
   "eqLabelWithNumbers": true,
   "eqNumInitial": 1,
   "hotkeys": {
    "equation": "Ctrl-E",
    "itemize": "Ctrl-I"
   },
   "labels_anchors": false,
   "latex_user_defs": false,
   "report_style_numbering": false,
   "user_envs_cfg": false
  },
  "nbTranslate": {
   "displayLangs": [
    "*"
   ],
   "hotkey": "alt-t",
   "langInMainMenu": true,
   "sourceLang": "en",
   "targetLang": "fr",
   "useGoogleTranslate": true
  },
  "toc": {
   "base_numbering": 1,
   "nav_menu": {},
   "number_sections": true,
   "sideBar": true,
   "skip_h1_title": false,
   "title_cell": "Table of Contents",
   "title_sidebar": "Contents",
   "toc_cell": false,
   "toc_position": {},
   "toc_section_display": true,
   "toc_window_display": false
  },
  "varInspector": {
   "cols": {
    "lenName": 16,
    "lenType": 16,
    "lenVar": 40
   },
   "kernels_config": {
    "python": {
     "delete_cmd_postfix": "",
     "delete_cmd_prefix": "del ",
     "library": "var_list.py",
     "varRefreshCmd": "print(var_dic_list())"
    },
    "r": {
     "delete_cmd_postfix": ") ",
     "delete_cmd_prefix": "rm(",
     "library": "var_list.r",
     "varRefreshCmd": "cat(var_dic_list()) "
    }
   },
   "types_to_exclude": [
    "module",
    "function",
    "builtin_function_or_method",
    "instance",
    "_Feature"
   ],
   "window_display": false
  }
 },
 "nbformat": 4,
 "nbformat_minor": 5
}
