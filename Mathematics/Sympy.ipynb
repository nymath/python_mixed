{
 "cells": [
  {
   "cell_type": "code",
   "execution_count": 1,
   "id": "290fc8ae",
   "metadata": {
    "ExecuteTime": {
     "end_time": "2022-06-28T08:07:42.026573Z",
     "start_time": "2022-06-28T08:07:39.323997Z"
    }
   },
   "outputs": [],
   "source": [
    "import sympy\n",
    "import numpy as np\n",
    "import pandas as pd\n",
    "from sympy import *\n",
    "from sympy.stats import *"
   ]
  },
  {
   "cell_type": "code",
   "execution_count": 2,
   "id": "6d6edd9f",
   "metadata": {
    "ExecuteTime": {
     "end_time": "2022-06-28T08:07:42.829592Z",
     "start_time": "2022-06-28T08:07:42.822542Z"
    }
   },
   "outputs": [],
   "source": [
    "from IPython.core.interactiveshell import InteractiveShell\n",
    "InteractiveShell.ast_node_interactivity = \"all\"\n",
    "from IPython.display import display"
   ]
  },
  {
   "cell_type": "code",
   "execution_count": 3,
   "id": "32a59368",
   "metadata": {
    "ExecuteTime": {
     "end_time": "2022-06-28T08:07:44.283897Z",
     "start_time": "2022-06-28T08:07:43.229311Z"
    }
   },
   "outputs": [],
   "source": [
    "%config InlineBackend.figure_format = 'retina'\n",
    "%matplotlib inline\n",
    "init_printing( use_latex='mathjax' )"
   ]
  },
  {
   "cell_type": "code",
   "execution_count": 1,
   "id": "cea030f0",
   "metadata": {
    "ExecuteTime": {
     "end_time": "2022-09-23T01:36:18.609831Z",
     "start_time": "2022-09-23T01:36:17.982914Z"
    }
   },
   "outputs": [],
   "source": [
    "import matplotlib.pyplot as plt"
   ]
  },
  {
   "cell_type": "code",
   "execution_count": 4,
   "id": "b7139c1c",
   "metadata": {
    "ExecuteTime": {
     "end_time": "2022-09-23T01:37:03.646131Z",
     "start_time": "2022-09-23T01:37:03.635635Z"
    }
   },
   "outputs": [
    {
     "data": {
      "text/plain": [
       "'/Users/nymath'"
      ]
     },
     "execution_count": 4,
     "metadata": {},
     "output_type": "execute_result"
    }
   ],
   "source": [
    "pwd"
   ]
  },
  {
   "cell_type": "code",
   "execution_count": 8,
   "id": "60822084",
   "metadata": {
    "ExecuteTime": {
     "end_time": "2022-09-23T01:38:38.371781Z",
     "start_time": "2022-09-23T01:38:38.362947Z"
    }
   },
   "outputs": [
    {
     "name": "stdout",
     "output_type": "stream",
     "text": [
      "[Errno 2] No such file or directory: '(/Users/nymath)'\n",
      "/Users/nymath\n"
     ]
    }
   ],
   "source": [
    "cd('/Users/nymath')"
   ]
  },
  {
   "cell_type": "code",
   "execution_count": null,
   "id": "28b858cf",
   "metadata": {},
   "outputs": [],
   "source": []
  },
  {
   "cell_type": "code",
   "execution_count": null,
   "id": "faa93f3c",
   "metadata": {},
   "outputs": [],
   "source": []
  },
  {
   "cell_type": "markdown",
   "id": "c2381e93",
   "metadata": {},
   "source": [
    "## 变量定义"
   ]
  },
  {
   "cell_type": "markdown",
   "id": "ea678691",
   "metadata": {},
   "source": [
    "我们对Pow对象进行符号运算，如果需要数值可以用lambdify转成np的对象进行求解"
   ]
  },
  {
   "cell_type": "code",
   "execution_count": 7,
   "id": "1a04a991",
   "metadata": {
    "ExecuteTime": {
     "end_time": "2022-06-28T08:13:56.374657Z",
     "start_time": "2022-06-28T08:13:56.361642Z"
    }
   },
   "outputs": [
    {
     "data": {
      "text/plain": [
       "sympy.core.symbol.Symbol"
      ]
     },
     "execution_count": 7,
     "metadata": {},
     "output_type": "execute_result"
    }
   ],
   "source": [
    "x,y,m,n,a,λ,u,v,a,b,c,d,t = symbols('x y m n a λ u v a b c d t')\n",
    "μ,σ=symbols('μ σ',real=True)\n",
    "x_1 = symbols('x_1')\n",
    "type(x) #Symbol对象"
   ]
  },
  {
   "cell_type": "code",
   "execution_count": 8,
   "id": "5fcd3751",
   "metadata": {
    "ExecuteTime": {
     "end_time": "2022-06-28T08:13:57.732017Z",
     "start_time": "2022-06-28T08:13:57.715024Z"
    }
   },
   "outputs": [],
   "source": [
    "#复变量定义\n",
    "z = symbols('z',complex=True)"
   ]
  },
  {
   "cell_type": "code",
   "execution_count": 6,
   "id": "bc0adb3d",
   "metadata": {
    "ExecuteTime": {
     "end_time": "2022-06-06T05:49:40.983688Z",
     "start_time": "2022-06-06T05:49:40.766870Z"
    },
    "scrolled": false
   },
   "outputs": [
    {
     "data": {
      "text/latex": [
       "$\\displaystyle 2 x + 2$"
      ],
      "text/plain": [
       "2⋅x + 2"
      ]
     },
     "execution_count": 6,
     "metadata": {},
     "output_type": "execute_result"
    }
   ],
   "source": [
    "expr1 = (x+1)**2\n",
    "expr2 = x**2+2*x+1\n",
    "#print(expr1 == expr2)\n",
    "#type(expr1) #Pow对象\n",
    "diff(expr1,x)"
   ]
  },
  {
   "cell_type": "code",
   "execution_count": 7,
   "id": "2d759d60",
   "metadata": {
    "ExecuteTime": {
     "end_time": "2022-06-06T05:49:41.309742Z",
     "start_time": "2022-06-06T05:49:41.300215Z"
    },
    "scrolled": true
   },
   "outputs": [
    {
     "name": "stdout",
     "output_type": "stream",
     "text": [
      "4/9\n",
      "0.444444444444444\n"
     ]
    }
   ],
   "source": [
    "#分式\n",
    "print(S(4)/9)\n",
    "print((S(4)/9).evalf())"
   ]
  },
  {
   "cell_type": "code",
   "execution_count": 298,
   "id": "06779a72",
   "metadata": {
    "ExecuteTime": {
     "end_time": "2022-05-18T18:58:00.427126Z",
     "start_time": "2022-05-18T18:58:00.421174Z"
    },
    "scrolled": true
   },
   "outputs": [
    {
     "name": "stdout",
     "output_type": "stream",
     "text": [
      "<function _lambdifygenerated at 0x0000015492D2EF70>\n"
     ]
    }
   ],
   "source": [
    "# 创建函数\n",
    "f = lambdify(x,expr1)\n",
    "print(f)"
   ]
  },
  {
   "cell_type": "code",
   "execution_count": 242,
   "id": "e64f2f4b",
   "metadata": {
    "ExecuteTime": {
     "end_time": "2022-05-18T18:41:00.283927Z",
     "start_time": "2022-05-18T18:41:00.261133Z"
    }
   },
   "outputs": [
    {
     "data": {
      "text/latex": [
       "$\\displaystyle \\left[ 0, \\  \\frac{5}{2} - \\frac{\\sqrt{33}}{2}, \\  \\frac{5}{2} + \\frac{\\sqrt{33}}{2}\\right]$"
      ],
      "text/plain": [
       "⎡   5   √33  5   √33⎤\n",
       "⎢0, ─ - ───, ─ + ───⎥\n",
       "⎣   2    2   2    2 ⎦"
      ]
     },
     "execution_count": 242,
     "metadata": {},
     "output_type": "execute_result"
    }
   ],
   "source": [
    "# 矩阵\n",
    "solve(Matrix([[1-λ,2,2],[2,1-λ,1],[1,3,3-λ]]).det(),λ)"
   ]
  },
  {
   "cell_type": "markdown",
   "id": "cb466e4c",
   "metadata": {},
   "source": [
    "## 求解方程或者不等式"
   ]
  },
  {
   "cell_type": "code",
   "execution_count": 243,
   "id": "c4f8922d",
   "metadata": {
    "ExecuteTime": {
     "end_time": "2022-05-18T18:41:02.880091Z",
     "start_time": "2022-05-18T18:41:02.857927Z"
    }
   },
   "outputs": [
    {
     "data": {
      "text/plain": [
       "sympy.core.power.Pow"
      ]
     },
     "execution_count": 243,
     "metadata": {},
     "output_type": "execute_result"
    }
   ],
   "source": [
    "type(sympy.solve(x**2-a,x)[1])"
   ]
  },
  {
   "cell_type": "code",
   "execution_count": 244,
   "id": "be45a231",
   "metadata": {
    "ExecuteTime": {
     "end_time": "2022-05-18T18:41:04.318239Z",
     "start_time": "2022-05-18T18:41:04.285240Z"
    }
   },
   "outputs": [
    {
     "data": {
      "text/latex": [
       "$\\displaystyle \\left(-\\infty < x \\wedge x < -2\\right) \\vee \\left(2 < x \\wedge x < \\infty\\right)$"
      ],
      "text/plain": [
       "(-∞ < x ∧ x < -2) ∨ (2 < x ∧ x < ∞)"
      ]
     },
     "execution_count": 244,
     "metadata": {},
     "output_type": "execute_result"
    }
   ],
   "source": [
    "#不等式\n",
    "solve_univariate_inequality(x**2 > 4, x)"
   ]
  },
  {
   "cell_type": "code",
   "execution_count": 245,
   "id": "9a08d530",
   "metadata": {
    "ExecuteTime": {
     "end_time": "2022-05-18T18:41:05.684263Z",
     "start_time": "2022-05-18T18:41:05.652450Z"
    },
    "scrolled": true
   },
   "outputs": [
    {
     "name": "stdout",
     "output_type": "stream",
     "text": [
      "<class 'dict'>\n"
     ]
    },
    {
     "data": {
      "text/latex": [
       "$\\displaystyle \\left\\{ x : \\frac{1}{5}, \\  y : - \\frac{3}{5}\\right\\}$"
      ],
      "text/plain": [
       "{x: 1/5, y: -3/5}"
      ]
     },
     "execution_count": 245,
     "metadata": {},
     "output_type": "execute_result"
    }
   ],
   "source": [
    "#线性方程组\n",
    "#线性方程组产生了一个list,可以利用相似办法求解\n",
    "print(type(solve([x + 2*y + 1, x - 3*y - 2], x, y)))\n",
    "solve([x + 2*y + 1, x - 3*y - 2], x, y)"
   ]
  },
  {
   "cell_type": "code",
   "execution_count": 246,
   "id": "5d71cf69",
   "metadata": {
    "ExecuteTime": {
     "end_time": "2022-05-18T18:41:06.768884Z",
     "start_time": "2022-05-18T18:41:06.755777Z"
    },
    "scrolled": true
   },
   "outputs": [
    {
     "name": "stdout",
     "output_type": "stream",
     "text": [
      "1/5\n",
      "-3/5\n"
     ]
    }
   ],
   "source": [
    "print(solve([x + 2*y + 1, x - 3*y - 2], x, y)[x])\n",
    "print(solve([x + 2*y + 1, x - 3*y - 2], x, y)[y])"
   ]
  },
  {
   "cell_type": "code",
   "execution_count": 247,
   "id": "4485c266",
   "metadata": {
    "ExecuteTime": {
     "end_time": "2022-05-18T18:41:08.590546Z",
     "start_time": "2022-05-18T18:41:08.568396Z"
    }
   },
   "outputs": [
    {
     "data": {
      "text/latex": [
       "$\\displaystyle \\left[ \\left( - \\frac{\\sqrt{3}}{2}, \\  - \\frac{1}{2}\\right), \\  \\left( - \\frac{\\sqrt{3}}{2}, \\  \\frac{1}{2}\\right), \\  \\left( \\frac{\\sqrt{3}}{2}, \\  - \\frac{1}{2}\\right), \\  \\left( \\frac{\\sqrt{3}}{2}, \\  \\frac{1}{2}\\right)\\right]$"
      ],
      "text/plain": [
       "⎡⎛-√3       ⎞  ⎛-√3      ⎞  ⎛√3      ⎞  ⎛√3     ⎞⎤\n",
       "⎢⎜────, -1/2⎟, ⎜────, 1/2⎟, ⎜──, -1/2⎟, ⎜──, 1/2⎟⎥\n",
       "⎣⎝ 2        ⎠  ⎝ 2       ⎠  ⎝2       ⎠  ⎝2      ⎠⎦"
      ]
     },
     "execution_count": 247,
     "metadata": {},
     "output_type": "execute_result"
    }
   ],
   "source": [
    "#非线性方程组照样求\n",
    "#返回list\n",
    "solve([x**2 + y**2 - 1, x**2 - y**2 - S(1) / 2], x, y)"
   ]
  },
  {
   "cell_type": "code",
   "execution_count": 248,
   "id": "2b230c82",
   "metadata": {
    "ExecuteTime": {
     "end_time": "2022-05-18T18:41:09.740589Z",
     "start_time": "2022-05-18T18:41:09.718484Z"
    }
   },
   "outputs": [
    {
     "data": {
      "text/latex": [
       "$\\displaystyle \\left[\\begin{matrix}a & b & u\\\\c & d & v\\end{matrix}\\right]$"
      ],
      "text/plain": [
       "⎡a  b  u⎤\n",
       "⎢       ⎥\n",
       "⎣c  d  v⎦"
      ]
     },
     "execution_count": 248,
     "metadata": {},
     "output_type": "execute_result"
    }
   ],
   "source": [
    "Matrix([[a,b,u],[c,d,v]])"
   ]
  },
  {
   "cell_type": "code",
   "execution_count": 249,
   "id": "dfffbd6e",
   "metadata": {
    "ExecuteTime": {
     "end_time": "2022-05-18T18:41:10.644322Z",
     "start_time": "2022-05-18T18:41:10.619367Z"
    }
   },
   "outputs": [
    {
     "data": {
      "text/latex": [
       "$\\displaystyle \\left\\{ x : \\frac{- b v + d u}{a d - b c}, \\  y : \\frac{a v - c u}{a d - b c}\\right\\}$"
      ],
      "text/plain": [
       "⎧   -b⋅v + d⋅u     a⋅v - c⋅u⎫\n",
       "⎨x: ──────────, y: ─────────⎬\n",
       "⎩   a⋅d - b⋅c      a⋅d - b⋅c⎭"
      ]
     },
     "execution_count": 249,
     "metadata": {},
     "output_type": "execute_result"
    }
   ],
   "source": [
    "solve_linear_system(Matrix([[a,b,u],[c,d,v]]),x,y)"
   ]
  },
  {
   "cell_type": "code",
   "execution_count": null,
   "id": "591039f2",
   "metadata": {},
   "outputs": [],
   "source": []
  },
  {
   "cell_type": "markdown",
   "id": "0fbd08ab",
   "metadata": {},
   "source": [
    "## 线性代数"
   ]
  },
  {
   "cell_type": "code",
   "execution_count": 8,
   "id": "66105d5e",
   "metadata": {
    "ExecuteTime": {
     "end_time": "2022-06-03T08:38:02.153830Z",
     "start_time": "2022-06-03T08:38:02.145830Z"
    }
   },
   "outputs": [],
   "source": [
    "A = Matrix([[2,-1,1],[1,2,-1],[1,-1,2]])"
   ]
  },
  {
   "cell_type": "code",
   "execution_count": 9,
   "id": "37b86d87",
   "metadata": {
    "ExecuteTime": {
     "end_time": "2022-06-03T08:38:03.724306Z",
     "start_time": "2022-06-03T08:38:03.676929Z"
    }
   },
   "outputs": [
    {
     "data": {
      "text/latex": [
       "$\\displaystyle \\left[ \\left( 1, \\  1, \\  \\left[ \\left[\\begin{matrix}0\\\\1\\\\1\\end{matrix}\\right]\\right]\\right), \\  \\left( 2, \\  1, \\  \\left[ \\left[\\begin{matrix}1\\\\1\\\\1\\end{matrix}\\right]\\right]\\right), \\  \\left( 3, \\  1, \\  \\left[ \\left[\\begin{matrix}1\\\\0\\\\1\\end{matrix}\\right]\\right]\\right)\\right]$"
      ],
      "text/plain": [
       "⎡⎛      ⎡⎡0⎤⎤⎞  ⎛      ⎡⎡1⎤⎤⎞  ⎛      ⎡⎡1⎤⎤⎞⎤\n",
       "⎢⎜      ⎢⎢ ⎥⎥⎟  ⎜      ⎢⎢ ⎥⎥⎟  ⎜      ⎢⎢ ⎥⎥⎟⎥\n",
       "⎢⎜1, 1, ⎢⎢1⎥⎥⎟, ⎜2, 1, ⎢⎢1⎥⎥⎟, ⎜3, 1, ⎢⎢0⎥⎥⎟⎥\n",
       "⎢⎜      ⎢⎢ ⎥⎥⎟  ⎜      ⎢⎢ ⎥⎥⎟  ⎜      ⎢⎢ ⎥⎥⎟⎥\n",
       "⎣⎝      ⎣⎣1⎦⎦⎠  ⎝      ⎣⎣1⎦⎦⎠  ⎝      ⎣⎣1⎦⎦⎠⎦"
      ]
     },
     "execution_count": 9,
     "metadata": {},
     "output_type": "execute_result"
    },
    {
     "data": {
      "text/latex": [
       "$\\displaystyle \\left[ \\left( e, \\  1, \\  \\left[ \\left[\\begin{matrix}0\\\\1\\\\1\\end{matrix}\\right]\\right]\\right), \\  \\left( e^{2}, \\  1, \\  \\left[ \\left[\\begin{matrix}1\\\\1\\\\1\\end{matrix}\\right]\\right]\\right), \\  \\left( e^{3}, \\  1, \\  \\left[ \\left[\\begin{matrix}1\\\\0\\\\1\\end{matrix}\\right]\\right]\\right)\\right]$"
      ],
      "text/plain": [
       "⎡⎛      ⎡⎡0⎤⎤⎞  ⎛       ⎡⎡1⎤⎤⎞  ⎛       ⎡⎡1⎤⎤⎞⎤\n",
       "⎢⎜      ⎢⎢ ⎥⎥⎟  ⎜ 2     ⎢⎢ ⎥⎥⎟  ⎜ 3     ⎢⎢ ⎥⎥⎟⎥\n",
       "⎢⎜ℯ, 1, ⎢⎢1⎥⎥⎟, ⎜ℯ , 1, ⎢⎢1⎥⎥⎟, ⎜ℯ , 1, ⎢⎢0⎥⎥⎟⎥\n",
       "⎢⎜      ⎢⎢ ⎥⎥⎟  ⎜       ⎢⎢ ⎥⎥⎟  ⎜       ⎢⎢ ⎥⎥⎟⎥\n",
       "⎣⎝      ⎣⎣1⎦⎦⎠  ⎝       ⎣⎣1⎦⎦⎠  ⎝       ⎣⎣1⎦⎦⎠⎦"
      ]
     },
     "execution_count": 9,
     "metadata": {},
     "output_type": "execute_result"
    }
   ],
   "source": [
    "# 可以发现A的特征空间与exp(A)相同\n",
    "A.eigenvects()\n",
    "exp(A).eigenvects()"
   ]
  },
  {
   "cell_type": "code",
   "execution_count": 23,
   "id": "00ec8608",
   "metadata": {
    "ExecuteTime": {
     "end_time": "2022-06-03T08:42:29.886696Z",
     "start_time": "2022-06-03T08:42:29.873594Z"
    }
   },
   "outputs": [
    {
     "data": {
      "text/latex": [
       "$\\displaystyle \\left[\\begin{matrix}0 & 1 & 1\\\\1 & 1 & 0\\\\1 & 1 & 1\\end{matrix}\\right]$"
      ],
      "text/plain": [
       "⎡0  1  1⎤\n",
       "⎢       ⎥\n",
       "⎢1  1  0⎥\n",
       "⎢       ⎥\n",
       "⎣1  1  1⎦"
      ]
     },
     "execution_count": 23,
     "metadata": {},
     "output_type": "execute_result"
    }
   ],
   "source": [
    "P = A.jordan_form()[0]\n",
    "P"
   ]
  },
  {
   "cell_type": "code",
   "execution_count": 24,
   "id": "7b29283f",
   "metadata": {
    "ExecuteTime": {
     "end_time": "2022-06-03T08:42:54.172760Z",
     "start_time": "2022-06-03T08:42:54.162659Z"
    }
   },
   "outputs": [
    {
     "data": {
      "text/latex": [
       "$\\displaystyle \\left[ \\left[\\begin{matrix}0\\\\1\\\\1\\end{matrix}\\right], \\  \\left[\\begin{matrix}1\\\\0\\\\0\\end{matrix}\\right], \\  \\left[\\begin{matrix}0\\\\- \\frac{1}{2}\\\\\\frac{1}{2}\\end{matrix}\\right]\\right]$"
      ],
      "text/plain": [
       "⎡⎡0⎤  ⎡1⎤  ⎡ 0  ⎤⎤\n",
       "⎢⎢ ⎥  ⎢ ⎥  ⎢    ⎥⎥\n",
       "⎢⎢1⎥, ⎢0⎥, ⎢-1/2⎥⎥\n",
       "⎢⎢ ⎥  ⎢ ⎥  ⎢    ⎥⎥\n",
       "⎣⎣1⎦  ⎣0⎦  ⎣1/2 ⎦⎦"
      ]
     },
     "execution_count": 24,
     "metadata": {},
     "output_type": "execute_result"
    }
   ],
   "source": [
    "GramSchmidt([P[:,0],P[:,1],P[:,2]])"
   ]
  },
  {
   "cell_type": "code",
   "execution_count": 25,
   "id": "a4f2182d",
   "metadata": {
    "ExecuteTime": {
     "end_time": "2022-06-03T08:42:55.004879Z",
     "start_time": "2022-06-03T08:42:54.991880Z"
    }
   },
   "outputs": [
    {
     "data": {
      "text/latex": [
       "$\\displaystyle \\left[\\begin{matrix}1.0\\\\-1.5\\\\1.5\\end{matrix}\\right]$"
      ],
      "text/plain": [
       "⎡1.0 ⎤\n",
       "⎢    ⎥\n",
       "⎢-1.5⎥\n",
       "⎢    ⎥\n",
       "⎣1.5 ⎦"
      ]
     },
     "execution_count": 25,
     "metadata": {},
     "output_type": "execute_result"
    }
   ],
   "source": [
    "A*Matrix([[0],[-0.5],[0.5]])"
   ]
  },
  {
   "cell_type": "code",
   "execution_count": null,
   "id": "15d5e262",
   "metadata": {},
   "outputs": [],
   "source": []
  },
  {
   "cell_type": "markdown",
   "id": "cacf9b6d",
   "metadata": {},
   "source": [
    "## 实变函数"
   ]
  },
  {
   "cell_type": "code",
   "execution_count": 32,
   "id": "cb9a6115",
   "metadata": {
    "ExecuteTime": {
     "end_time": "2022-06-28T08:19:20.238207Z",
     "start_time": "2022-06-28T08:19:20.226207Z"
    }
   },
   "outputs": [],
   "source": [
    "x = symbols('x')"
   ]
  },
  {
   "cell_type": "code",
   "execution_count": 33,
   "id": "badd5e5a",
   "metadata": {
    "ExecuteTime": {
     "end_time": "2022-06-28T08:19:20.649274Z",
     "start_time": "2022-06-28T08:19:20.638900Z"
    }
   },
   "outputs": [
    {
     "data": {
      "text/latex": [
       "$\\displaystyle 3.2744 x^{0.6237}$"
      ],
      "text/plain": [
       "        0.6237\n",
       "3.2744⋅x      "
      ]
     },
     "execution_count": 33,
     "metadata": {},
     "output_type": "execute_result"
    }
   ],
   "source": [
    "f = (x**a)*d\n",
    "f = f.subs(a, 0.6237).subs(d,3.2744)\n",
    "f"
   ]
  },
  {
   "cell_type": "code",
   "execution_count": 20,
   "id": "98d3e9dd",
   "metadata": {
    "ExecuteTime": {
     "end_time": "2022-06-28T08:17:07.268574Z",
     "start_time": "2022-06-28T08:17:07.262554Z"
    }
   },
   "outputs": [],
   "source": [
    "import numpy as np"
   ]
  },
  {
   "cell_type": "code",
   "execution_count": 50,
   "id": "b2cfc813",
   "metadata": {
    "ExecuteTime": {
     "end_time": "2022-06-28T08:23:20.967669Z",
     "start_time": "2022-06-28T08:23:20.961669Z"
    }
   },
   "outputs": [],
   "source": [
    "xx = np.linspace(0,12,100)\n",
    "y1 = xx+4"
   ]
  },
  {
   "cell_type": "code",
   "execution_count": 51,
   "id": "3fee3a92",
   "metadata": {
    "ExecuteTime": {
     "end_time": "2022-06-28T08:23:21.362414Z",
     "start_time": "2022-06-28T08:23:21.355401Z"
    }
   },
   "outputs": [
    {
     "data": {
      "text/plain": [
       "array([ 0.        ,  0.87809075,  1.35298136,  1.74228794,  2.08470314,\n",
       "        2.396001  ,  2.6845552 ,  2.95547338,  3.212156  ,  3.45700858,\n",
       "        3.69181053,  3.91792413,  4.13642112,  4.34816357,  4.55385774,\n",
       "        4.75409135,  4.94935992,  5.14008613,  5.3266341 ,  5.50932034,\n",
       "        5.68842206,  5.86418386,  6.03682283,  6.20653281,  6.37348775,\n",
       "        6.53784451,  6.69974512,  6.85931873,  7.01668319,  7.1719464 ,\n",
       "        7.32520748,  7.47655775,  7.62608156,  7.77385701,  7.91995665,\n",
       "        8.06444795,  8.20739383,  8.34885309,  8.48888076,  8.62752843,\n",
       "        8.7648446 ,  8.90087486,  9.0356622 ,  9.16924717,  9.30166808,\n",
       "        9.43296121,  9.56316092,  9.69229977,  9.82040873,  9.94751721,\n",
       "       10.0736532 , 10.19884339, 10.32311319, 10.4464869 , 10.56898769,\n",
       "       10.69063774, 10.81145827, 10.9314696 , 11.05069121, 11.16914177,\n",
       "       11.28683922, 11.40380079, 11.52004301, 11.63558183, 11.75043254,\n",
       "       11.86460993, 11.97812819, 12.09100104, 12.20324169, 12.31486292,\n",
       "       12.42587703, 12.53629595, 12.64613116, 12.75539382, 12.86409467,\n",
       "       12.97224415, 13.07985235, 13.18692904, 13.29348371, 13.39952554,\n",
       "       13.50506345, 13.61010608, 13.71466184, 13.81873887, 13.9223451 ,\n",
       "       14.02548822, 14.12817572, 14.23041488, 14.33221276, 14.43357626,\n",
       "       14.53451208, 14.63502674, 14.73512661, 14.83481788, 14.93410657,\n",
       "       15.03299858, 15.13149964, 15.22961535, 15.32735115, 15.42471239])"
      ]
     },
     "execution_count": 51,
     "metadata": {},
     "output_type": "execute_result"
    }
   ],
   "source": [
    "lambdify(x,f)(xx)"
   ]
  },
  {
   "cell_type": "code",
   "execution_count": 52,
   "id": "42562a26",
   "metadata": {
    "ExecuteTime": {
     "end_time": "2022-06-28T08:23:22.153193Z",
     "start_time": "2022-06-28T08:23:22.144196Z"
    }
   },
   "outputs": [],
   "source": [
    "%matplotlib inline\n",
    "%config InlineBackend.figure_format = 'retina' # 高清图"
   ]
  },
  {
   "cell_type": "code",
   "execution_count": 64,
   "id": "06514f39",
   "metadata": {
    "ExecuteTime": {
     "end_time": "2022-06-28T08:39:52.829952Z",
     "start_time": "2022-06-28T08:39:49.724093Z"
    }
   },
   "outputs": [
    {
     "data": {
      "text/plain": [
       "<Figure size 576x504 with 0 Axes>"
      ]
     },
     "execution_count": 64,
     "metadata": {},
     "output_type": "execute_result"
    },
    {
     "data": {
      "text/plain": [
       "[<matplotlib.lines.Line2D at 0x200871690a0>]"
      ]
     },
     "execution_count": 64,
     "metadata": {},
     "output_type": "execute_result"
    },
    {
     "data": {
      "text/plain": [
       "[<matplotlib.lines.Line2D at 0x20087169a00>]"
      ]
     },
     "execution_count": 64,
     "metadata": {},
     "output_type": "execute_result"
    },
    {
     "data": {
      "text/latex": [
       "$\\displaystyle \\left( 0.0, \\  18.0\\right)$"
      ],
      "text/plain": [
       "(0.0, 18.0)"
      ]
     },
     "execution_count": 64,
     "metadata": {},
     "output_type": "execute_result"
    },
    {
     "data": {
      "text/plain": [
       "Text(0.5, 0, 'S_1')"
      ]
     },
     "execution_count": 64,
     "metadata": {},
     "output_type": "execute_result"
    },
    {
     "data": {
      "text/plain": [
       "Text(0, 0.5, 'S_2')"
      ]
     },
     "execution_count": 64,
     "metadata": {},
     "output_type": "execute_result"
    },
    {
     "data": {
      "text/plain": [
       "<matplotlib.legend.Legend at 0x20087169af0>"
      ]
     },
     "execution_count": 64,
     "metadata": {},
     "output_type": "execute_result"
    },
    {
     "data": {
      "image/png": "[encoded data removed]",
      "text/plain": [
       "<Figure size 576x504 with 1 Axes>"
      ]
     },
     "metadata": {
      "image/png": {
       "height": 418,
       "width": 485
      }
     },
     "output_type": "display_data"
    }
   ],
   "source": [
    "#plt.style.use(['nature','science'])\n",
    "plt.style.use('ggplot')\n",
    "plt.figure(figsize=(8,7))\n",
    "plt.plot(xx,xx+4)\n",
    "plt.plot(xx,lambdify(x,f)(xx))\n",
    "plt.ylim(0,18)\n",
    "plt.xlabel('S_1')\n",
    "plt.ylabel('S_2')\n",
    "plt.legend(['True Execution Region','Extimated Execution Region'], fontsize=12, loc=2)\n",
    "plt.savefig('C:/Users/17800/Desktop/ppttemplate/estimation.pdf', dpi=1200, bbox_inches='tight',format=\"pdf\") "
   ]
  },
  {
   "cell_type": "code",
   "execution_count": null,
   "id": "a841478d",
   "metadata": {},
   "outputs": [],
   "source": [
    "        plt.style.use(['nature','science'])\n",
    "        plt.figure(figsize=(8,7))\n",
    "        plt.plot(self.fpr, self.tpr, lw=2, alpha=.6)\n",
    "        plt.plot([0, 1], [0, 1], lw=2, linestyle=\"--\")\n",
    "        plt.xlim([-0.05, 1])\n",
    "        plt.ylim([-0.005, 1.05])\n",
    "        plt.xlabel(\"False Positive Rate\",fontsize=10)\n",
    "        plt.ylabel(\"True Positive Rate\",fontsize=10)\n",
    "        plt.title(\"ROC curve\",fontsize=12)\n",
    "        plt.legend([\"(AUC {:.4f})\".format(self.auc)], fontsize=8, loc=2)"
   ]
  },
  {
   "cell_type": "code",
   "execution_count": 251,
   "id": "4139c8a6",
   "metadata": {
    "ExecuteTime": {
     "end_time": "2022-05-18T18:41:13.768735Z",
     "start_time": "2022-05-18T18:41:13.762651Z"
    }
   },
   "outputs": [
    {
     "data": {
      "text/latex": [
       "$\\displaystyle \\frac{1}{5}$"
      ],
      "text/plain": [
       "1/5"
      ]
     },
     "execution_count": 251,
     "metadata": {},
     "output_type": "execute_result"
    }
   ],
   "source": [
    "f.subs(x,2)"
   ]
  },
  {
   "cell_type": "code",
   "execution_count": 252,
   "id": "7b178530",
   "metadata": {
    "ExecuteTime": {
     "end_time": "2022-05-18T18:41:15.215397Z",
     "start_time": "2022-05-18T18:41:15.192066Z"
    }
   },
   "outputs": [
    {
     "data": {
      "text/latex": [
       "$\\displaystyle \\frac{2 \\left(\\frac{4 x^{2}}{x^{2} + 1} - 1\\right)}{\\left(x^{2} + 1\\right)^{2}}$"
      ],
      "text/plain": [
       "  ⎛    2     ⎞\n",
       "  ⎜ 4⋅x      ⎟\n",
       "2⋅⎜────── - 1⎟\n",
       "  ⎜ 2        ⎟\n",
       "  ⎝x  + 1    ⎠\n",
       "──────────────\n",
       "          2   \n",
       "  ⎛ 2    ⎞    \n",
       "  ⎝x  + 1⎠    "
      ]
     },
     "execution_count": 252,
     "metadata": {},
     "output_type": "execute_result"
    }
   ],
   "source": [
    "#求导\n",
    "diff(f,x,2) #f''"
   ]
  },
  {
   "cell_type": "code",
   "execution_count": 253,
   "id": "12622c7d",
   "metadata": {
    "ExecuteTime": {
     "end_time": "2022-05-18T18:41:19.394088Z",
     "start_time": "2022-05-18T18:41:19.386380Z"
    }
   },
   "outputs": [
    {
     "name": "stdout",
     "output_type": "stream",
     "text": [
      "1/5\n",
      "0\n"
     ]
    }
   ],
   "source": [
    "#极限\n",
    "print(limit(f,x,2)) #返回一种特殊对象,如何转化为python的基本对象?evalf()\n",
    "print(limit(f,x,oo))"
   ]
  },
  {
   "cell_type": "code",
   "execution_count": 254,
   "id": "fc5c36fc",
   "metadata": {
    "ExecuteTime": {
     "end_time": "2022-05-18T18:41:20.260682Z",
     "start_time": "2022-05-18T18:41:20.249681Z"
    }
   },
   "outputs": [
    {
     "data": {
      "text/latex": [
       "$\\displaystyle 0.2$"
      ],
      "text/plain": [
       "0.2"
      ]
     },
     "execution_count": 254,
     "metadata": {},
     "output_type": "execute_result"
    }
   ],
   "source": [
    "float(limit(f,x,2).evalf())"
   ]
  },
  {
   "cell_type": "code",
   "execution_count": 255,
   "id": "90c2a9a4",
   "metadata": {
    "ExecuteTime": {
     "end_time": "2022-05-18T18:41:21.076202Z",
     "start_time": "2022-05-18T18:41:21.051118Z"
    }
   },
   "outputs": [
    {
     "data": {
      "text/latex": [
       "$\\displaystyle 1 - x^{2} + x^{4} - x^{6} + x^{8} + O\\left(x^{10}\\right)$"
      ],
      "text/plain": [
       "     2    4    6    8    ⎛ 10⎞\n",
       "1 - x  + x  - x  + x  + O⎝x  ⎠"
      ]
     },
     "execution_count": 255,
     "metadata": {},
     "output_type": "execute_result"
    }
   ],
   "source": [
    "#Taylor展开\n",
    "series(f,x,x0=0,n=10)"
   ]
  },
  {
   "cell_type": "code",
   "execution_count": 256,
   "id": "7cdb67cb",
   "metadata": {
    "ExecuteTime": {
     "end_time": "2022-05-18T18:41:21.685532Z",
     "start_time": "2022-05-18T18:41:21.650615Z"
    }
   },
   "outputs": [
    {
     "data": {
      "text/latex": [
       "$\\displaystyle \\operatorname{atan}{\\left(x \\right)}$"
      ],
      "text/plain": [
       "atan(x)"
      ]
     },
     "execution_count": 256,
     "metadata": {},
     "output_type": "execute_result"
    }
   ],
   "source": [
    "#符号积分-不定积分\n",
    "integrate(f,x)"
   ]
  },
  {
   "cell_type": "code",
   "execution_count": 257,
   "id": "666a4738",
   "metadata": {
    "ExecuteTime": {
     "end_time": "2022-05-18T18:41:22.443827Z",
     "start_time": "2022-05-18T18:41:22.386494Z"
    }
   },
   "outputs": [
    {
     "name": "stdout",
     "output_type": "stream",
     "text": [
      "atan(10)\n",
      "pi/2\n"
     ]
    }
   ],
   "source": [
    "#符号积分-定积分\n",
    "print(integrate(f,(x,0,10)))\n",
    "print(integrate(f,(x,0,oo)))"
   ]
  },
  {
   "cell_type": "code",
   "execution_count": 258,
   "id": "da67d499",
   "metadata": {
    "ExecuteTime": {
     "end_time": "2022-05-18T18:41:23.249857Z",
     "start_time": "2022-05-18T18:41:23.221416Z"
    }
   },
   "outputs": [],
   "source": [
    "??integrate"
   ]
  },
  {
   "cell_type": "code",
   "execution_count": 259,
   "id": "efa3a9d2",
   "metadata": {
    "ExecuteTime": {
     "end_time": "2022-05-18T18:41:23.850588Z",
     "start_time": "2022-05-18T18:41:23.827679Z"
    }
   },
   "outputs": [
    {
     "data": {
      "text/latex": [
       "$\\displaystyle \\frac{1}{3}$"
      ],
      "text/plain": [
       "1/3"
      ]
     },
     "execution_count": 259,
     "metadata": {},
     "output_type": "execute_result"
    }
   ],
   "source": [
    "##二重积分\n",
    "integrate(x**2+y**2,(x,0,y),(y,0,1)) #按照顺序积分"
   ]
  },
  {
   "cell_type": "code",
   "execution_count": 261,
   "id": "2ef6ede1",
   "metadata": {
    "ExecuteTime": {
     "end_time": "2022-05-18T18:41:36.377481Z",
     "start_time": "2022-05-18T18:41:36.353353Z"
    }
   },
   "outputs": [
    {
     "data": {
      "text/latex": [
       "$\\displaystyle - \\frac{x}{y}$"
      ],
      "text/plain": [
       "-x \n",
       "───\n",
       " y "
      ]
     },
     "execution_count": 261,
     "metadata": {},
     "output_type": "execute_result"
    }
   ],
   "source": [
    "idiff(x**2+y**2-1,y,x)"
   ]
  },
  {
   "cell_type": "code",
   "execution_count": 262,
   "id": "d743ce5f",
   "metadata": {
    "ExecuteTime": {
     "end_time": "2022-05-18T18:41:57.472640Z",
     "start_time": "2022-05-18T18:41:56.969833Z"
    }
   },
   "outputs": [
    {
     "data": {
      "text/latex": [
       "$\\displaystyle \\pi e^{- 2 \\pi z}$"
      ],
      "text/plain": [
       "   -2⋅π⋅z\n",
       "π⋅ℯ      "
      ]
     },
     "execution_count": 262,
     "metadata": {},
     "output_type": "execute_result"
    }
   ],
   "source": [
    "#傅里叶变换\n",
    "fourier_transform(f, x, z)"
   ]
  },
  {
   "cell_type": "code",
   "execution_count": 263,
   "id": "37467d29",
   "metadata": {
    "ExecuteTime": {
     "end_time": "2022-05-18T18:41:58.998877Z",
     "start_time": "2022-05-18T18:41:58.753869Z"
    }
   },
   "outputs": [
    {
     "data": {
      "text/latex": [
       "$\\displaystyle \\left( \\left(- \\operatorname{Si}{\\left(z \\right)} + \\frac{\\pi}{2}\\right) \\cos{\\left(z \\right)} + \\sin{\\left(z \\right)} \\operatorname{Ci}{\\left(z \\right)}, \\  0, \\  \\text{True}\\right)$"
      ],
      "text/plain": [
       "⎛⎛         π⎞                               ⎞\n",
       "⎜⎜-Si(z) + ─⎟⋅cos(z) + sin(z)⋅Ci(z), 0, True⎟\n",
       "⎝⎝         2⎠                               ⎠"
      ]
     },
     "execution_count": 263,
     "metadata": {},
     "output_type": "execute_result"
    }
   ],
   "source": [
    "#Laplace变换\n",
    "laplace_transform(f,x,z)"
   ]
  },
  {
   "cell_type": "code",
   "execution_count": null,
   "id": "fd058ed8",
   "metadata": {},
   "outputs": [],
   "source": []
  },
  {
   "cell_type": "markdown",
   "id": "68341960",
   "metadata": {},
   "source": [
    "## 复变函数"
   ]
  },
  {
   "cell_type": "code",
   "execution_count": null,
   "id": "a8078d6f",
   "metadata": {},
   "outputs": [],
   "source": []
  },
  {
   "cell_type": "code",
   "execution_count": null,
   "id": "9b255ee7",
   "metadata": {},
   "outputs": [],
   "source": []
  },
  {
   "cell_type": "markdown",
   "id": "4ab4d3fc",
   "metadata": {},
   "source": [
    "### CR方程"
   ]
  },
  {
   "cell_type": "code",
   "execution_count": null,
   "id": "20cb878d",
   "metadata": {},
   "outputs": [],
   "source": []
  },
  {
   "cell_type": "code",
   "execution_count": null,
   "id": "aebc8925",
   "metadata": {},
   "outputs": [],
   "source": []
  },
  {
   "cell_type": "code",
   "execution_count": 293,
   "id": "4a709734",
   "metadata": {
    "ExecuteTime": {
     "end_time": "2022-05-18T18:46:53.485138Z",
     "start_time": "2022-05-18T18:46:53.445214Z"
    }
   },
   "outputs": [
    {
     "data": {
      "text/latex": [
       "$\\displaystyle - i e^{i t}$"
      ],
      "text/plain": [
       "    ⅈ⋅t\n",
       "-ⅈ⋅ℯ   "
      ]
     },
     "execution_count": 293,
     "metadata": {},
     "output_type": "execute_result"
    }
   ],
   "source": [
    "integrate(exp(I*t),t)"
   ]
  },
  {
   "cell_type": "code",
   "execution_count": 294,
   "id": "d6aaaaa4",
   "metadata": {
    "ExecuteTime": {
     "end_time": "2022-05-18T18:47:20.689247Z",
     "start_time": "2022-05-18T18:47:20.645852Z"
    }
   },
   "outputs": [
    {
     "data": {
      "text/latex": [
       "$\\displaystyle e^{Z}$"
      ],
      "text/plain": [
       " Z\n",
       "ℯ "
      ]
     },
     "execution_count": 294,
     "metadata": {},
     "output_type": "execute_result"
    }
   ],
   "source": [
    "integrate(exp(Z),Z)"
   ]
  },
  {
   "cell_type": "code",
   "execution_count": null,
   "id": "4dea7073",
   "metadata": {},
   "outputs": [],
   "source": []
  },
  {
   "cell_type": "code",
   "execution_count": null,
   "id": "1bf5a1b4",
   "metadata": {},
   "outputs": [],
   "source": []
  },
  {
   "cell_type": "code",
   "execution_count": null,
   "id": "e049c61e",
   "metadata": {},
   "outputs": [],
   "source": []
  },
  {
   "cell_type": "code",
   "execution_count": null,
   "id": "9b329017",
   "metadata": {},
   "outputs": [],
   "source": []
  },
  {
   "cell_type": "markdown",
   "id": "ce5afe68",
   "metadata": {},
   "source": [
    "### 路径积分"
   ]
  },
  {
   "cell_type": "code",
   "execution_count": 47,
   "id": "6c3f0da9",
   "metadata": {
    "ExecuteTime": {
     "end_time": "2022-06-06T06:25:22.875394Z",
     "start_time": "2022-06-06T06:25:22.870302Z"
    }
   },
   "outputs": [],
   "source": [
    "z0 = symbols('z0')"
   ]
  },
  {
   "cell_type": "code",
   "execution_count": 108,
   "id": "004e1a07",
   "metadata": {
    "ExecuteTime": {
     "end_time": "2022-06-06T07:57:21.531879Z",
     "start_time": "2022-06-06T07:57:21.505882Z"
    }
   },
   "outputs": [
    {
     "name": "stdout",
     "output_type": "stream",
     "text": [
      "1.0*I\n"
     ]
    },
    {
     "data": {
      "text/latex": [
       "$\\displaystyle 2.0 i \\pi$"
      ],
      "text/plain": [
       "2.0⋅ⅈ⋅π"
      ]
     },
     "execution_count": 108,
     "metadata": {},
     "output_type": "execute_result"
    }
   ],
   "source": [
    "## 回路积分\n",
    "def cintegrate(f,z0=0,r=0.1):\n",
    "    h = (f.subs(z,z0+r*exp(I*t)))*r*I*exp(I*t)\n",
    "    print(h)\n",
    "    return integrate((f.subs(z,z0+r*exp(I*t)))*r*I*exp(I*t),(t,0,2*pi))\n",
    "cintegrate(1/(z),z0=0,r=0.0001)"
   ]
  },
  {
   "cell_type": "code",
   "execution_count": 103,
   "id": "8994eca2",
   "metadata": {
    "ExecuteTime": {
     "end_time": "2022-06-06T07:02:58.624796Z",
     "start_time": "2022-06-06T07:02:58.590204Z"
    }
   },
   "outputs": [
    {
     "data": {
      "text/latex": [
       "$\\displaystyle \\frac{\\pi}{2}$"
      ],
      "text/plain": [
       "π\n",
       "─\n",
       "2"
      ]
     },
     "execution_count": 103,
     "metadata": {},
     "output_type": "execute_result"
    }
   ],
   "source": [
    "integrate(sin(x)/x,(x,0,oo))"
   ]
  },
  {
   "cell_type": "code",
   "execution_count": null,
   "id": "a596139a",
   "metadata": {},
   "outputs": [],
   "source": []
  },
  {
   "cell_type": "markdown",
   "id": "ebd486ba",
   "metadata": {},
   "source": [
    "### 洛朗级数"
   ]
  },
  {
   "cell_type": "markdown",
   "id": "4aebbd88",
   "metadata": {},
   "source": [
    "#### m级零点"
   ]
  },
  {
   "cell_type": "code",
   "execution_count": 43,
   "id": "b8bab3ae",
   "metadata": {
    "ExecuteTime": {
     "end_time": "2022-06-06T06:02:05.876459Z",
     "start_time": "2022-06-06T06:02:05.837655Z"
    }
   },
   "outputs": [
    {
     "data": {
      "text/latex": [
       "$\\displaystyle 8$"
      ],
      "text/plain": [
       "8"
      ]
     },
     "execution_count": 43,
     "metadata": {},
     "output_type": "execute_result"
    }
   ],
   "source": [
    "f = (z - sin(z))*z**5\n",
    "def zerom(f):\n",
    "    i = 1\n",
    "    while i:\n",
    "        if diff(f,z,i).subs(z,0)!=0:\n",
    "            break\n",
    "        else:\n",
    "            i=i+1\n",
    "    return i\n",
    "zerom(f)"
   ]
  },
  {
   "cell_type": "code",
   "execution_count": 27,
   "id": "1b017271",
   "metadata": {
    "ExecuteTime": {
     "end_time": "2022-06-06T05:58:27.277732Z",
     "start_time": "2022-06-06T05:58:27.268263Z"
    }
   },
   "outputs": [
    {
     "data": {
      "text/latex": [
       "$\\displaystyle 0$"
      ],
      "text/plain": [
       "0"
      ]
     },
     "execution_count": 27,
     "metadata": {},
     "output_type": "execute_result"
    }
   ],
   "source": [
    "diff(f,z,1).subs(z,0)"
   ]
  },
  {
   "cell_type": "code",
   "execution_count": 20,
   "id": "1cef4538",
   "metadata": {
    "ExecuteTime": {
     "end_time": "2022-06-06T05:53:43.717914Z",
     "start_time": "2022-06-06T05:53:43.706425Z"
    }
   },
   "outputs": [
    {
     "data": {
      "text/latex": [
       "$\\displaystyle 0$"
      ],
      "text/plain": [
       "0"
      ]
     },
     "execution_count": 20,
     "metadata": {},
     "output_type": "execute_result"
    }
   ],
   "source": [
    "f = z - sin(z)\n",
    "diff(f,z,1).subs(z,0)"
   ]
  },
  {
   "cell_type": "code",
   "execution_count": 10,
   "id": "c92d9b7e",
   "metadata": {
    "ExecuteTime": {
     "end_time": "2022-06-05T11:17:31.323943Z",
     "start_time": "2022-06-05T11:17:31.226480Z"
    }
   },
   "outputs": [
    {
     "data": {
      "text/latex": [
       "$\\displaystyle - \\frac{1}{z - i} + \\frac{1}{z} + \\frac{i}{z^{2}}$"
      ],
      "text/plain": [
       "    1     1   ⅈ \n",
       "- ───── + ─ + ──\n",
       "  z - ⅈ   z    2\n",
       "              z "
      ]
     },
     "execution_count": 10,
     "metadata": {},
     "output_type": "execute_result"
    }
   ],
   "source": [
    "#有理多项式分解\n",
    "q = 1\n",
    "p = z**2*(z-I)\n",
    "apart(q/p,z,full=True).doit()"
   ]
  },
  {
   "cell_type": "code",
   "execution_count": 12,
   "id": "051ad213",
   "metadata": {
    "ExecuteTime": {
     "end_time": "2022-06-05T11:17:38.975509Z",
     "start_time": "2022-06-05T11:17:38.883721Z"
    }
   },
   "outputs": [
    {
     "data": {
      "text/latex": [
       "$\\displaystyle 1 + x + \\frac{x^{2}}{2} + \\frac{x^{3}}{6} + \\frac{x^{4}}{24} + \\frac{x^{5}}{120} + \\frac{x^{6}}{720} + \\frac{x^{7}}{5040} + \\frac{x^{8}}{40320} + \\frac{x^{9}}{362880} + O\\left(x^{10}\\right)$"
      ],
      "text/plain": [
       "         2    3    4     5     6     7       8       9           \n",
       "        x    x    x     x     x     x       x       x       ⎛ 10⎞\n",
       "1 + x + ── + ── + ── + ─── + ─── + ──── + ───── + ────── + O⎝x  ⎠\n",
       "        2    6    24   120   720   5040   40320   362880         "
      ]
     },
     "execution_count": 12,
     "metadata": {},
     "output_type": "execute_result"
    }
   ],
   "source": [
    "series(exp(x),x,x0=0,n=10)"
   ]
  },
  {
   "cell_type": "code",
   "execution_count": 19,
   "id": "7175f44d",
   "metadata": {
    "ExecuteTime": {
     "end_time": "2022-06-05T11:18:19.295885Z",
     "start_time": "2022-06-05T11:18:19.273965Z"
    }
   },
   "outputs": [
    {
     "data": {
      "text/latex": [
       "$\\displaystyle \\frac{\\partial^{m}}{\\partial x^{m}} x^{n}$"
      ],
      "text/plain": [
       "  m    \n",
       " ∂ ⎛ n⎞\n",
       "───⎝x ⎠\n",
       "  m    \n",
       "∂x     "
      ]
     },
     "execution_count": 19,
     "metadata": {},
     "output_type": "execute_result"
    }
   ],
   "source": [
    "diff(x**n,(x,m))"
   ]
  },
  {
   "cell_type": "code",
   "execution_count": 46,
   "id": "96c0a27e",
   "metadata": {
    "ExecuteTime": {
     "end_time": "2022-06-05T09:17:45.318450Z",
     "start_time": "2022-06-05T09:17:45.300452Z"
    }
   },
   "outputs": [
    {
     "ename": "SyntaxError",
     "evalue": "invalid syntax (Temp/ipykernel_23872/1387249117.py, line 1)",
     "output_type": "error",
     "traceback": [
      "\u001b[1;36m  File \u001b[1;32m\"C:\\Users\\17800\\AppData\\Local\\Temp/ipykernel_23872/1387249117.py\"\u001b[1;36m, line \u001b[1;32m1\u001b[0m\n\u001b[1;33m    jupyter notebook --generate-config\u001b[0m\n\u001b[1;37m            ^\u001b[0m\n\u001b[1;31mSyntaxError\u001b[0m\u001b[1;31m:\u001b[0m invalid syntax\n"
     ]
    }
   ],
   "source": []
  },
  {
   "cell_type": "code",
   "execution_count": null,
   "id": "dabd9e85",
   "metadata": {},
   "outputs": [],
   "source": []
  },
  {
   "cell_type": "code",
   "execution_count": null,
   "id": "038b957c",
   "metadata": {},
   "outputs": [],
   "source": []
  },
  {
   "cell_type": "code",
   "execution_count": null,
   "id": "36fbbf4a",
   "metadata": {},
   "outputs": [],
   "source": []
  },
  {
   "cell_type": "code",
   "execution_count": null,
   "id": "5f84e438",
   "metadata": {},
   "outputs": [],
   "source": []
  },
  {
   "cell_type": "code",
   "execution_count": null,
   "id": "7bd7c8ea",
   "metadata": {},
   "outputs": [],
   "source": []
  },
  {
   "cell_type": "code",
   "execution_count": null,
   "id": "e4bcb2c7",
   "metadata": {},
   "outputs": [],
   "source": []
  },
  {
   "cell_type": "code",
   "execution_count": null,
   "id": "48068539",
   "metadata": {},
   "outputs": [],
   "source": []
  },
  {
   "cell_type": "code",
   "execution_count": null,
   "id": "21023d7c",
   "metadata": {},
   "outputs": [],
   "source": []
  },
  {
   "cell_type": "markdown",
   "id": "5bc270f1",
   "metadata": {},
   "source": [
    "## 概率统计"
   ]
  },
  {
   "cell_type": "code",
   "execution_count": 13,
   "id": "b738b578",
   "metadata": {
    "ExecuteTime": {
     "end_time": "2022-05-19T11:02:42.642498Z",
     "start_time": "2022-05-19T11:02:42.626402Z"
    }
   },
   "outputs": [],
   "source": [
    "#定义随机变量\n",
    "X,Y = Die('X',6),Die('Y',6)"
   ]
  },
  {
   "cell_type": "code",
   "execution_count": 14,
   "id": "fde3b5b0",
   "metadata": {
    "ExecuteTime": {
     "end_time": "2022-05-19T11:02:42.883206Z",
     "start_time": "2022-05-19T11:02:42.862539Z"
    },
    "scrolled": true
   },
   "outputs": [
    {
     "name": "stdout",
     "output_type": "stream",
     "text": [
      "1/4\n",
      "1/2\n"
     ]
    }
   ],
   "source": [
    "print(P(X>3)*P(Y>3))\n",
    "print(P(X>3,Y>3))"
   ]
  },
  {
   "cell_type": "markdown",
   "id": "7a18ff39",
   "metadata": {},
   "source": [
    "### 正态变量"
   ]
  },
  {
   "cell_type": "code",
   "execution_count": 266,
   "id": "7a8360c3",
   "metadata": {
    "ExecuteTime": {
     "end_time": "2022-05-18T18:42:11.610764Z",
     "start_time": "2022-05-18T18:42:11.593743Z"
    }
   },
   "outputs": [],
   "source": [
    "Z = Normal('Z',0,1)"
   ]
  },
  {
   "cell_type": "code",
   "execution_count": 267,
   "id": "49ea843e",
   "metadata": {
    "ExecuteTime": {
     "end_time": "2022-05-18T18:42:12.342724Z",
     "start_time": "2022-05-18T18:42:12.178843Z"
    }
   },
   "outputs": [
    {
     "data": {
      "image/png": "[encoded data removed]",
      "text/plain": [
       "<Figure size 432x288 with 1 Axes>"
      ]
     },
     "metadata": {
      "image/png": {
       "height": 286,
       "width": 427
      },
      "needs_background": "light"
     },
     "output_type": "display_data"
    },
    {
     "data": {
      "text/plain": [
       "<sympy.plotting.plot.Plot at 0x1548c68efd0>"
      ]
     },
     "execution_count": 267,
     "metadata": {},
     "output_type": "execute_result"
    }
   ],
   "source": [
    "plot(density(Z)(x), (x, -6, 6))"
   ]
  },
  {
   "cell_type": "code",
   "execution_count": 268,
   "id": "6c5b163f",
   "metadata": {
    "ExecuteTime": {
     "end_time": "2022-05-18T18:42:13.860394Z",
     "start_time": "2022-05-18T18:42:13.630109Z"
    }
   },
   "outputs": [
    {
     "data": {
      "text/latex": [
       "$\\displaystyle 1 - \\frac{\\operatorname{erfc}{\\left(\\frac{\\sqrt{2} x}{2} \\right)}}{2}$"
      ],
      "text/plain": [
       "        ⎛√2⋅x⎞\n",
       "    erfc⎜────⎟\n",
       "        ⎝ 2  ⎠\n",
       "1 - ──────────\n",
       "        2     "
      ]
     },
     "execution_count": 268,
     "metadata": {},
     "output_type": "execute_result"
    }
   ],
   "source": [
    "#累积分布函数\n",
    "P(Z<x) "
   ]
  },
  {
   "cell_type": "code",
   "execution_count": 269,
   "id": "9a6d5ebe",
   "metadata": {
    "ExecuteTime": {
     "end_time": "2022-05-18T18:42:14.075775Z",
     "start_time": "2022-05-18T18:42:14.059723Z"
    }
   },
   "outputs": [
    {
     "data": {
      "text/latex": [
       "$\\displaystyle \\sqrt{2} \\operatorname{erfinv}{\\left(2 x - 1 \\right)}$"
      ],
      "text/plain": [
       "√2⋅erfinv(2⋅x - 1)"
      ]
     },
     "execution_count": 269,
     "metadata": {},
     "output_type": "execute_result"
    }
   ],
   "source": [
    "#分位数函数\n",
    "quantile(Z)(x)"
   ]
  },
  {
   "cell_type": "code",
   "execution_count": 270,
   "id": "b77bbd43",
   "metadata": {
    "ExecuteTime": {
     "end_time": "2022-05-18T18:42:14.638659Z",
     "start_time": "2022-05-18T18:42:14.631661Z"
    }
   },
   "outputs": [
    {
     "data": {
      "text/latex": [
       "$\\displaystyle \\frac{\\sqrt{2} e^{- \\frac{x^{2}}{2}}}{2 \\sqrt{\\pi}}$"
      ],
      "text/plain": [
       "      2 \n",
       "    -x  \n",
       "    ────\n",
       "     2  \n",
       "√2⋅ℯ    \n",
       "────────\n",
       "  2⋅√π  "
      ]
     },
     "execution_count": 270,
     "metadata": {},
     "output_type": "execute_result"
    }
   ],
   "source": [
    "#密度函数\n",
    "#diff(P(Z<x),x)\n",
    "density(Z)(x)"
   ]
  },
  {
   "cell_type": "code",
   "execution_count": 271,
   "id": "c54f2011",
   "metadata": {
    "ExecuteTime": {
     "end_time": "2022-05-18T18:42:19.108397Z",
     "start_time": "2022-05-18T18:42:19.014434Z"
    }
   },
   "outputs": [
    {
     "name": "stdout",
     "output_type": "stream",
     "text": [
      "1\n",
      "1\n"
     ]
    }
   ],
   "source": [
    "#期望方差\n",
    "print(E(Z**2))\n",
    "print(variance(Z))"
   ]
  },
  {
   "cell_type": "markdown",
   "id": "5ad6b4f2",
   "metadata": {},
   "source": [
    "### 对数正态"
   ]
  },
  {
   "cell_type": "code",
   "execution_count": 272,
   "id": "088c80e5",
   "metadata": {
    "ExecuteTime": {
     "end_time": "2022-05-18T18:42:20.856555Z",
     "start_time": "2022-05-18T18:42:20.843556Z"
    }
   },
   "outputs": [],
   "source": [
    "LZ = log(σ*Z+μ)"
   ]
  },
  {
   "cell_type": "code",
   "execution_count": 273,
   "id": "2d1e61f2",
   "metadata": {
    "ExecuteTime": {
     "end_time": "2022-05-18T18:42:21.574058Z",
     "start_time": "2022-05-18T18:42:21.393980Z"
    }
   },
   "outputs": [
    {
     "data": {
      "image/png": "[encoded data removed]",
      "text/plain": [
       "<Figure size 432x288 with 1 Axes>"
      ]
     },
     "metadata": {
      "image/png": {
       "height": 285,
       "width": 427
      },
      "needs_background": "light"
     },
     "output_type": "display_data"
    },
    {
     "data": {
      "text/plain": [
       "<sympy.plotting.plot.Plot at 0x1548f288eb0>"
      ]
     },
     "execution_count": 273,
     "metadata": {},
     "output_type": "execute_result"
    }
   ],
   "source": [
    "plot(density(LZ.subs(μ,0).subs(σ,1))(x), (x, -6, 6))"
   ]
  },
  {
   "cell_type": "markdown",
   "id": "06b89ab1",
   "metadata": {},
   "source": [
    "### Gamma Distribution"
   ]
  },
  {
   "cell_type": "code",
   "execution_count": 274,
   "id": "b3d099cc",
   "metadata": {
    "ExecuteTime": {
     "end_time": "2022-05-18T18:42:23.243807Z",
     "start_time": "2022-05-18T18:42:23.235764Z"
    }
   },
   "outputs": [],
   "source": [
    "X = Gamma('X',m,n)"
   ]
  },
  {
   "cell_type": "code",
   "execution_count": 275,
   "id": "d8169218",
   "metadata": {
    "ExecuteTime": {
     "end_time": "2022-05-18T18:42:23.383336Z",
     "start_time": "2022-05-18T18:42:23.258422Z"
    }
   },
   "outputs": [
    {
     "data": {
      "image/png": "[encoded data removed]",
      "text/plain": [
       "<Figure size 432x288 with 1 Axes>"
      ]
     },
     "metadata": {
      "image/png": {
       "height": 286,
       "width": 424
      },
      "needs_background": "light"
     },
     "output_type": "display_data"
    },
    {
     "data": {
      "text/plain": [
       "<sympy.plotting.plot.Plot at 0x1548f50cd00>"
      ]
     },
     "execution_count": 275,
     "metadata": {},
     "output_type": "execute_result"
    }
   ],
   "source": [
    "plot(density(X.subs(m,1).subs(n,1))(x),(x,0,6))"
   ]
  },
  {
   "cell_type": "code",
   "execution_count": 276,
   "id": "cd67fad0",
   "metadata": {
    "ExecuteTime": {
     "end_time": "2022-05-18T18:42:24.002522Z",
     "start_time": "2022-05-18T18:42:23.897383Z"
    }
   },
   "outputs": [
    {
     "name": "stdout",
     "output_type": "stream",
     "text": [
      "m*n\n",
      "m*n**2\n"
     ]
    }
   ],
   "source": [
    "#期望方差\n",
    "print(E(X))\n",
    "print(variance(X))"
   ]
  },
  {
   "cell_type": "markdown",
   "id": "6c5cc65b",
   "metadata": {},
   "source": [
    "### 均匀变量"
   ]
  },
  {
   "cell_type": "code",
   "execution_count": 277,
   "id": "bf2c8c53",
   "metadata": {
    "ExecuteTime": {
     "end_time": "2022-05-18T18:42:24.108511Z",
     "start_time": "2022-05-18T18:42:24.094390Z"
    }
   },
   "outputs": [],
   "source": [
    "U = Uniform('U',0,1)"
   ]
  },
  {
   "cell_type": "code",
   "execution_count": null,
   "id": "1d3f4648",
   "metadata": {
    "ExecuteTime": {
     "end_time": "2022-05-18T15:39:39.562415Z",
     "start_time": "2022-05-18T15:39:39.511524Z"
    }
   },
   "outputs": [],
   "source": []
  },
  {
   "cell_type": "code",
   "execution_count": null,
   "id": "51f7c6a1",
   "metadata": {
    "ExecuteTime": {
     "end_time": "2022-05-18T15:39:23.405869Z",
     "start_time": "2022-05-18T15:39:23.399869Z"
    }
   },
   "outputs": [],
   "source": []
  },
  {
   "cell_type": "markdown",
   "id": "8eb61676",
   "metadata": {},
   "source": [
    "## 随机过程"
   ]
  },
  {
   "cell_type": "code",
   "execution_count": 7,
   "id": "7d8c0c41",
   "metadata": {
    "ExecuteTime": {
     "end_time": "2022-05-19T11:01:56.281405Z",
     "start_time": "2022-05-19T11:01:56.273068Z"
    }
   },
   "outputs": [],
   "source": [
    "B = WienerProcess('B')"
   ]
  },
  {
   "cell_type": "code",
   "execution_count": 21,
   "id": "86cae4c8",
   "metadata": {
    "ExecuteTime": {
     "end_time": "2022-05-19T11:06:36.213692Z",
     "start_time": "2022-05-19T11:06:36.201082Z"
    }
   },
   "outputs": [
    {
     "data": {
      "text/latex": [
       "$\\displaystyle \\mathbb{R}$"
      ],
      "text/plain": [
       "ℝ"
      ]
     },
     "execution_count": 21,
     "metadata": {},
     "output_type": "execute_result"
    }
   ],
   "source": [
    "B.state_space"
   ]
  },
  {
   "cell_type": "code",
   "execution_count": 18,
   "id": "3077d53d",
   "metadata": {
    "ExecuteTime": {
     "end_time": "2022-05-19T11:03:53.957721Z",
     "start_time": "2022-05-19T11:03:53.943625Z"
    }
   },
   "outputs": [],
   "source": [
    "t1,t2 = symbols('t1 t2',positive=True,real=True)"
   ]
  },
  {
   "cell_type": "code",
   "execution_count": 19,
   "id": "73bfd758",
   "metadata": {
    "ExecuteTime": {
     "end_time": "2022-05-19T11:03:54.470967Z",
     "start_time": "2022-05-19T11:03:54.331952Z"
    }
   },
   "outputs": [
    {
     "data": {
      "text/latex": [
       "$\\displaystyle \\frac{\\sqrt{2} e^{- \\frac{x^{2}}{2 t_{1}}}}{2 \\sqrt{\\pi} \\sqrt{t_{1}}}$"
      ],
      "text/plain": [
       "        2  \n",
       "      -x   \n",
       "      ──── \n",
       "      2⋅t₁ \n",
       "  √2⋅ℯ     \n",
       "───────────\n",
       "       ____\n",
       "2⋅√π⋅╲╱ t₁ "
      ]
     },
     "execution_count": 19,
     "metadata": {},
     "output_type": "execute_result"
    }
   ],
   "source": [
    "#密度函数\n",
    "diff(P(B(t1)<x),x)"
   ]
  },
  {
   "cell_type": "code",
   "execution_count": 73,
   "id": "e03eb19e",
   "metadata": {
    "ExecuteTime": {
     "end_time": "2022-05-20T13:57:20.501151Z",
     "start_time": "2022-05-20T13:57:20.364994Z"
    }
   },
   "outputs": [
    {
     "data": {
      "text/latex": [
       "$\\displaystyle - \\frac{\\operatorname{erf}{\\left(1 \\right)}}{2} + \\frac{\\operatorname{erf}{\\left(2 \\right)}}{2} + 1$"
      ],
      "text/plain": [
       "  erf(1)   erf(2)    \n",
       "- ────── + ────── + 1\n",
       "    2        2       "
      ]
     },
     "execution_count": 73,
     "metadata": {},
     "output_type": "execute_result"
    }
   ],
   "source": [
    "P((B(t1) > 2) | (B(t1) < 4), Contains(t1, Interval(2, 4))).simplify()"
   ]
  },
  {
   "cell_type": "code",
   "execution_count": 283,
   "id": "4446af47",
   "metadata": {
    "ExecuteTime": {
     "end_time": "2022-05-18T18:42:39.718369Z",
     "start_time": "2022-05-18T18:42:39.701178Z"
    }
   },
   "outputs": [
    {
     "data": {
      "text/latex": [
       "$\\displaystyle t_{1} \\in \\left[2, 4\\right)$"
      ],
      "text/plain": [
       "t₁ ∈ [2, 4)"
      ]
     },
     "execution_count": 283,
     "metadata": {},
     "output_type": "execute_result"
    }
   ],
   "source": [
    "Contains(t1, Interval.Ropen(2, 4))"
   ]
  },
  {
   "cell_type": "code",
   "execution_count": 284,
   "id": "ff63c0da",
   "metadata": {
    "ExecuteTime": {
     "end_time": "2022-05-18T18:42:41.071028Z",
     "start_time": "2022-05-18T18:42:41.030238Z"
    }
   },
   "outputs": [],
   "source": [
    "??symbols"
   ]
  },
  {
   "cell_type": "code",
   "execution_count": 285,
   "id": "0d1e922c",
   "metadata": {
    "ExecuteTime": {
     "end_time": "2022-05-18T18:42:41.639274Z",
     "start_time": "2022-05-18T18:42:41.624966Z"
    }
   },
   "outputs": [],
   "source": [
    "n = symbols('n',integer=True)\n",
    "f = symbols('f',cls=Function)"
   ]
  },
  {
   "cell_type": "code",
   "execution_count": 286,
   "id": "d1ae40eb",
   "metadata": {
    "ExecuteTime": {
     "end_time": "2022-05-18T18:42:46.128981Z",
     "start_time": "2022-05-18T18:42:46.111106Z"
    }
   },
   "outputs": [],
   "source": [
    "f = lambda n :diff(1/x,x,n)"
   ]
  },
  {
   "cell_type": "code",
   "execution_count": 1,
   "id": "d350ab1e",
   "metadata": {
    "ExecuteTime": {
     "end_time": "2022-08-28T14:43:51.509991Z",
     "start_time": "2022-08-28T14:43:51.504044Z"
    }
   },
   "outputs": [],
   "source": [
    "import latex2sympy"
   ]
  },
  {
   "cell_type": "code",
   "execution_count": 2,
   "id": "2f38c083",
   "metadata": {
    "ExecuteTime": {
     "end_time": "2022-08-28T14:45:29.106160Z",
     "start_time": "2022-08-28T14:45:28.770060Z"
    }
   },
   "outputs": [
    {
     "ename": "ModuleNotFoundError",
     "evalue": "No module named 'process_latex'",
     "output_type": "error",
     "traceback": [
      "\u001b[0;31m---------------------------------------------------------------------------\u001b[0m",
      "\u001b[0;31mModuleNotFoundError\u001b[0m                       Traceback (most recent call last)",
      "Input \u001b[0;32mIn [2]\u001b[0m, in \u001b[0;36m<cell line: 1>\u001b[0;34m()\u001b[0m\n\u001b[0;32m----> 1\u001b[0m \u001b[38;5;28;01mfrom\u001b[39;00m \u001b[38;5;21;01mprocess_latex\u001b[39;00m \u001b[38;5;28;01mimport\u001b[39;00m process_sympy\n",
      "\u001b[0;31mModuleNotFoundError\u001b[0m: No module named 'process_latex'"
     ]
    }
   ],
   "source": [
    "from process_latex import process_sympy"
   ]
  }
 ],
 "metadata": {
  "kernelspec": {
   "display_name": "Python 3 (ipykernel)",
   "language": "python",
   "name": "python3"
  },
  "language_info": {
   "codemirror_mode": {
    "name": "ipython",
    "version": 3
   },
   "file_extension": ".py",
   "mimetype": "text/x-python",
   "name": "python",
   "nbconvert_exporter": "python",
   "pygments_lexer": "ipython3",
   "version": "3.9.12"
  },
  "latex_envs": {
   "LaTeX_envs_menu_present": true,
   "autoclose": false,
   "autocomplete": true,
   "bibliofile": "biblio.bib",
   "cite_by": "apalike",
   "current_citInitial": 1,
   "eqLabelWithNumbers": true,
   "eqNumInitial": 1,
   "hotkeys": {
    "equation": "Ctrl-E",
    "itemize": "Ctrl-I"
   },
   "labels_anchors": false,
   "latex_user_defs": false,
   "report_style_numbering": false,
   "user_envs_cfg": false
  },
  "nbTranslate": {
   "displayLangs": [
    "*"
   ],
   "hotkey": "alt-t",
   "langInMainMenu": true,
   "sourceLang": "en",
   "targetLang": "fr",
   "useGoogleTranslate": true
  },
  "toc": {
   "base_numbering": 1,
   "nav_menu": {},
   "number_sections": true,
   "sideBar": true,
   "skip_h1_title": false,
   "title_cell": "Table of Contents",
   "title_sidebar": "Contents",
   "toc_cell": false,
   "toc_position": {
    "height": "calc(100% - 180px)",
    "left": "10px",
    "top": "150px",
    "width": "256px"
   },
   "toc_section_display": true,
   "toc_window_display": true
  },
  "varInspector": {
   "cols": {
    "lenName": 16,
    "lenType": 16,
    "lenVar": 40
   },
   "kernels_config": {
    "python": {
     "delete_cmd_postfix": "",
     "delete_cmd_prefix": "del ",
     "library": "var_list.py",
     "varRefreshCmd": "print(var_dic_list())"
    },
    "r": {
     "delete_cmd_postfix": ") ",
     "delete_cmd_prefix": "rm(",
     "library": "var_list.r",
     "varRefreshCmd": "cat(var_dic_list()) "
    }
   },
   "types_to_exclude": [
    "module",
    "function",
    "builtin_function_or_method",
    "instance",
    "_Feature"
   ],
   "window_display": false
  }
 },
 "nbformat": 4,
 "nbformat_minor": 5
}
