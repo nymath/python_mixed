{
 "cells": [
  {
   "cell_type": "code",
   "execution_count": 1,
   "id": "6352f4b9",
   "metadata": {
    "ExecuteTime": {
     "end_time": "2022-09-07T13:27:45.357601Z",
     "start_time": "2022-09-07T13:27:42.004603Z"
    }
   },
   "outputs": [],
   "source": [
    "import sympy\n",
    "import numpy as np\n",
    "import pandas as pd\n",
    "from sympy import *\n",
    "from sympy.stats import *\n",
    "from scipy.integrate import odeint "
   ]
  },
  {
   "cell_type": "code",
   "execution_count": 3,
   "id": "cabff276",
   "metadata": {
    "ExecuteTime": {
     "end_time": "2022-09-07T13:27:51.668603Z",
     "start_time": "2022-09-07T13:27:51.658069Z"
    }
   },
   "outputs": [],
   "source": [
    "from IPython.core.interactiveshell import InteractiveShell\n",
    "InteractiveShell.ast_node_interactivity = \"all\"\n",
    "from IPython.display import display"
   ]
  },
  {
   "cell_type": "code",
   "execution_count": 4,
   "id": "45c8a924",
   "metadata": {
    "ExecuteTime": {
     "end_time": "2022-09-07T13:27:53.984370Z",
     "start_time": "2022-09-07T13:27:53.964439Z"
    }
   },
   "outputs": [],
   "source": [
    "init_printing( use_latex='mathjax' )"
   ]
  },
  {
   "cell_type": "code",
   "execution_count": null,
   "id": "4443bb02",
   "metadata": {},
   "outputs": [],
   "source": []
  },
  {
   "cell_type": "code",
   "execution_count": null,
   "id": "666d6203",
   "metadata": {},
   "outputs": [],
   "source": []
  },
  {
   "cell_type": "code",
   "execution_count": null,
   "id": "4cc563c3",
   "metadata": {},
   "outputs": [],
   "source": []
  },
  {
   "cell_type": "code",
   "execution_count": null,
   "id": "3695d5ca",
   "metadata": {},
   "outputs": [],
   "source": []
  },
  {
   "cell_type": "markdown",
   "id": "c3e3debc",
   "metadata": {},
   "source": [
    "## 环境配置"
   ]
  },
  {
   "cell_type": "markdown",
   "id": "0f3007c7",
   "metadata": {},
   "source": [
    "### 函数定义"
   ]
  },
  {
   "cell_type": "code",
   "execution_count": 10,
   "id": "729f1eb9",
   "metadata": {
    "ExecuteTime": {
     "end_time": "2022-09-07T13:28:32.289209Z",
     "start_time": "2022-09-07T13:28:32.269913Z"
    },
    "code_folding": []
   },
   "outputs": [],
   "source": [
    "##定义函数\n",
    "#计算R_0,R_1,R_2\n",
    "def Rfunc(n,λl):\n",
    "    if n==0:\n",
    "        return eye(A.cols)\n",
    "    else:\n",
    "        return (A-λl[n-1]*eye(A.cols))*Rfunc(n-1,λl)\n",
    "    \n",
    "#计算r(t)\n",
    "def rfunc(n,λl):\n",
    "    if n==1:\n",
    "        return exp(λl[n-1]*t)\n",
    "    else:\n",
    "        return exp(λl[n-1]*t)*integrate(exp(-λl[n-1]*t)*rfunc(n-1,λl),(t,0,t))\n",
    "# 计算exp(A*t)    \n",
    "def Putzer(A):\n",
    "    λl = []\n",
    "    n = A.cols\n",
    "    for valst in A.eigenvects():\n",
    "        for i in range(valst[1]):\n",
    "            λl.append(valst[0])\n",
    "    λl.sort(key = lambda x:re(x))\n",
    "    suma = zeros(n,n)\n",
    "    for i in range(1,n+1):\n",
    "        suma += rfunc(i,λl)*Rfunc(i-1,λl)\n",
    "    return display(A.eigenvects()),display(λl),display([simplify(Rfunc(i,λl)) for i in range(n)]),display([expand(rfunc(i,λl),complex=True).simplify() for i in range(1,n+1)]),display(simplify(suma).expand(complex=True).simplify())"
   ]
  },
  {
   "cell_type": "code",
   "execution_count": 11,
   "id": "11dd050a",
   "metadata": {
    "ExecuteTime": {
     "end_time": "2022-09-07T13:28:32.962331Z",
     "start_time": "2022-09-07T13:28:32.944672Z"
    },
    "code_folding": []
   },
   "outputs": [],
   "source": [
    "# 二阶线性非齐次常系数微分系统\n",
    "def SONHLS(p,q,f,t0):\n",
    "    sol = solve(x**2+p*x+q)\n",
    "    if p**2-4*q > 0:\n",
    "        phi1 = exp(sol[0]*t)\n",
    "        phi2 = exp(sol[1]*t)\n",
    "    elif p**2-4*q == 0:\n",
    "        phi1 = exp(sol[0]*t)\n",
    "        phi2 = t*exp(sol[0]*t)\n",
    "    else:\n",
    "        phi1 = exp(re(sol[0])*t)*cos(abs(im(sol[0]))*t)\n",
    "        phi2 = exp(re(sol[0]*t))*sin(abs(im(sol[0]))*t)\n",
    "    X = Matrix([[phi1,phi2],[diff(phi1),diff(phi2)]])\n",
    "    dv1 = simplify((X**(-1)*Matrix([[0],[f]]))[0])\n",
    "    dv2 = simplify((X**(-1)*Matrix([[0],[f]]))[1])\n",
    "    v1 = integrate(dv1,(t,t0,t))\n",
    "    v2 = integrate(dv2,(t,t0,t))\n",
    "    return display([phi1,phi2]),display([dv1,dv2]),display([v1,v2])"
   ]
  },
  {
   "cell_type": "code",
   "execution_count": 12,
   "id": "b44ff514",
   "metadata": {
    "ExecuteTime": {
     "end_time": "2022-09-07T13:28:33.608725Z",
     "start_time": "2022-09-07T13:28:33.586645Z"
    },
    "code_folding": []
   },
   "outputs": [],
   "source": [
    "# 幂级数法求变系数微分方程\n",
    "def AnalyticPower(a_1,a_0,b,nmax,need):\n",
    "    c0 = symbols('c0')\n",
    "    clst = symbols('c_0:{}'.format(nmax))\n",
    "    x0tlst = []\n",
    "    for k in range(0,nneed):\n",
    "        x0tlst.append(clst[k]*t**k) \n",
    "    x1tlst = [diff(x0tlst[i],(t,1)) for i in range(1,nneed)]\n",
    "    x2tlst = [diff(x0tlst[i],(t,2)) for i in range(2,nneed)]\n",
    "    a0lst = []\n",
    "    for k in range(0,nneed-2):\n",
    "        a0lst.append(diff(a_0,(t,k)).subs(t,0)*t**k/factorial(k)) \n",
    "    a1lst = []\n",
    "    for k in range(0,nneed-2):\n",
    "        a1lst.append(diff(a_1,(t,k)).subs(t,0)*t**k/factorial(k)) \n",
    "    blst = []\n",
    "    for k in range(0,nneed-2):\n",
    "        blst.append(diff(b,(t,k)).subs(t,0)*t**k/factorial(k)) \n",
    "    sl1 = []\n",
    "    for n in range(0,nneed-2):\n",
    "        lin = 0\n",
    "        for k in range(0,n+1):\n",
    "            lin += a1lst[k]*x1tlst[n-k]\n",
    "        sl1.append(lin)\n",
    "    sl0 = []\n",
    "    for n in range(0,nneed-2):\n",
    "        lin = 0\n",
    "        for k in range(0,n+1):\n",
    "            lin += simplify(a0lst[k]*x0tlst[n-k])\n",
    "        sl0.append(lin)\n",
    "    tlst = []\n",
    "    for n in range(0,8):\n",
    "        tlst.append(simplify(x2tlst[n]+sl1[n]+sl0[n]-blst[n])/t**n)\n",
    "    return display(tlst[0]),display(tlst[1]),display(tlst[2]),display(tlst[3]),display(tlst[4]),display(tlst[5]),display(tlst[6])"
   ]
  },
  {
   "cell_type": "code",
   "execution_count": 13,
   "id": "1790a28d",
   "metadata": {
    "ExecuteTime": {
     "end_time": "2022-09-07T13:28:34.117275Z",
     "start_time": "2022-09-07T13:28:34.103691Z"
    },
    "code_folding": [
     0
    ]
   },
   "outputs": [],
   "source": [
    "# Hurwitz矩阵\n",
    "def Hurwitz(A):\n",
    "    P = det(A-λ*eye(A.cols))\n",
    "    n = A.cols\n",
    "    alst = Poly(P).coeffs()\n",
    "    if alst[0] < 0:\n",
    "        alst = [-val for val in alst]\n",
    "    H = eye(n)\n",
    "    for i in range(n):\n",
    "        for j in range(n):\n",
    "            if i >= 2*j-n+1 and i <= 2*j+1:\n",
    "                H[i,j] = alst[2*j-i+1]\n",
    "            else:\n",
    "                H[i,j] = 0\n",
    "    blst = list(map(lambda x:re(x).evalf(),solve(det(A-λ*eye(A.cols)))))\n",
    "    return display(alst),display(H),display(blst)"
   ]
  },
  {
   "cell_type": "markdown",
   "id": "a09b0203",
   "metadata": {},
   "source": [
    "### 变量定义"
   ]
  },
  {
   "cell_type": "code",
   "execution_count": 14,
   "id": "76c2cd7a",
   "metadata": {
    "ExecuteTime": {
     "end_time": "2022-09-07T13:28:35.234854Z",
     "start_time": "2022-09-07T13:28:35.225666Z"
    }
   },
   "outputs": [],
   "source": [
    "x,y,z,m,n,a,λ,u,v,a,b,c,d,t,i,k = symbols('x y z m n a λ u v a b c d t i k')\n",
    "t = symbols('t', real=True)\n",
    "λ1,λ2,λ3 = symbols('λ1 λ2 λ3') "
   ]
  },
  {
   "cell_type": "markdown",
   "id": "10fcbe21",
   "metadata": {},
   "source": [
    "## 求基解矩阵"
   ]
  },
  {
   "cell_type": "markdown",
   "id": "894570f9",
   "metadata": {},
   "source": [
    "Putzer法求Exp(At)"
   ]
  },
  {
   "cell_type": "markdown",
   "id": "2f0d791c",
   "metadata": {},
   "source": [
    "$$\n",
    "r_1(t) = e^{\\lambda_1 t}, \\ R_0 = I_n \\\\\n",
    "r_j(t) = e^{\\lambda_j t}\\int_0^t e^{-\\lambda_j s}r_{j-1}(s) ds, \\ R_{j-1} = \\prod_{k=1}^{j-1}(A-\\lambda_k I_n)\n",
    "$$"
   ]
  },
  {
   "cell_type": "markdown",
   "id": "4f5a63bb",
   "metadata": {},
   "source": [
    "$$\n",
    "e^{At} = \\sum_{j=1}^{n} r_j(t)R_{j-1}\n",
    "$$"
   ]
  },
  {
   "cell_type": "code",
   "execution_count": 17,
   "id": "49677bc0",
   "metadata": {
    "ExecuteTime": {
     "end_time": "2022-09-07T13:28:52.288925Z",
     "start_time": "2022-09-07T13:28:52.122909Z"
    },
    "scrolled": true
   },
   "outputs": [
    {
     "data": {
      "text/latex": [
       "$\\displaystyle \\left[ \\left( 1, \\  1, \\  \\left[ \\left[\\begin{matrix}-1\\\\1\\end{matrix}\\right]\\right]\\right), \\  \\left( 2, \\  1, \\  \\left[ \\left[\\begin{matrix}- \\frac{2}{3}\\\\1\\end{matrix}\\right]\\right]\\right)\\right]$"
      ],
      "text/plain": [
       "⎡⎛      ⎡⎡-1⎤⎤⎞  ⎛      ⎡⎡-2/3⎤⎤⎞⎤\n",
       "⎢⎜1, 1, ⎢⎢  ⎥⎥⎟, ⎜2, 1, ⎢⎢    ⎥⎥⎟⎥\n",
       "⎣⎝      ⎣⎣1 ⎦⎦⎠  ⎝      ⎣⎣ 1  ⎦⎦⎠⎦"
      ]
     },
     "metadata": {},
     "output_type": "display_data"
    },
    {
     "data": {
      "text/latex": [
       "$\\displaystyle \\left[ 1, \\  2\\right]$"
      ],
      "text/plain": [
       "[1, 2]"
      ]
     },
     "metadata": {},
     "output_type": "display_data"
    },
    {
     "data": {
      "text/latex": [
       "$\\displaystyle \\left[ \\left[\\begin{matrix}1 & 0\\\\0 & 1\\end{matrix}\\right], \\  \\left[\\begin{matrix}-2 & -2\\\\3 & 3\\end{matrix}\\right]\\right]$"
      ],
      "text/plain": [
       "⎡⎡1  0⎤  ⎡-2  -2⎤⎤\n",
       "⎢⎢    ⎥, ⎢      ⎥⎥\n",
       "⎣⎣0  1⎦  ⎣3   3 ⎦⎦"
      ]
     },
     "metadata": {},
     "output_type": "display_data"
    },
    {
     "data": {
      "text/latex": [
       "$\\displaystyle \\left[ e^{t}, \\  \\left(e^{t} - 1\\right) e^{t}\\right]$"
      ],
      "text/plain": [
       "⎡ t  ⎛ t    ⎞  t⎤\n",
       "⎣ℯ , ⎝ℯ  - 1⎠⋅ℯ ⎦"
      ]
     },
     "metadata": {},
     "output_type": "display_data"
    },
    {
     "data": {
      "text/latex": [
       "$\\displaystyle \\left[\\begin{matrix}\\left(3 - 2 e^{t}\\right) e^{t} & 2 \\cdot \\left(1 - e^{t}\\right) e^{t}\\\\3 \\left(e^{t} - 1\\right) e^{t} & \\left(3 e^{t} - 2\\right) e^{t}\\end{matrix}\\right]$"
      ],
      "text/plain": [
       "⎡⎛       t⎞  t    ⎛     t⎞  t⎤\n",
       "⎢⎝3 - 2⋅ℯ ⎠⋅ℯ   2⋅⎝1 - ℯ ⎠⋅ℯ ⎥\n",
       "⎢                            ⎥\n",
       "⎢  ⎛ t    ⎞  t  ⎛   t    ⎞  t⎥\n",
       "⎣3⋅⎝ℯ  - 1⎠⋅ℯ   ⎝3⋅ℯ  - 2⎠⋅ℯ ⎦"
      ]
     },
     "metadata": {},
     "output_type": "display_data"
    },
    {
     "data": {
      "text/plain": [
       "(None, None, None, None, None)"
      ]
     },
     "execution_count": 17,
     "metadata": {},
     "output_type": "execute_result"
    },
    {
     "data": {
      "text/latex": [
       "$\\displaystyle \\left[\\begin{matrix}- 2 e^{2 t} + 3 e^{t} & - 2 e^{2 t} + 2 e^{t}\\\\3 e^{2 t} - 3 e^{t} & 3 e^{2 t} - 2 e^{t}\\end{matrix}\\right]$"
      ],
      "text/plain": [
       "⎡     2⋅t      t       2⋅t      t⎤\n",
       "⎢- 2⋅ℯ    + 3⋅ℯ   - 2⋅ℯ    + 2⋅ℯ ⎥\n",
       "⎢                                ⎥\n",
       "⎢    2⋅t      t       2⋅t      t ⎥\n",
       "⎣ 3⋅ℯ    - 3⋅ℯ     3⋅ℯ    - 2⋅ℯ  ⎦"
      ]
     },
     "execution_count": 17,
     "metadata": {},
     "output_type": "execute_result"
    }
   ],
   "source": [
    "# 运行这块\n",
    "A = Matrix([[-1,-2],[3,4]])\n",
    "Putzer(A) \n",
    "exp(A*t)"
   ]
  },
  {
   "cell_type": "code",
   "execution_count": 18,
   "id": "17f4ecf9",
   "metadata": {
    "ExecuteTime": {
     "end_time": "2022-09-07T13:28:53.067680Z",
     "start_time": "2022-09-07T13:28:53.033520Z"
    }
   },
   "outputs": [
    {
     "data": {
      "text/latex": [
       "$\\displaystyle \\left[\\begin{matrix}3 & -1 & 1\\\\2 & 0 & 1\\\\1 & -1 & 2\\end{matrix}\\right]$"
      ],
      "text/plain": [
       "⎡3  -1  1⎤\n",
       "⎢        ⎥\n",
       "⎢2  0   1⎥\n",
       "⎢        ⎥\n",
       "⎣1  -1  2⎦"
      ]
     },
     "execution_count": 18,
     "metadata": {},
     "output_type": "execute_result"
    },
    {
     "data": {
      "text/latex": [
       "$\\displaystyle - \\left(λ - 2\\right)^{2} \\left(λ - 1\\right)$"
      ],
      "text/plain": [
       "        2        \n",
       "-(λ - 2) ⋅(λ - 1)"
      ]
     },
     "execution_count": 18,
     "metadata": {},
     "output_type": "execute_result"
    },
    {
     "data": {
      "text/latex": [
       "$\\displaystyle \\left[ 1, \\  2, \\  2\\right]$"
      ],
      "text/plain": [
       "[1, 2, 2]"
      ]
     },
     "execution_count": 18,
     "metadata": {},
     "output_type": "execute_result"
    }
   ],
   "source": [
    "#输入系数矩阵\n",
    "A = Matrix([[3,-1,1],[2,0,1],[1,-1,2]])\n",
    "A\n",
    "#step1 特征多项式\n",
    "(A-λ*eye(A.cols)).det().factor()\n",
    "λl = []\n",
    "for valst in A.eigenvects():\n",
    "    for i in range(valst[1]):\n",
    "        λl.append(valst[0])\n",
    "λl"
   ]
  },
  {
   "cell_type": "code",
   "execution_count": 19,
   "id": "b1f51414",
   "metadata": {
    "ExecuteTime": {
     "end_time": "2022-09-07T13:28:55.653437Z",
     "start_time": "2022-09-07T13:28:55.630635Z"
    }
   },
   "outputs": [
    {
     "data": {
      "text/latex": [
       "$\\displaystyle \\left[\\begin{matrix}1 & 0 & 0\\\\0 & 1 & 0\\\\0 & 0 & 1\\end{matrix}\\right]$"
      ],
      "text/plain": [
       "⎡1  0  0⎤\n",
       "⎢       ⎥\n",
       "⎢0  1  0⎥\n",
       "⎢       ⎥\n",
       "⎣0  0  1⎦"
      ]
     },
     "execution_count": 19,
     "metadata": {},
     "output_type": "execute_result"
    },
    {
     "data": {
      "text/latex": [
       "$\\displaystyle \\left[\\begin{matrix}2 & -1 & 1\\\\2 & -1 & 1\\\\1 & -1 & 1\\end{matrix}\\right]$"
      ],
      "text/plain": [
       "⎡2  -1  1⎤\n",
       "⎢        ⎥\n",
       "⎢2  -1  1⎥\n",
       "⎢        ⎥\n",
       "⎣1  -1  1⎦"
      ]
     },
     "execution_count": 19,
     "metadata": {},
     "output_type": "execute_result"
    },
    {
     "data": {
      "text/latex": [
       "$\\displaystyle \\left[\\begin{matrix}1 & -1 & 1\\\\1 & -1 & 1\\\\0 & 0 & 0\\end{matrix}\\right]$"
      ],
      "text/plain": [
       "⎡1  -1  1⎤\n",
       "⎢        ⎥\n",
       "⎢1  -1  1⎥\n",
       "⎢        ⎥\n",
       "⎣0  0   0⎦"
      ]
     },
     "execution_count": 19,
     "metadata": {},
     "output_type": "execute_result"
    }
   ],
   "source": [
    "for i in range(0,3):\n",
    "    simplify(Rfunc(i,λl))"
   ]
  },
  {
   "cell_type": "code",
   "execution_count": 14,
   "id": "6c88deeb",
   "metadata": {
    "ExecuteTime": {
     "end_time": "2022-07-28T06:04:52.766884Z",
     "start_time": "2022-07-28T06:04:52.670957Z"
    }
   },
   "outputs": [
    {
     "data": {
      "text/latex": [
       "$\\displaystyle e^{t}$"
      ],
      "text/plain": [
       " t\n",
       "ℯ "
      ]
     },
     "execution_count": 14,
     "metadata": {},
     "output_type": "execute_result"
    },
    {
     "data": {
      "text/latex": [
       "$\\displaystyle \\left(e^{t} - 1\\right) e^{t}$"
      ],
      "text/plain": [
       "⎛ t    ⎞  t\n",
       "⎝ℯ  - 1⎠⋅ℯ "
      ]
     },
     "execution_count": 14,
     "metadata": {},
     "output_type": "execute_result"
    },
    {
     "data": {
      "text/latex": [
       "$\\displaystyle \\left(t e^{t} - e^{t} + 1\\right) e^{t}$"
      ],
      "text/plain": [
       "⎛   t    t    ⎞  t\n",
       "⎝t⋅ℯ  - ℯ  + 1⎠⋅ℯ "
      ]
     },
     "execution_count": 14,
     "metadata": {},
     "output_type": "execute_result"
    }
   ],
   "source": [
    "for i in range(1,4):\n",
    "    expand(rfunc(i,λl),complex=True).simplify()"
   ]
  },
  {
   "cell_type": "code",
   "execution_count": 20,
   "id": "7e8d299b",
   "metadata": {
    "ExecuteTime": {
     "end_time": "2022-09-07T13:28:58.840877Z",
     "start_time": "2022-09-07T13:28:58.779043Z"
    },
    "code_folding": []
   },
   "outputs": [],
   "source": [
    "suma = zeros(3,3)\n",
    "for i in range(1,4):\n",
    "    suma += rfunc(i,λl)*Rfunc(i-1,λl)"
   ]
  },
  {
   "cell_type": "code",
   "execution_count": 21,
   "id": "80c86656",
   "metadata": {
    "ExecuteTime": {
     "end_time": "2022-09-07T13:28:59.517031Z",
     "start_time": "2022-09-07T13:28:59.291122Z"
    }
   },
   "outputs": [
    {
     "data": {
      "text/latex": [
       "$\\displaystyle \\left[\\begin{matrix}\\left(t + 1\\right) e^{2 t} & - t e^{2 t} & t e^{2 t}\\\\\\left(t e^{t} + e^{t} - 1\\right) e^{t} & \\left(- t e^{t} + 1\\right) e^{t} & t e^{2 t}\\\\\\left(e^{t} - 1\\right) e^{t} & \\left(1 - e^{t}\\right) e^{t} & e^{2 t}\\end{matrix}\\right]$"
      ],
      "text/plain": [
       "⎡            2⋅t             2⋅t         2⋅t⎤\n",
       "⎢   (t + 1)⋅ℯ            -t⋅ℯ         t⋅ℯ   ⎥\n",
       "⎢                                           ⎥\n",
       "⎢⎛   t    t    ⎞  t  ⎛     t    ⎞  t     2⋅t⎥\n",
       "⎢⎝t⋅ℯ  + ℯ  - 1⎠⋅ℯ   ⎝- t⋅ℯ  + 1⎠⋅ℯ   t⋅ℯ   ⎥\n",
       "⎢                                           ⎥\n",
       "⎢   ⎛ t    ⎞  t        ⎛     t⎞  t      2⋅t ⎥\n",
       "⎣   ⎝ℯ  - 1⎠⋅ℯ         ⎝1 - ℯ ⎠⋅ℯ      ℯ    ⎦"
      ]
     },
     "execution_count": 21,
     "metadata": {},
     "output_type": "execute_result"
    }
   ],
   "source": [
    "simplify(suma).expand(complex=True).simplify()"
   ]
  },
  {
   "cell_type": "code",
   "execution_count": 17,
   "id": "3fdb51d6",
   "metadata": {
    "ExecuteTime": {
     "end_time": "2022-07-28T06:04:55.487665Z",
     "start_time": "2022-07-28T06:04:55.480533Z"
    }
   },
   "outputs": [],
   "source": [
    "#验证"
   ]
  },
  {
   "cell_type": "code",
   "execution_count": 22,
   "id": "117db2a1",
   "metadata": {
    "ExecuteTime": {
     "end_time": "2022-09-07T13:29:03.392707Z",
     "start_time": "2022-09-07T13:29:03.291922Z"
    }
   },
   "outputs": [
    {
     "data": {
      "text/latex": [
       "$\\displaystyle \\left[\\begin{matrix}t e^{2 t} + e^{2 t} & - t e^{2 t} & t e^{2 t}\\\\t e^{2 t} + e^{2 t} - e^{t} & - t e^{2 t} + e^{t} & t e^{2 t}\\\\e^{2 t} - e^{t} & - e^{2 t} + e^{t} & e^{2 t}\\end{matrix}\\right]$"
      ],
      "text/plain": [
       "⎡     2⋅t    2⋅t            2⋅t        2⋅t⎤\n",
       "⎢  t⋅ℯ    + ℯ           -t⋅ℯ        t⋅ℯ   ⎥\n",
       "⎢                                         ⎥\n",
       "⎢   2⋅t    2⋅t    t       2⋅t    t     2⋅t⎥\n",
       "⎢t⋅ℯ    + ℯ    - ℯ   - t⋅ℯ    + ℯ   t⋅ℯ   ⎥\n",
       "⎢                                         ⎥\n",
       "⎢     2⋅t    t           2⋅t    t     2⋅t ⎥\n",
       "⎣    ℯ    - ℯ         - ℯ    + ℯ     ℯ    ⎦"
      ]
     },
     "execution_count": 22,
     "metadata": {},
     "output_type": "execute_result"
    }
   ],
   "source": [
    "exp(A*t).expand(complex=True)"
   ]
  },
  {
   "cell_type": "code",
   "execution_count": 19,
   "id": "1a952469",
   "metadata": {
    "ExecuteTime": {
     "end_time": "2022-07-28T06:04:57.052772Z",
     "start_time": "2022-07-28T06:04:57.028801Z"
    }
   },
   "outputs": [
    {
     "data": {
      "text/latex": [
       "$\\displaystyle \\left( \\left[\\begin{matrix}0 & 1 & 0\\\\1 & 1 & 0\\\\1 & 0 & 1\\end{matrix}\\right], \\  \\left[\\begin{matrix}1 & 0 & 0\\\\0 & 2 & 1\\\\0 & 0 & 2\\end{matrix}\\right]\\right)$"
      ],
      "text/plain": [
       "⎛⎡0  1  0⎤  ⎡1  0  0⎤⎞\n",
       "⎜⎢       ⎥  ⎢       ⎥⎟\n",
       "⎜⎢1  1  0⎥, ⎢0  2  1⎥⎟\n",
       "⎜⎢       ⎥  ⎢       ⎥⎟\n",
       "⎝⎣1  0  1⎦  ⎣0  0  2⎦⎠"
      ]
     },
     "execution_count": 19,
     "metadata": {},
     "output_type": "execute_result"
    }
   ],
   "source": [
    "A.jordan_form()"
   ]
  },
  {
   "cell_type": "code",
   "execution_count": 20,
   "id": "e326c6e0",
   "metadata": {
    "ExecuteTime": {
     "end_time": "2022-07-28T06:04:57.785653Z",
     "start_time": "2022-07-28T06:04:57.768187Z"
    }
   },
   "outputs": [
    {
     "data": {
      "text/latex": [
       "$\\displaystyle \\left[ \\left( 1, \\  1, \\  \\left[ \\left[\\begin{matrix}0\\\\1\\\\1\\end{matrix}\\right]\\right]\\right), \\  \\left( 2, \\  2, \\  \\left[ \\left[\\begin{matrix}1\\\\1\\\\0\\end{matrix}\\right]\\right]\\right)\\right]$"
      ],
      "text/plain": [
       "⎡⎛      ⎡⎡0⎤⎤⎞  ⎛      ⎡⎡1⎤⎤⎞⎤\n",
       "⎢⎜      ⎢⎢ ⎥⎥⎟  ⎜      ⎢⎢ ⎥⎥⎟⎥\n",
       "⎢⎜1, 1, ⎢⎢1⎥⎥⎟, ⎜2, 2, ⎢⎢1⎥⎥⎟⎥\n",
       "⎢⎜      ⎢⎢ ⎥⎥⎟  ⎜      ⎢⎢ ⎥⎥⎟⎥\n",
       "⎣⎝      ⎣⎣1⎦⎦⎠  ⎝      ⎣⎣0⎦⎦⎠⎦"
      ]
     },
     "execution_count": 20,
     "metadata": {},
     "output_type": "execute_result"
    }
   ],
   "source": [
    "A.eigenvects()"
   ]
  },
  {
   "cell_type": "markdown",
   "id": "d7e33ac3",
   "metadata": {},
   "source": [
    "## 幂级数法求线性非齐次微分方程"
   ]
  },
  {
   "cell_type": "markdown",
   "id": "2677ad0c",
   "metadata": {},
   "source": [
    "二阶非齐次线性微分方程\n",
    "$$\n",
    "x^{''}(t)+a_1(t)x^{'}(t)+a_0(t)x(t)=b(t)\n",
    "$$  \n",
    "$a_1(t)$, $a_0(t)$, $b(t)$在0处解析"
   ]
  },
  {
   "cell_type": "code",
   "execution_count": 23,
   "id": "2f542d79",
   "metadata": {
    "ExecuteTime": {
     "end_time": "2022-09-07T13:29:09.284924Z",
     "start_time": "2022-09-07T13:29:09.272467Z"
    }
   },
   "outputs": [],
   "source": [
    "#运行\n",
    "#a_1,a_0,b的定义\n",
    "a_1 = 1/(1-t)\n",
    "a_0 = sin(t)\n",
    "b = 0\n",
    "nmax = 20 #不要改\n",
    "nneed = 12 #不要改"
   ]
  },
  {
   "cell_type": "code",
   "execution_count": 24,
   "id": "ddb9a51d",
   "metadata": {
    "ExecuteTime": {
     "end_time": "2022-09-07T13:29:10.092725Z",
     "start_time": "2022-09-07T13:29:09.721236Z"
    }
   },
   "outputs": [
    {
     "data": {
      "text/latex": [
       "$\\displaystyle c_{1} + 2 c_{2}$"
      ],
      "text/plain": [
       "c₁ + 2⋅c₂"
      ]
     },
     "metadata": {},
     "output_type": "display_data"
    },
    {
     "data": {
      "text/latex": [
       "$\\displaystyle c_{0} + c_{1} + 2 c_{2} + 6 c_{3}$"
      ],
      "text/plain": [
       "c₀ + c₁ + 2⋅c₂ + 6⋅c₃"
      ]
     },
     "metadata": {},
     "output_type": "display_data"
    },
    {
     "data": {
      "text/latex": [
       "$\\displaystyle 2 c_{1} + 2 c_{2} + 3 c_{3} + 12 c_{4}$"
      ],
      "text/plain": [
       "2⋅c₁ + 2⋅c₂ + 3⋅c₃ + 12⋅c₄"
      ]
     },
     "metadata": {},
     "output_type": "display_data"
    },
    {
     "data": {
      "text/latex": [
       "$\\displaystyle - \\frac{c_{0}}{6} + c_{1} + 3 c_{2} + 3 c_{3} + 4 c_{4} + 20 c_{5}$"
      ],
      "text/plain": [
       "  c₀                                  \n",
       "- ── + c₁ + 3⋅c₂ + 3⋅c₃ + 4⋅c₄ + 20⋅c₅\n",
       "  6                                   "
      ]
     },
     "metadata": {},
     "output_type": "display_data"
    },
    {
     "data": {
      "text/latex": [
       "$\\displaystyle \\frac{5 c_{1}}{6} + 2 c_{2} + 4 c_{3} + 4 c_{4} + 5 c_{5} + 30 c_{6}$"
      ],
      "text/plain": [
       "5⋅c₁                                    \n",
       "──── + 2⋅c₂ + 4⋅c₃ + 4⋅c₄ + 5⋅c₅ + 30⋅c₆\n",
       " 6                                      "
      ]
     },
     "metadata": {},
     "output_type": "display_data"
    },
    {
     "data": {
      "text/latex": [
       "$\\displaystyle \\frac{c_{0}}{120} + c_{1} + \\frac{11 c_{2}}{6} + 3 c_{3} + 5 c_{4} + 5 c_{5} + 6 c_{6} + 42 c_{7}$"
      ],
      "text/plain": [
       " c₀        11⋅c₂                                    \n",
       "─── + c₁ + ───── + 3⋅c₃ + 5⋅c₄ + 5⋅c₅ + 6⋅c₆ + 42⋅c₇\n",
       "120          6                                      "
      ]
     },
     "metadata": {},
     "output_type": "display_data"
    },
    {
     "data": {
      "text/latex": [
       "$\\displaystyle \\frac{121 c_{1}}{120} + 2 c_{2} + \\frac{17 c_{3}}{6} + 4 c_{4} + 6 c_{5} + 6 c_{6} + 7 c_{7} + 56 c_{8}$"
      ],
      "text/plain": [
       "121⋅c₁          17⋅c₃                                    \n",
       "────── + 2⋅c₂ + ───── + 4⋅c₄ + 6⋅c₅ + 6⋅c₆ + 7⋅c₇ + 56⋅c₈\n",
       " 120              6                                      "
      ]
     },
     "metadata": {},
     "output_type": "display_data"
    },
    {
     "data": {
      "text/plain": [
       "(None, None, None, None, None, None, None)"
      ]
     },
     "execution_count": 24,
     "metadata": {},
     "output_type": "execute_result"
    }
   ],
   "source": [
    "#运行\n",
    "AnalyticPower(a_1,a_0,b,nmax,nneed)"
   ]
  },
  {
   "cell_type": "code",
   "execution_count": null,
   "id": "bf7f6232",
   "metadata": {},
   "outputs": [],
   "source": []
  },
  {
   "cell_type": "code",
   "execution_count": 23,
   "id": "acce33a7",
   "metadata": {
    "ExecuteTime": {
     "end_time": "2022-07-28T06:05:05.170900Z",
     "start_time": "2022-07-28T06:05:05.159648Z"
    }
   },
   "outputs": [
    {
     "data": {
      "text/latex": [
       "$\\displaystyle \\left( c_{0}, \\  c_{1}, \\  c_{2}, \\  c_{3}, \\  c_{4}, \\  c_{5}, \\  c_{6}, \\  c_{7}, \\  c_{8}, \\  c_{9}, \\  c_{10}, \\  c_{11}, \\  c_{12}, \\  c_{13}, \\  c_{14}, \\  c_{15}, \\  c_{16}, \\  c_{17}, \\  c_{18}, \\  c_{19}\\right)$"
      ],
      "text/plain": [
       "(c₀, c₁, c₂, c₃, c₄, c₅, c₆, c₇, c₈, c₉, c₁₀, c₁₁, c₁₂, c₁₃, c₁₄, c₁₅, c₁₆, c₁\n",
       "₇, c₁₈, c₁₉)"
      ]
     },
     "execution_count": 23,
     "metadata": {},
     "output_type": "execute_result"
    }
   ],
   "source": [
    "c0 = symbols('c0')\n",
    "clst = symbols('c_0:{}'.format(nmax))\n",
    "clst"
   ]
  },
  {
   "cell_type": "code",
   "execution_count": 24,
   "id": "814f0b34",
   "metadata": {
    "ExecuteTime": {
     "end_time": "2022-07-28T06:05:05.956206Z",
     "start_time": "2022-07-28T06:05:05.922798Z"
    }
   },
   "outputs": [
    {
     "data": {
      "text/latex": [
       "$\\displaystyle \\left[ c_{0}, \\  c_{1} t, \\  c_{2} t^{2}, \\  c_{3} t^{3}, \\  c_{4} t^{4}, \\  c_{5} t^{5}, \\  c_{6} t^{6}, \\  c_{7} t^{7}, \\  c_{8} t^{8}, \\  c_{9} t^{9}, \\  c_{10} t^{10}, \\  c_{11} t^{11}\\right]$"
      ],
      "text/plain": [
       "⎡              2      3      4      5      6      7      8      9       10    \n",
       "⎣c₀, c₁⋅t, c₂⋅t , c₃⋅t , c₄⋅t , c₅⋅t , c₆⋅t , c₇⋅t , c₈⋅t , c₉⋅t , c₁₀⋅t  , c₁\n",
       "\n",
       "   11⎤\n",
       "₁⋅t  ⎦"
      ]
     },
     "execution_count": 24,
     "metadata": {},
     "output_type": "execute_result"
    },
    {
     "data": {
      "text/latex": [
       "$\\displaystyle \\left[ c_{1}, \\  2 c_{2} t, \\  3 c_{3} t^{2}, \\  4 c_{4} t^{3}, \\  5 c_{5} t^{4}, \\  6 c_{6} t^{5}, \\  7 c_{7} t^{6}, \\  8 c_{8} t^{7}, \\  9 c_{9} t^{8}, \\  10 c_{10} t^{9}, \\  11 c_{11} t^{10}\\right]$"
      ],
      "text/plain": [
       "⎡                  2        3        4        5        6        7        8    \n",
       "⎣c₁, 2⋅c₂⋅t, 3⋅c₃⋅t , 4⋅c₄⋅t , 5⋅c₅⋅t , 6⋅c₆⋅t , 7⋅c₇⋅t , 8⋅c₈⋅t , 9⋅c₉⋅t , 10\n",
       "\n",
       "      9          10⎤\n",
       "⋅c₁₀⋅t , 11⋅c₁₁⋅t  ⎦"
      ]
     },
     "execution_count": 24,
     "metadata": {},
     "output_type": "execute_result"
    },
    {
     "data": {
      "text/latex": [
       "$\\displaystyle \\left[ 2 c_{2}, \\  6 c_{3} t, \\  12 c_{4} t^{2}, \\  20 c_{5} t^{3}, \\  30 c_{6} t^{4}, \\  42 c_{7} t^{5}, \\  56 c_{8} t^{6}, \\  72 c_{9} t^{7}, \\  90 c_{10} t^{8}, \\  110 c_{11} t^{9}\\right]$"
      ],
      "text/plain": [
       "⎡                     2         3         4         5         6         7     \n",
       "⎣2⋅c₂, 6⋅c₃⋅t, 12⋅c₄⋅t , 20⋅c₅⋅t , 30⋅c₆⋅t , 42⋅c₇⋅t , 56⋅c₈⋅t , 72⋅c₉⋅t , 90⋅\n",
       "\n",
       "     8           9⎤\n",
       "c₁₀⋅t , 110⋅c₁₁⋅t ⎦"
      ]
     },
     "execution_count": 24,
     "metadata": {},
     "output_type": "execute_result"
    }
   ],
   "source": [
    "x0tlst = []\n",
    "for k in range(0,nneed):\n",
    "    x0tlst.append(clst[k]*t**k) \n",
    "x0tlst\n",
    "x1tlst = [diff(x0tlst[i],(t,1)) for i in range(1,nneed)]\n",
    "x1tlst\n",
    "x2tlst = [diff(x0tlst[i],(t,2)) for i in range(2,nneed)]\n",
    "x2tlst"
   ]
  },
  {
   "cell_type": "code",
   "execution_count": 25,
   "id": "9d53ab48",
   "metadata": {
    "ExecuteTime": {
     "end_time": "2022-07-28T06:05:07.053650Z",
     "start_time": "2022-07-28T06:05:07.013774Z"
    }
   },
   "outputs": [
    {
     "data": {
      "text/latex": [
       "$\\displaystyle \\left[ 0, \\  t, \\  0, \\  - \\frac{t^{3}}{6}, \\  0, \\  \\frac{t^{5}}{120}, \\  0, \\  - \\frac{t^{7}}{5040}, \\  0, \\  \\frac{t^{9}}{362880}\\right]$"
      ],
      "text/plain": [
       "⎡           3        5       7         9  ⎤\n",
       "⎢         -t        t      -t         t   ⎥\n",
       "⎢0, t, 0, ────, 0, ───, 0, ────, 0, ──────⎥\n",
       "⎣          6       120     5040     362880⎦"
      ]
     },
     "execution_count": 25,
     "metadata": {},
     "output_type": "execute_result"
    },
    {
     "data": {
      "text/latex": [
       "$\\displaystyle \\left[ 1, \\  t, \\  t^{2}, \\  t^{3}, \\  t^{4}, \\  t^{5}, \\  t^{6}, \\  t^{7}, \\  t^{8}, \\  t^{9}\\right]$"
      ],
      "text/plain": [
       "⎡       2   3   4   5   6   7   8   9⎤\n",
       "⎣1, t, t , t , t , t , t , t , t , t ⎦"
      ]
     },
     "execution_count": 25,
     "metadata": {},
     "output_type": "execute_result"
    },
    {
     "data": {
      "text/latex": [
       "$\\displaystyle \\left[ 0, \\  0, \\  0, \\  0, \\  0, \\  0, \\  0, \\  0, \\  0, \\  0\\right]$"
      ],
      "text/plain": [
       "[0, 0, 0, 0, 0, 0, 0, 0, 0, 0]"
      ]
     },
     "execution_count": 25,
     "metadata": {},
     "output_type": "execute_result"
    }
   ],
   "source": [
    "a0lst = []\n",
    "for k in range(0,nneed-2):\n",
    "    a0lst.append(diff(a_0,(t,k)).subs(t,0)*t**k/factorial(k)) \n",
    "a0lst\n",
    "a1lst = []\n",
    "for k in range(0,nneed-2):\n",
    "    a1lst.append(diff(a_1,(t,k)).subs(t,0)*t**k/factorial(k)) \n",
    "a1lst\n",
    "blst = []\n",
    "for k in range(0,nneed-2):\n",
    "    blst.append(diff(b,(t,k)).subs(t,0)*t**k/factorial(k)) \n",
    "blst"
   ]
  },
  {
   "cell_type": "code",
   "execution_count": 26,
   "id": "5ef878cb",
   "metadata": {
    "ExecuteTime": {
     "end_time": "2022-07-28T06:05:08.013766Z",
     "start_time": "2022-07-28T06:05:07.971102Z"
    }
   },
   "outputs": [
    {
     "data": {
      "text/latex": [
       "$\\displaystyle \\left[ c_{1}, \\  c_{1} t + 2 c_{2} t, \\  c_{1} t^{2} + 2 c_{2} t^{2} + 3 c_{3} t^{2}, \\  c_{1} t^{3} + 2 c_{2} t^{3} + 3 c_{3} t^{3} + 4 c_{4} t^{3}, \\  c_{1} t^{4} + 2 c_{2} t^{4} + 3 c_{3} t^{4} + 4 c_{4} t^{4} + 5 c_{5} t^{4}, \\  c_{1} t^{5} + 2 c_{2} t^{5} + 3 c_{3} t^{5} + 4 c_{4} t^{5} + 5 c_{5} t^{5} + 6 c_{6} t^{5}, \\  c_{1} t^{6} + 2 c_{2} t^{6} + 3 c_{3} t^{6} + 4 c_{4} t^{6} + 5 c_{5} t^{6} + 6 c_{6} t^{6} + 7 c_{7} t^{6}, \\  c_{1} t^{7} + 2 c_{2} t^{7} + 3 c_{3} t^{7} + 4 c_{4} t^{7} + 5 c_{5} t^{7} + 6 c_{6} t^{7} + 7 c_{7} t^{7} + 8 c_{8} t^{7}, \\  c_{1} t^{8} + 2 c_{2} t^{8} + 3 c_{3} t^{8} + 4 c_{4} t^{8} + 5 c_{5} t^{8} + 6 c_{6} t^{8} + 7 c_{7} t^{8} + 8 c_{8} t^{8} + 9 c_{9} t^{8}, \\  c_{1} t^{9} + 10 c_{10} t^{9} + 2 c_{2} t^{9} + 3 c_{3} t^{9} + 4 c_{4} t^{9} + 5 c_{5} t^{9} + 6 c_{6} t^{9} + 7 c_{7} t^{9} + 8 c_{8} t^{9} + 9 c_{9} t^{9}\\right]$"
      ],
      "text/plain": [
       "⎡                       2         2         2      3         3         3      \n",
       "⎣c₁, c₁⋅t + 2⋅c₂⋅t, c₁⋅t  + 2⋅c₂⋅t  + 3⋅c₃⋅t , c₁⋅t  + 2⋅c₂⋅t  + 3⋅c₃⋅t  + 4⋅c\n",
       "\n",
       "   3      4         4         4         4         4      5         5         5\n",
       "₄⋅t , c₁⋅t  + 2⋅c₂⋅t  + 3⋅c₃⋅t  + 4⋅c₄⋅t  + 5⋅c₅⋅t , c₁⋅t  + 2⋅c₂⋅t  + 3⋅c₃⋅t \n",
       "\n",
       "         5         5         5      6         6         6         6         6 \n",
       " + 4⋅c₄⋅t  + 5⋅c₅⋅t  + 6⋅c₆⋅t , c₁⋅t  + 2⋅c₂⋅t  + 3⋅c₃⋅t  + 4⋅c₄⋅t  + 5⋅c₅⋅t  \n",
       "\n",
       "        6         6      7         7         7         7         7         7  \n",
       "+ 6⋅c₆⋅t  + 7⋅c₇⋅t , c₁⋅t  + 2⋅c₂⋅t  + 3⋅c₃⋅t  + 4⋅c₄⋅t  + 5⋅c₅⋅t  + 6⋅c₆⋅t  +\n",
       "\n",
       "       7         7      8         8         8         8         8         8   \n",
       " 7⋅c₇⋅t  + 8⋅c₈⋅t , c₁⋅t  + 2⋅c₂⋅t  + 3⋅c₃⋅t  + 4⋅c₄⋅t  + 5⋅c₅⋅t  + 6⋅c₆⋅t  + \n",
       "\n",
       "      8         8         8      9           9         9         9         9  \n",
       "7⋅c₇⋅t  + 8⋅c₈⋅t  + 9⋅c₉⋅t , c₁⋅t  + 10⋅c₁₀⋅t  + 2⋅c₂⋅t  + 3⋅c₃⋅t  + 4⋅c₄⋅t  +\n",
       "\n",
       "       9         9         9         9         9⎤\n",
       " 5⋅c₅⋅t  + 6⋅c₆⋅t  + 7⋅c₇⋅t  + 8⋅c₈⋅t  + 9⋅c₉⋅t ⎦"
      ]
     },
     "execution_count": 26,
     "metadata": {},
     "output_type": "execute_result"
    }
   ],
   "source": [
    "sl1 = []\n",
    "for n in range(0,nneed-2):\n",
    "    lin = 0\n",
    "    for k in range(0,n+1):\n",
    "        lin += a1lst[k]*x1tlst[n-k]\n",
    "    sl1.append(lin)\n",
    "sl1"
   ]
  },
  {
   "cell_type": "code",
   "execution_count": 27,
   "id": "d5b7b0a1",
   "metadata": {
    "ExecuteTime": {
     "end_time": "2022-07-28T06:05:08.587772Z",
     "start_time": "2022-07-28T06:05:08.485761Z"
    }
   },
   "outputs": [
    {
     "data": {
      "text/latex": [
       "$\\displaystyle \\left[ 0, \\  c_{0} t, \\  c_{1} t^{2}, \\  - \\frac{c_{0} t^{3}}{6} + c_{2} t^{3}, \\  - \\frac{c_{1} t^{4}}{6} + c_{3} t^{4}, \\  \\frac{c_{0} t^{5}}{120} - \\frac{c_{2} t^{5}}{6} + c_{4} t^{5}, \\  \\frac{c_{1} t^{6}}{120} - \\frac{c_{3} t^{6}}{6} + c_{5} t^{6}, \\  - \\frac{c_{0} t^{7}}{5040} + \\frac{c_{2} t^{7}}{120} - \\frac{c_{4} t^{7}}{6} + c_{6} t^{7}, \\  - \\frac{c_{1} t^{8}}{5040} + \\frac{c_{3} t^{8}}{120} - \\frac{c_{5} t^{8}}{6} + c_{7} t^{8}, \\  \\frac{c_{0} t^{9}}{362880} - \\frac{c_{2} t^{9}}{5040} + \\frac{c_{4} t^{9}}{120} - \\frac{c_{6} t^{9}}{6} + c_{8} t^{9}\\right]$"
      ],
      "text/plain": [
       "⎡                      3                4              5       5              \n",
       "⎢             2    c₀⋅t        3    c₁⋅t        4  c₀⋅t    c₂⋅t        5  c₁⋅t\n",
       "⎢0, c₀⋅t, c₁⋅t , - ───── + c₂⋅t , - ───── + c₃⋅t , ───── - ───── + c₄⋅t , ────\n",
       "⎣                    6                6             120      6             120\n",
       "\n",
       "6       6                7       7       7                8       8       8   \n",
       "    c₃⋅t        6    c₀⋅t    c₂⋅t    c₄⋅t        7    c₁⋅t    c₃⋅t    c₅⋅t    \n",
       "─ - ───── + c₅⋅t , - ───── + ───── - ───── + c₆⋅t , - ───── + ───── - ───── + \n",
       "      6               5040    120      6               5040    120      6     \n",
       "\n",
       "           9        9       9       9        ⎤\n",
       "    8  c₀⋅t     c₂⋅t    c₄⋅t    c₆⋅t        9⎥\n",
       "c₇⋅t , ────── - ───── + ───── - ───── + c₈⋅t ⎥\n",
       "       362880    5040    120      6          ⎦"
      ]
     },
     "execution_count": 27,
     "metadata": {},
     "output_type": "execute_result"
    }
   ],
   "source": [
    "sl0 = []\n",
    "for n in range(0,nneed-2):\n",
    "    lin = 0\n",
    "    for k in range(0,n+1):\n",
    "        lin += simplify(a0lst[k]*x0tlst[n-k])\n",
    "    sl0.append(lin)\n",
    "sl0"
   ]
  },
  {
   "cell_type": "code",
   "execution_count": 28,
   "id": "da5d14e8",
   "metadata": {
    "ExecuteTime": {
     "end_time": "2022-07-28T06:05:09.511927Z",
     "start_time": "2022-07-28T06:05:09.299166Z"
    }
   },
   "outputs": [
    {
     "data": {
      "text/latex": [
       "$\\displaystyle c_{1} + 2 c_{2}$"
      ],
      "text/plain": [
       "c₁ + 2⋅c₂"
      ]
     },
     "execution_count": 28,
     "metadata": {},
     "output_type": "execute_result"
    },
    {
     "data": {
      "text/latex": [
       "$\\displaystyle c_{0} + c_{1} + 2 c_{2} + 6 c_{3}$"
      ],
      "text/plain": [
       "c₀ + c₁ + 2⋅c₂ + 6⋅c₃"
      ]
     },
     "execution_count": 28,
     "metadata": {},
     "output_type": "execute_result"
    },
    {
     "data": {
      "text/latex": [
       "$\\displaystyle 2 c_{1} + 2 c_{2} + 3 c_{3} + 12 c_{4}$"
      ],
      "text/plain": [
       "2⋅c₁ + 2⋅c₂ + 3⋅c₃ + 12⋅c₄"
      ]
     },
     "execution_count": 28,
     "metadata": {},
     "output_type": "execute_result"
    },
    {
     "data": {
      "text/latex": [
       "$\\displaystyle - \\frac{c_{0}}{6} + c_{1} + 3 c_{2} + 3 c_{3} + 4 c_{4} + 20 c_{5}$"
      ],
      "text/plain": [
       "  c₀                                  \n",
       "- ── + c₁ + 3⋅c₂ + 3⋅c₃ + 4⋅c₄ + 20⋅c₅\n",
       "  6                                   "
      ]
     },
     "execution_count": 28,
     "metadata": {},
     "output_type": "execute_result"
    },
    {
     "data": {
      "text/latex": [
       "$\\displaystyle \\frac{5 c_{1}}{6} + 2 c_{2} + 4 c_{3} + 4 c_{4} + 5 c_{5} + 30 c_{6}$"
      ],
      "text/plain": [
       "5⋅c₁                                    \n",
       "──── + 2⋅c₂ + 4⋅c₃ + 4⋅c₄ + 5⋅c₅ + 30⋅c₆\n",
       " 6                                      "
      ]
     },
     "execution_count": 28,
     "metadata": {},
     "output_type": "execute_result"
    },
    {
     "data": {
      "text/latex": [
       "$\\displaystyle \\frac{c_{0}}{120} + c_{1} + \\frac{11 c_{2}}{6} + 3 c_{3} + 5 c_{4} + 5 c_{5} + 6 c_{6} + 42 c_{7}$"
      ],
      "text/plain": [
       " c₀        11⋅c₂                                    \n",
       "─── + c₁ + ───── + 3⋅c₃ + 5⋅c₄ + 5⋅c₅ + 6⋅c₆ + 42⋅c₇\n",
       "120          6                                      "
      ]
     },
     "execution_count": 28,
     "metadata": {},
     "output_type": "execute_result"
    },
    {
     "data": {
      "text/latex": [
       "$\\displaystyle \\frac{121 c_{1}}{120} + 2 c_{2} + \\frac{17 c_{3}}{6} + 4 c_{4} + 6 c_{5} + 6 c_{6} + 7 c_{7} + 56 c_{8}$"
      ],
      "text/plain": [
       "121⋅c₁          17⋅c₃                                    \n",
       "────── + 2⋅c₂ + ───── + 4⋅c₄ + 6⋅c₅ + 6⋅c₆ + 7⋅c₇ + 56⋅c₈\n",
       " 120              6                                      "
      ]
     },
     "execution_count": 28,
     "metadata": {},
     "output_type": "execute_result"
    }
   ],
   "source": [
    "tlst = []\n",
    "for n in range(0,8):\n",
    "    tlst.append(simplify(x2tlst[n]+sl1[n]+sl0[n]-blst[n])/t**n)\n",
    "tlst[0]\n",
    "tlst[1]\n",
    "tlst[2]\n",
    "tlst[3]\n",
    "tlst[4]\n",
    "tlst[5]\n",
    "tlst[6]"
   ]
  },
  {
   "cell_type": "code",
   "execution_count": null,
   "id": "1d7b9972",
   "metadata": {},
   "outputs": [],
   "source": []
  },
  {
   "cell_type": "markdown",
   "id": "b0579758",
   "metadata": {},
   "source": [
    "## 二阶非齐次线性微分方程"
   ]
  },
  {
   "cell_type": "markdown",
   "id": "61565f13",
   "metadata": {},
   "source": [
    "$$\n",
    "x^{''}(t)+px^{'}(t)+qx(t)=f(t)\n",
    "$$  "
   ]
  },
  {
   "cell_type": "markdown",
   "id": "596dcca1",
   "metadata": {
    "ExecuteTime": {
     "end_time": "2022-06-13T14:33:54.811920Z",
     "start_time": "2022-06-13T14:33:54.799921Z"
    }
   },
   "source": [
    "$$\\phi_1(t)=e^{\\lambda_1t},\\  \\phi_2(t)=e^{\\lambda_2t}$$\n",
    "\n",
    "$$\\phi_1(t)=e^{\\lambda t}, \\ \\phi_2(t)=te^{\\lambda t}$$\n",
    "\n",
    "$$\\phi_1(t)=e^{at}cos(b), \\ \\phi_2(t)=e^{a t}sin(b)$$"
   ]
  },
  {
   "cell_type": "markdown",
   "id": "c491a7c6",
   "metadata": {},
   "source": [
    "基解矩阵\n",
    "\\begin{align}\n",
    "X(t)=  \n",
    "\\begin{bmatrix}\n",
    "\\phi_1(t)  &\\phi_2(t) \\\\\n",
    "\\phi_1(t)' &\\phi_2(t)'\n",
    "\\end{bmatrix}\n",
    "\\end{align}"
   ]
  },
  {
   "cell_type": "markdown",
   "id": "1e0046ae",
   "metadata": {},
   "source": [
    "通解的形式为"
   ]
  },
  {
   "cell_type": "markdown",
   "id": "3fd24f12",
   "metadata": {},
   "source": [
    "$$\n",
    "\\vec x(t) = X(t)\\left(X^{-1}(t_0)\\vec x(t_0)+\\int_{t_0}^t X^{-1}(s)\\vec b(s) \\ ds \\right)\n",
    "$$"
   ]
  },
  {
   "cell_type": "code",
   "execution_count": 29,
   "id": "abff3e17",
   "metadata": {
    "ExecuteTime": {
     "end_time": "2022-07-28T06:05:20.719209Z",
     "start_time": "2022-07-28T06:05:20.707008Z"
    }
   },
   "outputs": [],
   "source": [
    "#运行\n",
    "x,y,z,m,n,a,λ,u,v,a,b,c,d,t,i,k = symbols('x y z m n a λ u v a b c d t i k')\n",
    "t = symbols('t',real=True)\n",
    "c1,c2 = symbols('c1 c2')"
   ]
  },
  {
   "cell_type": "code",
   "execution_count": 30,
   "id": "d702e40a",
   "metadata": {
    "ExecuteTime": {
     "end_time": "2022-07-28T06:05:21.815542Z",
     "start_time": "2022-07-28T06:05:21.310383Z"
    }
   },
   "outputs": [
    {
     "data": {
      "text/latex": [
       "$\\displaystyle \\left[ e^{t} \\cos{\\left(2 t \\right)}, \\  e^{t} \\sin{\\left(2 t \\right)}\\right]$"
      ],
      "text/plain": [
       "⎡ t            t         ⎤\n",
       "⎣ℯ ⋅cos(2⋅t), ℯ ⋅sin(2⋅t)⎦"
      ]
     },
     "metadata": {},
     "output_type": "display_data"
    },
    {
     "data": {
      "text/latex": [
       "$\\displaystyle \\left[ - \\frac{\\sin{\\left(4 t \\right)}}{4}, \\  \\frac{\\cos^{2}{\\left(2 t \\right)}}{2}\\right]$"
      ],
      "text/plain": [
       "⎡               2     ⎤\n",
       "⎢-sin(4⋅t)   cos (2⋅t)⎥\n",
       "⎢──────────, ─────────⎥\n",
       "⎣    4           2    ⎦"
      ]
     },
     "metadata": {},
     "output_type": "display_data"
    },
    {
     "data": {
      "text/latex": [
       "$\\displaystyle \\left[ \\frac{\\cos{\\left(4 t \\right)}}{16} - \\frac{\\cos{\\left(4 \\right)}}{16}, \\  \\frac{t}{4} + \\frac{\\sin{\\left(2 t \\right)} \\cos{\\left(2 t \\right)}}{8} - \\frac{1}{4} - \\frac{\\sin{\\left(2 \\right)} \\cos{\\left(2 \\right)}}{8}\\right]$"
      ],
      "text/plain": [
       "⎡cos(4⋅t)   cos(4)  t   sin(2⋅t)⋅cos(2⋅t)   1   sin(2)⋅cos(2)⎤\n",
       "⎢──────── - ──────, ─ + ───────────────── - ─ - ─────────────⎥\n",
       "⎣   16        16    4           8           4         8      ⎦"
      ]
     },
     "metadata": {},
     "output_type": "display_data"
    },
    {
     "data": {
      "text/plain": [
       "(None, None, None)"
      ]
     },
     "execution_count": 30,
     "metadata": {},
     "output_type": "execute_result"
    }
   ],
   "source": [
    "#运行\n",
    "p = -2\n",
    "q = 5\n",
    "t0 = 1\n",
    "f = exp(t)*cos(2*t)\n",
    "SONHLS(p,q,f,t0)"
   ]
  },
  {
   "cell_type": "code",
   "execution_count": 31,
   "id": "862438a7",
   "metadata": {
    "ExecuteTime": {
     "end_time": "2022-07-28T06:05:22.192701Z",
     "start_time": "2022-07-28T06:05:21.883649Z"
    }
   },
   "outputs": [
    {
     "data": {
      "text/latex": [
       "$\\displaystyle x{\\left(t \\right)} = \\left(C_{1} + C_{2} t\\right) e^{- t} + \\frac{e^{t} \\sin{\\left(2 t \\right)}}{8} - \\frac{\\cos{\\left(t \\right)}}{2}$"
      ],
      "text/plain": [
       "                          t                  \n",
       "                    -t   ℯ ⋅sin(2⋅t)   cos(t)\n",
       "x(t) = (C₁ + C₂⋅t)⋅ℯ   + ─────────── - ──────\n",
       "                              8          2   "
      ]
     },
     "execution_count": 31,
     "metadata": {},
     "output_type": "execute_result"
    }
   ],
   "source": [
    "# 验证\n",
    "x = symbols('x', cls = Function)\n",
    "diffeq = Eq(x(t).diff(t,2) +2*x(t).diff(t) + 1*x(t)-sin(t),f)\n",
    "dsolve(diffeq, x(t))"
   ]
  },
  {
   "cell_type": "code",
   "execution_count": null,
   "id": "04d50e65",
   "metadata": {},
   "outputs": [],
   "source": []
  },
  {
   "cell_type": "markdown",
   "id": "205aab26",
   "metadata": {},
   "source": [
    "## 线性系统的稳定性判断"
   ]
  },
  {
   "cell_type": "markdown",
   "id": "fb1c5197",
   "metadata": {},
   "source": [
    "### 线性齐次系统"
   ]
  },
  {
   "cell_type": "markdown",
   "id": "15d07146",
   "metadata": {},
   "source": [
    "线性系统的稳定性与基解矩阵挂钩，考虑f(t,s)=$\\Vert X(t)X^{-1}(s) \\Vert$, $t \\geq s$\n",
    "- (H)稳定 iff $f(t,s)$能被$K(s)$控制住\n",
    "- (H)一致稳定 iff $f(t,s)$能被$K$控制住\n",
    "- (H)渐进稳定 iff $f(t,s)$$\\to$0，当固定s时\n",
    "- (H)一致渐进稳定 iff $f(t,s)$一致收敛于与0，此时f(t,s)有一个指数阶的衰减速度"
   ]
  },
  {
   "cell_type": "markdown",
   "id": "a6b2674d",
   "metadata": {},
   "source": [
    "#### 线性齐次常系数系统"
   ]
  },
  {
   "cell_type": "markdown",
   "id": "fbd14094",
   "metadata": {},
   "source": [
    "不难发现线性齐次系统是自治的，因此稳定与一致稳定，渐进与一致渐进等价"
   ]
  },
  {
   "cell_type": "markdown",
   "id": "6a7f6dae",
   "metadata": {},
   "source": [
    "- 稳定 iff A的特征值实部非正，而且为0的部分全部落入简单型内   \n",
    "- 渐进稳定 iff A的特征值实部全部为负\n",
    "    - 如果根据A的特征多项式生成的Hurwitz Matrix正定，则所有特征值实部为负"
   ]
  },
  {
   "cell_type": "markdown",
   "id": "f43a20a0",
   "metadata": {},
   "source": [
    "##### Hurwitz Matrix"
   ]
  },
  {
   "cell_type": "code",
   "execution_count": 26,
   "id": "74a18eb9",
   "metadata": {
    "ExecuteTime": {
     "end_time": "2022-07-27T13:29:13.189105Z",
     "start_time": "2022-07-27T13:29:13.084788Z"
    }
   },
   "outputs": [
    {
     "data": {
      "text/latex": [
       "$\\displaystyle \\left[ 1, \\  4, \\  3, \\  -1\\right]$"
      ],
      "text/plain": [
       "[1, 4, 3, -1]"
      ]
     },
     "metadata": {},
     "output_type": "display_data"
    },
    {
     "data": {
      "text/latex": [
       "$\\displaystyle \\left[\\begin{matrix}4 & -1 & 0\\\\1 & 3 & 0\\\\0 & 4 & -1\\end{matrix}\\right]$"
      ],
      "text/plain": [
       "⎡4  -1  0 ⎤\n",
       "⎢         ⎥\n",
       "⎢1  3   0 ⎥\n",
       "⎢         ⎥\n",
       "⎣0  4   -1⎦"
      ]
     },
     "metadata": {},
     "output_type": "display_data"
    },
    {
     "data": {
      "text/latex": [
       "$\\displaystyle \\left[ -1.44504186791263, \\  -2.80193773580484, \\  0.246979603717467\\right]$"
      ],
      "text/plain": [
       "[-1.44504186791263, -2.80193773580484, 0.246979603717467]"
      ]
     },
     "metadata": {},
     "output_type": "display_data"
    },
    {
     "data": {
      "text/plain": [
       "(None, None, None)"
      ]
     },
     "execution_count": 26,
     "metadata": {},
     "output_type": "execute_result"
    }
   ],
   "source": [
    "# 运行\n",
    "A = Matrix([[-2,1,1],[1,-1,0],[1,1,-1]])\n",
    "Hurwitz(A)"
   ]
  },
  {
   "cell_type": "markdown",
   "id": "57da59af",
   "metadata": {},
   "source": [
    "## 非线性系统稳定性判断"
   ]
  },
  {
   "cell_type": "markdown",
   "id": "28648ccf",
   "metadata": {},
   "source": [
    "### 平面系统"
   ]
  },
  {
   "cell_type": "markdown",
   "id": "321b8076",
   "metadata": {},
   "source": [
    "\\begin{align}\n",
    "  x' &= ax+by \\\\\n",
    "  y' &= cx+dy \n",
    "\\end{align}\n",
    "<hr>"
   ]
  },
  {
   "cell_type": "markdown",
   "id": "cd51f57a",
   "metadata": {},
   "source": [
    "值得注意的是线性变换不改变稳定性<br/>\n",
    "计算矩阵A的特征值，分为3类情况\n",
    "\n",
    "<hr>\n",
    "1. (a): $\\lambda_1,\\lambda_2>0$, (b): $\\lambda_1,\\lambda_2<0$, (c): $\\lambda_1<, \\lambda_2>0$ \n",
    "<div align=center>\n",
    "<img src=\"https://raw.githubusercontent.com/nymath/Figure/main/Differential_Equation/plannar_delta_geq.png\"  width = \"350\" height = \"290\">\n",
    "<center><font size=2>Figure 1 (a) unstable node, (b) stable node, (c) saddle point</font></center>\n",
    "</div>\n",
    "<hr>\n",
    "2. (a): $\\alpha > 0$, (b): $\\alpha < 0$, (c): $\\alpha = 0$ \n",
    "<div align=center>\n",
    "<img src=\"https://raw.githubusercontent.com/nymath/Figure/main/Differential_Equation/plannar_delta_leq.png\"  width = \"350\" height = \"290\">\n",
    "<center><font size=2>Figure 2 (a) unstable focus, (b) stable focus, (c) center</font></center>\n",
    "</div>\n",
    "<hr>\n",
    "3. (a): $Ker(A-\\lambda I)=2$, (b):$Ker(A-\\lambda I)=1$ \n",
    "<div align=center>\n",
    "<img src=\"https://raw.githubusercontent.com/nymath/Figure/main/Differential_Equation/plannar_delta_eq.png\"  width = \"350\" height = \"290\">\n",
    "<center><font size=2>Figure 3 (a) unstable node, (b) unstable degenerate node</font></center>\n",
    "</div>"
   ]
  },
  {
   "cell_type": "markdown",
   "id": "e99fffa1",
   "metadata": {},
   "source": [
    "### 自治系统"
   ]
  },
  {
   "cell_type": "markdown",
   "id": "ab454761",
   "metadata": {},
   "source": [
    "#### 线性化"
   ]
  },
  {
   "cell_type": "markdown",
   "id": "62bff556",
   "metadata": {},
   "source": [
    "记D为在均衡点出的Jocobian矩阵，我们给出两个充分条件\n",
    "- 如果D的特征值实部为负，则渐进稳定\n",
    "- 如果存在正实部，则不稳定"
   ]
  },
  {
   "cell_type": "code",
   "execution_count": 47,
   "id": "4cc6e2ae",
   "metadata": {
    "ExecuteTime": {
     "end_time": "2022-06-08T12:31:45.779994Z",
     "start_time": "2022-06-08T12:31:45.767374Z"
    }
   },
   "outputs": [],
   "source": [
    "x1,x2,x3 = symbols('x1 x2 x3')"
   ]
  },
  {
   "cell_type": "code",
   "execution_count": 54,
   "id": "5a289b6a",
   "metadata": {
    "ExecuteTime": {
     "end_time": "2022-06-08T13:14:09.797253Z",
     "start_time": "2022-06-08T13:14:09.781070Z"
    }
   },
   "outputs": [
    {
     "data": {
      "text/latex": [
       "$\\displaystyle \\left[ x_{1}, \\  x_{2}\\right]$"
      ],
      "text/plain": [
       "[x₁, x₂]"
      ]
     },
     "execution_count": 54,
     "metadata": {},
     "output_type": "execute_result"
    }
   ],
   "source": [
    "xlst = list(symbols('x_1:{}'.format(3)))"
   ]
  },
  {
   "cell_type": "code",
   "execution_count": 79,
   "id": "4079c3d5",
   "metadata": {
    "ExecuteTime": {
     "end_time": "2022-06-08T13:44:33.331010Z",
     "start_time": "2022-06-08T13:44:33.320908Z"
    }
   },
   "outputs": [],
   "source": [
    "def linearization_test_stability(f):\n",
    "    n = f.rows\n",
    "    xlst = list(symbols('x1:{}'.format(n+1)))\n",
    "    solve(f)\n",
    "    display(f.jacobian(xlst).subs('x1',0).subs('x2'))"
   ]
  },
  {
   "cell_type": "code",
   "execution_count": 80,
   "id": "99531028",
   "metadata": {
    "ExecuteTime": {
     "end_time": "2022-06-08T13:44:33.800844Z",
     "start_time": "2022-06-08T13:44:33.761693Z"
    }
   },
   "outputs": [
    {
     "data": {
      "text/latex": [
       "$\\displaystyle \\left[\\begin{matrix}1 - x_{2} & 0\\\\- 0.75 x_{2} & 0.5 - 1.5 x_{2}\\end{matrix}\\right]$"
      ],
      "text/plain": [
       "⎡ 1 - x₂        0      ⎤\n",
       "⎢                      ⎥\n",
       "⎣-0.75⋅x₂  0.5 - 1.5⋅x₂⎦"
      ]
     },
     "metadata": {},
     "output_type": "display_data"
    },
    {
     "data": {
      "text/latex": [
       "$\\displaystyle \\left[ \\left\\{ x_{1} : 0.0, \\  x_{2} : 0.0\\right\\}, \\  \\left\\{ x_{1} : 0.0, \\  x_{2} : 0.666666666666667\\right\\}, \\  \\left\\{ x_{1} : 1.0, \\  x_{2} : 0.0\\right\\}\\right]$"
      ],
      "text/plain": [
       "[{x₁: 0.0, x₂: 0.0}, {x₁: 0.0, x₂: 0.666666666666667}, {x₁: 1.0, x₂: 0.0}]"
      ]
     },
     "execution_count": 80,
     "metadata": {},
     "output_type": "execute_result"
    }
   ],
   "source": [
    "f = Matrix([x1*(1-x1-x2),1/4*x2*(2-3*x1-3*x2)])\n",
    "linearization_test_stability(f)\n",
    "solve(f)"
   ]
  },
  {
   "cell_type": "markdown",
   "id": "10ea8532",
   "metadata": {},
   "source": [
    "#### Lyapunov第二法"
   ]
  },
  {
   "cell_type": "markdown",
   "id": "d953abb8",
   "metadata": {},
   "source": [
    "我们选择Lyapunov函数$V(x_1,x_2)>0$ when $(x_1,x_2)\\neq0$, define\n",
    "$$\n",
    "\\dot{V}(x_1,x_2) = \\langle \\nabla V,\\dot{x}\\rangle\n",
    "$$\n",
    "<hr>\n",
    "稳定性基本定理, if <br/>\n",
    "- $V(x_1,x_2)$ is negative definite, then (0,0) is asypmpotically stable <br/> \n",
    "- $V(x_1,x_2)$ is equal to zero, then (0,0) is stable   <br/>\n",
    "- $V(x_1,x_2)$ is positive definite, then (0,0) is unstable  <br/> \n",
    "<hr>\n",
    "减弱的版本: <br/>\n",
    "1. if $V(x_1,x_2)$ is positive, and the basin of $\\dot{V}(x_1,x_2)$ does not contain the trajectory of system, then (0,0) is asympotically stable. <br/>\n",
    "2. 如果$V(x_1,x_2)$在(0,0)的领域内是变号函数，但$\\dot{V}(x_1,x_2)$是Negrative Definite, 那么(0,0)是unstable. <br/>"
   ]
  },
  {
   "cell_type": "markdown",
   "id": "37c929f6",
   "metadata": {},
   "source": [
    "Lyapunov函数的构造"
   ]
  },
  {
   "cell_type": "markdown",
   "id": "3b848efa",
   "metadata": {},
   "source": [
    "常用的Lyapunov函数:\n",
    "<br/>\n",
    "1. V非负\n",
    "    - 12\n",
    "2. There we go\n",
    "3. Now this\n"
   ]
  },
  {
   "cell_type": "code",
   "execution_count": null,
   "id": "4ef4ae10",
   "metadata": {},
   "outputs": [],
   "source": []
  },
  {
   "cell_type": "code",
   "execution_count": 27,
   "id": "d50cecec",
   "metadata": {
    "ExecuteTime": {
     "end_time": "2022-06-11T15:00:11.913118Z",
     "start_time": "2022-06-11T15:00:11.851185Z"
    }
   },
   "outputs": [
    {
     "data": {
      "text/latex": [
       "$\\displaystyle \\left[\\begin{matrix}2 x \\left(x - 2\\right) \\left(b y + c x\\right) + 2 y \\left(a x + c y\\right)\\end{matrix}\\right]$"
      ],
      "text/plain": [
       "[2⋅x⋅(x - 2)⋅(b⋅y + c⋅x) + 2⋅y⋅(a⋅x + c⋅y)]"
      ]
     },
     "execution_count": 27,
     "metadata": {},
     "output_type": "execute_result"
    }
   ],
   "source": [
    "V = a*x**2+b*y**2+2*c*x*y\n",
    "DV = Matrix([[V.diff(x)],[V.diff(y)]])\n",
    "f = Matrix([[y],[x**2-2*x]])\n",
    "simplify(transpose(DV)*f)"
   ]
  },
  {
   "cell_type": "code",
   "execution_count": 28,
   "id": "ab79a549",
   "metadata": {
    "ExecuteTime": {
     "end_time": "2022-06-11T15:00:43.248029Z",
     "start_time": "2022-06-11T15:00:43.229013Z"
    }
   },
   "outputs": [
    {
     "data": {
      "text/latex": [
       "$\\displaystyle \\left[\\begin{matrix}2 a x y + 2 b x^{2} y - 4 b x y + 2 c x^{3} - 4 c x^{2} + 2 c y^{2}\\end{matrix}\\right]$"
      ],
      "text/plain": [
       "⎡               2                    3        2        2⎤\n",
       "⎣2⋅a⋅x⋅y + 2⋅b⋅x ⋅y - 4⋅b⋅x⋅y + 2⋅c⋅x  - 4⋅c⋅x  + 2⋅c⋅y ⎦"
      ]
     },
     "execution_count": 28,
     "metadata": {},
     "output_type": "execute_result"
    }
   ],
   "source": [
    "expand(transpose(DV)*f)"
   ]
  },
  {
   "cell_type": "code",
   "execution_count": null,
   "id": "cb18bcd7",
   "metadata": {},
   "outputs": [],
   "source": []
  },
  {
   "cell_type": "code",
   "execution_count": null,
   "id": "bb3ff21d",
   "metadata": {},
   "outputs": [],
   "source": []
  },
  {
   "cell_type": "code",
   "execution_count": null,
   "id": "e29cc034",
   "metadata": {},
   "outputs": [],
   "source": []
  },
  {
   "cell_type": "code",
   "execution_count": 88,
   "id": "79e31fe9",
   "metadata": {
    "ExecuteTime": {
     "end_time": "2022-06-15T12:24:06.304574Z",
     "start_time": "2022-06-15T12:24:06.295872Z"
    }
   },
   "outputs": [],
   "source": [
    "A = Matrix([[-1,-2],[3,4]])"
   ]
  },
  {
   "cell_type": "code",
   "execution_count": 91,
   "id": "3e76d62a",
   "metadata": {
    "ExecuteTime": {
     "end_time": "2022-06-15T12:26:33.012398Z",
     "start_time": "2022-06-15T12:26:32.189008Z"
    }
   },
   "outputs": [
    {
     "data": {
      "text/latex": [
       "$\\displaystyle 2 \\left(4 e^{t} - 3\\right) e^{- 3 t}$"
      ],
      "text/plain": [
       "  ⎛   t    ⎞  -3⋅t\n",
       "2⋅⎝4⋅ℯ  - 3⎠⋅ℯ    "
      ]
     },
     "execution_count": 91,
     "metadata": {},
     "output_type": "execute_result"
    },
    {
     "data": {
      "text/latex": [
       "$\\displaystyle \\left(9 - 8 e^{t}\\right) e^{- 3 t}$"
      ],
      "text/plain": [
       "⎛       t⎞  -3⋅t\n",
       "⎝9 - 8⋅ℯ ⎠⋅ℯ    "
      ]
     },
     "execution_count": 91,
     "metadata": {},
     "output_type": "execute_result"
    },
    {
     "data": {
      "text/latex": [
       "$\\displaystyle - \\frac{2}{e^{3}} + \\frac{4}{e^{2}} - 4 e^{- 2 t} + 2 e^{- 3 t}$"
      ],
      "text/plain": [
       "     -3      -2      -2⋅t      -3⋅t\n",
       "- 2⋅ℯ   + 4⋅ℯ   - 4⋅ℯ     + 2⋅ℯ    "
      ]
     },
     "execution_count": 91,
     "metadata": {},
     "output_type": "execute_result"
    },
    {
     "data": {
      "text/latex": [
       "$\\displaystyle - \\frac{4}{e^{2}} + \\frac{3}{e^{3}} + 4 e^{- 2 t} - 3 e^{- 3 t}$"
      ],
      "text/plain": [
       "     -2      -3      -2⋅t      -3⋅t\n",
       "- 4⋅ℯ   + 3⋅ℯ   + 4⋅ℯ     - 3⋅ℯ    "
      ]
     },
     "execution_count": 91,
     "metadata": {},
     "output_type": "execute_result"
    }
   ],
   "source": [
    "X = exp(A*t)\n",
    "dv1 = simplify((X**(-1)*Matrix([[2*exp(-t)],[exp(-t)]]))[0])\n",
    "dv2 = simplify((X**(-1)*Matrix([[2*exp(-t)],[exp(-t)]]))[1])\n",
    "v1 = integrate(dv1,(t,t0,t))\n",
    "v2 = integrate(dv2,(t,t0,t))\n",
    "dv1\n",
    "dv2\n",
    "v1\n",
    "v2"
   ]
  },
  {
   "cell_type": "code",
   "execution_count": 1,
   "id": "14914e96",
   "metadata": {
    "ExecuteTime": {
     "end_time": "2022-06-18T17:15:45.841462Z",
     "start_time": "2022-06-18T17:15:45.762457Z"
    }
   },
   "outputs": [
    {
     "ename": "SyntaxError",
     "evalue": "invalid syntax (Temp/ipykernel_10704/4135991625.py, line 1)",
     "output_type": "error",
     "traceback": [
      "\u001b[1;36m  File \u001b[1;32m\"C:\\Users\\17800\\AppData\\Local\\Temp/ipykernel_10704/4135991625.py\"\u001b[1;36m, line \u001b[1;32m1\u001b[0m\n\u001b[1;33m    pandoc jorek_installation.md -o jorek_installation.pdf\u001b[0m\n\u001b[1;37m           ^\u001b[0m\n\u001b[1;31mSyntaxError\u001b[0m\u001b[1;31m:\u001b[0m invalid syntax\n"
     ]
    }
   ],
   "source": [
    "pandoc jorek_installation.md -o jorek_installation.pdf"
   ]
  }
 ],
 "metadata": {
  "_draft": {
   "nbviewer_url": "https://gist.github.com/2770054648790bf27d7f12521715f0da"
  },
  "gist": {
   "data": {
    "description": "STA_微分方程.ipynb",
    "public": true
   },
   "id": "2770054648790bf27d7f12521715f0da"
  },
  "interpreter": {
   "hash": "3b6c1224657c578b9d3e2b49ca831d7f85bea0417468944a724420177cb04cf0"
  },
  "kernelspec": {
   "display_name": "Python 3 (ipykernel)",
   "language": "python",
   "name": "python3"
  },
  "language_info": {
   "codemirror_mode": {
    "name": "ipython",
    "version": 3
   },
   "file_extension": ".py",
   "mimetype": "text/x-python",
   "name": "python",
   "nbconvert_exporter": "python",
   "pygments_lexer": "ipython3",
   "version": "3.9.12"
  },
  "latex_envs": {
   "LaTeX_envs_menu_present": true,
   "autoclose": false,
   "autocomplete": true,
   "bibliofile": "biblio.bib",
   "cite_by": "apalike",
   "current_citInitial": 1,
   "eqLabelWithNumbers": false,
   "eqNumInitial": 1,
   "hotkeys": {
    "equation": "Ctrl-E",
    "itemize": "Ctrl-I"
   },
   "labels_anchors": true,
   "latex_user_defs": true,
   "report_style_numbering": false,
   "user_envs_cfg": false
  },
  "nbTranslate": {
   "displayLangs": [
    "*"
   ],
   "hotkey": "alt-t",
   "langInMainMenu": true,
   "sourceLang": "en",
   "targetLang": "fr",
   "useGoogleTranslate": true
  },
  "toc": {
   "base_numbering": 1,
   "nav_menu": {},
   "number_sections": true,
   "sideBar": true,
   "skip_h1_title": false,
   "title_cell": "Table of Contents",
   "title_sidebar": "Contents",
   "toc_cell": false,
   "toc_position": {
    "height": "353.693px",
    "left": "923px",
    "top": "171.469px",
    "width": "259px"
   },
   "toc_section_display": true,
   "toc_window_display": true
  },
  "varInspector": {
   "cols": {
    "lenName": 16,
    "lenType": 16,
    "lenVar": 40
   },
   "kernels_config": {
    "python": {
     "delete_cmd_postfix": "",
     "delete_cmd_prefix": "del ",
     "library": "var_list.py",
     "varRefreshCmd": "print(var_dic_list())"
    },
    "r": {
     "delete_cmd_postfix": ") ",
     "delete_cmd_prefix": "rm(",
     "library": "var_list.r",
     "varRefreshCmd": "cat(var_dic_list()) "
    }
   },
   "types_to_exclude": [
    "module",
    "function",
    "builtin_function_or_method",
    "instance",
    "_Feature"
   ],
   "window_display": false
  }
 },
 "nbformat": 4,
 "nbformat_minor": 5
}
