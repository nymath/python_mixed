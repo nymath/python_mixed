{
 "cells": [
  {
   "cell_type": "markdown",
   "metadata": {},
   "source": [
    "# P2P逾期预测建模\n",
    "## 文章基本信息\n",
    "\n",
    "+ 作者：孙晔\n",
    "+ 课程：python与大数据分析\n",
    "+ 学号：201519040\n",
    "+ 课程编号：CMP245\n",
    "+ 课序号：3\n",
    "+ 指导老师：刘宁宁\n",
    "\n",
    "## 摘要\n",
    "本报告使用了逻辑回归模型，对给定的数据进行学习，预测客户是否会逾期还款。本文采取默认参数和最优参数两种设置进行比较，f1score可达到0.96。最后绘制ROC曲线。"
   ]
  },
  {
   "cell_type": "code",
   "execution_count": 36,
   "metadata": {
    "ExecuteTime": {
     "end_time": "2022-06-13T09:25:12.560572Z",
     "start_time": "2022-06-13T09:25:11.800932Z"
    }
   },
   "outputs": [
    {
     "name": "stderr",
     "output_type": "stream",
     "text": [
      "D:\\Program\\Anaconda3\\lib\\site-packages\\pandas\\io\\sas\\sas7bdat.py:800: PerformanceWarning: DataFrame is highly fragmented.  This is usually the result of calling `frame.insert` many times, which has poor performance.  Consider joining all columns at once using pd.concat(axis=1) instead.  To get a de-fragmented frame, use `newframe = frame.copy()`\n",
      "  rslt[name] = self._byte_chunk[jb, :].view(dtype=self.byte_order + \"d\")\n",
      "D:\\Program\\Anaconda3\\lib\\site-packages\\pandas\\io\\sas\\sas7bdat.py:809: PerformanceWarning: DataFrame is highly fragmented.  This is usually the result of calling `frame.insert` many times, which has poor performance.  Consider joining all columns at once using pd.concat(axis=1) instead.  To get a de-fragmented frame, use `newframe = frame.copy()`\n",
      "  rslt[name] = self._string_chunk[js, :]\n"
     ]
    },
    {
     "data": {
      "text/plain": [
       "(2380, 1034)"
      ]
     },
     "execution_count": 36,
     "metadata": {},
     "output_type": "execute_result"
    }
   ],
   "source": [
    "# 导入所需库\n",
    "import numpy as np\n",
    "import pandas as pd\n",
    "import matplotlib.pyplot as plt\n",
    "\n",
    "%matplotlib inline\n",
    "plt.style.use(\"ggplot\")\n",
    "\n",
    "# 导入数据\n",
    "riskdat =  pd.read_sas('riskdat.sas7bdat')\n",
    "riskdat_c = riskdat.copy()\n",
    "\n",
    "# 数据的维度: 2380个样本, 1033个自变量, 1个因变量\n",
    "riskdat.shape"
   ]
  },
  {
   "cell_type": "code",
   "execution_count": 37,
   "metadata": {
    "ExecuteTime": {
     "end_time": "2022-06-13T09:25:13.036293Z",
     "start_time": "2022-06-13T09:25:13.007919Z"
    }
   },
   "outputs": [
    {
     "data": {
      "text/html": [
       "<div>\n",
       "<style scoped>\n",
       "    .dataframe tbody tr th:only-of-type {\n",
       "        vertical-align: middle;\n",
       "    }\n",
       "\n",
       "    .dataframe tbody tr th {\n",
       "        vertical-align: top;\n",
       "    }\n",
       "\n",
       "    .dataframe thead th {\n",
       "        text-align: right;\n",
       "    }\n",
       "</style>\n",
       "<table border=\"1\" class=\"dataframe\">\n",
       "  <thead>\n",
       "    <tr style=\"text-align: right;\">\n",
       "      <th></th>\n",
       "      <th>customer_id</th>\n",
       "      <th>CDTB234</th>\n",
       "      <th>CDCT024</th>\n",
       "      <th>CDTP144</th>\n",
       "      <th>CDTB242</th>\n",
       "      <th>CDTB229</th>\n",
       "      <th>CDTB228</th>\n",
       "      <th>CDTB262</th>\n",
       "      <th>CDTB263</th>\n",
       "      <th>CDTB264</th>\n",
       "      <th>...</th>\n",
       "      <th>CDTP175</th>\n",
       "      <th>CDTP177</th>\n",
       "      <th>CDMC337</th>\n",
       "      <th>CDMC335</th>\n",
       "      <th>CDMC333</th>\n",
       "      <th>CDMC331</th>\n",
       "      <th>CDTB301</th>\n",
       "      <th>CDTB302</th>\n",
       "      <th>SignMth</th>\n",
       "      <th>y</th>\n",
       "    </tr>\n",
       "  </thead>\n",
       "  <tbody>\n",
       "    <tr>\n",
       "      <th>0</th>\n",
       "      <td>12344.0</td>\n",
       "      <td>NaN</td>\n",
       "      <td>NaN</td>\n",
       "      <td>NaN</td>\n",
       "      <td>NaN</td>\n",
       "      <td>NaN</td>\n",
       "      <td>NaN</td>\n",
       "      <td>b'       .'</td>\n",
       "      <td>NaN</td>\n",
       "      <td>b'       .'</td>\n",
       "      <td>...</td>\n",
       "      <td>NaN</td>\n",
       "      <td>NaN</td>\n",
       "      <td>NaN</td>\n",
       "      <td>NaN</td>\n",
       "      <td>NaN</td>\n",
       "      <td>NaN</td>\n",
       "      <td>NaN</td>\n",
       "      <td>NaN</td>\n",
       "      <td>b' 201704'</td>\n",
       "      <td>0.0</td>\n",
       "    </tr>\n",
       "    <tr>\n",
       "      <th>1</th>\n",
       "      <td>12637.0</td>\n",
       "      <td>200.00</td>\n",
       "      <td>0.0</td>\n",
       "      <td>200.0</td>\n",
       "      <td>0.00</td>\n",
       "      <td>b's24'</td>\n",
       "      <td>200.00</td>\n",
       "      <td>b'5810'</td>\n",
       "      <td>400.0</td>\n",
       "      <td>b'\"null\"'</td>\n",
       "      <td>...</td>\n",
       "      <td>0.0</td>\n",
       "      <td>0.0</td>\n",
       "      <td>0.0</td>\n",
       "      <td>0.0</td>\n",
       "      <td>0.0</td>\n",
       "      <td>0.0</td>\n",
       "      <td>0.0</td>\n",
       "      <td>0.0</td>\n",
       "      <td>b' 201707'</td>\n",
       "      <td>0.0</td>\n",
       "    </tr>\n",
       "    <tr>\n",
       "      <th>2</th>\n",
       "      <td>12770.0</td>\n",
       "      <td>38.15</td>\n",
       "      <td>0.0</td>\n",
       "      <td>0.0</td>\n",
       "      <td>504.00</td>\n",
       "      <td>b'S22'</td>\n",
       "      <td>504.00</td>\n",
       "      <td>b'    1910'</td>\n",
       "      <td>921.0</td>\n",
       "      <td>b'    1000'</td>\n",
       "      <td>...</td>\n",
       "      <td>0.0</td>\n",
       "      <td>0.0</td>\n",
       "      <td>0.0</td>\n",
       "      <td>0.0</td>\n",
       "      <td>0.0</td>\n",
       "      <td>0.0</td>\n",
       "      <td>0.0</td>\n",
       "      <td>0.0</td>\n",
       "      <td>b' 201704'</td>\n",
       "      <td>0.0</td>\n",
       "    </tr>\n",
       "    <tr>\n",
       "      <th>3</th>\n",
       "      <td>15819.0</td>\n",
       "      <td>NaN</td>\n",
       "      <td>NaN</td>\n",
       "      <td>NaN</td>\n",
       "      <td>NaN</td>\n",
       "      <td>NaN</td>\n",
       "      <td>NaN</td>\n",
       "      <td>b'       .'</td>\n",
       "      <td>NaN</td>\n",
       "      <td>b'       .'</td>\n",
       "      <td>...</td>\n",
       "      <td>NaN</td>\n",
       "      <td>NaN</td>\n",
       "      <td>NaN</td>\n",
       "      <td>NaN</td>\n",
       "      <td>NaN</td>\n",
       "      <td>NaN</td>\n",
       "      <td>NaN</td>\n",
       "      <td>NaN</td>\n",
       "      <td>b' 201707'</td>\n",
       "      <td>0.0</td>\n",
       "    </tr>\n",
       "    <tr>\n",
       "      <th>4</th>\n",
       "      <td>15819.0</td>\n",
       "      <td>100.00</td>\n",
       "      <td>0.0</td>\n",
       "      <td>200.0</td>\n",
       "      <td>916.67</td>\n",
       "      <td>b's22'</td>\n",
       "      <td>916.67</td>\n",
       "      <td>b'1910'</td>\n",
       "      <td>800.0</td>\n",
       "      <td>b'\"null\"'</td>\n",
       "      <td>...</td>\n",
       "      <td>0.0</td>\n",
       "      <td>0.0</td>\n",
       "      <td>0.0</td>\n",
       "      <td>0.0</td>\n",
       "      <td>0.0</td>\n",
       "      <td>0.0</td>\n",
       "      <td>0.0</td>\n",
       "      <td>0.0</td>\n",
       "      <td>b' 201707'</td>\n",
       "      <td>0.0</td>\n",
       "    </tr>\n",
       "  </tbody>\n",
       "</table>\n",
       "<p>5 rows × 1034 columns</p>\n",
       "</div>"
      ],
      "text/plain": [
       "   customer_id  CDTB234  CDCT024  CDTP144  CDTB242 CDTB229  CDTB228  \\\n",
       "0      12344.0      NaN      NaN      NaN      NaN     NaN      NaN   \n",
       "1      12637.0   200.00      0.0    200.0     0.00  b's24'   200.00   \n",
       "2      12770.0    38.15      0.0      0.0   504.00  b'S22'   504.00   \n",
       "3      15819.0      NaN      NaN      NaN      NaN     NaN      NaN   \n",
       "4      15819.0   100.00      0.0    200.0   916.67  b's22'   916.67   \n",
       "\n",
       "       CDTB262  CDTB263      CDTB264  ...  CDTP175 CDTP177  CDMC337 CDMC335  \\\n",
       "0  b'       .'      NaN  b'       .'  ...      NaN     NaN      NaN     NaN   \n",
       "1      b'5810'    400.0    b'\"null\"'  ...      0.0     0.0      0.0     0.0   \n",
       "2  b'    1910'    921.0  b'    1000'  ...      0.0     0.0      0.0     0.0   \n",
       "3  b'       .'      NaN  b'       .'  ...      NaN     NaN      NaN     NaN   \n",
       "4      b'1910'    800.0    b'\"null\"'  ...      0.0     0.0      0.0     0.0   \n",
       "\n",
       "  CDMC333 CDMC331  CDTB301  CDTB302     SignMth    y  \n",
       "0     NaN     NaN      NaN      NaN  b' 201704'  0.0  \n",
       "1     0.0     0.0      0.0      0.0  b' 201707'  0.0  \n",
       "2     0.0     0.0      0.0      0.0  b' 201704'  0.0  \n",
       "3     NaN     NaN      NaN      NaN  b' 201707'  0.0  \n",
       "4     0.0     0.0      0.0      0.0  b' 201707'  0.0  \n",
       "\n",
       "[5 rows x 1034 columns]"
      ]
     },
     "execution_count": 37,
     "metadata": {},
     "output_type": "execute_result"
    }
   ],
   "source": [
    "# 查看数据\n",
    "riskdat.head()"
   ]
  },
  {
   "cell_type": "code",
   "execution_count": 38,
   "metadata": {
    "ExecuteTime": {
     "end_time": "2022-06-13T09:25:13.731687Z",
     "start_time": "2022-06-13T09:25:13.710510Z"
    }
   },
   "outputs": [
    {
     "data": {
      "text/plain": [
       "0.0    2334\n",
       "1.0      46\n",
       "Name: y, dtype: int64"
      ]
     },
     "execution_count": 38,
     "metadata": {},
     "output_type": "execute_result"
    }
   ],
   "source": [
    "# 查看总体回归\n",
    "riskdat.y.value_counts()"
   ]
  },
  {
   "cell_type": "code",
   "execution_count": 39,
   "metadata": {
    "ExecuteTime": {
     "end_time": "2022-06-13T09:25:14.272659Z",
     "start_time": "2022-06-13T09:25:14.224130Z"
    }
   },
   "outputs": [
    {
     "name": "stderr",
     "output_type": "stream",
     "text": [
      "C:\\Users\\17800\\AppData\\Local\\Temp/ipykernel_15112/2105426578.py:2: UserWarning: Pandas doesn't allow columns to be created via a new attribute name - see https://pandas.pydata.org/pandas-docs/stable/indexing.html#attribute-access\n",
      "  riskdat.missing_var = riskdat.isnull().sum(axis=1)\n"
     ]
    }
   ],
   "source": [
    "# 每个样本的缺失变量数\n",
    "riskdat.missing_var = riskdat.isnull().sum(axis=1)"
   ]
  },
  {
   "cell_type": "code",
   "execution_count": 40,
   "metadata": {
    "ExecuteTime": {
     "end_time": "2022-06-13T09:25:14.773637Z",
     "start_time": "2022-06-13T09:25:14.719815Z"
    }
   },
   "outputs": [
    {
     "data": {
      "text/plain": [
       "(2060, 1034)"
      ]
     },
     "execution_count": 40,
     "metadata": {},
     "output_type": "execute_result"
    }
   ],
   "source": [
    "# 部分样本有90%以上的变量是缺失的, 直接删去这些样本\n",
    "# 剩余2060个样本\n",
    "riskdat = riskdat.loc[riskdat.missing_var < 100, :]\n",
    "riskdat.shape"
   ]
  },
  {
   "cell_type": "code",
   "execution_count": 41,
   "metadata": {
    "ExecuteTime": {
     "end_time": "2022-06-13T09:25:15.194724Z",
     "start_time": "2022-06-13T09:25:15.167724Z"
    }
   },
   "outputs": [
    {
     "data": {
      "text/html": [
       "<div>\n",
       "<style scoped>\n",
       "    .dataframe tbody tr th:only-of-type {\n",
       "        vertical-align: middle;\n",
       "    }\n",
       "\n",
       "    .dataframe tbody tr th {\n",
       "        vertical-align: top;\n",
       "    }\n",
       "\n",
       "    .dataframe thead th {\n",
       "        text-align: right;\n",
       "    }\n",
       "</style>\n",
       "<table border=\"1\" class=\"dataframe\">\n",
       "  <thead>\n",
       "    <tr style=\"text-align: right;\">\n",
       "      <th></th>\n",
       "      <th>customer_id</th>\n",
       "      <th>CDTB234</th>\n",
       "      <th>CDCT024</th>\n",
       "      <th>CDTP144</th>\n",
       "      <th>CDTB242</th>\n",
       "      <th>CDTB229</th>\n",
       "      <th>CDTB228</th>\n",
       "      <th>CDTB262</th>\n",
       "      <th>CDTB263</th>\n",
       "      <th>CDTB264</th>\n",
       "      <th>...</th>\n",
       "      <th>CDTP175</th>\n",
       "      <th>CDTP177</th>\n",
       "      <th>CDMC337</th>\n",
       "      <th>CDMC335</th>\n",
       "      <th>CDMC333</th>\n",
       "      <th>CDMC331</th>\n",
       "      <th>CDTB301</th>\n",
       "      <th>CDTB302</th>\n",
       "      <th>SignMth</th>\n",
       "      <th>y</th>\n",
       "    </tr>\n",
       "  </thead>\n",
       "  <tbody>\n",
       "    <tr>\n",
       "      <th>1</th>\n",
       "      <td>12637.0</td>\n",
       "      <td>200.00</td>\n",
       "      <td>0.0</td>\n",
       "      <td>200.0</td>\n",
       "      <td>0.00</td>\n",
       "      <td>b's24'</td>\n",
       "      <td>200.00</td>\n",
       "      <td>b'5810'</td>\n",
       "      <td>400.0</td>\n",
       "      <td>b'\"null\"'</td>\n",
       "      <td>...</td>\n",
       "      <td>0.0</td>\n",
       "      <td>0.0</td>\n",
       "      <td>0.0</td>\n",
       "      <td>0.0</td>\n",
       "      <td>0.0</td>\n",
       "      <td>0.0</td>\n",
       "      <td>0.0</td>\n",
       "      <td>0.0</td>\n",
       "      <td>b' 201707'</td>\n",
       "      <td>0.0</td>\n",
       "    </tr>\n",
       "    <tr>\n",
       "      <th>2</th>\n",
       "      <td>12770.0</td>\n",
       "      <td>38.15</td>\n",
       "      <td>0.0</td>\n",
       "      <td>0.0</td>\n",
       "      <td>504.00</td>\n",
       "      <td>b'S22'</td>\n",
       "      <td>504.00</td>\n",
       "      <td>b'    1910'</td>\n",
       "      <td>921.0</td>\n",
       "      <td>b'    1000'</td>\n",
       "      <td>...</td>\n",
       "      <td>0.0</td>\n",
       "      <td>0.0</td>\n",
       "      <td>0.0</td>\n",
       "      <td>0.0</td>\n",
       "      <td>0.0</td>\n",
       "      <td>0.0</td>\n",
       "      <td>0.0</td>\n",
       "      <td>0.0</td>\n",
       "      <td>b' 201704'</td>\n",
       "      <td>0.0</td>\n",
       "    </tr>\n",
       "    <tr>\n",
       "      <th>4</th>\n",
       "      <td>15819.0</td>\n",
       "      <td>100.00</td>\n",
       "      <td>0.0</td>\n",
       "      <td>200.0</td>\n",
       "      <td>916.67</td>\n",
       "      <td>b's22'</td>\n",
       "      <td>916.67</td>\n",
       "      <td>b'1910'</td>\n",
       "      <td>800.0</td>\n",
       "      <td>b'\"null\"'</td>\n",
       "      <td>...</td>\n",
       "      <td>0.0</td>\n",
       "      <td>0.0</td>\n",
       "      <td>0.0</td>\n",
       "      <td>0.0</td>\n",
       "      <td>0.0</td>\n",
       "      <td>0.0</td>\n",
       "      <td>0.0</td>\n",
       "      <td>0.0</td>\n",
       "      <td>b' 201707'</td>\n",
       "      <td>0.0</td>\n",
       "    </tr>\n",
       "    <tr>\n",
       "      <th>5</th>\n",
       "      <td>16218.0</td>\n",
       "      <td>27.50</td>\n",
       "      <td>0.0</td>\n",
       "      <td>500.0</td>\n",
       "      <td>48.00</td>\n",
       "      <td>b'S24'</td>\n",
       "      <td>500.00</td>\n",
       "      <td>b'    7910'</td>\n",
       "      <td>1648.0</td>\n",
       "      <td>b'    7930'</td>\n",
       "      <td>...</td>\n",
       "      <td>0.0</td>\n",
       "      <td>0.0</td>\n",
       "      <td>0.0</td>\n",
       "      <td>0.0</td>\n",
       "      <td>0.0</td>\n",
       "      <td>0.0</td>\n",
       "      <td>0.0</td>\n",
       "      <td>0.0</td>\n",
       "      <td>b' 201706'</td>\n",
       "      <td>0.0</td>\n",
       "    </tr>\n",
       "    <tr>\n",
       "      <th>6</th>\n",
       "      <td>17451.0</td>\n",
       "      <td>100.00</td>\n",
       "      <td>0.0</td>\n",
       "      <td>1500.0</td>\n",
       "      <td>3178.00</td>\n",
       "      <td>b'S22'</td>\n",
       "      <td>3178.00</td>\n",
       "      <td>b'    5810'</td>\n",
       "      <td>7913.0</td>\n",
       "      <td>b'       .'</td>\n",
       "      <td>...</td>\n",
       "      <td>0.0</td>\n",
       "      <td>0.0</td>\n",
       "      <td>0.0</td>\n",
       "      <td>0.0</td>\n",
       "      <td>0.0</td>\n",
       "      <td>0.0</td>\n",
       "      <td>0.0</td>\n",
       "      <td>0.0</td>\n",
       "      <td>b' 201706'</td>\n",
       "      <td>0.0</td>\n",
       "    </tr>\n",
       "  </tbody>\n",
       "</table>\n",
       "<p>5 rows × 1034 columns</p>\n",
       "</div>"
      ],
      "text/plain": [
       "   customer_id  CDTB234  CDCT024  CDTP144  CDTB242 CDTB229  CDTB228  \\\n",
       "1      12637.0   200.00      0.0    200.0     0.00  b's24'   200.00   \n",
       "2      12770.0    38.15      0.0      0.0   504.00  b'S22'   504.00   \n",
       "4      15819.0   100.00      0.0    200.0   916.67  b's22'   916.67   \n",
       "5      16218.0    27.50      0.0    500.0    48.00  b'S24'   500.00   \n",
       "6      17451.0   100.00      0.0   1500.0  3178.00  b'S22'  3178.00   \n",
       "\n",
       "       CDTB262  CDTB263      CDTB264  ...  CDTP175 CDTP177  CDMC337 CDMC335  \\\n",
       "1      b'5810'    400.0    b'\"null\"'  ...      0.0     0.0      0.0     0.0   \n",
       "2  b'    1910'    921.0  b'    1000'  ...      0.0     0.0      0.0     0.0   \n",
       "4      b'1910'    800.0    b'\"null\"'  ...      0.0     0.0      0.0     0.0   \n",
       "5  b'    7910'   1648.0  b'    7930'  ...      0.0     0.0      0.0     0.0   \n",
       "6  b'    5810'   7913.0  b'       .'  ...      0.0     0.0      0.0     0.0   \n",
       "\n",
       "  CDMC333 CDMC331  CDTB301  CDTB302     SignMth    y  \n",
       "1     0.0     0.0      0.0      0.0  b' 201707'  0.0  \n",
       "2     0.0     0.0      0.0      0.0  b' 201704'  0.0  \n",
       "4     0.0     0.0      0.0      0.0  b' 201707'  0.0  \n",
       "5     0.0     0.0      0.0      0.0  b' 201706'  0.0  \n",
       "6     0.0     0.0      0.0      0.0  b' 201706'  0.0  \n",
       "\n",
       "[5 rows x 1034 columns]"
      ]
     },
     "execution_count": 41,
     "metadata": {},
     "output_type": "execute_result"
    }
   ],
   "source": [
    "riskdat.head()"
   ]
  },
  {
   "cell_type": "code",
   "execution_count": 42,
   "metadata": {
    "ExecuteTime": {
     "end_time": "2022-06-13T09:25:15.672601Z",
     "start_time": "2022-06-13T09:25:15.636020Z"
    }
   },
   "outputs": [
    {
     "data": {
      "text/plain": [
       "(2060, 977)"
      ]
     },
     "execution_count": 42,
     "metadata": {},
     "output_type": "execute_result"
    }
   ],
   "source": [
    "# 某些变量全部为0, 不能提供有效信息, 因此删除\n",
    "riskdat = riskdat.loc[:, ~(riskdat == 0).all(axis=0)]\n",
    "riskdat.shape"
   ]
  },
  {
   "cell_type": "code",
   "execution_count": 43,
   "metadata": {
    "ExecuteTime": {
     "end_time": "2022-06-13T09:25:16.010616Z",
     "start_time": "2022-06-13T09:25:15.989657Z"
    },
    "scrolled": false
   },
   "outputs": [
    {
     "data": {
      "text/html": [
       "<div>\n",
       "<style scoped>\n",
       "    .dataframe tbody tr th:only-of-type {\n",
       "        vertical-align: middle;\n",
       "    }\n",
       "\n",
       "    .dataframe tbody tr th {\n",
       "        vertical-align: top;\n",
       "    }\n",
       "\n",
       "    .dataframe thead th {\n",
       "        text-align: right;\n",
       "    }\n",
       "</style>\n",
       "<table border=\"1\" class=\"dataframe\">\n",
       "  <thead>\n",
       "    <tr style=\"text-align: right;\">\n",
       "      <th></th>\n",
       "      <th>CDTB229</th>\n",
       "      <th>CDTB262</th>\n",
       "      <th>CDTB264</th>\n",
       "      <th>CDTB266</th>\n",
       "      <th>CDTB268</th>\n",
       "      <th>CDTB269</th>\n",
       "      <th>CDTB270</th>\n",
       "      <th>CDCT018</th>\n",
       "      <th>CDMC292</th>\n",
       "      <th>CDMC299</th>\n",
       "      <th>...</th>\n",
       "      <th>CDTB153</th>\n",
       "      <th>CDCA006</th>\n",
       "      <th>CDCA007</th>\n",
       "      <th>CDTP090</th>\n",
       "      <th>CDCA001</th>\n",
       "      <th>CDCA003</th>\n",
       "      <th>CDCA005</th>\n",
       "      <th>CDCA004</th>\n",
       "      <th>CDCA002</th>\n",
       "      <th>SignMth</th>\n",
       "    </tr>\n",
       "  </thead>\n",
       "  <tbody>\n",
       "    <tr>\n",
       "      <th>1</th>\n",
       "      <td>b's24'</td>\n",
       "      <td>b'5810'</td>\n",
       "      <td>b'\"null\"'</td>\n",
       "      <td>b'\"null\"'</td>\n",
       "      <td>b'\\xb9\\xe3\\xd6\\xdd\\xca\\xd0'</td>\n",
       "      <td>b'\"null\"'</td>\n",
       "      <td>b'\"null\"'</td>\n",
       "      <td>b'\"null\"'</td>\n",
       "      <td>b'6011'</td>\n",
       "      <td>b'\"null\"'</td>\n",
       "      <td>...</td>\n",
       "      <td>b'\"null\"'</td>\n",
       "      <td>b'cup'</td>\n",
       "      <td>b'\"null\"'</td>\n",
       "      <td>b'\"null\"'</td>\n",
       "      <td>b'debit'</td>\n",
       "      <td>b'01'</td>\n",
       "      <td>b'\\xd6\\xd0\\xb9\\xfa\\xc5\\xa9\\xd2\\xb5\\xd2\\xf8\\xd0...</td>\n",
       "      <td>b'\\xbd\\xf0\\xcb\\xeb\\xcd\\xa8\\xb1\\xa6\\xbf\\xa8(\\xd...</td>\n",
       "      <td>b'\"null\"'</td>\n",
       "      <td>b' 201707'</td>\n",
       "    </tr>\n",
       "    <tr>\n",
       "      <th>2</th>\n",
       "      <td>b'S22'</td>\n",
       "      <td>b'    1910'</td>\n",
       "      <td>b'    1000'</td>\n",
       "      <td>b'       .'</td>\n",
       "      <td>b'\\xba\\xf4\\xba\\xcd\\xba\\xc6'</td>\n",
       "      <td>b'\\xb1\\xb1\\xbe\\xa9\\xca\\xd0'</td>\n",
       "      <td>NaN</td>\n",
       "      <td>NaN</td>\n",
       "      <td>b'    4511'</td>\n",
       "      <td>b'    7311'</td>\n",
       "      <td>...</td>\n",
       "      <td>NaN</td>\n",
       "      <td>b'CUP'</td>\n",
       "      <td>NaN</td>\n",
       "      <td>NaN</td>\n",
       "      <td>b'debit'</td>\n",
       "      <td>b'       1'</td>\n",
       "      <td>b'\\xbd\\xa8\\xc9\\xe8\\xd2\\xf8\\xd0\\xd0'</td>\n",
       "      <td>b'\\xbd\\xe1\\xcb\\xe3\\xcd\\xa8\\xbd\\xe8\\xbc\\xc7\\xbf...</td>\n",
       "      <td>NaN</td>\n",
       "      <td>b' 201704'</td>\n",
       "    </tr>\n",
       "    <tr>\n",
       "      <th>4</th>\n",
       "      <td>b's22'</td>\n",
       "      <td>b'1910'</td>\n",
       "      <td>b'\"null\"'</td>\n",
       "      <td>b'\"null\"'</td>\n",
       "      <td>b'\\xba\\xf4\\xba\\xcd\\xba\\xc6\\xcc\\xd8\\xca\\xd0'</td>\n",
       "      <td>b'\"null\"'</td>\n",
       "      <td>b'\"null\"'</td>\n",
       "      <td>b'\"null\"'</td>\n",
       "      <td>b'5398'</td>\n",
       "      <td>b'6011'</td>\n",
       "      <td>...</td>\n",
       "      <td>b'\\xba\\xf4\\xba\\xcd\\xba\\xc6\\xcc\\xd8\\xca\\xd0'</td>\n",
       "      <td>b'cup'</td>\n",
       "      <td>b'\\xc2\\xc3\\xd3\\xce\\xbf\\xa8'</td>\n",
       "      <td>b'\"null\"'</td>\n",
       "      <td>b'debit'</td>\n",
       "      <td>b'01'</td>\n",
       "      <td>b'\\xb9\\xa4\\xc9\\xcc\\xd2\\xf8\\xd0\\xd0'</td>\n",
       "      <td>b'\\xb8\\xa3\\xc5\\xa9\\xc1\\xe9\\xcd\\xa8\\xbf\\xa8'</td>\n",
       "      <td>b'\"null\"'</td>\n",
       "      <td>b' 201707'</td>\n",
       "    </tr>\n",
       "  </tbody>\n",
       "</table>\n",
       "<p>3 rows × 74 columns</p>\n",
       "</div>"
      ],
      "text/plain": [
       "  CDTB229      CDTB262      CDTB264      CDTB266  \\\n",
       "1  b's24'      b'5810'    b'\"null\"'    b'\"null\"'   \n",
       "2  b'S22'  b'    1910'  b'    1000'  b'       .'   \n",
       "4  b's22'      b'1910'    b'\"null\"'    b'\"null\"'   \n",
       "\n",
       "                                       CDTB268                      CDTB269  \\\n",
       "1                  b'\\xb9\\xe3\\xd6\\xdd\\xca\\xd0'                    b'\"null\"'   \n",
       "2                  b'\\xba\\xf4\\xba\\xcd\\xba\\xc6'  b'\\xb1\\xb1\\xbe\\xa9\\xca\\xd0'   \n",
       "4  b'\\xba\\xf4\\xba\\xcd\\xba\\xc6\\xcc\\xd8\\xca\\xd0'                    b'\"null\"'   \n",
       "\n",
       "     CDTB270    CDCT018      CDMC292      CDMC299  ...  \\\n",
       "1  b'\"null\"'  b'\"null\"'      b'6011'    b'\"null\"'  ...   \n",
       "2        NaN        NaN  b'    4511'  b'    7311'  ...   \n",
       "4  b'\"null\"'  b'\"null\"'      b'5398'      b'6011'  ...   \n",
       "\n",
       "                                       CDTB153 CDCA006  \\\n",
       "1                                    b'\"null\"'  b'cup'   \n",
       "2                                          NaN  b'CUP'   \n",
       "4  b'\\xba\\xf4\\xba\\xcd\\xba\\xc6\\xcc\\xd8\\xca\\xd0'  b'cup'   \n",
       "\n",
       "                       CDCA007    CDTP090   CDCA001      CDCA003  \\\n",
       "1                    b'\"null\"'  b'\"null\"'  b'debit'        b'01'   \n",
       "2                          NaN        NaN  b'debit'  b'       1'   \n",
       "4  b'\\xc2\\xc3\\xd3\\xce\\xbf\\xa8'  b'\"null\"'  b'debit'        b'01'   \n",
       "\n",
       "                                             CDCA005  \\\n",
       "1  b'\\xd6\\xd0\\xb9\\xfa\\xc5\\xa9\\xd2\\xb5\\xd2\\xf8\\xd0...   \n",
       "2                b'\\xbd\\xa8\\xc9\\xe8\\xd2\\xf8\\xd0\\xd0'   \n",
       "4                b'\\xb9\\xa4\\xc9\\xcc\\xd2\\xf8\\xd0\\xd0'   \n",
       "\n",
       "                                             CDCA004    CDCA002     SignMth  \n",
       "1  b'\\xbd\\xf0\\xcb\\xeb\\xcd\\xa8\\xb1\\xa6\\xbf\\xa8(\\xd...  b'\"null\"'  b' 201707'  \n",
       "2  b'\\xbd\\xe1\\xcb\\xe3\\xcd\\xa8\\xbd\\xe8\\xbc\\xc7\\xbf...        NaN  b' 201704'  \n",
       "4        b'\\xb8\\xa3\\xc5\\xa9\\xc1\\xe9\\xcd\\xa8\\xbf\\xa8'  b'\"null\"'  b' 201707'  \n",
       "\n",
       "[3 rows x 74 columns]"
      ]
     },
     "execution_count": 43,
     "metadata": {},
     "output_type": "execute_result"
    }
   ],
   "source": [
    "# 非数值型变量\n",
    "riskdat_sub2 = riskdat.select_dtypes(include=['object'])\n",
    "riskdat_sub2.head(3)"
   ]
  },
  {
   "cell_type": "code",
   "execution_count": 44,
   "metadata": {
    "ExecuteTime": {
     "end_time": "2022-06-13T09:25:16.353503Z",
     "start_time": "2022-06-13T09:25:16.323117Z"
    }
   },
   "outputs": [
    {
     "data": {
      "text/plain": [
       "customer_id    False\n",
       "CDTB234        False\n",
       "CDCT024        False\n",
       "CDTP144        False\n",
       "CDTB242        False\n",
       "               ...  \n",
       "CDTP177        False\n",
       "CDTB301        False\n",
       "CDTB302        False\n",
       "SignMth        False\n",
       "y              False\n",
       "Length: 977, dtype: bool"
      ]
     },
     "execution_count": 44,
     "metadata": {},
     "output_type": "execute_result"
    }
   ],
   "source": [
    "(riskdat==0).all(axis=0)"
   ]
  },
  {
   "cell_type": "code",
   "execution_count": 45,
   "metadata": {
    "ExecuteTime": {
     "end_time": "2022-06-13T09:25:16.724889Z",
     "start_time": "2022-06-13T09:25:16.689801Z"
    }
   },
   "outputs": [
    {
     "data": {
      "text/html": [
       "<div>\n",
       "<style scoped>\n",
       "    .dataframe tbody tr th:only-of-type {\n",
       "        vertical-align: middle;\n",
       "    }\n",
       "\n",
       "    .dataframe tbody tr th {\n",
       "        vertical-align: top;\n",
       "    }\n",
       "\n",
       "    .dataframe thead th {\n",
       "        text-align: right;\n",
       "    }\n",
       "</style>\n",
       "<table border=\"1\" class=\"dataframe\">\n",
       "  <thead>\n",
       "    <tr style=\"text-align: right;\">\n",
       "      <th></th>\n",
       "      <th>customer_id</th>\n",
       "      <th>CDTB234</th>\n",
       "      <th>CDCT024</th>\n",
       "      <th>CDTP144</th>\n",
       "      <th>CDTB242</th>\n",
       "      <th>CDTB228</th>\n",
       "      <th>CDTB263</th>\n",
       "      <th>CDTB265</th>\n",
       "      <th>CDTB267</th>\n",
       "      <th>CDTB260</th>\n",
       "      <th>...</th>\n",
       "      <th>CDTP173</th>\n",
       "      <th>CDTP171</th>\n",
       "      <th>CDTB303</th>\n",
       "      <th>CDTB304</th>\n",
       "      <th>CDTP172</th>\n",
       "      <th>CDTP175</th>\n",
       "      <th>CDTP177</th>\n",
       "      <th>CDTB301</th>\n",
       "      <th>CDTB302</th>\n",
       "      <th>y</th>\n",
       "    </tr>\n",
       "  </thead>\n",
       "  <tbody>\n",
       "    <tr>\n",
       "      <th>1</th>\n",
       "      <td>12637.0</td>\n",
       "      <td>200.00</td>\n",
       "      <td>0.0</td>\n",
       "      <td>200.0</td>\n",
       "      <td>0.00</td>\n",
       "      <td>200.00</td>\n",
       "      <td>400.0</td>\n",
       "      <td>0.0</td>\n",
       "      <td>0.0</td>\n",
       "      <td>1.0</td>\n",
       "      <td>...</td>\n",
       "      <td>0.0</td>\n",
       "      <td>0.0</td>\n",
       "      <td>0.0</td>\n",
       "      <td>0.0</td>\n",
       "      <td>0.0</td>\n",
       "      <td>0.0</td>\n",
       "      <td>0.0</td>\n",
       "      <td>0.0</td>\n",
       "      <td>0.0</td>\n",
       "      <td>0.0</td>\n",
       "    </tr>\n",
       "    <tr>\n",
       "      <th>2</th>\n",
       "      <td>12770.0</td>\n",
       "      <td>38.15</td>\n",
       "      <td>0.0</td>\n",
       "      <td>0.0</td>\n",
       "      <td>504.00</td>\n",
       "      <td>504.00</td>\n",
       "      <td>921.0</td>\n",
       "      <td>160.0</td>\n",
       "      <td>0.0</td>\n",
       "      <td>2.0</td>\n",
       "      <td>...</td>\n",
       "      <td>0.0</td>\n",
       "      <td>0.0</td>\n",
       "      <td>0.0</td>\n",
       "      <td>0.0</td>\n",
       "      <td>0.0</td>\n",
       "      <td>0.0</td>\n",
       "      <td>0.0</td>\n",
       "      <td>0.0</td>\n",
       "      <td>0.0</td>\n",
       "      <td>0.0</td>\n",
       "    </tr>\n",
       "    <tr>\n",
       "      <th>4</th>\n",
       "      <td>15819.0</td>\n",
       "      <td>100.00</td>\n",
       "      <td>0.0</td>\n",
       "      <td>200.0</td>\n",
       "      <td>916.67</td>\n",
       "      <td>916.67</td>\n",
       "      <td>800.0</td>\n",
       "      <td>0.0</td>\n",
       "      <td>0.0</td>\n",
       "      <td>1.0</td>\n",
       "      <td>...</td>\n",
       "      <td>0.0</td>\n",
       "      <td>0.0</td>\n",
       "      <td>0.0</td>\n",
       "      <td>0.0</td>\n",
       "      <td>0.0</td>\n",
       "      <td>0.0</td>\n",
       "      <td>0.0</td>\n",
       "      <td>0.0</td>\n",
       "      <td>0.0</td>\n",
       "      <td>0.0</td>\n",
       "    </tr>\n",
       "  </tbody>\n",
       "</table>\n",
       "<p>3 rows × 903 columns</p>\n",
       "</div>"
      ],
      "text/plain": [
       "   customer_id  CDTB234  CDCT024  CDTP144  CDTB242  CDTB228  CDTB263  CDTB265  \\\n",
       "1      12637.0   200.00      0.0    200.0     0.00   200.00    400.0      0.0   \n",
       "2      12770.0    38.15      0.0      0.0   504.00   504.00    921.0    160.0   \n",
       "4      15819.0   100.00      0.0    200.0   916.67   916.67    800.0      0.0   \n",
       "\n",
       "   CDTB267  CDTB260  ...  CDTP173  CDTP171  CDTB303  CDTB304  CDTP172  \\\n",
       "1      0.0      1.0  ...      0.0      0.0      0.0      0.0      0.0   \n",
       "2      0.0      2.0  ...      0.0      0.0      0.0      0.0      0.0   \n",
       "4      0.0      1.0  ...      0.0      0.0      0.0      0.0      0.0   \n",
       "\n",
       "   CDTP175  CDTP177  CDTB301  CDTB302    y  \n",
       "1      0.0      0.0      0.0      0.0  0.0  \n",
       "2      0.0      0.0      0.0      0.0  0.0  \n",
       "4      0.0      0.0      0.0      0.0  0.0  \n",
       "\n",
       "[3 rows x 903 columns]"
      ]
     },
     "execution_count": 45,
     "metadata": {},
     "output_type": "execute_result"
    }
   ],
   "source": [
    "# 仅抽取数值型变量\n",
    "riskdat_sub1 = riskdat.select_dtypes(exclude=['object'])\n",
    "riskdat_sub1.head(3)"
   ]
  },
  {
   "cell_type": "code",
   "execution_count": 46,
   "metadata": {
    "ExecuteTime": {
     "end_time": "2022-06-13T09:25:17.081878Z",
     "start_time": "2022-06-13T09:25:16.975839Z"
    }
   },
   "outputs": [
    {
     "data": {
      "text/plain": [
       "(2060, 903)"
      ]
     },
     "execution_count": 46,
     "metadata": {},
     "output_type": "execute_result"
    }
   ],
   "source": [
    "# 用均值填补缺失的数值变量\n",
    "riskdat_sub1 = riskdat_sub1.fillna(riskdat_sub1.mean())\n",
    "riskdat_sub1.shape"
   ]
  },
  {
   "cell_type": "code",
   "execution_count": 47,
   "metadata": {
    "ExecuteTime": {
     "end_time": "2022-06-13T09:25:17.267912Z",
     "start_time": "2022-06-13T09:25:17.254899Z"
    }
   },
   "outputs": [
    {
     "data": {
      "text/plain": [
       "((2060, 901), (2060,))"
      ]
     },
     "execution_count": 47,
     "metadata": {},
     "output_type": "execute_result"
    }
   ],
   "source": [
    "# 定义X与y方便建模\n",
    "X1, y1 = riskdat_sub1.iloc[:, 1:-1], riskdat_sub1.y\n",
    "X1.shape, y1.shape"
   ]
  },
  {
   "cell_type": "code",
   "execution_count": 48,
   "metadata": {
    "ExecuteTime": {
     "end_time": "2022-06-13T09:25:17.563679Z",
     "start_time": "2022-06-13T09:25:17.549490Z"
    }
   },
   "outputs": [],
   "source": [
    "# 建模所需库\n",
    "from sklearn.linear_model import LogisticRegression\n",
    "from sklearn.ensemble import RandomForestClassifier\n",
    "from sklearn.model_selection import train_test_split\n",
    "from sklearn.model_selection import GridSearchCV\n",
    "from sklearn.metrics import confusion_matrix, classification_report, roc_curve, auc"
   ]
  },
  {
   "cell_type": "code",
   "execution_count": 49,
   "metadata": {
    "ExecuteTime": {
     "end_time": "2022-06-13T09:25:17.752001Z",
     "start_time": "2022-06-13T09:25:17.738471Z"
    }
   },
   "outputs": [
    {
     "data": {
      "text/plain": [
       "(0.9864077669902913, 0.013592233009708738)"
      ]
     },
     "execution_count": 49,
     "metadata": {},
     "output_type": "execute_result"
    }
   ],
   "source": [
    "# 正负样本比例\n",
    "np.mean(y1 == 0), np.mean(y1 == 1)"
   ]
  },
  {
   "cell_type": "code",
   "execution_count": 50,
   "metadata": {
    "ExecuteTime": {
     "end_time": "2022-06-13T09:25:17.967173Z",
     "start_time": "2022-06-13T09:25:17.938606Z"
    }
   },
   "outputs": [
    {
     "data": {
      "text/plain": [
       "((1442, 901), (1442,), (618, 901), (618,))"
      ]
     },
     "execution_count": 50,
     "metadata": {},
     "output_type": "execute_result"
    }
   ],
   "source": [
    "# 训练集和测试集拆分\n",
    "# 获取百分之70的样本\n",
    "X1_train, X1_val, y1_train, y1_val = train_test_split(X1.values, y1.values, test_size=0.3, random_state=114)\n",
    "X1_train.shape, y1_train.shape, X1_val.shape, y1_val.shape"
   ]
  },
  {
   "cell_type": "code",
   "execution_count": 51,
   "metadata": {
    "ExecuteTime": {
     "end_time": "2022-06-13T09:25:18.181631Z",
     "start_time": "2022-06-13T09:25:18.170472Z"
    }
   },
   "outputs": [
    {
     "data": {
      "text/plain": [
       "(0.9868238557558946, 0.013176144244105409)"
      ]
     },
     "execution_count": 51,
     "metadata": {},
     "output_type": "execute_result"
    }
   ],
   "source": [
    "# 训练集中的正负样本比例\n",
    "np.mean(y1_train == 0), np.mean(y1_train == 1)"
   ]
  },
  {
   "cell_type": "code",
   "execution_count": 52,
   "metadata": {
    "ExecuteTime": {
     "end_time": "2022-06-13T09:25:18.461087Z",
     "start_time": "2022-06-13T09:25:18.355620Z"
    }
   },
   "outputs": [
    {
     "name": "stdout",
     "output_type": "stream",
     "text": [
      "Confusion matrix (training):\n",
      " [[1280  143]\n",
      " [  11    8]]\n",
      "\n",
      "Classification report (training):\n",
      "               precision    recall  f1-score   support\n",
      "\n",
      "         0.0       0.99      0.90      0.94      1423\n",
      "         1.0       0.05      0.42      0.09        19\n",
      "\n",
      "    accuracy                           0.89      1442\n",
      "   macro avg       0.52      0.66      0.52      1442\n",
      "weighted avg       0.98      0.89      0.93      1442\n",
      "\n",
      "Confusion matrix (validation):\n",
      " [[541  68]\n",
      " [  7   2]]\n",
      "\n",
      "Classification report (validation):\n",
      "               precision    recall  f1-score   support\n",
      "\n",
      "         0.0       0.99      0.89      0.94       609\n",
      "         1.0       0.03      0.22      0.05         9\n",
      "\n",
      "    accuracy                           0.88       618\n",
      "   macro avg       0.51      0.56      0.49       618\n",
      "weighted avg       0.97      0.88      0.92       618\n",
      "\n"
     ]
    },
    {
     "name": "stderr",
     "output_type": "stream",
     "text": [
      "D:\\Program\\Anaconda3\\lib\\site-packages\\sklearn\\linear_model\\_logistic.py:763: ConvergenceWarning: lbfgs failed to converge (status=1):\n",
      "STOP: TOTAL NO. of ITERATIONS REACHED LIMIT.\n",
      "\n",
      "Increase the number of iterations (max_iter) or scale the data as shown in:\n",
      "    https://scikit-learn.org/stable/modules/preprocessing.html\n",
      "Please also refer to the documentation for alternative solver options:\n",
      "    https://scikit-learn.org/stable/modules/linear_model.html#logistic-regression\n",
      "  n_iter_i = _check_optimize_result(\n"
     ]
    }
   ],
   "source": [
    "# 构建一个逻辑回归模型, 采用默认参数设置\n",
    "lr_clf1 = LogisticRegression(class_weight={0: 0.03, 1: 0.97})\n",
    "lr_clf1.fit(X1_train, y1_train)\n",
    "y1_train_pred = lr_clf1.predict(X1_train)\n",
    "print(\"Confusion matrix (training):\\n {0}\\n\".format(confusion_matrix(y1_train, y1_train_pred)))\n",
    "print(\"Classification report (training):\\n {0}\".format(classification_report(y1_train, y1_train_pred)))\n",
    "\n",
    "y1_val_pred = lr_clf1.predict(X1_val)\n",
    "print(\"Confusion matrix (validation):\\n {0}\\n\".format(confusion_matrix(y1_val, y1_val_pred)))\n",
    "print(\"Classification report (validation):\\n {0}\".format(classification_report(y1_val, y1_val_pred)))"
   ]
  },
  {
   "cell_type": "code",
   "execution_count": 53,
   "metadata": {
    "ExecuteTime": {
     "end_time": "2022-06-13T09:25:18.691963Z",
     "start_time": "2022-06-13T09:25:18.672219Z"
    }
   },
   "outputs": [],
   "source": [
    "# parameter tuning\n",
    "# lr_clf_tuned = LogisticRegression(class_weight={0: 0.03, 1: 0.97})\n",
    "# lr_clf_params = {\n",
    "#     \"penalty\": [\"l1\", \"l2\"],\n",
    "#     \"C\": [1, 1.3, 1.5, 1.7, 2]\n",
    "# }\n",
    "# lr_clf_cv = GridSearchCV(lr_clf_tuned, lr_clf_params, cv=5)\n",
    "# lr_clf_cv.fit(X1_train, y1_train)\n",
    "# print(lr_clf_cv.best_params_)"
   ]
  },
  {
   "cell_type": "code",
   "execution_count": 54,
   "metadata": {
    "ExecuteTime": {
     "end_time": "2022-06-13T09:25:18.885236Z",
     "start_time": "2022-06-13T09:25:18.871271Z"
    }
   },
   "outputs": [
    {
     "ename": "ValueError",
     "evalue": "Solver lbfgs supports only 'l2' or 'none' penalties, got l1 penalty.",
     "output_type": "error",
     "traceback": [
      "\u001b[1;31m---------------------------------------------------------------------------\u001b[0m",
      "\u001b[1;31mValueError\u001b[0m                                Traceback (most recent call last)",
      "\u001b[1;32m~\\AppData\\Local\\Temp/ipykernel_15112/1877468407.py\u001b[0m in \u001b[0;36m<module>\u001b[1;34m\u001b[0m\n\u001b[0;32m      1\u001b[0m \u001b[1;31m# 采用最优参数再次构建逻辑回归模型\u001b[0m\u001b[1;33m\u001b[0m\u001b[1;33m\u001b[0m\u001b[0m\n\u001b[0;32m      2\u001b[0m \u001b[0mlr_clf2\u001b[0m \u001b[1;33m=\u001b[0m \u001b[0mLogisticRegression\u001b[0m\u001b[1;33m(\u001b[0m\u001b[0mpenalty\u001b[0m\u001b[1;33m=\u001b[0m\u001b[1;34m\"l1\"\u001b[0m\u001b[1;33m,\u001b[0m \u001b[0mC\u001b[0m\u001b[1;33m=\u001b[0m\u001b[1;36m1.5\u001b[0m\u001b[1;33m,\u001b[0m \u001b[0mclass_weight\u001b[0m\u001b[1;33m=\u001b[0m\u001b[1;33m{\u001b[0m\u001b[1;36m0\u001b[0m\u001b[1;33m:\u001b[0m \u001b[1;36m0.02\u001b[0m\u001b[1;33m,\u001b[0m \u001b[1;36m1\u001b[0m\u001b[1;33m:\u001b[0m \u001b[1;36m0.98\u001b[0m\u001b[1;33m}\u001b[0m\u001b[1;33m)\u001b[0m\u001b[1;33m\u001b[0m\u001b[1;33m\u001b[0m\u001b[0m\n\u001b[1;32m----> 3\u001b[1;33m \u001b[0mlr_clf2\u001b[0m\u001b[1;33m.\u001b[0m\u001b[0mfit\u001b[0m\u001b[1;33m(\u001b[0m\u001b[0mX1_train\u001b[0m\u001b[1;33m,\u001b[0m \u001b[0my1_train\u001b[0m\u001b[1;33m)\u001b[0m\u001b[1;33m\u001b[0m\u001b[1;33m\u001b[0m\u001b[0m\n\u001b[0m\u001b[0;32m      4\u001b[0m \u001b[0my1_train_pred\u001b[0m \u001b[1;33m=\u001b[0m \u001b[0mlr_clf2\u001b[0m\u001b[1;33m.\u001b[0m\u001b[0mpredict\u001b[0m\u001b[1;33m(\u001b[0m\u001b[0mX1_train\u001b[0m\u001b[1;33m)\u001b[0m\u001b[1;33m\u001b[0m\u001b[1;33m\u001b[0m\u001b[0m\n\u001b[0;32m      5\u001b[0m \u001b[0mprint\u001b[0m\u001b[1;33m(\u001b[0m\u001b[1;34m\"Confusion matrix (training):\\n {0}\\n\"\u001b[0m\u001b[1;33m.\u001b[0m\u001b[0mformat\u001b[0m\u001b[1;33m(\u001b[0m\u001b[0mconfusion_matrix\u001b[0m\u001b[1;33m(\u001b[0m\u001b[0my1_train\u001b[0m\u001b[1;33m,\u001b[0m \u001b[0my1_train_pred\u001b[0m\u001b[1;33m)\u001b[0m\u001b[1;33m)\u001b[0m\u001b[1;33m)\u001b[0m\u001b[1;33m\u001b[0m\u001b[1;33m\u001b[0m\u001b[0m\n",
      "\u001b[1;32mD:\\Program\\Anaconda3\\lib\\site-packages\\sklearn\\linear_model\\_logistic.py\u001b[0m in \u001b[0;36mfit\u001b[1;34m(self, X, y, sample_weight)\u001b[0m\n\u001b[0;32m   1304\u001b[0m         \u001b[0mThe\u001b[0m \u001b[0mSAGA\u001b[0m \u001b[0msolver\u001b[0m \u001b[0msupports\u001b[0m \u001b[0mboth\u001b[0m \u001b[0mfloat64\u001b[0m \u001b[1;32mand\u001b[0m \u001b[0mfloat32\u001b[0m \u001b[0mbit\u001b[0m \u001b[0marrays\u001b[0m\u001b[1;33m.\u001b[0m\u001b[1;33m\u001b[0m\u001b[1;33m\u001b[0m\u001b[0m\n\u001b[0;32m   1305\u001b[0m         \"\"\"\n\u001b[1;32m-> 1306\u001b[1;33m         \u001b[0msolver\u001b[0m \u001b[1;33m=\u001b[0m \u001b[0m_check_solver\u001b[0m\u001b[1;33m(\u001b[0m\u001b[0mself\u001b[0m\u001b[1;33m.\u001b[0m\u001b[0msolver\u001b[0m\u001b[1;33m,\u001b[0m \u001b[0mself\u001b[0m\u001b[1;33m.\u001b[0m\u001b[0mpenalty\u001b[0m\u001b[1;33m,\u001b[0m \u001b[0mself\u001b[0m\u001b[1;33m.\u001b[0m\u001b[0mdual\u001b[0m\u001b[1;33m)\u001b[0m\u001b[1;33m\u001b[0m\u001b[1;33m\u001b[0m\u001b[0m\n\u001b[0m\u001b[0;32m   1307\u001b[0m \u001b[1;33m\u001b[0m\u001b[0m\n\u001b[0;32m   1308\u001b[0m         \u001b[1;32mif\u001b[0m \u001b[1;32mnot\u001b[0m \u001b[0misinstance\u001b[0m\u001b[1;33m(\u001b[0m\u001b[0mself\u001b[0m\u001b[1;33m.\u001b[0m\u001b[0mC\u001b[0m\u001b[1;33m,\u001b[0m \u001b[0mnumbers\u001b[0m\u001b[1;33m.\u001b[0m\u001b[0mNumber\u001b[0m\u001b[1;33m)\u001b[0m \u001b[1;32mor\u001b[0m \u001b[0mself\u001b[0m\u001b[1;33m.\u001b[0m\u001b[0mC\u001b[0m \u001b[1;33m<\u001b[0m \u001b[1;36m0\u001b[0m\u001b[1;33m:\u001b[0m\u001b[1;33m\u001b[0m\u001b[1;33m\u001b[0m\u001b[0m\n",
      "\u001b[1;32mD:\\Program\\Anaconda3\\lib\\site-packages\\sklearn\\linear_model\\_logistic.py\u001b[0m in \u001b[0;36m_check_solver\u001b[1;34m(solver, penalty, dual)\u001b[0m\n\u001b[0;32m    441\u001b[0m \u001b[1;33m\u001b[0m\u001b[0m\n\u001b[0;32m    442\u001b[0m     \u001b[1;32mif\u001b[0m \u001b[0msolver\u001b[0m \u001b[1;32mnot\u001b[0m \u001b[1;32min\u001b[0m \u001b[1;33m[\u001b[0m\u001b[1;34m'liblinear'\u001b[0m\u001b[1;33m,\u001b[0m \u001b[1;34m'saga'\u001b[0m\u001b[1;33m]\u001b[0m \u001b[1;32mand\u001b[0m \u001b[0mpenalty\u001b[0m \u001b[1;32mnot\u001b[0m \u001b[1;32min\u001b[0m \u001b[1;33m(\u001b[0m\u001b[1;34m'l2'\u001b[0m\u001b[1;33m,\u001b[0m \u001b[1;34m'none'\u001b[0m\u001b[1;33m)\u001b[0m\u001b[1;33m:\u001b[0m\u001b[1;33m\u001b[0m\u001b[1;33m\u001b[0m\u001b[0m\n\u001b[1;32m--> 443\u001b[1;33m         raise ValueError(\"Solver %s supports only 'l2' or 'none' penalties, \"\n\u001b[0m\u001b[0;32m    444\u001b[0m                          \"got %s penalty.\" % (solver, penalty))\n\u001b[0;32m    445\u001b[0m     \u001b[1;32mif\u001b[0m \u001b[0msolver\u001b[0m \u001b[1;33m!=\u001b[0m \u001b[1;34m'liblinear'\u001b[0m \u001b[1;32mand\u001b[0m \u001b[0mdual\u001b[0m\u001b[1;33m:\u001b[0m\u001b[1;33m\u001b[0m\u001b[1;33m\u001b[0m\u001b[0m\n",
      "\u001b[1;31mValueError\u001b[0m: Solver lbfgs supports only 'l2' or 'none' penalties, got l1 penalty."
     ]
    }
   ],
   "source": [
    "# 采用最优参数再次构建逻辑回归模型\n",
    "lr_clf2 = LogisticRegression(penalty=\"l1\", C=1.5, class_weight={0: 0.02, 1: 0.98})\n",
    "lr_clf2.fit(X1_train, y1_train)\n",
    "y1_train_pred = lr_clf2.predict(X1_train)\n",
    "print(\"Confusion matrix (training):\\n {0}\\n\".format(confusion_matrix(y1_train, y1_train_pred)))\n",
    "print(\"Classification report (training):\\n {0}\".format(classification_report(y1_train, y1_train_pred)))\n",
    "\n",
    "y1_val_pred = lr_clf2.predict(X1_val)\n",
    "print(\"Confusion matrix (validation):\\n {0}\\n\".format(confusion_matrix(y1_val, y1_val_pred)))\n",
    "print(\"Classification report (validation):\\n {0}\".format(classification_report(y1_val, y1_val_pred)))"
   ]
  },
  {
   "cell_type": "code",
   "execution_count": 55,
   "metadata": {
    "ExecuteTime": {
     "end_time": "2022-06-13T09:25:19.036273Z",
     "start_time": "2022-06-13T09:25:19.012248Z"
    }
   },
   "outputs": [
    {
     "ename": "NotFittedError",
     "evalue": "This LogisticRegression instance is not fitted yet. Call 'fit' with appropriate arguments before using this estimator.",
     "output_type": "error",
     "traceback": [
      "\u001b[1;31m---------------------------------------------------------------------------\u001b[0m",
      "\u001b[1;31mNotFittedError\u001b[0m                            Traceback (most recent call last)",
      "\u001b[1;32m~\\AppData\\Local\\Temp/ipykernel_15112/3654225562.py\u001b[0m in \u001b[0;36m<module>\u001b[1;34m\u001b[0m\n\u001b[0;32m      1\u001b[0m \u001b[1;31m# 绘制ROC曲线\u001b[0m\u001b[1;33m\u001b[0m\u001b[1;33m\u001b[0m\u001b[0m\n\u001b[0;32m      2\u001b[0m \u001b[0my1_valid_score_lr1\u001b[0m \u001b[1;33m=\u001b[0m \u001b[0mlr_clf1\u001b[0m\u001b[1;33m.\u001b[0m\u001b[0mpredict_proba\u001b[0m\u001b[1;33m(\u001b[0m\u001b[0mX1_val\u001b[0m\u001b[1;33m)\u001b[0m\u001b[1;33m\u001b[0m\u001b[1;33m\u001b[0m\u001b[0m\n\u001b[1;32m----> 3\u001b[1;33m \u001b[0my1_valid_score_lr2\u001b[0m \u001b[1;33m=\u001b[0m \u001b[0mlr_clf2\u001b[0m\u001b[1;33m.\u001b[0m\u001b[0mpredict_proba\u001b[0m\u001b[1;33m(\u001b[0m\u001b[0mX1_val\u001b[0m\u001b[1;33m)\u001b[0m\u001b[1;33m\u001b[0m\u001b[1;33m\u001b[0m\u001b[0m\n\u001b[0m\u001b[0;32m      4\u001b[0m \u001b[1;33m\u001b[0m\u001b[0m\n\u001b[0;32m      5\u001b[0m \u001b[0mfpr_lr1\u001b[0m\u001b[1;33m,\u001b[0m \u001b[0mtpr_lr1\u001b[0m\u001b[1;33m,\u001b[0m \u001b[0mthresholds_lr1\u001b[0m \u001b[1;33m=\u001b[0m \u001b[0mroc_curve\u001b[0m\u001b[1;33m(\u001b[0m\u001b[0my1_val\u001b[0m\u001b[1;33m,\u001b[0m \u001b[0my1_valid_score_lr1\u001b[0m\u001b[1;33m[\u001b[0m\u001b[1;33m:\u001b[0m\u001b[1;33m,\u001b[0m \u001b[1;36m1\u001b[0m\u001b[1;33m]\u001b[0m\u001b[1;33m)\u001b[0m\u001b[1;33m\u001b[0m\u001b[1;33m\u001b[0m\u001b[0m\n",
      "\u001b[1;32mD:\\Program\\Anaconda3\\lib\\site-packages\\sklearn\\linear_model\\_logistic.py\u001b[0m in \u001b[0;36mpredict_proba\u001b[1;34m(self, X)\u001b[0m\n\u001b[0;32m   1461\u001b[0m             \u001b[0mwhere\u001b[0m \u001b[0mclasses\u001b[0m \u001b[0mare\u001b[0m \u001b[0mordered\u001b[0m \u001b[1;32mas\u001b[0m \u001b[0mthey\u001b[0m \u001b[0mare\u001b[0m \u001b[1;32min\u001b[0m\u001b[0;31m \u001b[0m\u001b[0;31m`\u001b[0m\u001b[0;31m`\u001b[0m\u001b[0mself\u001b[0m\u001b[1;33m.\u001b[0m\u001b[0mclasses_\u001b[0m\u001b[0;31m`\u001b[0m\u001b[0;31m`\u001b[0m\u001b[1;33m.\u001b[0m\u001b[1;33m\u001b[0m\u001b[1;33m\u001b[0m\u001b[0m\n\u001b[0;32m   1462\u001b[0m         \"\"\"\n\u001b[1;32m-> 1463\u001b[1;33m         \u001b[0mcheck_is_fitted\u001b[0m\u001b[1;33m(\u001b[0m\u001b[0mself\u001b[0m\u001b[1;33m)\u001b[0m\u001b[1;33m\u001b[0m\u001b[1;33m\u001b[0m\u001b[0m\n\u001b[0m\u001b[0;32m   1464\u001b[0m \u001b[1;33m\u001b[0m\u001b[0m\n\u001b[0;32m   1465\u001b[0m         ovr = (self.multi_class in [\"ovr\", \"warn\"] or\n",
      "\u001b[1;32mD:\\Program\\Anaconda3\\lib\\site-packages\\sklearn\\utils\\validation.py\u001b[0m in \u001b[0;36minner_f\u001b[1;34m(*args, **kwargs)\u001b[0m\n\u001b[0;32m     61\u001b[0m             \u001b[0mextra_args\u001b[0m \u001b[1;33m=\u001b[0m \u001b[0mlen\u001b[0m\u001b[1;33m(\u001b[0m\u001b[0margs\u001b[0m\u001b[1;33m)\u001b[0m \u001b[1;33m-\u001b[0m \u001b[0mlen\u001b[0m\u001b[1;33m(\u001b[0m\u001b[0mall_args\u001b[0m\u001b[1;33m)\u001b[0m\u001b[1;33m\u001b[0m\u001b[1;33m\u001b[0m\u001b[0m\n\u001b[0;32m     62\u001b[0m             \u001b[1;32mif\u001b[0m \u001b[0mextra_args\u001b[0m \u001b[1;33m<=\u001b[0m \u001b[1;36m0\u001b[0m\u001b[1;33m:\u001b[0m\u001b[1;33m\u001b[0m\u001b[1;33m\u001b[0m\u001b[0m\n\u001b[1;32m---> 63\u001b[1;33m                 \u001b[1;32mreturn\u001b[0m \u001b[0mf\u001b[0m\u001b[1;33m(\u001b[0m\u001b[1;33m*\u001b[0m\u001b[0margs\u001b[0m\u001b[1;33m,\u001b[0m \u001b[1;33m**\u001b[0m\u001b[0mkwargs\u001b[0m\u001b[1;33m)\u001b[0m\u001b[1;33m\u001b[0m\u001b[1;33m\u001b[0m\u001b[0m\n\u001b[0m\u001b[0;32m     64\u001b[0m \u001b[1;33m\u001b[0m\u001b[0m\n\u001b[0;32m     65\u001b[0m             \u001b[1;31m# extra_args > 0\u001b[0m\u001b[1;33m\u001b[0m\u001b[1;33m\u001b[0m\u001b[0m\n",
      "\u001b[1;32mD:\\Program\\Anaconda3\\lib\\site-packages\\sklearn\\utils\\validation.py\u001b[0m in \u001b[0;36mcheck_is_fitted\u001b[1;34m(estimator, attributes, msg, all_or_any)\u001b[0m\n\u001b[0;32m   1096\u001b[0m \u001b[1;33m\u001b[0m\u001b[0m\n\u001b[0;32m   1097\u001b[0m     \u001b[1;32mif\u001b[0m \u001b[1;32mnot\u001b[0m \u001b[0mattrs\u001b[0m\u001b[1;33m:\u001b[0m\u001b[1;33m\u001b[0m\u001b[1;33m\u001b[0m\u001b[0m\n\u001b[1;32m-> 1098\u001b[1;33m         \u001b[1;32mraise\u001b[0m \u001b[0mNotFittedError\u001b[0m\u001b[1;33m(\u001b[0m\u001b[0mmsg\u001b[0m \u001b[1;33m%\u001b[0m \u001b[1;33m{\u001b[0m\u001b[1;34m'name'\u001b[0m\u001b[1;33m:\u001b[0m \u001b[0mtype\u001b[0m\u001b[1;33m(\u001b[0m\u001b[0mestimator\u001b[0m\u001b[1;33m)\u001b[0m\u001b[1;33m.\u001b[0m\u001b[0m__name__\u001b[0m\u001b[1;33m}\u001b[0m\u001b[1;33m)\u001b[0m\u001b[1;33m\u001b[0m\u001b[1;33m\u001b[0m\u001b[0m\n\u001b[0m\u001b[0;32m   1099\u001b[0m \u001b[1;33m\u001b[0m\u001b[0m\n\u001b[0;32m   1100\u001b[0m \u001b[1;33m\u001b[0m\u001b[0m\n",
      "\u001b[1;31mNotFittedError\u001b[0m: This LogisticRegression instance is not fitted yet. Call 'fit' with appropriate arguments before using this estimator."
     ]
    }
   ],
   "source": [
    "# 绘制ROC曲线\n",
    "y1_valid_score_lr1 = lr_clf1.predict_proba(X1_val)\n",
    "y1_valid_score_lr2 = lr_clf2.predict_proba(X1_val)\n",
    "\n",
    "fpr_lr1, tpr_lr1, thresholds_lr1 = roc_curve(y1_val, y1_valid_score_lr1[:, 1])\n",
    "fpr_lr2, tpr_lr2, thresholds_lr2 = roc_curve(y1_val, y1_valid_score_lr2[:, 1])\n",
    "\n",
    "roc_auc_lr1 = auc(fpr_lr1, tpr_lr1)\n",
    "roc_auc_lr2 = auc(fpr_lr2, tpr_lr2)\n",
    "\n",
    "plt.plot(fpr_lr1, tpr_lr1, fpr_lr2, tpr_lr2, lw=2, alpha=.6)\n",
    "plt.plot([0, 1], [0, 1], lw=2, linestyle=\"--\")\n",
    "plt.xlim([0, 1])\n",
    "plt.ylim([0, 1.05])\n",
    "plt.xlabel(\"FPR\")\n",
    "plt.ylabel(\"TPR\")\n",
    "plt.title(\"ROC curve\")\n",
    "plt.legend([\"Logistic Reg 1 (AUC {:.4f})\".format(roc_auc_lr1),\n",
    "            \"Logistic Reg 2 (AUC {:.4f})\".format(roc_auc_lr2)], fontsize=8, loc=2)"
   ]
  },
  {
   "cell_type": "code",
   "execution_count": null,
   "metadata": {},
   "outputs": [],
   "source": []
  },
  {
   "cell_type": "code",
   "execution_count": null,
   "metadata": {},
   "outputs": [],
   "source": []
  },
  {
   "cell_type": "code",
   "execution_count": null,
   "metadata": {},
   "outputs": [],
   "source": []
  },
  {
   "cell_type": "code",
   "execution_count": null,
   "metadata": {},
   "outputs": [],
   "source": []
  }
 ],
 "metadata": {
  "anaconda-cloud": {},
  "kernelspec": {
   "display_name": "Python 3 (ipykernel)",
   "language": "python",
   "name": "python3"
  },
  "language_info": {
   "codemirror_mode": {
    "name": "ipython",
    "version": 3
   },
   "file_extension": ".py",
   "mimetype": "text/x-python",
   "name": "python",
   "nbconvert_exporter": "python",
   "pygments_lexer": "ipython3",
   "version": "3.9.7"
  },
  "latex_envs": {
   "LaTeX_envs_menu_present": true,
   "autoclose": false,
   "autocomplete": true,
   "bibliofile": "biblio.bib",
   "cite_by": "apalike",
   "current_citInitial": 1,
   "eqLabelWithNumbers": true,
   "eqNumInitial": 1,
   "hotkeys": {
    "equation": "Ctrl-E",
    "itemize": "Ctrl-I"
   },
   "labels_anchors": false,
   "latex_user_defs": false,
   "report_style_numbering": false,
   "user_envs_cfg": false
  },
  "toc": {
   "base_numbering": 1,
   "nav_menu": {},
   "number_sections": true,
   "sideBar": true,
   "skip_h1_title": false,
   "title_cell": "Table of Contents",
   "title_sidebar": "Contents",
   "toc_cell": false,
   "toc_position": {},
   "toc_section_display": true,
   "toc_window_display": true
  },
  "varInspector": {
   "cols": {
    "lenName": 16,
    "lenType": 16,
    "lenVar": 40
   },
   "kernels_config": {
    "python": {
     "delete_cmd_postfix": "",
     "delete_cmd_prefix": "del ",
     "library": "var_list.py",
     "varRefreshCmd": "print(var_dic_list())"
    },
    "r": {
     "delete_cmd_postfix": ") ",
     "delete_cmd_prefix": "rm(",
     "library": "var_list.r",
     "varRefreshCmd": "cat(var_dic_list()) "
    }
   },
   "types_to_exclude": [
    "module",
    "function",
    "builtin_function_or_method",
    "instance",
    "_Feature"
   ],
   "window_display": false
  }
 },
 "nbformat": 4,
 "nbformat_minor": 1
}
