{
 "cells": [
  {
   "cell_type": "markdown",
   "id": "3f28061b",
   "metadata": {
    "toc": true
   },
   "source": [
    "<h1>Table of Contents<span class=\"tocSkip\"></span></h1>\n",
    "<div class=\"toc\"><ul class=\"toc-item\"><li><span><a href=\"#5个基本要素-int-float-bool-str-None\" data-toc-modified-id=\"5个基本要素-int-float-bool-str-None-1\"><span class=\"toc-item-num\">1&nbsp;&nbsp;</span>5个基本要素 int float bool str None</a></span><ul class=\"toc-item\"><li><span><a href=\"#int\" data-toc-modified-id=\"int-1.1\"><span class=\"toc-item-num\">1.1&nbsp;&nbsp;</span>int</a></span></li><li><span><a href=\"#Float\" data-toc-modified-id=\"Float-1.2\"><span class=\"toc-item-num\">1.2&nbsp;&nbsp;</span>Float</a></span></li><li><span><a href=\"#Bool\" data-toc-modified-id=\"Bool-1.3\"><span class=\"toc-item-num\">1.3&nbsp;&nbsp;</span>Bool</a></span></li><li><span><a href=\"#str\" data-toc-modified-id=\"str-1.4\"><span class=\"toc-item-num\">1.4&nbsp;&nbsp;</span>str</a></span></li><li><span><a href=\"#None\" data-toc-modified-id=\"None-1.5\"><span class=\"toc-item-num\">1.5&nbsp;&nbsp;</span>None</a></span></li></ul></li><li><span><a href=\"#4个容器(list,tuple,dict,set)\" data-toc-modified-id=\"4个容器(list,tuple,dict,set)-2\"><span class=\"toc-item-num\">2&nbsp;&nbsp;</span>4个容器(list,tuple,dict,set)</a></span><ul class=\"toc-item\"><li><span><a href=\"#list\" data-toc-modified-id=\"list-2.1\"><span class=\"toc-item-num\">2.1&nbsp;&nbsp;</span>list</a></span><ul class=\"toc-item\"><li><span><a href=\"#增加元素\" data-toc-modified-id=\"增加元素-2.1.1\"><span class=\"toc-item-num\">2.1.1&nbsp;&nbsp;</span>增加元素</a></span></li><li><span><a href=\"#删除元素\" data-toc-modified-id=\"删除元素-2.1.2\"><span class=\"toc-item-num\">2.1.2&nbsp;&nbsp;</span>删除元素</a></span></li><li><span><a href=\"#其它操作\" data-toc-modified-id=\"其它操作-2.1.3\"><span class=\"toc-item-num\">2.1.3&nbsp;&nbsp;</span>其它操作</a></span><ul class=\"toc-item\"><li><span><a href=\"#索引\" data-toc-modified-id=\"索引-2.1.3.1\"><span class=\"toc-item-num\">2.1.3.1&nbsp;&nbsp;</span>索引</a></span></li><li><span><a href=\"#排序\" data-toc-modified-id=\"排序-2.1.3.2\"><span class=\"toc-item-num\">2.1.3.2&nbsp;&nbsp;</span>排序</a></span></li></ul></li></ul></li><li><span><a href=\"#tuple\" data-toc-modified-id=\"tuple-2.2\"><span class=\"toc-item-num\">2.2&nbsp;&nbsp;</span>tuple</a></span></li><li><span><a href=\"#dict\" data-toc-modified-id=\"dict-2.3\"><span class=\"toc-item-num\">2.3&nbsp;&nbsp;</span>dict</a></span><ul class=\"toc-item\"><li><span><a href=\"#字典的创建\" data-toc-modified-id=\"字典的创建-2.3.1\"><span class=\"toc-item-num\">2.3.1&nbsp;&nbsp;</span>字典的创建</a></span></li></ul></li><li><span><a href=\"#set\" data-toc-modified-id=\"set-2.4\"><span class=\"toc-item-num\">2.4&nbsp;&nbsp;</span>set</a></span></li></ul></li><li><span><a href=\"#3个控制语句\" data-toc-modified-id=\"3个控制语句-3\"><span class=\"toc-item-num\">3&nbsp;&nbsp;</span>3个控制语句</a></span><ul class=\"toc-item\"><li><span><a href=\"#For-Loops\" data-toc-modified-id=\"For-Loops-3.1\"><span class=\"toc-item-num\">3.1&nbsp;&nbsp;</span>For Loops</a></span></li><li><span><a href=\"#While-Loops\" data-toc-modified-id=\"While-Loops-3.2\"><span class=\"toc-item-num\">3.2&nbsp;&nbsp;</span>While Loops</a></span></li><li><span><a href=\"#if-elif-else\" data-toc-modified-id=\"if-elif-else-3.3\"><span class=\"toc-item-num\">3.3&nbsp;&nbsp;</span>if elif else</a></span></li></ul></li><li><span><a href=\"#2种函数定义方式\" data-toc-modified-id=\"2种函数定义方式-4\"><span class=\"toc-item-num\">4&nbsp;&nbsp;</span>2种函数定义方式</a></span><ul class=\"toc-item\"><li><span><a href=\"#def\" data-toc-modified-id=\"def-4.1\"><span class=\"toc-item-num\">4.1&nbsp;&nbsp;</span>def</a></span></li><li><span><a href=\"#函数参数的传递\" data-toc-modified-id=\"函数参数的传递-4.2\"><span class=\"toc-item-num\">4.2&nbsp;&nbsp;</span>函数参数的传递</a></span><ul class=\"toc-item\"><li><span><a href=\"#顺序传参\" data-toc-modified-id=\"顺序传参-4.2.1\"><span class=\"toc-item-num\">4.2.1&nbsp;&nbsp;</span>顺序传参</a></span></li><li><span><a href=\"#关键词传参\" data-toc-modified-id=\"关键词传参-4.2.2\"><span class=\"toc-item-num\">4.2.2&nbsp;&nbsp;</span>关键词传参</a></span></li><li><span><a href=\"#默认传参\" data-toc-modified-id=\"默认传参-4.2.3\"><span class=\"toc-item-num\">4.2.3&nbsp;&nbsp;</span>默认传参</a></span></li></ul></li><li><span><a href=\"#递归\" data-toc-modified-id=\"递归-4.3\"><span class=\"toc-item-num\">4.3&nbsp;&nbsp;</span>递归</a></span></li><li><span><a href=\"#Lambda\" data-toc-modified-id=\"Lambda-4.4\"><span class=\"toc-item-num\">4.4&nbsp;&nbsp;</span>Lambda</a></span><ul class=\"toc-item\"><li><span><a href=\"#map\" data-toc-modified-id=\"map-4.4.1\"><span class=\"toc-item-num\">4.4.1&nbsp;&nbsp;</span>map</a></span></li></ul></li></ul></li><li><span><a href=\"#1种类(class)\" data-toc-modified-id=\"1种类(class)-5\"><span class=\"toc-item-num\">5&nbsp;&nbsp;</span>1种类(class)</a></span></li></ul></div>"
   ]
  },
  {
   "cell_type": "markdown",
   "id": "7dd7a01b",
   "metadata": {},
   "source": [
    "##  5个基本要素 int float bool str None"
   ]
  },
  {
   "cell_type": "markdown",
   "id": "ab9fe944",
   "metadata": {},
   "source": [
    "Basic Operations  \n",
    "\n",
    "|快捷键| 操作|含义|\n",
    "|---|---|---|\n",
    "|edit model| ctrl + enter|  \n",
    "|        |ctrl + ？| 注释\n",
    "|cmd model |l   \n",
    "|       |dd   \n",
    "|       |a  \n",
    "|       |b   "
   ]
  },
  {
   "cell_type": "code",
   "execution_count": 2,
   "id": "089df450",
   "metadata": {},
   "outputs": [
    {
     "name": "stdout",
     "output_type": "stream",
     "text": [
      "Hello world!\n"
     ]
    }
   ],
   "source": [
    "print(\"Hello world!\")"
   ]
  },
  {
   "cell_type": "markdown",
   "id": "1b9537f6",
   "metadata": {},
   "source": [
    "一个二元结构如果满足如下性质\n",
    "\\begin{enumerate}\n",
    "\\item 运算是可结合的(Associative): 则称为半群\n",
    "\\item 存在运算单元(Identity): $e*a=a*e=a$,则称为Monoid \n",
    "\\item 存在运算逆元(Inverse): for all a in S, there exists Ia, such that for $Ia*a=a*Ia=e$, 则称为群\n",
    "\\item 运算是可交换的(Commutative): 则称为Abelian群\n",
    "\\end{enumerate}"
   ]
  },
  {
   "cell_type": "markdown",
   "id": "008a58ff",
   "metadata": {},
   "source": []
  },
  {
   "cell_type": "markdown",
   "id": "70968365",
   "metadata": {},
   "source": [
    "### int "
   ]
  },
  {
   "cell_type": "markdown",
   "id": "087f035f",
   "metadata": {},
   "source": [
    "考虑$S=\\{True,False\\}$,以及定义在上边的&，可以验证(S,&)是阿贝尔群"
   ]
  },
  {
   "cell_type": "markdown",
   "id": "22b5e649",
   "metadata": {},
   "source": [
    "int 二元运算符  \n",
    "\n",
    "|操作|含义|\n",
    "|----|----|\n",
    "|+|addition\n",
    "|-|substration\n",
    "|* |multiplication\n",
    "|%| 取余数\n",
    "|/|division\n",
    "|\\** |\n",
    "|//| 整除\n",
    "|&| 或\n",
    "| \\| |且\n",
    "|!| 非\n",
    "|&&|C++中的或|\n",
    "| \\|\\| |C++中的且|"
   ]
  },
  {
   "cell_type": "code",
   "execution_count": null,
   "id": "4ddc300d",
   "metadata": {},
   "outputs": [],
   "source": [
    "sqrt(2);2**()"
   ]
  },
  {
   "cell_type": "markdown",
   "id": "b9c8e422",
   "metadata": {},
   "source": [
    "### Float"
   ]
  },
  {
   "cell_type": "markdown",
   "id": "c09e4be1",
   "metadata": {},
   "source": [
    "float操作与int类似"
   ]
  },
  {
   "cell_type": "code",
   "execution_count": 6,
   "id": "83827ee0",
   "metadata": {},
   "outputs": [],
   "source": [
    "f = 3.1415926"
   ]
  },
  {
   "cell_type": "code",
   "execution_count": 16,
   "id": "a079ba72",
   "metadata": {},
   "outputs": [
    {
     "data": {
      "text/plain": [
       "True"
      ]
     },
     "execution_count": 16,
     "metadata": {},
     "output_type": "execute_result"
    }
   ],
   "source": [
    "f = 3.14e10\n",
    "f\n",
    "(type(f) == float)|(type(f) == int)"
   ]
  },
  {
   "cell_type": "markdown",
   "id": "c0fd8e55",
   "metadata": {},
   "source": [
    "### Bool"
   ]
  },
  {
   "cell_type": "markdown",
   "id": "4305b304",
   "metadata": {},
   "source": [
    "Bool 有两个元素 True(1) and False(0)\n",
    "\n",
    "|操作|含义|\n",
    "|----|----|\n",
    "|or|&\n",
    "|and|\\|\n",
    "|not|!\n",
    "|==|判断是否相等\n",
    "||"
   ]
  },
  {
   "cell_type": "code",
   "execution_count": 17,
   "id": "731c73a2",
   "metadata": {},
   "outputs": [
    {
     "data": {
      "text/plain": [
       "False"
      ]
     },
     "execution_count": 17,
     "metadata": {},
     "output_type": "execute_result"
    }
   ],
   "source": [
    "True\n",
    "False"
   ]
  },
  {
   "cell_type": "code",
   "execution_count": 18,
   "id": "126ddf36",
   "metadata": {},
   "outputs": [
    {
     "data": {
      "text/plain": [
       "2"
      ]
     },
     "execution_count": 18,
     "metadata": {},
     "output_type": "execute_result"
    }
   ],
   "source": [
    "True+True"
   ]
  },
  {
   "cell_type": "code",
   "execution_count": 19,
   "id": "bf93165d",
   "metadata": {},
   "outputs": [
    {
     "name": "stdout",
     "output_type": "stream",
     "text": [
      "True\n",
      "True\n"
     ]
    }
   ],
   "source": [
    "print(True==1)\n",
    "print(False==0)"
   ]
  },
  {
   "cell_type": "code",
   "execution_count": 20,
   "id": "e06a1998",
   "metadata": {},
   "outputs": [
    {
     "name": "stdout",
     "output_type": "stream",
     "text": [
      "True\n",
      "False\n",
      "False\n",
      "False\n",
      "True\n",
      "False\n",
      "False\n",
      "False\n"
     ]
    }
   ],
   "source": [
    "print(True and True)\n",
    "print(True and False)\n",
    "print(False and True)\n",
    "print(False and False)\n",
    "print(True & True)\n",
    "print(True & False)\n",
    "print(False & True)\n",
    "print(False & False)"
   ]
  },
  {
   "cell_type": "code",
   "execution_count": null,
   "id": "4a9a4e7b",
   "metadata": {},
   "outputs": [],
   "source": []
  },
  {
   "cell_type": "markdown",
   "id": "13182c80",
   "metadata": {},
   "source": [
    "### str"
   ]
  },
  {
   "cell_type": "markdown",
   "id": "6742db66",
   "metadata": {},
   "source": [
    "|操作|含义|\n",
    "|----|----|\n",
    "|x.split()|\n",
    "|x.format()|\n",
    "|x.join()|\n",
    "|x.strip()|剥离字符串两侧的目标字符\n",
    "|x.lstrip()|剥离左侧\n",
    "|x.rstrip()|\n",
    "|%d|\n",
    "|%f|\n",
    "|%05d|格式化为5位数，左对齐\n",
    "|%.3f|浮点数,保留3位小数"
   ]
  },
  {
   "cell_type": "code",
   "execution_count": 2,
   "id": "c503c578",
   "metadata": {},
   "outputs": [
    {
     "name": "stdout",
     "output_type": "stream",
     "text": [
      "hello \\n world\n",
      "hello \n",
      " world\n",
      "hello \\n world\n"
     ]
    }
   ],
   "source": [
    "#转义符\n",
    "print('hello \\\\n world')\n",
    "print('hello \\n world')\n",
    "print(r'hello \\n world') #此处r代表raw"
   ]
  },
  {
   "cell_type": "code",
   "execution_count": 22,
   "id": "d4f192f8",
   "metadata": {},
   "outputs": [
    {
     "data": {
      "text/plain": [
       "['Hello', 'Hello', 'Hello']"
      ]
     },
     "execution_count": 22,
     "metadata": {},
     "output_type": "execute_result"
    }
   ],
   "source": [
    "str_1 = 'Hello Hello Hello'\n",
    "str_1.split(\" \") #list"
   ]
  },
  {
   "cell_type": "code",
   "execution_count": 4,
   "id": "26e374fd",
   "metadata": {},
   "outputs": [
    {
     "data": {
      "text/plain": [
       "'i is 00005, f is 1.100'"
      ]
     },
     "execution_count": 4,
     "metadata": {},
     "output_type": "execute_result"
    }
   ],
   "source": [
    "i = 5\n",
    "f = 1.1\n",
    "str_1 = 'i is %05d, f is %.3f' %(i,f) # %d代表整数形式，%f代表浮点型\n",
    "str_1"
   ]
  },
  {
   "cell_type": "code",
   "execution_count": 5,
   "id": "3113c27b",
   "metadata": {},
   "outputs": [
    {
     "name": "stdout",
     "output_type": "stream",
     "text": [
      "i is 5, f is 1.1\n"
     ]
    }
   ],
   "source": [
    "i = 5\n",
    "f = 1.1\n",
    "str_2 = 'i is {}, f is {}'.format(i,f)\n",
    "print(str_2)"
   ]
  },
  {
   "cell_type": "code",
   "execution_count": 6,
   "id": "5fc1449d",
   "metadata": {},
   "outputs": [
    {
     "data": {
      "text/plain": [
       "'Hello1_Hello2_Hello3'"
      ]
     },
     "execution_count": 6,
     "metadata": {},
     "output_type": "execute_result"
    }
   ],
   "source": [
    "'_'.join(['Hello1','Hello2','Hello3']) #list中的每个元素按照'_'拼接起来"
   ]
  },
  {
   "cell_type": "code",
   "execution_count": 7,
   "id": "e7b464bd",
   "metadata": {},
   "outputs": [
    {
     "data": {
      "text/plain": [
       "['Hello1', 'Hello2', 'Hello3']"
      ]
     },
     "execution_count": 7,
     "metadata": {},
     "output_type": "execute_result"
    }
   ],
   "source": [
    "'_'.join(['Hello1','Hello2','Hello3']).split('_')"
   ]
  },
  {
   "cell_type": "code",
   "execution_count": 9,
   "id": "04122ec0",
   "metadata": {},
   "outputs": [
    {
     "data": {
      "text/plain": [
       "'i is 00005, f is 1.100i is 5, f is 1.1'"
      ]
     },
     "execution_count": 9,
     "metadata": {},
     "output_type": "execute_result"
    }
   ],
   "source": [
    "str_1 + str_2"
   ]
  },
  {
   "cell_type": "code",
   "execution_count": 28,
   "id": "e168a8d5",
   "metadata": {},
   "outputs": [
    {
     "data": {
      "text/plain": [
       "'hellohellohellohellohello'"
      ]
     },
     "execution_count": 28,
     "metadata": {},
     "output_type": "execute_result"
    }
   ],
   "source": [
    "'hello'*5"
   ]
  },
  {
   "cell_type": "code",
   "execution_count": 29,
   "id": "894d12ea",
   "metadata": {},
   "outputs": [
    {
     "name": "stdout",
     "output_type": "stream",
     "text": [
      "**************************************************\n"
     ]
    }
   ],
   "source": [
    "print('*'*50)"
   ]
  },
  {
   "cell_type": "code",
   "execution_count": 14,
   "id": "8ad8799b",
   "metadata": {},
   "outputs": [
    {
     "name": "stdout",
     "output_type": "stream",
     "text": [
      "1.0\n",
      "1\n"
     ]
    }
   ],
   "source": [
    "print(float('1.0'))\n",
    "print(int('1'))"
   ]
  },
  {
   "cell_type": "markdown",
   "id": "137b2815",
   "metadata": {},
   "source": [
    "strip  \n",
    "从两侧开始剥离，直到第一个不是指定字符时停止"
   ]
  },
  {
   "cell_type": "code",
   "execution_count": 31,
   "id": "08a3cbdf",
   "metadata": {},
   "outputs": [
    {
     "name": "stdout",
     "output_type": "stream",
     "text": [
      "Hell#o\n",
      "Hell#o\n"
     ]
    }
   ],
   "source": [
    "print('#Hell#o#'.strip('#')) \n",
    "print('#####Hell#o#####'.strip('#'))\n"
   ]
  },
  {
   "cell_type": "code",
   "execution_count": 32,
   "id": "49f27e07",
   "metadata": {},
   "outputs": [
    {
     "data": {
      "text/plain": [
       "90.1"
      ]
     },
     "execution_count": 32,
     "metadata": {},
     "output_type": "execute_result"
    }
   ],
   "source": [
    "\\begin{itemize}\n",
    "\\item \n",
    "\\end{itemize}\n",
    "float('$90.1'.strip('$'))"
   ]
  },
  {
   "cell_type": "code",
   "execution_count": 10,
   "id": "cfdbaa5a",
   "metadata": {
    "ExecuteTime": {
     "end_time": "2022-05-05T08:24:47.651157Z",
     "start_time": "2022-05-05T08:24:47.642590Z"
    }
   },
   "outputs": [
    {
     "ename": "ValueError",
     "evalue": "empty separator",
     "output_type": "error",
     "traceback": [
      "\u001b[1;31m---------------------------------------------------------------------------\u001b[0m",
      "\u001b[1;31mValueError\u001b[0m                                Traceback (most recent call last)",
      "\u001b[1;32m~\\AppData\\Local\\Temp/ipykernel_18484/26497783.py\u001b[0m in \u001b[0;36m<module>\u001b[1;34m\u001b[0m\n\u001b[1;32m----> 1\u001b[1;33m \u001b[1;34m'sdsasf'\u001b[0m\u001b[1;33m.\u001b[0m\u001b[0msplit\u001b[0m\u001b[1;33m(\u001b[0m\u001b[1;34m''\u001b[0m\u001b[1;33m)\u001b[0m\u001b[1;33m\u001b[0m\u001b[1;33m\u001b[0m\u001b[0m\n\u001b[0m",
      "\u001b[1;31mValueError\u001b[0m: empty separator"
     ]
    }
   ],
   "source": []
  },
  {
   "cell_type": "markdown",
   "id": "b0d66ab7",
   "metadata": {},
   "source": [
    "### None"
   ]
  },
  {
   "cell_type": "code",
   "execution_count": null,
   "id": "f04f6a85",
   "metadata": {},
   "outputs": [],
   "source": []
  },
  {
   "cell_type": "code",
   "execution_count": null,
   "id": "247b7c48",
   "metadata": {},
   "outputs": [],
   "source": []
  },
  {
   "cell_type": "code",
   "execution_count": null,
   "id": "b0dba085",
   "metadata": {},
   "outputs": [],
   "source": []
  },
  {
   "cell_type": "markdown",
   "id": "8892fff8",
   "metadata": {},
   "source": [
    "## 4个容器(list,tuple,dict,set)"
   ]
  },
  {
   "cell_type": "markdown",
   "id": "e72349d5",
   "metadata": {},
   "source": [
    "### list\n",
    "\\begin{itemize}\n",
    "\\item 用','隔开的用[]包含的容器，元素可以为不同类型的基本要素，也可以为容器\n",
    "    \\item list是推广的有序数组，可进行切片\n",
    "\\end{itemize}\n"
   ]
  },
  {
   "cell_type": "markdown",
   "id": "89c28102",
   "metadata": {},
   "source": [
    "|操作|含义|\n",
    "|----|----|\n",
    "|x.append()|往x中增加元素,一次增加一个\n",
    "|x.extend()|往x中增加多个元素\n",
    "|x.remove()||\n",
    "|x.del()|\n",
    "|x.sort()|\n",
    "|x.pop()|\n",
    "|x.insert()|\n",
    "|x.index()|\n",
    "|x.count()|\n",
    "|x.copy()| 深拷贝\n",
    "|x.reverse()|"
   ]
  },
  {
   "cell_type": "markdown",
   "id": "10ccb7e4",
   "metadata": {},
   "source": [
    "问题导向\"hello world hello\"出现多少次？"
   ]
  },
  {
   "cell_type": "code",
   "execution_count": 1,
   "id": "e091422e",
   "metadata": {},
   "outputs": [
    {
     "name": "stdout",
     "output_type": "stream",
     "text": [
      "2\n",
      "2\n"
     ]
    }
   ],
   "source": [
    "list_1 = 'hello world hello'.split()\n",
    "print(list_1.count('hello'))\n",
    "ct_hello = 0\n",
    "for l in list_1:\n",
    "    if 'hello'==l:\n",
    "        ct_hello +=1\n",
    "print(ct_hello)"
   ]
  },
  {
   "cell_type": "code",
   "execution_count": 2,
   "id": "58ca0982",
   "metadata": {},
   "outputs": [],
   "source": [
    "#dir('list_1')"
   ]
  },
  {
   "cell_type": "markdown",
   "id": "d70d2132",
   "metadata": {},
   "source": [
    "字符串的切片  \n",
    "index的结构是什么？"
   ]
  },
  {
   "cell_type": "code",
   "execution_count": 3,
   "id": "506150e4",
   "metadata": {},
   "outputs": [
    {
     "data": {
      "text/plain": [
       "[4]"
      ]
     },
     "execution_count": 3,
     "metadata": {},
     "output_type": "execute_result"
    }
   ],
   "source": [
    "list_0 = [5,4,4,1,9]\n",
    "list_0[0]\n",
    "list_0[1:2]"
   ]
  },
  {
   "cell_type": "markdown",
   "id": "038531bb",
   "metadata": {},
   "source": [
    "#### 增加元素"
   ]
  },
  {
   "cell_type": "markdown",
   "id": "da680428",
   "metadata": {},
   "source": [
    "\\begin{itemize}\n",
    "\\item append 一次只能增加一个元素，括号中为增加的元素\n",
    "\\item extend 合并两个列表，等价于列表的加法\n",
    "\\end{itemize}\n"
   ]
  },
  {
   "cell_type": "code",
   "execution_count": 4,
   "id": "54f234ef",
   "metadata": {},
   "outputs": [
    {
     "data": {
      "text/plain": [
       "[[1, 2], 3, 4, [3, 4, 5]]"
      ]
     },
     "execution_count": 4,
     "metadata": {},
     "output_type": "execute_result"
    }
   ],
   "source": [
    "#append\n",
    "list_2 = [[1,2],3,4]\n",
    "list_2.append([3,4,5])\n",
    "list_2"
   ]
  },
  {
   "cell_type": "code",
   "execution_count": 5,
   "id": "8f87914f",
   "metadata": {},
   "outputs": [
    {
     "data": {
      "text/plain": [
       "[[1, 2], 3, 4, 3, 4, 5]"
      ]
     },
     "execution_count": 5,
     "metadata": {},
     "output_type": "execute_result"
    }
   ],
   "source": [
    "#extend\n",
    "list_2 = [[1,2],3,4]\n",
    "list_2.extend([3,4,5,]) #类似于R语言的cbind,直接添加一组\n",
    "#list_2+[3,4,5]\n",
    "list_2"
   ]
  },
  {
   "cell_type": "code",
   "execution_count": null,
   "id": "27f01c35",
   "metadata": {},
   "outputs": [],
   "source": []
  },
  {
   "cell_type": "markdown",
   "id": "057bdeb8",
   "metadata": {},
   "source": [
    "#### 删除元素"
   ]
  },
  {
   "cell_type": "markdown",
   "id": "be3206c9",
   "metadata": {},
   "source": [
    "\\begin{itemize}\n",
    "\\item remove删除第一个目标元素\n",
    "\\item del 删除[]中的某个位置的元素\n",
    "\\end{itemize}\n"
   ]
  },
  {
   "cell_type": "code",
   "execution_count": 1,
   "id": "bf89279d",
   "metadata": {
    "ExecuteTime": {
     "end_time": "2022-09-24T13:24:43.264036Z",
     "start_time": "2022-09-24T13:24:43.246357Z"
    }
   },
   "outputs": [
    {
     "data": {
      "text/plain": [
       "[3, 2]"
      ]
     },
     "execution_count": 1,
     "metadata": {},
     "output_type": "execute_result"
    }
   ],
   "source": [
    "list_2 = [2,3,2,]\n",
    "list_2.remove(2)\n",
    "list_2"
   ]
  },
  {
   "cell_type": "code",
   "execution_count": 2,
   "id": "b188cc2a",
   "metadata": {
    "ExecuteTime": {
     "end_time": "2022-09-24T13:25:04.406694Z",
     "start_time": "2022-09-24T13:25:04.201715Z"
    }
   },
   "outputs": [],
   "source": [
    "import pandas as pd\n",
    "import numpy as np"
   ]
  },
  {
   "cell_type": "code",
   "execution_count": 3,
   "id": "a551cc00",
   "metadata": {
    "ExecuteTime": {
     "end_time": "2022-09-24T13:25:28.368252Z",
     "start_time": "2022-09-24T13:25:28.358041Z"
    }
   },
   "outputs": [],
   "source": [
    "ls1 = pd.Series([4,3,2,1])"
   ]
  },
  {
   "cell_type": "code",
   "execution_count": 15,
   "id": "eda6c4e2",
   "metadata": {
    "ExecuteTime": {
     "end_time": "2022-09-24T13:29:24.049681Z",
     "start_time": "2022-09-24T13:29:24.037907Z"
    }
   },
   "outputs": [
    {
     "data": {
      "text/plain": [
       "RangeIndex(start=0, stop=4, step=1)"
      ]
     },
     "execution_count": 15,
     "metadata": {},
     "output_type": "execute_result"
    }
   ],
   "source": [
    "ls1.index"
   ]
  },
  {
   "cell_type": "code",
   "execution_count": 22,
   "id": "f33c9f3c",
   "metadata": {
    "ExecuteTime": {
     "end_time": "2022-09-24T13:30:13.680054Z",
     "start_time": "2022-09-24T13:30:13.667642Z"
    }
   },
   "outputs": [
    {
     "data": {
      "text/plain": [
       "0    123\n",
       "1    123\n",
       "2    123\n",
       "3    123\n",
       "dtype: int64"
      ]
     },
     "execution_count": 22,
     "metadata": {},
     "output_type": "execute_result"
    }
   ],
   "source": [
    "ls1.apply(lambda x:x.names())"
   ]
  },
  {
   "cell_type": "markdown",
   "id": "da6aec0d",
   "metadata": {},
   "source": [
    "#### 其它操作"
   ]
  },
  {
   "cell_type": "markdown",
   "id": "3a582b12",
   "metadata": {},
   "source": [
    "##### 索引"
   ]
  },
  {
   "cell_type": "code",
   "execution_count": 6,
   "id": "4dddc6a5",
   "metadata": {},
   "outputs": [
    {
     "data": {
      "text/plain": [
       "[0, 2, 4, 6, 8]"
      ]
     },
     "execution_count": 6,
     "metadata": {},
     "output_type": "execute_result"
    }
   ],
   "source": [
    "#索引\n",
    "a_list = [i for i in range(100)]\n",
    "a_list[0:10:2]"
   ]
  },
  {
   "cell_type": "code",
   "execution_count": 10,
   "id": "9939a9ca",
   "metadata": {},
   "outputs": [
    {
     "data": {
      "text/plain": [
       "[0, 8]"
      ]
     },
     "execution_count": 10,
     "metadata": {},
     "output_type": "execute_result"
    }
   ],
   "source": [
    "#重要用法 for循环与list结合\n",
    "[a_list[i] for i in [0,8,9] if i%2==0]"
   ]
  },
  {
   "cell_type": "code",
   "execution_count": 11,
   "id": "78af5540",
   "metadata": {},
   "outputs": [
    {
     "name": "stdout",
     "output_type": "stream",
     "text": [
      "1\n",
      "2\n",
      "3\n",
      "0 1\n",
      "1 2\n",
      "2 3\n",
      "0 1\n",
      "1 2\n",
      "2 3\n"
     ]
    }
   ],
   "source": [
    "#至少需要会一种\n",
    "lst_1 = [1,2,3]\n",
    "lst_2 = []\n",
    "for itm in lst_1:\n",
    "    print(itm)\n",
    "\n",
    "for idx,itm in enumerate(lst_1):\n",
    "    print(idx,itm)\n",
    "\n",
    "for idx in range(len(lst_1)):\n",
    "    print(idx,lst_1[idx])"
   ]
  },
  {
   "cell_type": "code",
   "execution_count": 12,
   "id": "47c58e56",
   "metadata": {},
   "outputs": [
    {
     "name": "stdout",
     "output_type": "stream",
     "text": [
      "[1, 10, 3]\n",
      "[1, 10, 3]\n"
     ]
    }
   ],
   "source": [
    "lst_1 = [1,2,3]\n",
    "lst_2 = lst_1 #lst_1与lst_2只是同一个内存的不同名字，这与其它编程语言不同\n",
    "lst_1[1] = 10\n",
    "print(lst_1)\n",
    "print(lst_2)"
   ]
  },
  {
   "cell_type": "code",
   "execution_count": 13,
   "id": "ebe6bbe4",
   "metadata": {},
   "outputs": [
    {
     "name": "stdout",
     "output_type": "stream",
     "text": [
      "[1, 10, 3]\n",
      "[1, 2, 3]\n"
     ]
    }
   ],
   "source": [
    "lst_1 = [1,2,3]\n",
    "lst_2 = lst_1.copy() #如果想实现R语言中的拷贝，则需要加上.copy\n",
    "lst_1[1] = 10\n",
    "print(lst_1)\n",
    "print(lst_2)"
   ]
  },
  {
   "cell_type": "code",
   "execution_count": 27,
   "id": "4711ecf8",
   "metadata": {},
   "outputs": [
    {
     "data": {
      "text/plain": [
       "[3, 2, 1]"
      ]
     },
     "execution_count": 27,
     "metadata": {},
     "output_type": "execute_result"
    }
   ],
   "source": [
    "I = [1,2,3]\n",
    "I.reverse()\n",
    "I"
   ]
  },
  {
   "cell_type": "markdown",
   "id": "ed6050c8",
   "metadata": {},
   "source": [
    "##### 排序"
   ]
  },
  {
   "cell_type": "code",
   "execution_count": 1,
   "id": "e28f4674",
   "metadata": {
    "ExecuteTime": {
     "end_time": "2022-05-05T08:02:33.635084Z",
     "start_time": "2022-05-05T08:02:33.624085Z"
    }
   },
   "outputs": [],
   "source": [
    "a = [5,4,4,1,9]"
   ]
  },
  {
   "cell_type": "code",
   "execution_count": 2,
   "id": "01bb54b4",
   "metadata": {
    "ExecuteTime": {
     "end_time": "2022-05-05T08:02:40.386898Z",
     "start_time": "2022-05-05T08:02:40.363422Z"
    }
   },
   "outputs": [],
   "source": [
    "a.sort(reverse=False)"
   ]
  },
  {
   "cell_type": "code",
   "execution_count": 3,
   "id": "f53c1c1a",
   "metadata": {
    "ExecuteTime": {
     "end_time": "2022-05-05T08:03:02.458472Z",
     "start_time": "2022-05-05T08:03:02.450386Z"
    }
   },
   "outputs": [],
   "source": [
    "a.sort(key=lambda x:x**3)"
   ]
  },
  {
   "cell_type": "code",
   "execution_count": 15,
   "id": "035ad739",
   "metadata": {},
   "outputs": [
    {
     "data": {
      "text/plain": [
       "['__add__',\n",
       " '__class__',\n",
       " '__contains__',\n",
       " '__delattr__',\n",
       " '__delitem__',\n",
       " '__dir__',\n",
       " '__doc__',\n",
       " '__eq__',\n",
       " '__format__',\n",
       " '__ge__',\n",
       " '__getattribute__',\n",
       " '__getitem__',\n",
       " '__gt__',\n",
       " '__hash__',\n",
       " '__iadd__',\n",
       " '__imul__',\n",
       " '__init__',\n",
       " '__init_subclass__',\n",
       " '__iter__',\n",
       " '__le__',\n",
       " '__len__',\n",
       " '__lt__',\n",
       " '__mul__',\n",
       " '__ne__',\n",
       " '__new__',\n",
       " '__reduce__',\n",
       " '__reduce_ex__',\n",
       " '__repr__',\n",
       " '__reversed__',\n",
       " '__rmul__',\n",
       " '__setattr__',\n",
       " '__setitem__',\n",
       " '__sizeof__',\n",
       " '__str__',\n",
       " '__subclasshook__',\n",
       " 'append',\n",
       " 'clear',\n",
       " 'copy',\n",
       " 'count',\n",
       " 'extend',\n",
       " 'index',\n",
       " 'insert',\n",
       " 'pop',\n",
       " 'remove',\n",
       " 'reverse',\n",
       " 'sort']"
      ]
     },
     "execution_count": 15,
     "metadata": {},
     "output_type": "execute_result"
    }
   ],
   "source": [
    "dir(lst_1)"
   ]
  },
  {
   "cell_type": "markdown",
   "id": "7c9f6429",
   "metadata": {},
   "source": [
    "### tuple"
   ]
  },
  {
   "cell_type": "markdown",
   "id": "983e612f",
   "metadata": {},
   "source": [
    "\\begin{itemize}\n",
    "\\item fixed length, immutable\n",
    "\\item 与list操作类似，但元素不可更改\n",
    "\\item ()在两侧','作为分隔\n",
    "\\end{itemize}\n"
   ]
  },
  {
   "cell_type": "markdown",
   "id": "a28a9e02",
   "metadata": {},
   "source": [
    "|操作|含义|\n",
    "|----|----|\n",
    "|x.count()|\n",
    "|x.index()|"
   ]
  },
  {
   "cell_type": "code",
   "execution_count": 28,
   "id": "57436901",
   "metadata": {},
   "outputs": [
    {
     "data": {
      "text/plain": [
       "(1, 2, 3, 4, 5, 2)"
      ]
     },
     "execution_count": 28,
     "metadata": {},
     "output_type": "execute_result"
    }
   ],
   "source": [
    "a_tuple = tuple([1,2,3,4,5,2])\n",
    "a_tuple"
   ]
  },
  {
   "cell_type": "code",
   "execution_count": 29,
   "id": "3b24e012",
   "metadata": {},
   "outputs": [
    {
     "data": {
      "text/plain": [
       "(2, 4)"
      ]
     },
     "execution_count": 29,
     "metadata": {},
     "output_type": "execute_result"
    }
   ],
   "source": [
    "a_tuple[1:5:2]"
   ]
  },
  {
   "cell_type": "code",
   "execution_count": 34,
   "id": "ba56e086",
   "metadata": {},
   "outputs": [
    {
     "data": {
      "text/plain": [
       "['__add__',\n",
       " '__class__',\n",
       " '__contains__',\n",
       " '__delattr__',\n",
       " '__dir__',\n",
       " '__doc__',\n",
       " '__eq__',\n",
       " '__format__',\n",
       " '__ge__',\n",
       " '__getattribute__',\n",
       " '__getitem__',\n",
       " '__getnewargs__',\n",
       " '__gt__',\n",
       " '__hash__',\n",
       " '__init__',\n",
       " '__init_subclass__',\n",
       " '__iter__',\n",
       " '__le__',\n",
       " '__len__',\n",
       " '__lt__',\n",
       " '__mul__',\n",
       " '__ne__',\n",
       " '__new__',\n",
       " '__reduce__',\n",
       " '__reduce_ex__',\n",
       " '__repr__',\n",
       " '__rmul__',\n",
       " '__setattr__',\n",
       " '__sizeof__',\n",
       " '__str__',\n",
       " '__subclasshook__',\n",
       " 'count',\n",
       " 'index']"
      ]
     },
     "execution_count": 34,
     "metadata": {},
     "output_type": "execute_result"
    }
   ],
   "source": [
    "dir(a_tuple)"
   ]
  },
  {
   "cell_type": "code",
   "execution_count": null,
   "id": "1f37af49",
   "metadata": {},
   "outputs": [],
   "source": []
  },
  {
   "cell_type": "markdown",
   "id": "99f0448e",
   "metadata": {},
   "source": [
    "### dict"
   ]
  },
  {
   "cell_type": "markdown",
   "id": "3f6ce3c1",
   "metadata": {},
   "source": [
    "Json 长得像字典的字符串"
   ]
  },
  {
   "cell_type": "markdown",
   "id": "bf713ac6",
   "metadata": {},
   "source": [
    "#### 字典的创建"
   ]
  },
  {
   "cell_type": "code",
   "execution_count": 1,
   "id": "a5ba42c0",
   "metadata": {},
   "outputs": [
    {
     "data": {
      "text/plain": [
       "{'a': 1, 'b': 2}"
      ]
     },
     "execution_count": 1,
     "metadata": {},
     "output_type": "execute_result"
    }
   ],
   "source": [
    "a_dict = {'a':1,'b':2}\n",
    "a_dict"
   ]
  },
  {
   "cell_type": "code",
   "execution_count": 4,
   "id": "9fd0efaa",
   "metadata": {
    "ExecuteTime": {
     "end_time": "2022-05-05T08:05:56.778509Z",
     "start_time": "2022-05-05T08:05:56.761453Z"
    }
   },
   "outputs": [
    {
     "data": {
      "text/plain": [
       "{1: 2, 2: 2, 3: 4, 4: 4}"
      ]
     },
     "execution_count": 4,
     "metadata": {},
     "output_type": "execute_result"
    }
   ],
   "source": [
    "#利用两个list创建字典\n",
    "key_lst = [1,2,3,4]\n",
    "value_lst = [2,2,4,4]\n",
    "comb = {}\n",
    "for key,value in zip(key_lst,value_lst):\n",
    "    comb[key] = value\n",
    "comb"
   ]
  },
  {
   "cell_type": "code",
   "execution_count": 3,
   "id": "37c78c2e",
   "metadata": {},
   "outputs": [
    {
     "data": {
      "text/plain": [
       "{'a': 1, 'b': 2, 'c': 3}"
      ]
     },
     "execution_count": 3,
     "metadata": {},
     "output_type": "execute_result"
    }
   ],
   "source": [
    "#增加元素\n",
    "a_dict['c'] = 3\n",
    "a_dict"
   ]
  },
  {
   "cell_type": "code",
   "execution_count": 9,
   "id": "84427fb1",
   "metadata": {},
   "outputs": [],
   "source": [
    "#更一般的增加元素方式\n",
    "a_dict.update(dict_3)"
   ]
  },
  {
   "cell_type": "code",
   "execution_count": 10,
   "id": "eabc50e3",
   "metadata": {},
   "outputs": [
    {
     "data": {
      "text/plain": [
       "{'a': 1,\n",
       " 'b': 2,\n",
       " 'c': 3,\n",
       " 'e': 7,\n",
       " 'aa': (100, 101, 102),\n",
       " 'bb': (100, 101, 102),\n",
       " 'cc': (100, 101, 102)}"
      ]
     },
     "execution_count": 10,
     "metadata": {},
     "output_type": "execute_result"
    }
   ],
   "source": [
    "a_dict"
   ]
  },
  {
   "cell_type": "code",
   "execution_count": 53,
   "id": "e44c7981",
   "metadata": {},
   "outputs": [
    {
     "name": "stdout",
     "output_type": "stream",
     "text": [
      "dict_keys(['a', 'b', 'c'])\n",
      "dict_values([1, 2, 3])\n"
     ]
    }
   ],
   "source": [
    "print(a_dict.keys())\n",
    "print(a_dict.values())"
   ]
  },
  {
   "cell_type": "code",
   "execution_count": 20,
   "id": "007423bb",
   "metadata": {},
   "outputs": [
    {
     "data": {
      "text/plain": [
       "{'aa': (100, 101, 102), 'bb': (100, 101, 102), 'cc': (100, 101, 102)}"
      ]
     },
     "execution_count": 20,
     "metadata": {},
     "output_type": "execute_result"
    }
   ],
   "source": [
    "dict_3 = {}.fromkeys(('aa','bb','cc'),(100,101,102))\n",
    "dict_3"
   ]
  },
  {
   "cell_type": "code",
   "execution_count": 21,
   "id": "638904a3",
   "metadata": {},
   "outputs": [
    {
     "data": {
      "text/plain": [
       "{'bb': (100, 101, 102), 'cc': (100, 101, 102)}"
      ]
     },
     "execution_count": 21,
     "metadata": {},
     "output_type": "execute_result"
    }
   ],
   "source": [
    "#删除元素\n",
    "dict_3.pop('aa')\n",
    "dict_3"
   ]
  },
  {
   "cell_type": "code",
   "execution_count": 26,
   "id": "caf93ef1",
   "metadata": {},
   "outputs": [
    {
     "name": "stdout",
     "output_type": "stream",
     "text": [
      "True\n",
      "False\n"
     ]
    }
   ],
   "source": [
    "#查找元素\n",
    "#key in dict.keys()\n",
    "#item in dict.items()\n",
    "print('bb' in dict_3.keys())\n",
    "print(1 in dict_3.values())\n"
   ]
  },
  {
   "cell_type": "code",
   "execution_count": 28,
   "id": "d4de2c6e",
   "metadata": {},
   "outputs": [
    {
     "name": "stdout",
     "output_type": "stream",
     "text": [
      "b b\n",
      "c c\n"
     ]
    }
   ],
   "source": [
    "#提取元素\n",
    "for key,value in dict_3:\n",
    "    print(key,value)"
   ]
  },
  {
   "cell_type": "code",
   "execution_count": null,
   "id": "9162544f",
   "metadata": {},
   "outputs": [],
   "source": []
  },
  {
   "cell_type": "code",
   "execution_count": 41,
   "id": "f978aa98",
   "metadata": {},
   "outputs": [
    {
     "data": {
      "text/plain": [
       "['__class__',\n",
       " '__contains__',\n",
       " '__delattr__',\n",
       " '__delitem__',\n",
       " '__dir__',\n",
       " '__doc__',\n",
       " '__eq__',\n",
       " '__format__',\n",
       " '__ge__',\n",
       " '__getattribute__',\n",
       " '__getitem__',\n",
       " '__gt__',\n",
       " '__hash__',\n",
       " '__init__',\n",
       " '__init_subclass__',\n",
       " '__iter__',\n",
       " '__le__',\n",
       " '__len__',\n",
       " '__lt__',\n",
       " '__ne__',\n",
       " '__new__',\n",
       " '__reduce__',\n",
       " '__reduce_ex__',\n",
       " '__repr__',\n",
       " '__reversed__',\n",
       " '__setattr__',\n",
       " '__setitem__',\n",
       " '__sizeof__',\n",
       " '__str__',\n",
       " '__subclasshook__',\n",
       " 'clear',\n",
       " 'copy',\n",
       " 'fromkeys',\n",
       " 'get',\n",
       " 'items',\n",
       " 'keys',\n",
       " 'pop',\n",
       " 'popitem',\n",
       " 'setdefault',\n",
       " 'update',\n",
       " 'values']"
      ]
     },
     "execution_count": 41,
     "metadata": {},
     "output_type": "execute_result"
    }
   ],
   "source": [
    "dir(a_dict)"
   ]
  },
  {
   "cell_type": "markdown",
   "id": "6d0d1f21",
   "metadata": {},
   "source": [
    "### set"
   ]
  },
  {
   "cell_type": "markdown",
   "id": "3f23cdc8",
   "metadata": {},
   "source": [
    "\\begin{itemize}\n",
    "\\item separated by commas and surrounded by brace\n",
    "\\item 无序,互异\n",
    "\\end{itemize}\n"
   ]
  },
  {
   "cell_type": "markdown",
   "id": "368986d1",
   "metadata": {},
   "source": []
  },
  {
   "cell_type": "code",
   "execution_count": 36,
   "id": "57ce384e",
   "metadata": {},
   "outputs": [
    {
     "data": {
      "text/plain": [
       "{1, 2, 3}"
      ]
     },
     "execution_count": 36,
     "metadata": {},
     "output_type": "execute_result"
    }
   ],
   "source": [
    "a_set = {1,2,3,1}\n",
    "a_set"
   ]
  },
  {
   "cell_type": "code",
   "execution_count": 37,
   "id": "18df38e2",
   "metadata": {},
   "outputs": [
    {
     "data": {
      "text/plain": [
       "['__and__',\n",
       " '__class__',\n",
       " '__contains__',\n",
       " '__delattr__',\n",
       " '__dir__',\n",
       " '__doc__',\n",
       " '__eq__',\n",
       " '__format__',\n",
       " '__ge__',\n",
       " '__getattribute__',\n",
       " '__gt__',\n",
       " '__hash__',\n",
       " '__iand__',\n",
       " '__init__',\n",
       " '__init_subclass__',\n",
       " '__ior__',\n",
       " '__isub__',\n",
       " '__iter__',\n",
       " '__ixor__',\n",
       " '__le__',\n",
       " '__len__',\n",
       " '__lt__',\n",
       " '__ne__',\n",
       " '__new__',\n",
       " '__or__',\n",
       " '__rand__',\n",
       " '__reduce__',\n",
       " '__reduce_ex__',\n",
       " '__repr__',\n",
       " '__ror__',\n",
       " '__rsub__',\n",
       " '__rxor__',\n",
       " '__setattr__',\n",
       " '__sizeof__',\n",
       " '__str__',\n",
       " '__sub__',\n",
       " '__subclasshook__',\n",
       " '__xor__',\n",
       " 'add',\n",
       " 'clear',\n",
       " 'copy',\n",
       " 'difference',\n",
       " 'difference_update',\n",
       " 'discard',\n",
       " 'intersection',\n",
       " 'intersection_update',\n",
       " 'isdisjoint',\n",
       " 'issubset',\n",
       " 'issuperset',\n",
       " 'pop',\n",
       " 'remove',\n",
       " 'symmetric_difference',\n",
       " 'symmetric_difference_update',\n",
       " 'union',\n",
       " 'update']"
      ]
     },
     "execution_count": 37,
     "metadata": {},
     "output_type": "execute_result"
    }
   ],
   "source": [
    "dir(a_set)"
   ]
  },
  {
   "cell_type": "code",
   "execution_count": 65,
   "id": "4399e2ed",
   "metadata": {},
   "outputs": [
    {
     "data": {
      "text/plain": [
       "[1, 1, 2, 2, 3, 3, 4]"
      ]
     },
     "execution_count": 65,
     "metadata": {},
     "output_type": "execute_result"
    }
   ],
   "source": [
    "sorted(a)"
   ]
  },
  {
   "cell_type": "code",
   "execution_count": 51,
   "id": "bc05698a",
   "metadata": {},
   "outputs": [],
   "source": [
    "b = a.sort()"
   ]
  },
  {
   "cell_type": "code",
   "execution_count": 49,
   "id": "96f15bf8",
   "metadata": {},
   "outputs": [],
   "source": [
    "a.extend([1,2,3])"
   ]
  },
  {
   "cell_type": "code",
   "execution_count": 47,
   "id": "89e6e24e",
   "metadata": {},
   "outputs": [],
   "source": [
    "a.remove([])"
   ]
  },
  {
   "cell_type": "code",
   "execution_count": 46,
   "id": "4fa2df21",
   "metadata": {},
   "outputs": [],
   "source": [
    "a = [1,4,3,2,[]]"
   ]
  },
  {
   "cell_type": "code",
   "execution_count": 44,
   "id": "11f60679",
   "metadata": {},
   "outputs": [
    {
     "data": {
      "text/plain": [
       "[0, 1, 2, 3, 4, 5, 6, 7, 8, 9]"
      ]
     },
     "execution_count": 44,
     "metadata": {},
     "output_type": "execute_result"
    }
   ],
   "source": [
    "[i for i in range(10)]"
   ]
  },
  {
   "cell_type": "code",
   "execution_count": 56,
   "id": "ea172f95",
   "metadata": {},
   "outputs": [
    {
     "data": {
      "text/plain": [
       "2"
      ]
     },
     "execution_count": 56,
     "metadata": {},
     "output_type": "execute_result"
    }
   ],
   "source": [
    "'acac'.count('ac')"
   ]
  },
  {
   "cell_type": "code",
   "execution_count": 75,
   "id": "18d971a9",
   "metadata": {},
   "outputs": [],
   "source": [
    "import random"
   ]
  },
  {
   "cell_type": "code",
   "execution_count": 76,
   "id": "5eda1b3e",
   "metadata": {},
   "outputs": [
    {
     "data": {
      "text/plain": [
       "0.669154190557808"
      ]
     },
     "execution_count": 76,
     "metadata": {},
     "output_type": "execute_result"
    }
   ],
   "source": [
    "random.uniform(0,1)"
   ]
  },
  {
   "cell_type": "code",
   "execution_count": 81,
   "id": "ce28ab1f",
   "metadata": {},
   "outputs": [
    {
     "data": {
      "text/plain": [
       "['1', '2', '3']"
      ]
     },
     "execution_count": 81,
     "metadata": {},
     "output_type": "execute_result"
    }
   ],
   "source": [
    "list('123')"
   ]
  },
  {
   "cell_type": "code",
   "execution_count": null,
   "id": "076ac6af",
   "metadata": {},
   "outputs": [],
   "source": [
    "\\begin{itemize}\n",
    "\\item \n",
    "\\end{itemize}\n",
    "\n"
   ]
  },
  {
   "cell_type": "code",
   "execution_count": 83,
   "id": "752f6bf4",
   "metadata": {},
   "outputs": [
    {
     "ename": "TypeError",
     "evalue": "cannot unpack non-iterable int object",
     "output_type": "error",
     "traceback": [
      "\u001b[1;31m---------------------------------------------------------------------------\u001b[0m",
      "\u001b[1;31mTypeError\u001b[0m                                 Traceback (most recent call last)",
      "\u001b[1;32m~\\AppData\\Local\\Temp/ipykernel_7576/2680956502.py\u001b[0m in \u001b[0;36m<module>\u001b[1;34m\u001b[0m\n\u001b[1;32m----> 1\u001b[1;33m \u001b[1;33m[\u001b[0m\u001b[0mi\u001b[0m\u001b[1;33m+\u001b[0m\u001b[0mj\u001b[0m \u001b[1;32mfor\u001b[0m \u001b[0mi\u001b[0m\u001b[1;33m,\u001b[0m\u001b[0mj\u001b[0m \u001b[1;32min\u001b[0m \u001b[0mrange\u001b[0m\u001b[1;33m(\u001b[0m\u001b[1;36m2\u001b[0m\u001b[1;33m)\u001b[0m\u001b[1;33m]\u001b[0m\u001b[1;33m\u001b[0m\u001b[1;33m\u001b[0m\u001b[0m\n\u001b[0m",
      "\u001b[1;32m~\\AppData\\Local\\Temp/ipykernel_7576/2680956502.py\u001b[0m in \u001b[0;36m<listcomp>\u001b[1;34m(.0)\u001b[0m\n\u001b[1;32m----> 1\u001b[1;33m \u001b[1;33m[\u001b[0m\u001b[0mi\u001b[0m\u001b[1;33m+\u001b[0m\u001b[0mj\u001b[0m \u001b[1;32mfor\u001b[0m \u001b[0mi\u001b[0m\u001b[1;33m,\u001b[0m\u001b[0mj\u001b[0m \u001b[1;32min\u001b[0m \u001b[0mrange\u001b[0m\u001b[1;33m(\u001b[0m\u001b[1;36m2\u001b[0m\u001b[1;33m)\u001b[0m\u001b[1;33m]\u001b[0m\u001b[1;33m\u001b[0m\u001b[1;33m\u001b[0m\u001b[0m\n\u001b[0m",
      "\u001b[1;31mTypeError\u001b[0m: cannot unpack non-iterable int object"
     ]
    }
   ],
   "source": [
    "[i+j for i,j in range(2)]"
   ]
  },
  {
   "cell_type": "code",
   "execution_count": 85,
   "id": "88deb7fe",
   "metadata": {},
   "outputs": [],
   "source": [
    "def permutation(lst):\n",
    "    \"\"\"\n",
    "    python使用递归实现全排列\n",
    "    \"\"\"\n",
    "    if len(lst)==0 or len(lst)==1:\n",
    "        return [lst]\n",
    "    result=[]\n",
    "    for i in lst:\n",
    "        temp_list=lst[:]#将lst数组赋值给temp_list\n",
    "        temp_list.remove(i)#删除\n",
    "        temp=permutation(temp_list)#递归生成删除一个元素后的全排列\n",
    "        for j in temp:#遍历生成的全排列\n",
    "            j.insert(0,i)#将删除的i添加到最前面\n",
    "            result.append(j)\n",
    "    return result#注意是和外层for循环对齐"
   ]
  },
  {
   "cell_type": "code",
   "execution_count": null,
   "id": "7acef146",
   "metadata": {},
   "outputs": [],
   "source": []
  },
  {
   "cell_type": "code",
   "execution_count": null,
   "id": "efe224ba",
   "metadata": {},
   "outputs": [],
   "source": []
  },
  {
   "cell_type": "code",
   "execution_count": null,
   "id": "67024093",
   "metadata": {},
   "outputs": [],
   "source": []
  },
  {
   "cell_type": "markdown",
   "id": "ba692bc5",
   "metadata": {},
   "source": [
    "## 3个控制语句"
   ]
  },
  {
   "cell_type": "markdown",
   "id": "53f9702e",
   "metadata": {},
   "source": [
    "### For Loops"
   ]
  },
  {
   "cell_type": "code",
   "execution_count": 29,
   "id": "3d7e3e44",
   "metadata": {},
   "outputs": [
    {
     "data": {
      "text/plain": [
       "12"
      ]
     },
     "execution_count": 29,
     "metadata": {},
     "output_type": "execute_result"
    }
   ],
   "source": [
    "#顺便学习continue的用法\n",
    "sequence = [1,2,None,4,None,5]\n",
    "total = 0 \n",
    "for value in sequence:\n",
    "    if value is None:\n",
    "        continue\n",
    "    total += value\n",
    "total"
   ]
  },
  {
   "cell_type": "markdown",
   "id": "dc4d22d6",
   "metadata": {},
   "source": [
    "### While Loops"
   ]
  },
  {
   "cell_type": "code",
   "execution_count": 49,
   "id": "46d694b2",
   "metadata": {},
   "outputs": [
    {
     "name": "stdout",
     "output_type": "stream",
     "text": [
      "*** 5 1\n",
      "*** 11 2\n",
      "*** 11 3\n",
      "*** 11 4\n",
      "*** 11 5\n",
      "*** 11 6\n",
      "*** 11 7\n",
      "*** 11 8\n",
      "*** 11 9\n",
      "*** 11 10\n"
     ]
    }
   ],
   "source": [
    "#顺便学习break的用法\n",
    "i = 0\n",
    "j = 0\n",
    "while j < 10:\n",
    "    j = j + 1\n",
    "    while i <= 10:\n",
    "        i = i+1\n",
    "        if i == 5:\n",
    "            break\n",
    "    print('***',i,j)\n"
   ]
  },
  {
   "cell_type": "markdown",
   "id": "aad84101",
   "metadata": {},
   "source": [
    "### if elif else"
   ]
  },
  {
   "cell_type": "code",
   "execution_count": null,
   "id": "ac575e98",
   "metadata": {},
   "outputs": [],
   "source": []
  },
  {
   "cell_type": "code",
   "execution_count": null,
   "id": "b26475e5",
   "metadata": {},
   "outputs": [],
   "source": []
  },
  {
   "cell_type": "code",
   "execution_count": null,
   "id": "903a4a23",
   "metadata": {},
   "outputs": [],
   "source": []
  },
  {
   "cell_type": "markdown",
   "id": "bbd8c720",
   "metadata": {},
   "source": [
    "## 2种函数定义方式"
   ]
  },
  {
   "cell_type": "markdown",
   "id": "3b1423f1",
   "metadata": {},
   "source": [
    "### def"
   ]
  },
  {
   "cell_type": "code",
   "execution_count": 57,
   "id": "573562fb",
   "metadata": {},
   "outputs": [
    {
     "data": {
      "text/plain": [
       "3"
      ]
     },
     "execution_count": 57,
     "metadata": {},
     "output_type": "execute_result"
    }
   ],
   "source": [
    "#先定义再调用\n",
    "def func_1(x=1,y=2):\n",
    "    return x+2*y\n",
    "func_1(1,1)"
   ]
  },
  {
   "cell_type": "markdown",
   "id": "5a32e041",
   "metadata": {},
   "source": [
    "### 函数参数的传递"
   ]
  },
  {
   "cell_type": "markdown",
   "id": "0996705b",
   "metadata": {},
   "source": [
    "#### 顺序传参"
   ]
  },
  {
   "cell_type": "code",
   "execution_count": 53,
   "id": "128b2118",
   "metadata": {},
   "outputs": [
    {
     "data": {
      "text/plain": [
       "5"
      ]
     },
     "execution_count": 53,
     "metadata": {},
     "output_type": "execute_result"
    }
   ],
   "source": [
    "func_1(1,2)"
   ]
  },
  {
   "cell_type": "markdown",
   "id": "4e67b2fe",
   "metadata": {},
   "source": [
    "#### 关键词传参"
   ]
  },
  {
   "cell_type": "code",
   "execution_count": 55,
   "id": "eae4dfc2",
   "metadata": {},
   "outputs": [
    {
     "data": {
      "text/plain": [
       "5"
      ]
     },
     "execution_count": 55,
     "metadata": {},
     "output_type": "execute_result"
    }
   ],
   "source": [
    "func_1(x=1,y=2)"
   ]
  },
  {
   "cell_type": "markdown",
   "id": "11b167bc",
   "metadata": {},
   "source": [
    "#### 默认传参"
   ]
  },
  {
   "cell_type": "code",
   "execution_count": 59,
   "id": "220b18d8",
   "metadata": {},
   "outputs": [
    {
     "data": {
      "text/plain": [
       "5"
      ]
     },
     "execution_count": 59,
     "metadata": {},
     "output_type": "execute_result"
    }
   ],
   "source": [
    "func_1()"
   ]
  },
  {
   "cell_type": "code",
   "execution_count": null,
   "id": "39413a29",
   "metadata": {},
   "outputs": [],
   "source": []
  },
  {
   "cell_type": "markdown",
   "id": "51148743",
   "metadata": {},
   "source": [
    "### 递归"
   ]
  },
  {
   "cell_type": "code",
   "execution_count": 66,
   "id": "041fa2cb",
   "metadata": {},
   "outputs": [
    {
     "data": {
      "text/plain": [
       "120"
      ]
     },
     "execution_count": 66,
     "metadata": {},
     "output_type": "execute_result"
    }
   ],
   "source": [
    "#阶乘\n",
    "def factorial(n):\n",
    "    if n == 0 or n == 1:\n",
    "        return 1\n",
    "    else:\n",
    "        return n*factorial(n-1)\n",
    "\n",
    "factorial(5)"
   ]
  },
  {
   "cell_type": "code",
   "execution_count": 67,
   "id": "6d0b8285",
   "metadata": {},
   "outputs": [],
   "source": [
    "# permutation\n",
    "def permutation(lst):\n",
    "    if len(lst)==0 or len(lst)==1:\n",
    "        return [lst]\n",
    "    rlt = []\n",
    "    for val in lst:\n",
    "        lp_list = lst.copy()\n",
    "        lp_list.remove(val)\n",
    "        lp = permutation(lp_list)\n",
    "        for j in lp:\n",
    "            j.insert(0,val)\n",
    "            rlt.append(j)\n",
    "    return rlt"
   ]
  },
  {
   "cell_type": "code",
   "execution_count": 68,
   "id": "9c879f47",
   "metadata": {},
   "outputs": [
    {
     "data": {
      "text/plain": [
       "[[1, 2, 3], [1, 3, 2], [2, 1, 3], [2, 3, 1], [3, 1, 2], [3, 2, 1]]"
      ]
     },
     "execution_count": 68,
     "metadata": {},
     "output_type": "execute_result"
    }
   ],
   "source": [
    "permutation([1,2,3])"
   ]
  },
  {
   "cell_type": "code",
   "execution_count": null,
   "id": "1e6df9ce",
   "metadata": {},
   "outputs": [],
   "source": []
  },
  {
   "cell_type": "markdown",
   "id": "2f1fcc12",
   "metadata": {},
   "source": [
    "### Lambda"
   ]
  },
  {
   "cell_type": "code",
   "execution_count": 1,
   "id": "5ec16e7b",
   "metadata": {},
   "outputs": [
    {
     "data": {
      "text/plain": [
       "100"
      ]
     },
     "execution_count": 1,
     "metadata": {},
     "output_type": "execute_result"
    }
   ],
   "source": [
    "func_3 = lambda x: x**2\n",
    "func_3(10)"
   ]
  },
  {
   "cell_type": "code",
   "execution_count": 2,
   "id": "23170486",
   "metadata": {},
   "outputs": [
    {
     "data": {
      "text/plain": [
       "[1, 4, 9, 16]"
      ]
     },
     "execution_count": 2,
     "metadata": {},
     "output_type": "execute_result"
    }
   ],
   "source": [
    "list(map(func_3,[1,2,3,4]))"
   ]
  },
  {
   "cell_type": "code",
   "execution_count": null,
   "id": "b3d5eb75",
   "metadata": {},
   "outputs": [],
   "source": [
    "#lambda函数常用map,filter联用"
   ]
  },
  {
   "cell_type": "markdown",
   "id": "0f0d5e19",
   "metadata": {},
   "source": [
    "#### map"
   ]
  },
  {
   "cell_type": "code",
   "execution_count": 71,
   "id": "173733b3",
   "metadata": {},
   "outputs": [
    {
     "data": {
      "text/plain": [
       "<map at 0x1dee72066a0>"
      ]
     },
     "execution_count": 71,
     "metadata": {},
     "output_type": "execute_result"
    }
   ],
   "source": [
    "map(lambda x:x**2,[1,2,3,4])"
   ]
  },
  {
   "cell_type": "code",
   "execution_count": 72,
   "id": "b5282f08",
   "metadata": {},
   "outputs": [
    {
     "data": {
      "text/plain": [
       "[1, 4, 9, 16]"
      ]
     },
     "execution_count": 72,
     "metadata": {},
     "output_type": "execute_result"
    }
   ],
   "source": [
    "list(map(lambda x:x**2,[1,2,3,4]))"
   ]
  },
  {
   "cell_type": "code",
   "execution_count": 3,
   "id": "cbe5c361",
   "metadata": {},
   "outputs": [],
   "source": []
  },
  {
   "cell_type": "code",
   "execution_count": null,
   "id": "3de135ec",
   "metadata": {},
   "outputs": [],
   "source": []
  },
  {
   "cell_type": "code",
   "execution_count": null,
   "id": "8949c08d",
   "metadata": {},
   "outputs": [],
   "source": []
  },
  {
   "cell_type": "markdown",
   "id": "c1f3a134",
   "metadata": {},
   "source": [
    "## 1种类(class)"
   ]
  },
  {
   "cell_type": "markdown",
   "id": "c67e93b4",
   "metadata": {},
   "source": [
    "\n"
   ]
  },
  {
   "cell_type": "markdown",
   "id": "0b2d19f4",
   "metadata": {},
   "source": [
    "\\begin{itemize}\n",
    "\\item 类: \n",
    "\\item 对象:\n",
    "\\item 实例:\n",
    "\\end{itemize}\n",
    "对象和实例可以看作是等价的"
   ]
  },
  {
   "cell_type": "code",
   "execution_count": 1,
   "id": "4460585f",
   "metadata": {},
   "outputs": [
    {
     "ename": "TypeError",
     "evalue": "__init__() takes 2 positional arguments but 3 were given",
     "output_type": "error",
     "traceback": [
      "\u001b[1;31m---------------------------------------------------------------------------\u001b[0m",
      "\u001b[1;31mTypeError\u001b[0m                                 Traceback (most recent call last)",
      "\u001b[1;32m~\\AppData\\Local\\Temp/ipykernel_16476/2566483021.py\u001b[0m in \u001b[0;36m<module>\u001b[1;34m\u001b[0m\n\u001b[0;32m      6\u001b[0m \u001b[1;33m\u001b[0m\u001b[0m\n\u001b[0;32m      7\u001b[0m \u001b[1;33m\u001b[0m\u001b[0m\n\u001b[1;32m----> 8\u001b[1;33m \u001b[0ms1\u001b[0m \u001b[1;33m=\u001b[0m \u001b[0mStudent\u001b[0m\u001b[1;33m(\u001b[0m\u001b[1;36m201930035\u001b[0m\u001b[1;33m,\u001b[0m\u001b[1;34m'123'\u001b[0m\u001b[1;33m)\u001b[0m\u001b[1;33m\u001b[0m\u001b[1;33m\u001b[0m\u001b[0m\n\u001b[0m",
      "\u001b[1;31mTypeError\u001b[0m: __init__() takes 2 positional arguments but 3 were given"
     ]
    }
   ],
   "source": [
    "#类中的参数必须是 self,原因是解释器隐藏的把\n",
    "#\n",
    "class Student:\n",
    "    def __init__(ID,Name):\n",
    "        pass\n",
    "        \n",
    "        \n",
    "s1 = Student(201930035,'123')"
   ]
  },
  {
   "cell_type": "code",
   "execution_count": 2,
   "id": "20dc2eb2",
   "metadata": {},
   "outputs": [],
   "source": [
    "# init相当于集体定义函数，而不必一个一个去定义\n",
    "class Student:\n",
    "    def __init__(self,ID,Name,Age):\n",
    "        self.ID = ID\n",
    "        self.Name = Name\n",
    "        self.__Age = Age\n",
    "\n",
    "    def get_id(self):\n",
    "        print('Students',self.ID)\n",
    "        pass\n",
    "    \n",
    "    #私有化函数\n",
    "    def __privacy(self):\n",
    "        print('Success')\n",
    "        \n",
    "s1 = Student(201930035,'123',18)"
   ]
  },
  {
   "cell_type": "code",
   "execution_count": 101,
   "id": "f3ff1b7c",
   "metadata": {},
   "outputs": [
    {
     "name": "stdout",
     "output_type": "stream",
     "text": [
      "<__main__.Student object at 0x000001F63668E5E0>\n",
      "201930035\n",
      "123\n",
      "Students 201930035\n",
      "None\n",
      "18\n",
      "Success\n",
      "None\n"
     ]
    }
   ],
   "source": [
    "print(s1)\n",
    "print(s1.ID)\n",
    "print(s1.Name)\n",
    "print(s1.get_id())\n",
    "#print(s1.__Age) #实际上是有__Age函数的\n",
    "print(s1._Student__Age)\n",
    "print(s1._Student__privacy())"
   ]
  },
  {
   "cell_type": "code",
   "execution_count": null,
   "id": "874272f7",
   "metadata": {},
   "outputs": [],
   "source": [
    "#封装，继承，多态"
   ]
  },
  {
   "cell_type": "code",
   "execution_count": 77,
   "id": "16dd37d5",
   "metadata": {},
   "outputs": [],
   "source": [
    "#继承\n",
    "class CollegeStudent(Student):\n",
    "    def get_id(self):\n",
    "        print('College',self.ID)\n",
    "    def get_degree(self):\n",
    "        print(\"Doctor of Science\")\n",
    "    pass"
   ]
  },
  {
   "cell_type": "code",
   "execution_count": 78,
   "id": "921e6754",
   "metadata": {},
   "outputs": [],
   "source": [
    "s2 = CollegeStudent(201930035,'zyz',18)"
   ]
  },
  {
   "cell_type": "code",
   "execution_count": 79,
   "id": "a4f7390d",
   "metadata": {},
   "outputs": [
    {
     "name": "stdout",
     "output_type": "stream",
     "text": [
      "College 201930035\n",
      "None\n",
      "Doctor of Science\n",
      "None\n"
     ]
    }
   ],
   "source": [
    "print(s2.get_id())\n",
    "print(s2.get_degree())"
   ]
  },
  {
   "cell_type": "code",
   "execution_count": null,
   "id": "e238fc81",
   "metadata": {},
   "outputs": [],
   "source": []
  },
  {
   "cell_type": "code",
   "execution_count": 80,
   "id": "0ef48381",
   "metadata": {
    "scrolled": true
   },
   "outputs": [
    {
     "name": "stdout",
     "output_type": "stream",
     "text": [
      "get_id\n",
      "College 201930035\n"
     ]
    }
   ],
   "source": [
    "#多态\n",
    "def fun_1(obj):\n",
    "    obj.get_id()\n",
    "    \n",
    "fun_1(s1)\n",
    "fun_1(s2)"
   ]
  },
  {
   "cell_type": "code",
   "execution_count": null,
   "id": "2e463eb7",
   "metadata": {},
   "outputs": [],
   "source": []
  },
  {
   "cell_type": "code",
   "execution_count": null,
   "id": "99e8b2ec",
   "metadata": {},
   "outputs": [],
   "source": []
  },
  {
   "cell_type": "code",
   "execution_count": null,
   "id": "ca7bee3d",
   "metadata": {},
   "outputs": [],
   "source": []
  },
  {
   "cell_type": "code",
   "execution_count": null,
   "id": "83463495",
   "metadata": {},
   "outputs": [],
   "source": []
  },
  {
   "cell_type": "code",
   "execution_count": null,
   "id": "634f766c",
   "metadata": {},
   "outputs": [],
   "source": []
  },
  {
   "cell_type": "code",
   "execution_count": null,
   "id": "08cdc371",
   "metadata": {},
   "outputs": [],
   "source": []
  },
  {
   "cell_type": "code",
   "execution_count": null,
   "id": "23320e9f",
   "metadata": {},
   "outputs": [],
   "source": []
  },
  {
   "cell_type": "code",
   "execution_count": null,
   "id": "c476f4c2",
   "metadata": {},
   "outputs": [],
   "source": []
  },
  {
   "cell_type": "code",
   "execution_count": null,
   "id": "b5b4f218",
   "metadata": {},
   "outputs": [],
   "source": []
  },
  {
   "cell_type": "code",
   "execution_count": null,
   "id": "8ae1ae59",
   "metadata": {},
   "outputs": [],
   "source": []
  }
 ],
 "metadata": {
  "_draft": {
   "nbviewer_url": "https://gist.github.com/2770054648790bf27d7f12521715f0da"
  },
  "gist": {
   "data": {
    "description": "Python_Basic.ipynb",
    "public": true
   },
   "id": "2770054648790bf27d7f12521715f0da"
  },
  "interpreter": {
   "hash": "3b6c1224657c578b9d3e2b49ca831d7f85bea0417468944a724420177cb04cf0"
  },
  "kernelspec": {
   "display_name": "Python 3 (ipykernel)",
   "language": "python",
   "name": "python3"
  },
  "language_info": {
   "codemirror_mode": {
    "name": "ipython",
    "version": 3
   },
   "file_extension": ".py",
   "mimetype": "text/x-python",
   "name": "python",
   "nbconvert_exporter": "python",
   "pygments_lexer": "ipython3",
   "version": "3.9.12"
  },
  "latex_envs": {
   "LaTeX_envs_menu_present": true,
   "autoclose": false,
   "autocomplete": true,
   "bibliofile": "biblio.bib",
   "cite_by": "apalike",
   "current_citInitial": 1,
   "eqLabelWithNumbers": true,
   "eqNumInitial": 1,
   "hotkeys": {
    "equation": "Ctrl-E",
    "itemize": "Ctrl-I"
   },
   "labels_anchors": false,
   "latex_user_defs": false,
   "report_style_numbering": false,
   "user_envs_cfg": false
  },
  "nbTranslate": {
   "displayLangs": [
    "*"
   ],
   "hotkey": "alt-t",
   "langInMainMenu": true,
   "sourceLang": "en",
   "targetLang": "fr",
   "useGoogleTranslate": true
  },
  "toc": {
   "base_numbering": 1,
   "nav_menu": {
    "height": "110px",
    "width": "297px"
   },
   "number_sections": true,
   "sideBar": true,
   "skip_h1_title": true,
   "title_cell": "Table of Contents",
   "title_sidebar": "Contents",
   "toc_cell": true,
   "toc_position": {
    "height": "calc(100% - 180px)",
    "left": "10px",
    "top": "150px",
    "width": "256px"
   },
   "toc_section_display": true,
   "toc_window_display": true
  },
  "varInspector": {
   "cols": {
    "lenName": 16,
    "lenType": 16,
    "lenVar": 40
   },
   "kernels_config": {
    "python": {
     "delete_cmd_postfix": "",
     "delete_cmd_prefix": "del ",
     "library": "var_list.py",
     "varRefreshCmd": "print(var_dic_list())"
    },
    "r": {
     "delete_cmd_postfix": ") ",
     "delete_cmd_prefix": "rm(",
     "library": "var_list.r",
     "varRefreshCmd": "cat(var_dic_list()) "
    }
   },
   "types_to_exclude": [
    "module",
    "function",
    "builtin_function_or_method",
    "instance",
    "_Feature"
   ],
   "window_display": false
  }
 },
 "nbformat": 4,
 "nbformat_minor": 5
}
