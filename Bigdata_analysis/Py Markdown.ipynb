{
 "cells": [
  {
   "cell_type": "markdown",
   "id": "122a83b3",
   "metadata": {
    "ExecuteTime": {
     "end_time": "2022-05-04T18:38:03.385414Z",
     "start_time": "2022-05-04T18:38:03.378433Z"
    }
   },
   "source": []
  },
  {
   "cell_type": "markdown",
   "id": "1c8bdcd6",
   "metadata": {
    "ExecuteTime": {
     "end_time": "2022-05-04T18:38:14.164667Z",
     "start_time": "2022-05-04T18:38:14.154667Z"
    }
   },
   "source": [
    "\n"
   ]
  },
  {
   "cell_type": "markdown",
   "id": "7a319c61",
   "metadata": {
    "heading_collapsed": true
   },
   "source": [
    "## Contents\n",
    "- [Headings](##-Headings )"
   ]
  },
  {
   "cell_type": "markdown",
   "id": "d713bb12",
   "metadata": {
    "ExecuteTime": {
     "end_time": "2022-05-04T18:02:47.223593Z",
     "start_time": "2022-05-04T18:02:47.213607Z"
    }
   },
   "source": [
    "## [Headings](#Contents)"
   ]
  },
  {
   "cell_type": "markdown",
   "id": "a1eba6b0",
   "metadata": {},
   "source": [
    "#Heading1  \n",
    "##Heading2"
   ]
  },
  {
   "cell_type": "markdown",
   "id": "b237619d",
   "metadata": {},
   "source": [
    "## Latex Equations"
   ]
  },
  {
   "cell_type": "markdown",
   "id": "b352fa35",
   "metadata": {},
   "source": [
    "\\begin{equation}\n",
    "e^x = \\sum_{n=0}^\\infty \\frac{x^n}{n!}\n",
    "\\end{equation}"
   ]
  },
  {
   "cell_type": "markdown",
   "id": "f4eea3e4",
   "metadata": {},
   "source": [
    "$\n",
    "\\text{Normal distribution} \\\\\n",
    "$\n",
    "$$\n",
    "X \\sim N(\\mu,\\sigma^2) \\\\\n",
    "$$\n",
    "$\n",
    "\\text{Probability density function} \\\\\n",
    "$\n",
    "$$\n",
    "\\frac{1}{\\sigma \\sqrt{2 \\pi}}e^{-\\frac{(x- \\mu)^2}{2 \\sigma^2}}\n",
    "$$"
   ]
  },
  {
   "cell_type": "markdown",
   "id": "79862278",
   "metadata": {},
   "source": [
    "## List"
   ]
  },
  {
   "cell_type": "markdown",
   "id": "6eae983f",
   "metadata": {},
   "source": [
    "- 第一章\n",
    "    - 第一章第一节\n",
    "        - 第一章第一节第一段\n",
    "- 第二章\n",
    "    - 第二章第一节"
   ]
  },
  {
   "cell_type": "markdown",
   "id": "01418f1a",
   "metadata": {},
   "source": [
    "1. 第一章\n",
    "    - 第一章第一节"
   ]
  },
  {
   "cell_type": "markdown",
   "id": "607dba1b",
   "metadata": {},
   "source": [
    "## Links"
   ]
  },
  {
   "cell_type": "markdown",
   "id": "6f44ef05",
   "metadata": {},
   "source": [
    "[Google](http://www.google.com)"
   ]
  },
  {
   "cell_type": "code",
   "execution_count": null,
   "id": "e8eb3893",
   "metadata": {},
   "outputs": [],
   "source": []
  },
  {
   "cell_type": "markdown",
   "id": "88145e8b",
   "metadata": {},
   "source": [
    "[Google](https://www.google.com)\n",
    "\n",
    "[Google](https://www.google.com \"Google's Homepage\")\n",
    "\n",
    "[对外经济贸易大学教务处][1]\n",
    "\n",
    "[1]: http://jwc.uibe.edu.cn\n"
   ]
  },
  {
   "cell_type": "markdown",
   "id": "5060a19e",
   "metadata": {},
   "source": [
    "## Image"
   ]
  },
  {
   "cell_type": "markdown",
   "id": "e6ba1772",
   "metadata": {},
   "source": [
    "![无法显示怎么办](https://github.com/shinokada/python-for-ib-diploma-mathematics/blob/master/image/jupyter_logo.png \"Logo Title Jupyter Notebook logo\")"
   ]
  },
  {
   "cell_type": "markdown",
   "id": "cc64d9ec",
   "metadata": {},
   "source": [
    "## Table\n",
    "[返回目录](#Contents)"
   ]
  },
  {
   "cell_type": "markdown",
   "id": "e71b83be",
   "metadata": {},
   "source": [
    "ID| syntax| Description\n",
    "--| :--------:|:-----:|\n",
    "1|Header | Something very long"
   ]
  },
  {
   "cell_type": "code",
   "execution_count": null,
   "id": "699d1167",
   "metadata": {},
   "outputs": [],
   "source": []
  },
  {
   "cell_type": "markdown",
   "id": "889877f2",
   "metadata": {},
   "source": [
    "## Two Columns"
   ]
  },
  {
   "cell_type": "markdown",
   "id": "cfc9b0d4",
   "metadata": {},
   "source": [
    "<div class=\"row\">\n",
    "  <div class=\"column\">\n",
    "    Lorem ipsum dolor sit amet, consectetur adipiscing elit.    Maecenas quis nunc pulvinar urna faucibus tincidunt ut vestibulum ligula. Sed placerat sollicitudin erat, quis dapibus nibh tempor non. \n",
    "      <br/>\n",
    "    \n",
    "Id | Syntax      | Description \n",
    "--|:---------:|:-----------:\n",
    "1|Header      | Something  here\n",
    "2|More here   | Text\n",
    "    \n",
    "  </div>\n",
    "    \n",
    "  <div class=\"column\">\n",
    "Lorem ipsum dolor sit amet, consectetur adipiscing elit. Maecenas quis nunc pulvinar urna faucibus tincidunt ut vestibulum ligula. Sed placerat sollicitudin erat, quis dapibus nibh tempor non. \n",
    "  <br/>\n",
    "    \n",
    "  $$\n",
    "  \\begin{align}\n",
    "  {x} & = \\sigma(y-x) \\tag{3-1}\\\\\n",
    "  {y} & = \\rho x - y - xz \\tag{3-2}\\\\\n",
    "  {x+y+z} & = -\\beta z + xy \\tag{3-3}\n",
    "  \\end{align}\n",
    "  $$\n",
    "    \n",
    "  </div>\n",
    "</div>"
   ]
  },
  {
   "cell_type": "markdown",
   "id": "57f5508d",
   "metadata": {},
   "source": []
  },
  {
   "cell_type": "markdown",
   "id": "dce93ac9",
   "metadata": {},
   "source": [
    "123\n",
    "<br/>\n",
    "123"
   ]
  },
  {
   "cell_type": "markdown",
   "id": "5b2492f7",
   "metadata": {},
   "source": [
    "## Footnotes"
   ]
  },
  {
   "cell_type": "markdown",
   "id": "7e59c328",
   "metadata": {},
   "source": [
    "Here is a simple footnote[^1].\n",
    "\n",
    "A footnote can also have multiple lines[^2].  \n",
    "\n",
    "You can also use words, to fit your writing style more closely[^note].\n",
    "\n",
    "[^1]: My reference.\n",
    "[^2]: Every new line should be prefixed with 2 spaces.  \n",
    "  This allows you to have a footnote with multiple lines.\n",
    "[^note]:\n",
    "    Named footnotes will still render with numbers instead of the text but allow easier identification and linking.  \n",
    "    This footnote also has been made with a different syntax using 4 spaces for new lines."
   ]
  },
  {
   "cell_type": "markdown",
   "id": "a858d9d9",
   "metadata": {},
   "source": []
  },
  {
   "cell_type": "markdown",
   "id": "4ce886b5",
   "metadata": {
    "ExecuteTime": {
     "end_time": "2022-05-04T18:30:44.578034Z",
     "start_time": "2022-05-04T18:30:44.572959Z"
    }
   },
   "source": []
  },
  {
   "cell_type": "code",
   "execution_count": null,
   "id": "ec8edc71",
   "metadata": {},
   "outputs": [],
   "source": []
  }
 ],
 "metadata": {
  "kernelspec": {
   "display_name": "Python 3 (ipykernel)",
   "language": "python",
   "name": "python3"
  },
  "language_info": {
   "codemirror_mode": {
    "name": "ipython",
    "version": 3
   },
   "file_extension": ".py",
   "mimetype": "text/x-python",
   "name": "python",
   "nbconvert_exporter": "python",
   "pygments_lexer": "ipython3",
   "version": "3.9.12"
  },
  "latex_envs": {
   "LaTeX_envs_menu_present": true,
   "autoclose": false,
   "autocomplete": true,
   "bibliofile": "biblio.bib",
   "cite_by": "apalike",
   "current_citInitial": 1,
   "eqLabelWithNumbers": true,
   "eqNumInitial": 1,
   "hotkeys": {
    "equation": "Ctrl-E",
    "itemize": "Ctrl-I"
   },
   "labels_anchors": false,
   "latex_user_defs": false,
   "report_style_numbering": false,
   "user_envs_cfg": false
  },
  "nbTranslate": {
   "displayLangs": [
    "*"
   ],
   "hotkey": "alt-t",
   "langInMainMenu": true,
   "sourceLang": "en",
   "targetLang": "fr",
   "useGoogleTranslate": true
  },
  "toc": {
   "base_numbering": 1,
   "nav_menu": {},
   "number_sections": true,
   "sideBar": true,
   "skip_h1_title": false,
   "title_cell": "Table of Contents",
   "title_sidebar": "Contents",
   "toc_cell": false,
   "toc_position": {
    "height": "calc(100% - 180px)",
    "left": "10px",
    "top": "150px",
    "width": "256px"
   },
   "toc_section_display": true,
   "toc_window_display": true
  },
  "varInspector": {
   "cols": {
    "lenName": 16,
    "lenType": 16,
    "lenVar": 40
   },
   "kernels_config": {
    "python": {
     "delete_cmd_postfix": "",
     "delete_cmd_prefix": "del ",
     "library": "var_list.py",
     "varRefreshCmd": "print(var_dic_list())"
    },
    "r": {
     "delete_cmd_postfix": ") ",
     "delete_cmd_prefix": "rm(",
     "library": "var_list.r",
     "varRefreshCmd": "cat(var_dic_list()) "
    }
   },
   "types_to_exclude": [
    "module",
    "function",
    "builtin_function_or_method",
    "instance",
    "_Feature"
   ],
   "window_display": false
  }
 },
 "nbformat": 4,
 "nbformat_minor": 5
}
