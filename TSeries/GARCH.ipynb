{
 "cells": [
  {
   "cell_type": "markdown",
   "id": "fecc1ae1",
   "metadata": {},
   "source": [
    "<p id=\"back\" style=\"background-color:powderblue; font-size: 200%; color: red;text-align:center;\"> 回到这里</p>"
   ]
  },
  {
   "cell_type": "markdown",
   "id": "4d61c890",
   "metadata": {},
   "source": [
    "<h1>模块载入</h1>"
   ]
  },
  {
   "cell_type": "code",
   "execution_count": 233,
   "id": "553b94d2",
   "metadata": {
    "ExecuteTime": {
     "end_time": "2022-10-18T05:40:38.259499Z",
     "start_time": "2022-10-18T05:40:37.863437Z"
    }
   },
   "outputs": [],
   "source": [
    "import numpy as np\n",
    "import pandas as pd\n",
    "import scipy.optimize as opt\n",
    "import os \n",
    "import matplotlib as mpl\n",
    "import matplotlib.pyplot as plt"
   ]
  },
  {
   "cell_type": "code",
   "execution_count": 221,
   "id": "3593e860",
   "metadata": {
    "ExecuteTime": {
     "end_time": "2022-10-18T05:39:10.119557Z",
     "start_time": "2022-10-18T05:39:10.111278Z"
    }
   },
   "outputs": [],
   "source": [
    "path_default = os.getcwd()\n",
    "path_figure = path_default + '/figure'\n",
    "path_data = path_default + '/datasets'\n",
    "path_result = path_default + '/results'"
   ]
  },
  {
   "cell_type": "code",
   "execution_count": 222,
   "id": "e63c89a3",
   "metadata": {
    "ExecuteTime": {
     "end_time": "2022-10-18T05:39:10.599738Z",
     "start_time": "2022-10-18T05:39:10.587269Z"
    }
   },
   "outputs": [],
   "source": [
    "if not os.path.exists(path_result):   \n",
    "    os.mkdir(path_result)\n",
    "if not os.path.exists(path_data):   \n",
    "    os.mkdir(path_data)\n",
    "if not os.path.exists(path_figure):   \n",
    "    os.mkdir(path_figure)"
   ]
  },
  {
   "cell_type": "code",
   "execution_count": 223,
   "id": "7e73b68d",
   "metadata": {
    "ExecuteTime": {
     "end_time": "2022-10-18T05:39:10.907438Z",
     "start_time": "2022-10-18T05:39:10.893349Z"
    }
   },
   "outputs": [],
   "source": [
    "df = pd.Series([0.02,0.04,0.07,0.12,0.06,0.05,0.08,0.14,0.1,0.02,0.03,0.02,0.06,0.07,0.09,0.06,0.11])"
   ]
  },
  {
   "cell_type": "code",
   "execution_count": 224,
   "id": "3500a81c",
   "metadata": {
    "ExecuteTime": {
     "end_time": "2022-10-18T05:39:11.094884Z",
     "start_time": "2022-10-18T05:39:11.074032Z"
    }
   },
   "outputs": [],
   "source": [
    "#Objective function to minimize\n",
    "def garch_filter(omega, alpha1, beta, rv):\n",
    "    T = len(rv)\n",
    "    Sigma_2 = np.zeros(T)\n",
    "\n",
    "    for i in range(T):\n",
    "        if i == 0:\n",
    "            Sigma_2[i] = omega/(1 - alpha1 - beta)\n",
    "        else:\n",
    "            Sigma_2[i] = omega + (alpha1 * rv[i - 1]**2) + (beta * Sigma_2[i - 1])\n",
    "\n",
    "    return Sigma_2"
   ]
  },
  {
   "cell_type": "code",
   "execution_count": 225,
   "id": "a7d86d51",
   "metadata": {
    "ExecuteTime": {
     "end_time": "2022-10-18T05:39:11.288246Z",
     "start_time": "2022-10-18T05:39:11.269989Z"
    }
   },
   "outputs": [],
   "source": [
    "def garch_loglike(vP, r,k):\n",
    "    T = len(r)\n",
    "    omega = vP[0]\n",
    "    alpha1 = vP[1]\n",
    "    beta = vP[2]\n",
    "\n",
    "    sigma_2 = garch_filter(omega, alpha1, beta, r)\n",
    "\n",
    "    LogL = -np.sum(-np.log(sigma_2)-r**2/sigma_2)*k\n",
    "\n",
    "    return LogL"
   ]
  },
  {
   "cell_type": "code",
   "execution_count": 226,
   "id": "b7ae18c3",
   "metadata": {
    "ExecuteTime": {
     "end_time": "2022-10-18T05:39:11.515223Z",
     "start_time": "2022-10-18T05:39:11.447640Z"
    }
   },
   "outputs": [
    {
     "name": "stdout",
     "output_type": "stream",
     "text": [
      "RUNNING THE L-BFGS-B CODE\n",
      "\n",
      "           * * *\n",
      "\n",
      "Machine precision = 2.220D-16\n",
      " N =            3     M =           10\n",
      "\n",
      "At X0         0 variables are exactly at the bounds\n",
      "\n",
      "At iterate    0    f=  1.47037D+02    |proj g|=  9.19900D-01\n",
      "\n",
      "At iterate    1    f= -3.52303D+02    |proj g|=  5.21946D-01\n",
      "\n",
      "At iterate    2    f= -6.96699D+02    |proj g|=  4.67929D-01\n",
      "  ys=-4.741E+02  -gs= 1.674E+02 BFGS update SKIPPED\n",
      "\n",
      "At iterate    3    f= -7.07400D+02    |proj g|=  4.64670D-01\n",
      "\n",
      "At iterate    4    f= -7.07405D+02    |proj g|=  1.89097D+01\n",
      "\n",
      "At iterate    5    f= -7.07609D+02    |proj g|=  2.87849D+02\n",
      "\n",
      "At iterate    6    f= -7.07848D+02    |proj g|=  1.85621D+02\n",
      "\n",
      "At iterate    7    f= -7.07870D+02    |proj g|=  1.12489D+02\n",
      "\n",
      "At iterate    8    f= -7.07877D+02    |proj g|=  2.82680D+01\n",
      "\n",
      "At iterate    9    f= -7.07882D+02    |proj g|=  1.65431D+01\n",
      "\n",
      "At iterate   10    f= -7.07892D+02    |proj g|=  1.68711D+01\n",
      "\n",
      "At iterate   11    f= -7.07915D+02    |proj g|=  1.72375D+01\n",
      "\n",
      "At iterate   12    f= -7.07976D+02    |proj g|=  1.84232D+01\n",
      "  Positive dir derivative in projection \n",
      "  Using the backtracking step \n",
      "\n",
      "At iterate   13    f= -7.08039D+02    |proj g|=  1.99314D+01\n",
      "  ys=-1.000E-03  -gs= 6.269E-02 BFGS update SKIPPED\n",
      "\n",
      "At iterate   14    f= -7.08121D+02    |proj g|=  1.78983D+01\n",
      "\n",
      "At iterate   15    f= -7.08597D+02    |proj g|=  7.14449D+00\n",
      "\n",
      "At iterate   16    f= -7.09347D+02    |proj g|=  1.70467D+00\n",
      "\n",
      "At iterate   17    f= -7.12511D+02    |proj g|=  3.39985D-01\n",
      "\n",
      "At iterate   18    f= -7.13506D+02    |proj g|=  5.31600D-02\n",
      "\n",
      "At iterate   19    f= -7.13765D+02    |proj g|=  1.30988D+00\n",
      "\n",
      "At iterate   20    f= -7.13783D+02    |proj g|=  2.39754D+02\n",
      "\n",
      "At iterate   21    f= -7.13786D+02    |proj g|=  9.27062D+01\n",
      "\n",
      "At iterate   22    f= -7.13787D+02    |proj g|=  7.28716D+00\n",
      "\n",
      "At iterate   23    f= -7.13787D+02    |proj g|=  2.66868D-03\n",
      "\n",
      "At iterate   24    f= -7.13787D+02    |proj g|=  2.66825D-03\n",
      "\n",
      "           * * *\n",
      "\n",
      "Tit   = total number of iterations\n",
      "Tnf   = total number of function evaluations\n",
      "Tnint = total number of segments explored during Cauchy searches\n",
      "Skip  = number of BFGS updates skipped\n",
      "Nact  = number of active bounds at final generalized Cauchy point\n",
      "Projg = norm of the final projected gradient\n",
      "F     = final function value\n",
      "\n",
      "           * * *\n",
      "\n",
      "   N    Tit     Tnf  Tnint  Skip  Nact     Projg        F\n",
      "    3     24     38     28     2     1   2.668D-03  -7.138D+02\n",
      "  F =  -713.78659787533775     \n",
      "\n",
      "CONVERGENCE: REL_REDUCTION_OF_F_<=_FACTR*EPSMCH             \n"
     ]
    }
   ],
   "source": [
    "vp0 = (0.1,0.05,0.92)\n",
    "bounds = ((0.0001,None),(0.0001,None),(0.0001,None))\n",
    "res = opt.minimize(fun=garch_loglike,\n",
    "                   x0=vp0,\n",
    "                   args=(df,10), ## 注意args需要传入一个\n",
    "                   method='L-BFGS-B',\n",
    "                   bounds=bounds,\n",
    "                   options={'disp':True})"
   ]
  },
  {
   "cell_type": "code",
   "execution_count": 231,
   "id": "217542bf",
   "metadata": {
    "ExecuteTime": {
     "end_time": "2022-10-18T05:39:22.043967Z",
     "start_time": "2022-10-18T05:39:22.031718Z"
    }
   },
   "outputs": [
    {
     "data": {
      "text/plain": [
       "array([2.76825362e-03, 5.46590248e-01, 1.00000000e-04])"
      ]
     },
     "execution_count": 231,
     "metadata": {},
     "output_type": "execute_result"
    }
   ],
   "source": [
    "res.x"
   ]
  },
  {
   "cell_type": "code",
   "execution_count": 232,
   "id": "7e437acb",
   "metadata": {
    "ExecuteTime": {
     "end_time": "2022-10-18T05:39:30.848321Z",
     "start_time": "2022-10-18T05:39:30.826959Z"
    }
   },
   "outputs": [
    {
     "data": {
      "text/plain": [
       "array([0.00610676, 0.0029875 , 0.0036431 , 0.00544691, 0.0106397 ,\n",
       "       0.00473704, 0.0041352 , 0.00626684, 0.01348205, 0.0082355 ,\n",
       "       0.00298771, 0.00326048, 0.00298722, 0.00473628, 0.00544702,\n",
       "       0.00719618, 0.0047367 ])"
      ]
     },
     "execution_count": 232,
     "metadata": {},
     "output_type": "execute_result"
    }
   ],
   "source": [
    "garch_filter(res.x[0],res.x[1],res.x[2],df)"
   ]
  },
  {
   "cell_type": "code",
   "execution_count": 234,
   "id": "435904b8",
   "metadata": {
    "ExecuteTime": {
     "end_time": "2022-10-18T05:40:46.534285Z",
     "start_time": "2022-10-18T05:40:46.413486Z"
    }
   },
   "outputs": [
    {
     "data": {
      "text/plain": [
       "[<matplotlib.lines.Line2D at 0x7f7c397b0820>]"
      ]
     },
     "execution_count": 234,
     "metadata": {},
     "output_type": "execute_result"
    },
    {
     "data": {
      "image/png": "[encoded data removed]",
      "text/plain": [
       "<Figure size 640x480 with 1 Axes>"
      ]
     },
     "metadata": {},
     "output_type": "display_data"
    }
   ],
   "source": [
    "plt.plot(garch_filter(res.x[0],res.x[1],res.x[2],df))"
   ]
  },
  {
   "cell_type": "code",
   "execution_count": 236,
   "id": "529d1bdc",
   "metadata": {
    "ExecuteTime": {
     "end_time": "2022-10-18T05:43:39.117945Z",
     "start_time": "2022-10-18T05:43:39.104352Z"
    }
   },
   "outputs": [],
   "source": [
    "class garch():\n",
    "    \n",
    "    '''\n",
    "    Parameters:\n",
    "    {\n",
    "    ME: 均值方程, 输入ARMA(p,q), [p,q]\n",
    "    VE: 波动率方程 输入 [m,n]\n",
    "    ERROR: \"Normal, Student-t\"\n",
    "    }\n",
    "    '''\n",
    "    import matplotlib.pyplot as plt\n",
    "    import scipy.optimize as opt\n",
    "    def __init__(self,data,**kwargs):\n",
    "        self.data = data\n",
    "        self.nalpha = kwargs['ME']\n",
    "        self.nbeta = kwargs['VE']\n",
    "        if 'ERROR' not in kwargs.keys():\n",
    "            self.error_dis = 'Normal'\n",
    "        self.data = data\n",
    "        self.name = \"ARMA({},{})\".format(kwargs['ME'][0],format(kwargs['ME'][1])) + '+' +\\\n",
    "                    \"ARCH({},{})\".format(kwargs['VE'][0],format(kwargs['VE'][1])) + '+' + self.error_dis\n",
    "    def garch_filter(self):\n",
    "        return 0\n",
    "    def garch_loglike(self):\n",
    "        return 0\n",
    "    def garch_fit(self):\n",
    "        return 0"
   ]
  },
  {
   "cell_type": "code",
   "execution_count": 215,
   "id": "de7866b2",
   "metadata": {
    "ExecuteTime": {
     "end_time": "2022-10-18T05:34:43.561331Z",
     "start_time": "2022-10-18T05:34:43.545190Z"
    }
   },
   "outputs": [],
   "source": [
    "par = {'ME':[1,2],\"VE\":[1,3]}"
   ]
  },
  {
   "cell_type": "code",
   "execution_count": 216,
   "id": "a3106218",
   "metadata": {
    "ExecuteTime": {
     "end_time": "2022-10-18T05:34:43.740951Z",
     "start_time": "2022-10-18T05:34:43.733358Z"
    }
   },
   "outputs": [],
   "source": [
    "garch_1_1 = garch(df,**par)"
   ]
  },
  {
   "cell_type": "code",
   "execution_count": 217,
   "id": "e7257fbb",
   "metadata": {
    "ExecuteTime": {
     "end_time": "2022-10-18T05:34:44.114686Z",
     "start_time": "2022-10-18T05:34:44.099033Z"
    }
   },
   "outputs": [
    {
     "data": {
      "text/plain": [
       "'ARMA(1,2)+ARCH(1,3)+Normal'"
      ]
     },
     "execution_count": 217,
     "metadata": {},
     "output_type": "execute_result"
    }
   ],
   "source": [
    "garch_1_1.name"
   ]
  },
  {
   "cell_type": "code",
   "execution_count": 218,
   "id": "632bc035",
   "metadata": {
    "ExecuteTime": {
     "end_time": "2022-10-18T05:34:45.731131Z",
     "start_time": "2022-10-18T05:34:45.713510Z"
    }
   },
   "outputs": [],
   "source": [
    "?garch"
   ]
  },
  {
   "cell_type": "code",
   "execution_count": null,
   "id": "91f48cd1",
   "metadata": {},
   "outputs": [],
   "source": []
  }
 ],
 "metadata": {
  "kernelspec": {
   "display_name": "Python 3 (ipykernel)",
   "language": "python",
   "name": "python3"
  },
  "language_info": {
   "codemirror_mode": {
    "name": "ipython",
    "version": 3
   },
   "file_extension": ".py",
   "mimetype": "text/x-python",
   "name": "python",
   "nbconvert_exporter": "python",
   "pygments_lexer": "ipython3",
   "version": "3.9.12"
  },
  "latex_envs": {
   "LaTeX_envs_menu_present": true,
   "autoclose": false,
   "autocomplete": false,
   "bibliofile": "biblio.bib",
   "cite_by": "apalike",
   "current_citInitial": 1,
   "eqLabelWithNumbers": false,
   "eqNumInitial": 1,
   "hotkeys": {
    "equation": "Ctrl-E",
    "itemize": "Ctrl-I"
   },
   "labels_anchors": false,
   "latex_user_defs": false,
   "report_style_numbering": false,
   "user_envs_cfg": true
  },
  "nbTranslate": {
   "displayLangs": [
    "*"
   ],
   "hotkey": "alt-t",
   "langInMainMenu": true,
   "sourceLang": "en",
   "targetLang": "fr",
   "useGoogleTranslate": true
  },
  "toc": {
   "base_numbering": 1,
   "nav_menu": {},
   "number_sections": true,
   "sideBar": true,
   "skip_h1_title": false,
   "title_cell": "Table of Contents",
   "title_sidebar": "Contents",
   "toc_cell": false,
   "toc_position": {},
   "toc_section_display": true,
   "toc_window_display": false
  },
  "varInspector": {
   "cols": {
    "lenName": 16,
    "lenType": 16,
    "lenVar": 40
   },
   "kernels_config": {
    "python": {
     "delete_cmd_postfix": "",
     "delete_cmd_prefix": "del ",
     "library": "var_list.py",
     "varRefreshCmd": "print(var_dic_list())"
    },
    "r": {
     "delete_cmd_postfix": ") ",
     "delete_cmd_prefix": "rm(",
     "library": "var_list.r",
     "varRefreshCmd": "cat(var_dic_list()) "
    }
   },
   "types_to_exclude": [
    "module",
    "function",
    "builtin_function_or_method",
    "instance",
    "_Feature"
   ],
   "window_display": false
  }
 },
 "nbformat": 4,
 "nbformat_minor": 5
}
