{
 "cells": [
  {
   "cell_type": "markdown",
   "id": "b47dd7d3",
   "metadata": {
    "ExecuteTime": {
     "end_time": "2022-10-18T07:56:59.903900Z",
     "start_time": "2022-10-18T07:56:59.895542Z"
    }
   },
   "source": [
    "<p id=\"back\" style=\"background-color:powderblue; font-size: 200%; color: red;text-align:center;\"> 回到这里</p>"
   ]
  },
  {
   "cell_type": "markdown",
   "id": "c107ee38",
   "metadata": {},
   "source": [
    "$$\n",
    "\\text{自定义命令}  \n",
    "\\newcommand{\\inner}[2]{{\\langle #1,#2\\rangle}}\n",
    "\\newcommand{\\dlim}{\\displaystyle \\lim}  \n",
    "\\newcommand{\\dint}{\\displaystyle \\int}   \n",
    "\\newcommand{\\ra}{\\rangle}  \n",
    "\\newcommand{\\la}{\\langle}   \n",
    "\\newcommand{\\inner}[2]{{\\langle #1,#2\\rangle}}\n",
    "\\newcommand{\\x}{\\mathbf{x}}   \n",
    "\\newcommand{\\xt}{\\mathbf{x}^{\\mathsf{T}}}   \n",
    "\\newcommand{\\T}{{\\mathsf{T}}}\n",
    "\\newcommand{\\abf}{\\mathbf{a}}   \n",
    "\\newcommand{\\abft}{\\mathbf{a}^{\\mathsf{T}}}   \n",
    "\\newcommand{\\R}{\\mathbb{R}}   \n",
    "\\newcommand{\\C}{\\mathbb{C}}   \n",
    "\\newcommand{\\E}{\\mathrm{e}}   \n",
    "\\newcommand{\\F}{\\mathbb{F}}   \n",
    "\\newcommand{\\X}{\\mathbf{X}}   \n",
    "\\newcommand{\\Y}{\\mathbf{Y}}  \n",
    "\\newcommand{\\f}{\\mathbf{f}}  \n",
    "\\newcommand{\\U}{\\mathbf{u}}   \n",
    "\\newcommand{\\D}{\\mathrm{d}}  \n",
    "\\newcommand{\\M}{\\mathcal{M}}  \n",
    "\\newcommand{\\LL}{\\mathcal{L}}  \n",
    "\\newcommand{\\nullspace}{\\mathrm{null}}   \n",
    "\\newcommand{\\range}{\\mathrm{range}}   \n",
    "\\newcommand{\\Sum}[2]{{\\sum_{#1}^{#2}}}   \n",
    "\\newcommand{\\Union}[2]{{\\bigcup_{#1}^{#2}}}   \n",
    "\\newcommand{\\Intersection}[2]{{\\bigcap_{#1}^{#2}}}   \n",
    "\\newcommand{\\pd}[1]{\\frac{\\partial}{\\partial #1}} \\notag\n",
    "$$  "
   ]
  },
  {
   "cell_type": "code",
   "execution_count": 1,
   "id": "e63c0920",
   "metadata": {
    "ExecuteTime": {
     "end_time": "2022-10-22T07:53:09.287027Z",
     "start_time": "2022-10-22T07:53:07.603502Z"
    }
   },
   "outputs": [],
   "source": [
    "import numpy as np\n",
    "import pandas as pd\n",
    "import scipy.optimize as opt\n",
    "import os \n",
    "import matplotlib as mpl\n",
    "import matplotlib.pyplot as pl"
   ]
  },
  {
   "cell_type": "code",
   "execution_count": 3,
   "id": "7ec0cafb",
   "metadata": {
    "ExecuteTime": {
     "end_time": "2022-10-18T08:00:25.523209Z",
     "start_time": "2022-10-18T08:00:25.520577Z"
    }
   },
   "outputs": [],
   "source": [
    "path_default = os.getcwd()\n",
    "path_figure = path_default + '/figure'\n",
    "path_data = path_default + '/datasets'\n",
    "path_result = path_default + '/results'"
   ]
  },
  {
   "cell_type": "code",
   "execution_count": 4,
   "id": "abcda391",
   "metadata": {
    "ExecuteTime": {
     "end_time": "2022-10-18T08:00:25.533346Z",
     "start_time": "2022-10-18T08:00:25.530466Z"
    }
   },
   "outputs": [],
   "source": [
    "if not os.path.exists(path_result):   \n",
    "    os.mkdir(path_result)\n",
    "if not os.path.exists(path_data):   \n",
    "    os.mkdir(path_data)\n",
    "if not os.path.exists(path_figure):   \n",
    "    os.mkdir(path_figure)"
   ]
  },
  {
   "cell_type": "code",
   "execution_count": 6,
   "id": "a3c97212",
   "metadata": {
    "ExecuteTime": {
     "end_time": "2022-10-18T08:03:11.162270Z",
     "start_time": "2022-10-18T08:03:10.895064Z"
    }
   },
   "outputs": [],
   "source": [
    "import zsh_in_jupyter as zsh\n",
    "zsh.opendir()"
   ]
  },
  {
   "cell_type": "markdown",
   "id": "ec542815",
   "metadata": {},
   "source": [
    "<h1><a href=\"#back\">调仓频率</a></h1>"
   ]
  },
  {
   "cell_type": "code",
   "execution_count": null,
   "id": "42faf4e3",
   "metadata": {},
   "outputs": [],
   "source": []
  },
  {
   "cell_type": "code",
   "execution_count": null,
   "id": "41822b69",
   "metadata": {},
   "outputs": [],
   "source": []
  },
  {
   "cell_type": "code",
   "execution_count": null,
   "id": "d960d6b8",
   "metadata": {},
   "outputs": [],
   "source": []
  },
  {
   "cell_type": "code",
   "execution_count": null,
   "id": "e523efa3",
   "metadata": {},
   "outputs": [],
   "source": [
    "pd.DataFrame.plot()"
   ]
  },
  {
   "cell_type": "code",
   "execution_count": null,
   "id": "b5b16534",
   "metadata": {},
   "outputs": [],
   "source": []
  },
  {
   "cell_type": "markdown",
   "id": "d4836997",
   "metadata": {},
   "source": [
    "<h1>策略评判指标</h1>"
   ]
  },
  {
   "cell_type": "markdown",
   "id": "35f5daff",
   "metadata": {},
   "source": [
    "## 收益率指标"
   ]
  },
  {
   "cell_type": "markdown",
   "id": "ddac8469",
   "metadata": {},
   "source": [
    "- 简单收益率:\n",
    "$$\n",
    "简单收益率 = \\frac{V_T-V_0}{V_0}, 年华后 = (\\frac{V_T}{V_0})^{\\frac{1}{T}-1}\n",
    "$$\n",
    "- continuous compound rate of return\n",
    "$$\n",
    "\\ln(\\frac{V_T}{V_0}),\\ 年化后 \\frac{1}{T}\\ln(\\frac{V_T}{V_0})\n",
    "$$"
   ]
  },
  {
   "cell_type": "markdown",
   "id": "56804aae",
   "metadata": {},
   "source": [
    "- 对于债券和存款，通常一年选用365，股票期权等选用252"
   ]
  },
  {
   "cell_type": "markdown",
   "id": "e3ff11e5",
   "metadata": {},
   "source": [
    "## 风险调整收益率"
   ]
  },
  {
   "cell_type": "markdown",
   "id": "31533e29",
   "metadata": {},
   "source": [
    "- beta:\n",
    "$$\n",
    "\\beta_p = \\frac{cov(r_p,r_M)}{var(r_M)}\n",
    "$$\n",
    "beta衡量了现有投资组合对于市场的反应程度，beta=1代表市场中性策略，不是beta越大越好，只是一个相关性的度量\n",
    "- Jensen's alpha:\n",
    "$$\n",
    "单因子模型中的\\alpha = E(r_p)-r_f-\\beta(E(r_B)-r_f)，衡量该策略超出市场的收益\n",
    "$$\n",
    "衡量股票的特质风险，投资者获取与市场波动无关的收益，$\\alpha$越高越好，量化投资就是在不断提升alpha的过程\n",
    "- **Sharpe ratio**:\n",
    "$$\n",
    "    SP = \\frac{E(r_p)-r_f}{\\sigma_p}\n",
    "$$\n",
    "表示每承受一单位风险，会产生多少的超额报酬，可以同时对策略的收益与风险进行综合考虑。越大越好！\n",
    "- Treynor ratio:\n",
    "$$\n",
    "    Tn = \\frac{E(r_p)-r_f}{\\beta_p}\n",
    "$$\n",
    "where $\\beta_p=\\frac{Cov(r_p,r_M)}{Var(r_M)}$\n",
    "\n",
    "- information ratio:\n",
    "$$\n",
    "\\frac{\\alpha}{\\sigma_{\\epsilon}}\n",
    "$$\n",
    "信息比率大的好"
   ]
  },
  {
   "cell_type": "markdown",
   "id": "cb1488b2",
   "metadata": {},
   "source": [
    "## 其它指标"
   ]
  },
  {
   "cell_type": "markdown",
   "id": "5cd2eec7",
   "metadata": {},
   "source": [
    "### 累计收益率曲线(profit and loss)"
   ]
  },
  {
   "cell_type": "markdown",
   "id": "a9d1a011",
   "metadata": {},
   "source": [
    "假设投资者的初始资金是 V 0 ，该投资者在 t 时刻的资金总量为 Vt，那么 Vt 关于 t 的函数图像 就叫作累积收益曲线即 P&L曲线。P&L曲线是最直观的评判投资绩效的标准，这里 P&L表示 损益（profit and loss）。一个量化投资策略如果表现优异，其对应的 P&L 曲线应当尽可能保持 具有平稳上升的走势。\n"
   ]
  },
  {
   "cell_type": "markdown",
   "id": "3be343d5",
   "metadata": {},
   "source": [
    "### 最大回撤"
   ]
  },
  {
   "cell_type": "markdown",
   "id": "4e8c1b96",
   "metadata": {},
   "source": [
    "- drawdown $DD_t$: 最大回撤\n",
    "$$\n",
    "DD_t = \\max(\\max_{s\\in[0,t]}V_s-V_t,0)\n",
    "$$\n",
    "- Max Drawdown:\n",
    "$$\n",
    "MDD_t = \\max_{i<j\\leq t}(1-\\frac{P_j}{P_i})\n",
    "$$\n",
    "- 0到T时刻的最大回撤定义为:\n",
    "$$\n",
    "MDD_T = \\max_{s \\in [0,T]}DD_t\n",
    "$$\n",
    "最大回撤越小越好，但其实即便是指数的最大回撤，可能都有百分之30"
   ]
  },
  {
   "cell_type": "markdown",
   "id": "896a56c0",
   "metadata": {},
   "source": [
    "### 换手率"
   ]
  },
  {
   "cell_type": "markdown",
   "id": "932fc7ec",
   "metadata": {},
   "source": [
    "- turnover rate:  \n",
    "假设投资者投资于 $n$ 个资产, 在 $t$ 时刻进行调仓操作 (即买卖资产, 调整各个资产持有量), 调 仓前持有资产总价值为 $V_t$, 其中各个资产价值分别为 $V_{t-}^1, V_{t-}^2, \\ldots, V_{t-}^n$; 调仓后持有的各个资 产价值分别变为 $V_{t+}^1, V_{t+}^2, \\ldots, V_{t+}^n$ 。则 $t$ 时刻的换手率被定义为\n",
    "$$\n",
    "换手率_t=\\frac{\\sum_{i=1}^n\\left|V_{t-}^i-V_{t+}^i\\right|}{2 V_t}.\n",
    "$$\n",
    "换手率衡量的是调仓前后持仓的差异，用于测算交易成本，如果一个策略的换手率较高，其调仓时的交易成本就会较大\n",
    "年化换手率:\n",
    "$$\n",
    "\\sum_\n",
    "$$"
   ]
  },
  {
   "cell_type": "code",
   "execution_count": null,
   "id": "e7d81bf7",
   "metadata": {},
   "outputs": [],
   "source": []
  },
  {
   "cell_type": "markdown",
   "id": "91286bd6",
   "metadata": {},
   "source": [
    "# 案例分析"
   ]
  },
  {
   "cell_type": "code",
   "execution_count": 4,
   "id": "52ef3633",
   "metadata": {
    "ExecuteTime": {
     "end_time": "2022-10-22T13:46:40.612471Z",
     "start_time": "2022-10-22T13:46:40.600507Z"
    }
   },
   "outputs": [
    {
     "data": {
      "text/plain": [
       "float"
      ]
     },
     "execution_count": 4,
     "metadata": {},
     "output_type": "execute_result"
    }
   ],
   "source": [
    "ls1 = pd.Series([1,2,3,4])\n",
    "ls1.mean()"
   ]
  },
  {
   "cell_type": "code",
   "execution_count": 5,
   "id": "7f0cec7e",
   "metadata": {
    "ExecuteTime": {
     "end_time": "2022-10-22T15:20:42.413984Z",
     "start_time": "2022-10-22T15:20:38.481649Z"
    }
   },
   "outputs": [
    {
     "name": "stdout",
     "output_type": "stream",
     "text": [
      "auth success \n"
     ]
    }
   ],
   "source": [
    "from jqdatasdk import *\n",
    "auth('18323330059','Zny1780068440')  #账号是申请时所填写的手机号；密码为聚宽官网登录密码"
   ]
  },
  {
   "cell_type": "code",
   "execution_count": 11,
   "id": "a3c1c5fe",
   "metadata": {
    "ExecuteTime": {
     "end_time": "2022-10-22T15:21:51.048670Z",
     "start_time": "2022-10-22T15:21:51.031693Z"
    }
   },
   "outputs": [],
   "source": [
    "stocks = list(get_all_securities(['stock']).index)"
   ]
  },
  {
   "cell_type": "code",
   "execution_count": 14,
   "id": "0842ca5b",
   "metadata": {
    "ExecuteTime": {
     "end_time": "2022-10-22T15:22:53.346866Z",
     "start_time": "2022-10-22T15:22:53.322227Z"
    }
   },
   "outputs": [
    {
     "data": {
      "text/plain": [
       "'000001.XSHE'"
      ]
     },
     "execution_count": 14,
     "metadata": {},
     "output_type": "execute_result"
    }
   ],
   "source": [
    "stocks[0]"
   ]
  },
  {
   "cell_type": "code",
   "execution_count": 21,
   "id": "5208138b",
   "metadata": {
    "ExecuteTime": {
     "end_time": "2022-10-22T15:24:35.519957Z",
     "start_time": "2022-10-22T15:24:35.407479Z"
    }
   },
   "outputs": [
    {
     "data": {
      "text/html": [
       "<div>\n",
       "<style scoped>\n",
       "    .dataframe tbody tr th:only-of-type {\n",
       "        vertical-align: middle;\n",
       "    }\n",
       "\n",
       "    .dataframe tbody tr th {\n",
       "        vertical-align: top;\n",
       "    }\n",
       "\n",
       "    .dataframe thead th {\n",
       "        text-align: right;\n",
       "    }\n",
       "</style>\n",
       "<table border=\"1\" class=\"dataframe\">\n",
       "  <thead>\n",
       "    <tr style=\"text-align: right;\">\n",
       "      <th></th>\n",
       "      <th>open</th>\n",
       "      <th>close</th>\n",
       "      <th>high</th>\n",
       "      <th>low</th>\n",
       "      <th>volume</th>\n",
       "      <th>money</th>\n",
       "    </tr>\n",
       "  </thead>\n",
       "  <tbody>\n",
       "    <tr>\n",
       "      <th>2022-01-28 14:21:00</th>\n",
       "      <td>15.72</td>\n",
       "      <td>15.71</td>\n",
       "      <td>15.72</td>\n",
       "      <td>15.71</td>\n",
       "      <td>327388.0</td>\n",
       "      <td>5144279.0</td>\n",
       "    </tr>\n",
       "    <tr>\n",
       "      <th>2022-01-28 14:22:00</th>\n",
       "      <td>15.72</td>\n",
       "      <td>15.72</td>\n",
       "      <td>15.73</td>\n",
       "      <td>15.71</td>\n",
       "      <td>438349.0</td>\n",
       "      <td>6889019.0</td>\n",
       "    </tr>\n",
       "    <tr>\n",
       "      <th>2022-01-28 14:23:00</th>\n",
       "      <td>15.73</td>\n",
       "      <td>15.72</td>\n",
       "      <td>15.73</td>\n",
       "      <td>15.72</td>\n",
       "      <td>268548.0</td>\n",
       "      <td>4222094.0</td>\n",
       "    </tr>\n",
       "    <tr>\n",
       "      <th>2022-01-28 14:24:00</th>\n",
       "      <td>15.73</td>\n",
       "      <td>15.73</td>\n",
       "      <td>15.73</td>\n",
       "      <td>15.72</td>\n",
       "      <td>463596.0</td>\n",
       "      <td>7290256.0</td>\n",
       "    </tr>\n",
       "    <tr>\n",
       "      <th>2022-01-28 14:25:00</th>\n",
       "      <td>15.74</td>\n",
       "      <td>15.74</td>\n",
       "      <td>15.74</td>\n",
       "      <td>15.72</td>\n",
       "      <td>986337.0</td>\n",
       "      <td>15508035.0</td>\n",
       "    </tr>\n",
       "    <tr>\n",
       "      <th>2022-01-28 14:26:00</th>\n",
       "      <td>15.72</td>\n",
       "      <td>15.72</td>\n",
       "      <td>15.74</td>\n",
       "      <td>15.72</td>\n",
       "      <td>722778.0</td>\n",
       "      <td>11366181.0</td>\n",
       "    </tr>\n",
       "    <tr>\n",
       "      <th>2022-01-28 14:27:00</th>\n",
       "      <td>15.73</td>\n",
       "      <td>15.72</td>\n",
       "      <td>15.74</td>\n",
       "      <td>15.72</td>\n",
       "      <td>688573.0</td>\n",
       "      <td>10825146.0</td>\n",
       "    </tr>\n",
       "    <tr>\n",
       "      <th>2022-01-28 14:28:00</th>\n",
       "      <td>15.72</td>\n",
       "      <td>15.72</td>\n",
       "      <td>15.73</td>\n",
       "      <td>15.72</td>\n",
       "      <td>956408.0</td>\n",
       "      <td>15035770.0</td>\n",
       "    </tr>\n",
       "    <tr>\n",
       "      <th>2022-01-28 14:29:00</th>\n",
       "      <td>15.73</td>\n",
       "      <td>15.73</td>\n",
       "      <td>15.73</td>\n",
       "      <td>15.72</td>\n",
       "      <td>346526.0</td>\n",
       "      <td>5447993.0</td>\n",
       "    </tr>\n",
       "    <tr>\n",
       "      <th>2022-01-28 14:30:00</th>\n",
       "      <td>15.72</td>\n",
       "      <td>15.72</td>\n",
       "      <td>15.73</td>\n",
       "      <td>15.72</td>\n",
       "      <td>860004.0</td>\n",
       "      <td>13520206.0</td>\n",
       "    </tr>\n",
       "    <tr>\n",
       "      <th>2022-01-28 14:31:00</th>\n",
       "      <td>15.72</td>\n",
       "      <td>15.71</td>\n",
       "      <td>15.74</td>\n",
       "      <td>15.71</td>\n",
       "      <td>919557.0</td>\n",
       "      <td>14449389.0</td>\n",
       "    </tr>\n",
       "    <tr>\n",
       "      <th>2022-01-28 14:32:00</th>\n",
       "      <td>15.71</td>\n",
       "      <td>15.71</td>\n",
       "      <td>15.72</td>\n",
       "      <td>15.71</td>\n",
       "      <td>1287257.0</td>\n",
       "      <td>20224148.0</td>\n",
       "    </tr>\n",
       "    <tr>\n",
       "      <th>2022-01-28 14:33:00</th>\n",
       "      <td>15.71</td>\n",
       "      <td>15.71</td>\n",
       "      <td>15.72</td>\n",
       "      <td>15.70</td>\n",
       "      <td>1687330.0</td>\n",
       "      <td>26495000.0</td>\n",
       "    </tr>\n",
       "    <tr>\n",
       "      <th>2022-01-28 14:34:00</th>\n",
       "      <td>15.70</td>\n",
       "      <td>15.70</td>\n",
       "      <td>15.71</td>\n",
       "      <td>15.70</td>\n",
       "      <td>568348.0</td>\n",
       "      <td>8923550.0</td>\n",
       "    </tr>\n",
       "    <tr>\n",
       "      <th>2022-01-28 14:35:00</th>\n",
       "      <td>15.71</td>\n",
       "      <td>15.70</td>\n",
       "      <td>15.71</td>\n",
       "      <td>15.69</td>\n",
       "      <td>1103814.0</td>\n",
       "      <td>17322587.0</td>\n",
       "    </tr>\n",
       "    <tr>\n",
       "      <th>2022-01-28 14:36:00</th>\n",
       "      <td>15.69</td>\n",
       "      <td>15.67</td>\n",
       "      <td>15.70</td>\n",
       "      <td>15.67</td>\n",
       "      <td>1694150.0</td>\n",
       "      <td>26566866.0</td>\n",
       "    </tr>\n",
       "    <tr>\n",
       "      <th>2022-01-28 14:37:00</th>\n",
       "      <td>15.67</td>\n",
       "      <td>15.68</td>\n",
       "      <td>15.69</td>\n",
       "      <td>15.67</td>\n",
       "      <td>1005374.0</td>\n",
       "      <td>15755314.0</td>\n",
       "    </tr>\n",
       "    <tr>\n",
       "      <th>2022-01-28 14:38:00</th>\n",
       "      <td>15.69</td>\n",
       "      <td>15.68</td>\n",
       "      <td>15.69</td>\n",
       "      <td>15.67</td>\n",
       "      <td>1404530.0</td>\n",
       "      <td>22005920.0</td>\n",
       "    </tr>\n",
       "    <tr>\n",
       "      <th>2022-01-28 14:39:00</th>\n",
       "      <td>15.66</td>\n",
       "      <td>15.65</td>\n",
       "      <td>15.67</td>\n",
       "      <td>15.64</td>\n",
       "      <td>1413794.0</td>\n",
       "      <td>22128283.0</td>\n",
       "    </tr>\n",
       "    <tr>\n",
       "      <th>2022-01-28 14:40:00</th>\n",
       "      <td>15.65</td>\n",
       "      <td>15.65</td>\n",
       "      <td>15.66</td>\n",
       "      <td>15.64</td>\n",
       "      <td>1158175.0</td>\n",
       "      <td>18125401.0</td>\n",
       "    </tr>\n",
       "    <tr>\n",
       "      <th>2022-01-28 14:41:00</th>\n",
       "      <td>15.65</td>\n",
       "      <td>15.63</td>\n",
       "      <td>15.66</td>\n",
       "      <td>15.63</td>\n",
       "      <td>987152.0</td>\n",
       "      <td>15443017.0</td>\n",
       "    </tr>\n",
       "    <tr>\n",
       "      <th>2022-01-28 14:42:00</th>\n",
       "      <td>15.64</td>\n",
       "      <td>15.63</td>\n",
       "      <td>15.64</td>\n",
       "      <td>15.62</td>\n",
       "      <td>1630017.0</td>\n",
       "      <td>25471621.0</td>\n",
       "    </tr>\n",
       "    <tr>\n",
       "      <th>2022-01-28 14:43:00</th>\n",
       "      <td>15.62</td>\n",
       "      <td>15.62</td>\n",
       "      <td>15.63</td>\n",
       "      <td>15.62</td>\n",
       "      <td>1180062.0</td>\n",
       "      <td>18435112.0</td>\n",
       "    </tr>\n",
       "    <tr>\n",
       "      <th>2022-01-28 14:44:00</th>\n",
       "      <td>15.63</td>\n",
       "      <td>15.61</td>\n",
       "      <td>15.63</td>\n",
       "      <td>15.61</td>\n",
       "      <td>1892253.0</td>\n",
       "      <td>29556247.0</td>\n",
       "    </tr>\n",
       "    <tr>\n",
       "      <th>2022-01-28 14:45:00</th>\n",
       "      <td>15.61</td>\n",
       "      <td>15.59</td>\n",
       "      <td>15.62</td>\n",
       "      <td>15.59</td>\n",
       "      <td>2031209.0</td>\n",
       "      <td>31690713.0</td>\n",
       "    </tr>\n",
       "    <tr>\n",
       "      <th>2022-01-28 14:46:00</th>\n",
       "      <td>15.59</td>\n",
       "      <td>15.57</td>\n",
       "      <td>15.59</td>\n",
       "      <td>15.57</td>\n",
       "      <td>1706061.0</td>\n",
       "      <td>26579154.0</td>\n",
       "    </tr>\n",
       "    <tr>\n",
       "      <th>2022-01-28 14:47:00</th>\n",
       "      <td>15.57</td>\n",
       "      <td>15.55</td>\n",
       "      <td>15.58</td>\n",
       "      <td>15.55</td>\n",
       "      <td>1377146.0</td>\n",
       "      <td>21439621.0</td>\n",
       "    </tr>\n",
       "    <tr>\n",
       "      <th>2022-01-28 14:48:00</th>\n",
       "      <td>15.56</td>\n",
       "      <td>15.56</td>\n",
       "      <td>15.56</td>\n",
       "      <td>15.55</td>\n",
       "      <td>1084676.0</td>\n",
       "      <td>16872855.0</td>\n",
       "    </tr>\n",
       "    <tr>\n",
       "      <th>2022-01-28 14:49:00</th>\n",
       "      <td>15.56</td>\n",
       "      <td>15.57</td>\n",
       "      <td>15.57</td>\n",
       "      <td>15.56</td>\n",
       "      <td>883316.0</td>\n",
       "      <td>13748318.0</td>\n",
       "    </tr>\n",
       "    <tr>\n",
       "      <th>2022-01-28 14:50:00</th>\n",
       "      <td>15.57</td>\n",
       "      <td>15.59</td>\n",
       "      <td>15.59</td>\n",
       "      <td>15.57</td>\n",
       "      <td>936863.0</td>\n",
       "      <td>14596779.0</td>\n",
       "    </tr>\n",
       "    <tr>\n",
       "      <th>2022-01-28 14:51:00</th>\n",
       "      <td>15.60</td>\n",
       "      <td>15.63</td>\n",
       "      <td>15.64</td>\n",
       "      <td>15.60</td>\n",
       "      <td>1138528.0</td>\n",
       "      <td>17776626.0</td>\n",
       "    </tr>\n",
       "    <tr>\n",
       "      <th>2022-01-28 14:52:00</th>\n",
       "      <td>15.64</td>\n",
       "      <td>15.61</td>\n",
       "      <td>15.64</td>\n",
       "      <td>15.60</td>\n",
       "      <td>1195128.0</td>\n",
       "      <td>18666099.0</td>\n",
       "    </tr>\n",
       "    <tr>\n",
       "      <th>2022-01-28 14:53:00</th>\n",
       "      <td>15.61</td>\n",
       "      <td>15.61</td>\n",
       "      <td>15.62</td>\n",
       "      <td>15.60</td>\n",
       "      <td>1023494.0</td>\n",
       "      <td>15972571.0</td>\n",
       "    </tr>\n",
       "    <tr>\n",
       "      <th>2022-01-28 14:54:00</th>\n",
       "      <td>15.60</td>\n",
       "      <td>15.57</td>\n",
       "      <td>15.61</td>\n",
       "      <td>15.57</td>\n",
       "      <td>1759811.0</td>\n",
       "      <td>27430783.0</td>\n",
       "    </tr>\n",
       "    <tr>\n",
       "      <th>2022-01-28 14:55:00</th>\n",
       "      <td>15.58</td>\n",
       "      <td>15.58</td>\n",
       "      <td>15.58</td>\n",
       "      <td>15.57</td>\n",
       "      <td>1180673.0</td>\n",
       "      <td>18387658.0</td>\n",
       "    </tr>\n",
       "    <tr>\n",
       "      <th>2022-01-28 14:56:00</th>\n",
       "      <td>15.58</td>\n",
       "      <td>15.57</td>\n",
       "      <td>15.59</td>\n",
       "      <td>15.57</td>\n",
       "      <td>1267711.0</td>\n",
       "      <td>19743771.0</td>\n",
       "    </tr>\n",
       "    <tr>\n",
       "      <th>2022-01-28 14:57:00</th>\n",
       "      <td>15.57</td>\n",
       "      <td>15.57</td>\n",
       "      <td>15.58</td>\n",
       "      <td>15.56</td>\n",
       "      <td>1340804.0</td>\n",
       "      <td>20870287.0</td>\n",
       "    </tr>\n",
       "    <tr>\n",
       "      <th>2022-01-28 14:58:00</th>\n",
       "      <td>15.57</td>\n",
       "      <td>15.57</td>\n",
       "      <td>15.57</td>\n",
       "      <td>15.57</td>\n",
       "      <td>72074.0</td>\n",
       "      <td>1121963.0</td>\n",
       "    </tr>\n",
       "    <tr>\n",
       "      <th>2022-01-28 14:59:00</th>\n",
       "      <td>15.57</td>\n",
       "      <td>15.57</td>\n",
       "      <td>15.57</td>\n",
       "      <td>15.57</td>\n",
       "      <td>0.0</td>\n",
       "      <td>0.0</td>\n",
       "    </tr>\n",
       "    <tr>\n",
       "      <th>2022-01-28 15:00:00</th>\n",
       "      <td>15.57</td>\n",
       "      <td>15.55</td>\n",
       "      <td>15.57</td>\n",
       "      <td>15.55</td>\n",
       "      <td>2724363.0</td>\n",
       "      <td>42363977.0</td>\n",
       "    </tr>\n",
       "  </tbody>\n",
       "</table>\n",
       "</div>"
      ],
      "text/plain": [
       "                      open  close   high    low     volume       money\n",
       "2022-01-28 14:21:00  15.72  15.71  15.72  15.71   327388.0   5144279.0\n",
       "2022-01-28 14:22:00  15.72  15.72  15.73  15.71   438349.0   6889019.0\n",
       "2022-01-28 14:23:00  15.73  15.72  15.73  15.72   268548.0   4222094.0\n",
       "2022-01-28 14:24:00  15.73  15.73  15.73  15.72   463596.0   7290256.0\n",
       "2022-01-28 14:25:00  15.74  15.74  15.74  15.72   986337.0  15508035.0\n",
       "2022-01-28 14:26:00  15.72  15.72  15.74  15.72   722778.0  11366181.0\n",
       "2022-01-28 14:27:00  15.73  15.72  15.74  15.72   688573.0  10825146.0\n",
       "2022-01-28 14:28:00  15.72  15.72  15.73  15.72   956408.0  15035770.0\n",
       "2022-01-28 14:29:00  15.73  15.73  15.73  15.72   346526.0   5447993.0\n",
       "2022-01-28 14:30:00  15.72  15.72  15.73  15.72   860004.0  13520206.0\n",
       "2022-01-28 14:31:00  15.72  15.71  15.74  15.71   919557.0  14449389.0\n",
       "2022-01-28 14:32:00  15.71  15.71  15.72  15.71  1287257.0  20224148.0\n",
       "2022-01-28 14:33:00  15.71  15.71  15.72  15.70  1687330.0  26495000.0\n",
       "2022-01-28 14:34:00  15.70  15.70  15.71  15.70   568348.0   8923550.0\n",
       "2022-01-28 14:35:00  15.71  15.70  15.71  15.69  1103814.0  17322587.0\n",
       "2022-01-28 14:36:00  15.69  15.67  15.70  15.67  1694150.0  26566866.0\n",
       "2022-01-28 14:37:00  15.67  15.68  15.69  15.67  1005374.0  15755314.0\n",
       "2022-01-28 14:38:00  15.69  15.68  15.69  15.67  1404530.0  22005920.0\n",
       "2022-01-28 14:39:00  15.66  15.65  15.67  15.64  1413794.0  22128283.0\n",
       "2022-01-28 14:40:00  15.65  15.65  15.66  15.64  1158175.0  18125401.0\n",
       "2022-01-28 14:41:00  15.65  15.63  15.66  15.63   987152.0  15443017.0\n",
       "2022-01-28 14:42:00  15.64  15.63  15.64  15.62  1630017.0  25471621.0\n",
       "2022-01-28 14:43:00  15.62  15.62  15.63  15.62  1180062.0  18435112.0\n",
       "2022-01-28 14:44:00  15.63  15.61  15.63  15.61  1892253.0  29556247.0\n",
       "2022-01-28 14:45:00  15.61  15.59  15.62  15.59  2031209.0  31690713.0\n",
       "2022-01-28 14:46:00  15.59  15.57  15.59  15.57  1706061.0  26579154.0\n",
       "2022-01-28 14:47:00  15.57  15.55  15.58  15.55  1377146.0  21439621.0\n",
       "2022-01-28 14:48:00  15.56  15.56  15.56  15.55  1084676.0  16872855.0\n",
       "2022-01-28 14:49:00  15.56  15.57  15.57  15.56   883316.0  13748318.0\n",
       "2022-01-28 14:50:00  15.57  15.59  15.59  15.57   936863.0  14596779.0\n",
       "2022-01-28 14:51:00  15.60  15.63  15.64  15.60  1138528.0  17776626.0\n",
       "2022-01-28 14:52:00  15.64  15.61  15.64  15.60  1195128.0  18666099.0\n",
       "2022-01-28 14:53:00  15.61  15.61  15.62  15.60  1023494.0  15972571.0\n",
       "2022-01-28 14:54:00  15.60  15.57  15.61  15.57  1759811.0  27430783.0\n",
       "2022-01-28 14:55:00  15.58  15.58  15.58  15.57  1180673.0  18387658.0\n",
       "2022-01-28 14:56:00  15.58  15.57  15.59  15.57  1267711.0  19743771.0\n",
       "2022-01-28 14:57:00  15.57  15.57  15.58  15.56  1340804.0  20870287.0\n",
       "2022-01-28 14:58:00  15.57  15.57  15.57  15.57    72074.0   1121963.0\n",
       "2022-01-28 14:59:00  15.57  15.57  15.57  15.57        0.0         0.0\n",
       "2022-01-28 15:00:00  15.57  15.55  15.57  15.55  2724363.0  42363977.0"
      ]
     },
     "execution_count": 21,
     "metadata": {},
     "output_type": "execute_result"
    }
   ],
   "source": [
    "df = get_price('000001.XSHE', end_date='2022-01-30 14:00:00',count=40, frequency='1m', \n",
    "               fields=['open','close','high','low','volume','money'])\n",
    "df"
   ]
  },
  {
   "cell_type": "markdown",
   "id": "a40bc799",
   "metadata": {},
   "source": [
    "5.3 策略风险评价指标\n"
   ]
  },
  {
   "cell_type": "code",
   "execution_count": 24,
   "id": "b7bfee33",
   "metadata": {
    "ExecuteTime": {
     "end_time": "2022-10-22T16:47:34.348994Z",
     "start_time": "2022-10-22T16:47:34.334005Z"
    }
   },
   "outputs": [
    {
     "data": {
      "text/plain": [
       "a    1\n",
       "b    2\n",
       "c    3\n",
       "dtype: int64"
      ]
     },
     "execution_count": 24,
     "metadata": {},
     "output_type": "execute_result"
    }
   ],
   "source": [
    "a = pd.Series([1,2,3],index=['a','b','c'])\n",
    "a"
   ]
  },
  {
   "cell_type": "code",
   "execution_count": null,
   "id": "121a1121",
   "metadata": {},
   "outputs": [],
   "source": []
  }
 ],
 "metadata": {
  "gist": {
   "data": {
    "description": "Quant/Untitled.ipynb",
    "public": false
   },
   "id": ""
  },
  "kernelspec": {
   "display_name": "Python 3 (ipykernel)",
   "language": "python",
   "name": "python3"
  },
  "language_info": {
   "codemirror_mode": {
    "name": "ipython",
    "version": 3
   },
   "file_extension": ".py",
   "mimetype": "text/x-python",
   "name": "python",
   "nbconvert_exporter": "python",
   "pygments_lexer": "ipython3",
   "version": "3.10.6"
  },
  "latex_envs": {
   "LaTeX_envs_menu_present": true,
   "autoclose": false,
   "autocomplete": false,
   "bibliofile": "biblio.bib",
   "cite_by": "apalike",
   "current_citInitial": 1,
   "eqLabelWithNumbers": false,
   "eqNumInitial": 1,
   "hotkeys": {
    "equation": "Ctrl-E",
    "itemize": "Ctrl-I"
   },
   "labels_anchors": false,
   "latex_user_defs": false,
   "report_style_numbering": false,
   "user_envs_cfg": true
  },
  "nbTranslate": {
   "displayLangs": [
    "*"
   ],
   "hotkey": "alt-t",
   "langInMainMenu": true,
   "sourceLang": "en",
   "targetLang": "fr",
   "useGoogleTranslate": true
  },
  "toc": {
   "base_numbering": 1,
   "nav_menu": {},
   "number_sections": true,
   "sideBar": true,
   "skip_h1_title": false,
   "title_cell": "Table of Contents",
   "title_sidebar": "Contents",
   "toc_cell": false,
   "toc_position": {},
   "toc_section_display": true,
   "toc_window_display": false
  },
  "varInspector": {
   "cols": {
    "lenName": 16,
    "lenType": 16,
    "lenVar": 40
   },
   "kernels_config": {
    "python": {
     "delete_cmd_postfix": "",
     "delete_cmd_prefix": "del ",
     "library": "var_list.py",
     "varRefreshCmd": "print(var_dic_list())"
    },
    "r": {
     "delete_cmd_postfix": ") ",
     "delete_cmd_prefix": "rm(",
     "library": "var_list.r",
     "varRefreshCmd": "cat(var_dic_list()) "
    }
   },
   "types_to_exclude": [
    "module",
    "function",
    "builtin_function_or_method",
    "instance",
    "_Feature"
   ],
   "window_display": false
  }
 },
 "nbformat": 4,
 "nbformat_minor": 5
}
