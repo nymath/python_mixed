{
 "cells": [
  {
   "cell_type": "markdown",
   "id": "b47dd7d3",
   "metadata": {
    "ExecuteTime": {
     "end_time": "2022-10-18T07:56:59.903900Z",
     "start_time": "2022-10-18T07:56:59.895542Z"
    }
   },
   "source": [
    "<p id=\"back\" style=\"background-color:powderblue; font-size: 200%; color: red;text-align:center;\"> 回到这里</p>"
   ]
  },
  {
   "cell_type": "markdown",
   "id": "c107ee38",
   "metadata": {},
   "source": [
    "$$\n",
    "\\text{自定义命令}  \n",
    "\\newcommand{\\inner}[2]{{\\langle #1,#2\\rangle}}\n",
    "\\newcommand{\\dlim}{\\displaystyle \\lim}  \n",
    "\\newcommand{\\dint}{\\displaystyle \\int}   \n",
    "\\newcommand{\\ra}{\\rangle}  \n",
    "\\newcommand{\\la}{\\langle}   \n",
    "\\newcommand{\\inner}[2]{{\\langle #1,#2\\rangle}}\n",
    "\\newcommand{\\x}{\\mathbf{x}}   \n",
    "\\newcommand{\\xt}{\\mathbf{x}^{\\mathsf{T}}}   \n",
    "\\newcommand{\\T}{{\\mathsf{T}}}\n",
    "\\newcommand{\\abf}{\\mathbf{a}}   \n",
    "\\newcommand{\\abft}{\\mathbf{a}^{\\mathsf{T}}}   \n",
    "\\newcommand{\\R}{\\mathbb{R}}   \n",
    "\\newcommand{\\C}{\\mathbb{C}}   \n",
    "\\newcommand{\\E}{\\mathrm{e}}   \n",
    "\\newcommand{\\F}{\\mathbb{F}}   \n",
    "\\newcommand{\\X}{\\mathbf{X}}   \n",
    "\\newcommand{\\Y}{\\mathbf{Y}}  \n",
    "\\newcommand{\\f}{\\mathbf{f}}  \n",
    "\\newcommand{\\U}{\\mathbf{u}}   \n",
    "\\newcommand{\\D}{\\mathrm{d}}  \n",
    "\\newcommand{\\M}{\\mathcal{M}}  \n",
    "\\newcommand{\\LL}{\\mathcal{L}}  \n",
    "\\newcommand{\\nullspace}{\\mathrm{null}}   \n",
    "\\newcommand{\\range}{\\mathrm{range}}   \n",
    "\\newcommand{\\Sum}[2]{{\\sum_{#1}^{#2}}}   \n",
    "\\newcommand{\\Union}[2]{{\\bigcup_{#1}^{#2}}}   \n",
    "\\newcommand{\\Intersection}[2]{{\\bigcap_{#1}^{#2}}}   \n",
    "\\newcommand{\\pd}[1]{\\frac{\\partial}{\\partial #1}} \\notag\n",
    "$$  "
   ]
  },
  {
   "cell_type": "code",
   "execution_count": 2,
   "id": "e63c0920",
   "metadata": {
    "ExecuteTime": {
     "end_time": "2022-10-18T08:00:25.511576Z",
     "start_time": "2022-10-18T08:00:24.700602Z"
    }
   },
   "outputs": [],
   "source": [
    "import numpy as np\n",
    "import pandas as pd\n",
    "import scipy.optimize as opt\n",
    "import os \n",
    "import matplotlib as mpl\n",
    "import matplotlib.pyplot as pl"
   ]
  },
  {
   "cell_type": "code",
   "execution_count": 3,
   "id": "7ec0cafb",
   "metadata": {
    "ExecuteTime": {
     "end_time": "2022-10-18T08:00:25.523209Z",
     "start_time": "2022-10-18T08:00:25.520577Z"
    }
   },
   "outputs": [],
   "source": [
    "path_default = os.getcwd()\n",
    "path_figure = path_default + '/figure'\n",
    "path_data = path_default + '/datasets'\n",
    "path_result = path_default + '/results'"
   ]
  },
  {
   "cell_type": "code",
   "execution_count": 4,
   "id": "abcda391",
   "metadata": {
    "ExecuteTime": {
     "end_time": "2022-10-18T08:00:25.533346Z",
     "start_time": "2022-10-18T08:00:25.530466Z"
    }
   },
   "outputs": [],
   "source": [
    "if not os.path.exists(path_result):   \n",
    "    os.mkdir(path_result)\n",
    "if not os.path.exists(path_data):   \n",
    "    os.mkdir(path_data)\n",
    "if not os.path.exists(path_figure):   \n",
    "    os.mkdir(path_figure)"
   ]
  },
  {
   "cell_type": "code",
   "execution_count": 6,
   "id": "a3c97212",
   "metadata": {
    "ExecuteTime": {
     "end_time": "2022-10-18T08:03:11.162270Z",
     "start_time": "2022-10-18T08:03:10.895064Z"
    }
   },
   "outputs": [],
   "source": [
    "import zsh_in_jupyter as zsh\n",
    "zsh.opendir()"
   ]
  },
  {
   "cell_type": "markdown",
   "id": "ec542815",
   "metadata": {},
   "source": [
    "<h1>调仓频率</h1>"
   ]
  },
  {
   "cell_type": "code",
   "execution_count": null,
   "id": "42faf4e3",
   "metadata": {},
   "outputs": [],
   "source": []
  },
  {
   "cell_type": "code",
   "execution_count": null,
   "id": "41822b69",
   "metadata": {},
   "outputs": [],
   "source": []
  },
  {
   "cell_type": "code",
   "execution_count": null,
   "id": "d960d6b8",
   "metadata": {},
   "outputs": [],
   "source": []
  },
  {
   "cell_type": "code",
   "execution_count": null,
   "id": "e523efa3",
   "metadata": {},
   "outputs": [],
   "source": []
  },
  {
   "cell_type": "code",
   "execution_count": null,
   "id": "b5b16534",
   "metadata": {},
   "outputs": [],
   "source": []
  },
  {
   "cell_type": "markdown",
   "id": "d4836997",
   "metadata": {},
   "source": [
    "<h1>策略评判指标</h1>"
   ]
  },
  {
   "cell_type": "markdown",
   "id": "35f5daff",
   "metadata": {},
   "source": [
    "## 收益率指标"
   ]
  },
  {
   "cell_type": "markdown",
   "id": "ddac8469",
   "metadata": {},
   "source": [
    "- 简单收益率:\n",
    "$$\n",
    "简单收益率 = \\frac{V_T-V_0}{V_0}, 年华后 = (\\frac{V_T}{V_0})^{\\frac{1}{T}-1}\n",
    "$$\n",
    "- continuous compound rate of return\n",
    "$$\n",
    "\\ln(\\frac{V_T}{V_0}),\\ 年化后 \\frac{1}{T}\\ln(\\frac{V_T}{V_0})\n",
    "$$"
   ]
  },
  {
   "cell_type": "markdown",
   "id": "56804aae",
   "metadata": {},
   "source": [
    "- 对于债券和存款，通常一年选用365，股票期权等选用252"
   ]
  },
  {
   "cell_type": "code",
   "execution_count": null,
   "id": "589e5abd",
   "metadata": {},
   "outputs": [],
   "source": []
  },
  {
   "cell_type": "code",
   "execution_count": null,
   "id": "09d8f9f4",
   "metadata": {},
   "outputs": [],
   "source": []
  },
  {
   "cell_type": "markdown",
   "id": "e3ff11e5",
   "metadata": {},
   "source": [
    "## 风险调整收益率"
   ]
  },
  {
   "cell_type": "markdown",
   "id": "31533e29",
   "metadata": {},
   "source": [
    "- Sharpe ratio:\n",
    "$$\n",
    "    SP = \\frac{E(r_p)-r_f}{\\sigma_p}\n",
    "$$\n",
    "- Treynor ratio:\n",
    "$$\n",
    "    Tn = \\frac{E(r_p)-r_f}{\\beta_p}\n",
    "$$\n",
    "where $\\beta_p=\\frac{Cov(r_p,r_M)}{Var(r_M)}$\n",
    "- Jensen's alpha:\n",
    "$$\n",
    "单因子模型中的\\alpha，衡量该策略超出市场的收益\n",
    "$$\n",
    "- information rati0:\n",
    "$$\n",
    "\\frac{\\alpha}{\\sigma_{\\epsilon}}\n",
    "$$"
   ]
  },
  {
   "cell_type": "markdown",
   "id": "4a7641f5",
   "metadata": {},
   "source": []
  },
  {
   "cell_type": "markdown",
   "id": "cb1488b2",
   "metadata": {},
   "source": [
    "## 其它指标"
   ]
  },
  {
   "cell_type": "markdown",
   "id": "5cd2eec7",
   "metadata": {},
   "source": [
    "### 累计收益率曲线(profit and loss)"
   ]
  },
  {
   "cell_type": "markdown",
   "id": "a9d1a011",
   "metadata": {},
   "source": [
    "假设投资者的初始资金是 V 0 ，该投资者在 t 时刻的资金总量为 Vt，那么 Vt 关于 t 的函数图像 就叫作累积收益曲线即 P&L曲线。P&L曲线是最直观的评判投资绩效的标准，这里 P&L表示 损益（profit and loss）。一个量化投资策略如果表现优异，其对应的 P&L 曲线应当尽可能保持 具有平稳上升的走势。\n"
   ]
  },
  {
   "cell_type": "markdown",
   "id": "3be343d5",
   "metadata": {},
   "source": [
    "### 最大回撤"
   ]
  },
  {
   "cell_type": "markdown",
   "id": "4e8c1b96",
   "metadata": {},
   "source": [
    "- drawdown $DD_t$: 最大回撤\n",
    "$$\n",
    "DD_t = \\max(\\max_{s\\in[0,t]}V_s-V_t,0)\n",
    "$$\n",
    "- 0到T时刻的最大回撤定义为:\n",
    "$$\n",
    "MDD_T = \\max_{s \\in [0,T]}DD_t\n",
    "$$"
   ]
  },
  {
   "cell_type": "code",
   "execution_count": null,
   "id": "a8f2154e",
   "metadata": {},
   "outputs": [],
   "source": []
  },
  {
   "cell_type": "code",
   "execution_count": null,
   "id": "69a59e66",
   "metadata": {},
   "outputs": [],
   "source": []
  },
  {
   "cell_type": "markdown",
   "id": "896a56c0",
   "metadata": {},
   "source": [
    "### 换手率"
   ]
  },
  {
   "cell_type": "markdown",
   "id": "932fc7ec",
   "metadata": {},
   "source": [
    "- turnover rate:  \n",
    "假设投资者投资于 $n$ 个资产, 在 $t$ 时刻进行调仓操作 (即买卖资产, 调整各个资产持有量), 调 仓前持有资产总价值为 $V_t$, 其中各个资产价值分别为 $V_{t-}^1, V_{t-}^2, \\ldots, V_{t-}^n$; 调仓后持有的各个资 产价值分别变为 $V_{t+}^1, V_{t+}^2, \\ldots, V_{t+}^n$ 。则 $t$ 时刻的换手率被定义为\n",
    "$$\n",
    "换手率_t=\\frac{\\sum_{i=1}^n\\left|V_{t-}^i-V_{t+}^i\\right|}{2 V_t}.\n",
    "$$\n",
    "换手率衡量的是调仓前后持仓的差异，用于测算交易成本，如果一个策略的换手率较高，其调仓时的交易成本就会较大"
   ]
  },
  {
   "cell_type": "code",
   "execution_count": null,
   "id": "e7d81bf7",
   "metadata": {},
   "outputs": [],
   "source": []
  },
  {
   "cell_type": "markdown",
   "id": "91286bd6",
   "metadata": {},
   "source": [
    "# 案例分析"
   ]
  },
  {
   "cell_type": "code",
   "execution_count": null,
   "id": "52ef3633",
   "metadata": {},
   "outputs": [],
   "source": []
  },
  {
   "cell_type": "code",
   "execution_count": null,
   "id": "7f0cec7e",
   "metadata": {},
   "outputs": [],
   "source": []
  }
 ],
 "metadata": {
  "gist": {
   "data": {
    "description": "Quant/Untitled.ipynb",
    "public": false
   },
   "id": ""
  },
  "kernelspec": {
   "display_name": "Python 3 (ipykernel)",
   "language": "python",
   "name": "python3"
  },
  "language_info": {
   "codemirror_mode": {
    "name": "ipython",
    "version": 3
   },
   "file_extension": ".py",
   "mimetype": "text/x-python",
   "name": "python",
   "nbconvert_exporter": "python",
   "pygments_lexer": "ipython3",
   "version": "3.9.12"
  },
  "latex_envs": {
   "LaTeX_envs_menu_present": true,
   "autoclose": false,
   "autocomplete": false,
   "bibliofile": "biblio.bib",
   "cite_by": "apalike",
   "current_citInitial": 1,
   "eqLabelWithNumbers": false,
   "eqNumInitial": 1,
   "hotkeys": {
    "equation": "Ctrl-E",
    "itemize": "Ctrl-I"
   },
   "labels_anchors": false,
   "latex_user_defs": false,
   "report_style_numbering": false,
   "user_envs_cfg": true
  },
  "nbTranslate": {
   "displayLangs": [
    "*"
   ],
   "hotkey": "alt-t",
   "langInMainMenu": true,
   "sourceLang": "en",
   "targetLang": "fr",
   "useGoogleTranslate": true
  },
  "toc": {
   "base_numbering": 1,
   "nav_menu": {},
   "number_sections": true,
   "sideBar": true,
   "skip_h1_title": false,
   "title_cell": "Table of Contents",
   "title_sidebar": "Contents",
   "toc_cell": false,
   "toc_position": {},
   "toc_section_display": true,
   "toc_window_display": false
  },
  "varInspector": {
   "cols": {
    "lenName": 16,
    "lenType": 16,
    "lenVar": 40
   },
   "kernels_config": {
    "python": {
     "delete_cmd_postfix": "",
     "delete_cmd_prefix": "del ",
     "library": "var_list.py",
     "varRefreshCmd": "print(var_dic_list())"
    },
    "r": {
     "delete_cmd_postfix": ") ",
     "delete_cmd_prefix": "rm(",
     "library": "var_list.r",
     "varRefreshCmd": "cat(var_dic_list()) "
    }
   },
   "types_to_exclude": [
    "module",
    "function",
    "builtin_function_or_method",
    "instance",
    "_Feature"
   ],
   "window_display": false
  }
 },
 "nbformat": 4,
 "nbformat_minor": 5
}
