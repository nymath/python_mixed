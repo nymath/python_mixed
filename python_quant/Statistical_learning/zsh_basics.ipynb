{
 "cells": [
  {
   "cell_type": "markdown",
   "id": "3964f9c8",
   "metadata": {},
   "source": [
    "本节尝试使用在jupyter notebook使用zsh，顺便写一个zsh的食用指南，notebook写真的方便很多啊。"
   ]
  },
  {
   "cell_type": "code",
   "execution_count": 21,
   "id": "2f391477",
   "metadata": {
    "ExecuteTime": {
     "end_time": "2022-09-30T07:52:44.456275Z",
     "start_time": "2022-09-30T07:52:44.443912Z"
    }
   },
   "outputs": [],
   "source": [
    "import zsh_in_jupyter"
   ]
  },
  {
   "cell_type": "code",
   "execution_count": null,
   "id": "5198530e",
   "metadata": {},
   "outputs": [],
   "source": []
  },
  {
   "cell_type": "markdown",
   "id": "426de12e",
   "metadata": {},
   "source": [
    "# Introdution\n",
    "因为及其好用，比如\n",
    "具体而言\n",
    "\\begin{itemize}\n",
    "\\item 许多功能在图形界面不提供，只有通过命令行来实现。\n",
    "\\item Finder 会隐藏许多你不太会需要的文件，而 Command line 则可以访问所有文件。\n",
    "\\item Command line 可以通过 SSH 远程访问你的 Mac 或者 Linux。\n",
    "\\item 普通用户可以通过 `sudo` 命令获得 root 用户权限。\n",
    "\\item 如果你开启手动输入用户名登陆模式，登陆时在用户名处输入 `>console` 可以直接进入命令行界面。随后你仍然需要登录到一个账户。\n",
    "\\end{itemize}\n"
   ]
  },
  {
   "cell_type": "code",
   "execution_count": 31,
   "id": "37695442",
   "metadata": {
    "ExecuteTime": {
     "end_time": "2022-09-30T00:56:16.384245Z",
     "start_time": "2022-09-30T00:56:16.236101Z"
    }
   },
   "outputs": [
    {
     "name": "stdout",
     "output_type": "stream",
     "text": [
      "/Users/nymath\r\n"
     ]
    }
   ],
   "source": [
    "!echo ~"
   ]
  },
  {
   "cell_type": "code",
   "execution_count": 45,
   "id": "a302ba1e",
   "metadata": {
    "ExecuteTime": {
     "end_time": "2022-09-30T01:22:17.678779Z",
     "start_time": "2022-09-30T01:22:17.531868Z"
    }
   },
   "outputs": [
    {
     "name": "stdout",
     "output_type": "stream",
     "text": [
      "/Users/nymath\r\n"
     ]
    }
   ],
   "source": [
    "get_ipython().system('echo ~')"
   ]
  },
  {
   "cell_type": "code",
   "execution_count": 3,
   "id": "a524a580",
   "metadata": {
    "ExecuteTime": {
     "end_time": "2022-09-30T07:18:04.912812Z",
     "start_time": "2022-09-30T07:18:04.628601Z"
    }
   },
   "outputs": [],
   "source": [
    "# 打开当前文件夹\n",
    "!temp=$(pwd);\\\n",
    "open $temp"
   ]
  },
  {
   "cell_type": "code",
   "execution_count": 93,
   "id": "4831e23d",
   "metadata": {
    "ExecuteTime": {
     "end_time": "2022-09-30T01:36:53.195705Z",
     "start_time": "2022-09-30T01:36:53.185536Z"
    },
    "code_folding": []
   },
   "outputs": [],
   "source": [
    "def zsh(par='temp=$(pwd);open $temp'):\n",
    "    if type(par) == str:\n",
    "        return get_ipython().system(par)\n",
    "    else:\n",
    "        return 'type error'"
   ]
  },
  {
   "cell_type": "code",
   "execution_count": 55,
   "id": "ca8dc0b8",
   "metadata": {
    "ExecuteTime": {
     "end_time": "2022-09-30T01:24:40.623978Z",
     "start_time": "2022-09-30T01:24:40.391320Z"
    }
   },
   "outputs": [],
   "source": [
    "func.system('temp=$(pwd);open $temp')"
   ]
  },
  {
   "cell_type": "code",
   "execution_count": 52,
   "id": "f017b2d9",
   "metadata": {
    "ExecuteTime": {
     "end_time": "2022-09-30T01:23:49.583670Z",
     "start_time": "2022-09-30T01:23:49.320447Z"
    }
   },
   "outputs": [],
   "source": [
    "get_ipython().system('temp=$(pwd);open $temp')"
   ]
  },
  {
   "cell_type": "code",
   "execution_count": null,
   "id": "ce7fec45",
   "metadata": {},
   "outputs": [],
   "source": [
    "from zsh_in_jupyter import "
   ]
  },
  {
   "cell_type": "markdown",
   "id": "d9c1184a",
   "metadata": {},
   "source": [
    "## Terminlogy\n",
    "- **Command line**: A command-line interface is a way of giving instructions to a computer and getting results back\n",
    "- **Shell**: A shell is a program that creates a user interface of one kind or another enabling you to interact with a computer\n",
    "\t- **csh**: the C shell, named for similarities to the C programming language\n",
    "\t- **zsh**: the Z shell, an advanced shell named after Yale professor Zhong\n",
    "\tShao that incorporates features from tcsh, ksh, and bash, plus other\n",
    "\tcapabilities\n",
    "\t- **dash**: the Debian Almquist shell, a lightweight shell that’s been around\n",
    "\tfor more than two decades, but was not included with macOS until\n",
    "\tCatalina\n",
    "- **Terminal**: the devices people used to interact with computers back in the days of\n",
    "monolithic mainframes."
   ]
  },
  {
   "cell_type": "markdown",
   "id": "1f3f48b1",
   "metadata": {},
   "source": []
  },
  {
   "cell_type": "markdown",
   "id": "8cde7b83",
   "metadata": {},
   "source": [
    "## commands, aruguments  and flags\n",
    "\n",
    "- **Command**: Commands are straightforward; they’re the verbs of the command line (eventhough they may look nothing like English verbs).\n",
    "```\n",
    "pwd\n",
    "date\n",
    "```\n",
    "- **Arguments**: Along with commands (verbs), we have arguments, which you can think ofas nouns\n",
    "\n",
    "比如你要处理一个文件，需要指定这个文件的名字\n",
    "\n",
    "```\n",
    "nano file1\n",
    "```\n",
    "\n",
    "- **Flags**: Besides verbs and nouns, we have adverbs! In English, I could say, “Eatcereal quickly!” or “Watch TV quietly.”\n",
    "\n",
    "ls展示文件，ls a展示所有文件"
   ]
  },
  {
   "cell_type": "code",
   "execution_count": 2,
   "id": "4d64b54c",
   "metadata": {
    "ExecuteTime": {
     "end_time": "2022-09-29T16:41:43.839785Z",
     "start_time": "2022-09-29T16:41:43.688813Z"
    }
   },
   "outputs": [
    {
     "name": "stdout",
     "output_type": "stream",
     "text": [
      "/Users/nymath/Desktop/python/python_quant/Statistical_learning\r\n",
      "Fri Sep 30 00:41:43 CST 2022\r\n"
     ]
    }
   ],
   "source": [
    "!pwd; \\\n",
    "date"
   ]
  },
  {
   "cell_type": "code",
   "execution_count": 26,
   "id": "ecc4840a",
   "metadata": {
    "ExecuteTime": {
     "end_time": "2022-09-29T16:50:45.462577Z",
     "start_time": "2022-09-29T16:50:45.309923Z"
    }
   },
   "outputs": [
    {
     "name": "stdout",
     "output_type": "stream",
     "text": [
      "total 88\r\n",
      "drwxrwxr-x@  7 nymath  staff    224 Sep 30 00:49 \u001b[1m\u001b[36m.\u001b[m\u001b[m\r\n",
      "drwxr-xr-x@ 16 nymath  staff    512 Sep 30 00:35 \u001b[1m\u001b[36m..\u001b[m\u001b[m\r\n",
      "drwxr-xr-x   4 nymath  staff    128 Sep 29 21:14 \u001b[1m\u001b[36m.ipynb_checkpoints\u001b[m\u001b[m\r\n",
      "-rw-r--r--   1 nymath  staff  22692 Sep 30 00:22 Structures of Data.ipynb\r\n",
      "-rw-r--r--@  1 nymath  staff    158 Sep 30 00:22 fib.py\r\n",
      "-rw-------   1 nymath  staff    170 Sep 30 00:12 fib.py.save\r\n",
      "-rw-r--r--   1 nymath  staff  11053 Sep 30 00:49 zsh_basics.ipynb\r\n"
     ]
    }
   ],
   "source": [
    "!ls -l -a"
   ]
  },
  {
   "cell_type": "code",
   "execution_count": 5,
   "id": "0e93f1a0",
   "metadata": {
    "ExecuteTime": {
     "end_time": "2022-09-29T16:42:51.094768Z",
     "start_time": "2022-09-29T16:42:50.945098Z"
    }
   },
   "outputs": [
    {
     "name": "stdout",
     "output_type": "stream",
     "text": [
      "\u001b[1m\u001b[36m.\u001b[m\u001b[m                        Structures of Data.ipynb zsh_basics.ipynb\r\n",
      "\u001b[1m\u001b[36m..\u001b[m\u001b[m                       fib.py\r\n",
      "\u001b[1m\u001b[36m.ipynb_checkpoints\u001b[m\u001b[m       fib.py.save\r\n"
     ]
    }
   ],
   "source": [
    "!ls -a; #"
   ]
  },
  {
   "cell_type": "code",
   "execution_count": 12,
   "id": "2b2a76af",
   "metadata": {
    "ExecuteTime": {
     "end_time": "2022-09-29T16:44:15.695850Z",
     "start_time": "2022-09-29T16:44:15.544629Z"
    }
   },
   "outputs": [
    {
     "name": "stdout",
     "output_type": "stream",
     "text": [
      "fib.py      fib.py.save\r\n"
     ]
    }
   ],
   "source": [
    "!ls -a f* # show you only the names of files beginning with the letter f"
   ]
  },
  {
   "cell_type": "code",
   "execution_count": null,
   "id": "84684b9b",
   "metadata": {},
   "outputs": [],
   "source": []
  },
  {
   "cell_type": "markdown",
   "id": "af360aad",
   "metadata": {},
   "source": [
    "# Examples"
   ]
  },
  {
   "cell_type": "markdown",
   "id": "9de924ca",
   "metadata": {},
   "source": [
    "## open\n",
    "open 命令用于打开一个文件夹或者具体的文件，如果指定的是applications中的.app文件，则可以直接打开。"
   ]
  },
  {
   "cell_type": "code",
   "execution_count": 15,
   "id": "174159de",
   "metadata": {
    "ExecuteTime": {
     "end_time": "2022-09-30T07:42:35.005213Z",
     "start_time": "2022-09-30T07:42:34.767907Z"
    }
   },
   "outputs": [],
   "source": [
    "!open /Applications/Notability.app "
   ]
  },
  {
   "cell_type": "code",
   "execution_count": 16,
   "id": "025763cf",
   "metadata": {
    "ExecuteTime": {
     "end_time": "2022-09-30T07:42:52.279502Z",
     "start_time": "2022-09-30T07:42:52.079154Z"
    }
   },
   "outputs": [],
   "source": [
    "!open /Applications/Safari.app"
   ]
  },
  {
   "cell_type": "code",
   "execution_count": 17,
   "id": "81284268",
   "metadata": {
    "ExecuteTime": {
     "end_time": "2022-09-30T07:43:35.078908Z",
     "start_time": "2022-09-30T07:43:34.869178Z"
    }
   },
   "outputs": [],
   "source": [
    "!open /Applications/WeChat.app"
   ]
  },
  {
   "cell_type": "code",
   "execution_count": 18,
   "id": "cc31e69f",
   "metadata": {
    "ExecuteTime": {
     "end_time": "2022-09-30T07:44:47.039387Z",
     "start_time": "2022-09-30T07:44:46.777129Z"
    }
   },
   "outputs": [],
   "source": [
    "!temp=$(pwd);\\\n",
    "open $temp"
   ]
  },
  {
   "cell_type": "markdown",
   "id": "144151c5",
   "metadata": {},
   "source": [
    "## find & which\n",
    "We can type the command \"find\" to find the files whose name contains the name given by input. To be specific, if we want to find site-packages in /opt/, we can "
   ]
  },
  {
   "cell_type": "code",
   "execution_count": 5,
   "id": "e45b3c74",
   "metadata": {
    "ExecuteTime": {
     "end_time": "2022-09-30T07:35:32.868986Z",
     "start_time": "2022-09-30T07:35:31.920231Z"
    }
   },
   "outputs": [
    {
     "name": "stdout",
     "output_type": "stream",
     "text": [
      "/opt/anaconda3/lib/python3.9/site-packages\r\n"
     ]
    }
   ],
   "source": [
    "!find /opt/anaconda3/lib/python3.9 -name \"*site-packages*\""
   ]
  },
  {
   "cell_type": "code",
   "execution_count": 4,
   "id": "d6424ef1",
   "metadata": {
    "ExecuteTime": {
     "end_time": "2022-10-01T07:44:40.485264Z",
     "start_time": "2022-10-01T07:44:37.837054Z"
    }
   },
   "outputs": [
    {
     "name": "stdout",
     "output_type": "stream",
     "text": [
      "find: /usr/sbin/authserver: Permission denied\r\n"
     ]
    }
   ],
   "source": [
    "!find /usr -name \"stdio.h\""
   ]
  },
  {
   "cell_type": "code",
   "execution_count": 29,
   "id": "8350374f",
   "metadata": {
    "ExecuteTime": {
     "end_time": "2022-09-30T15:08:37.267177Z",
     "start_time": "2022-09-30T15:08:33.189885Z"
    }
   },
   "outputs": [
    {
     "name": "stdout",
     "output_type": "stream",
     "text": [
      "/opt/anaconda3/pkgs/jupyter_server-1.13.5-pyhd3eb1b0_0/site-packages/jupyter_server/tests/nbconvert\n",
      "/opt/anaconda3/pkgs/jupyter_server-1.13.5-pyhd3eb1b0_0/site-packages/jupyter_server/tests/services/nbconvert\n",
      "/opt/anaconda3/pkgs/jupyter_server-1.13.5-pyhd3eb1b0_0/site-packages/jupyter_server/nbconvert\n",
      "/opt/anaconda3/pkgs/jupyter_server-1.13.5-pyhd3eb1b0_0/site-packages/jupyter_server/services/nbconvert\n",
      "/opt/anaconda3/pkgs/notebook-6.4.8-py39hecd8cb5_0/lib/python3.9/site-packages/notebook/nbconvert\n",
      "/opt/anaconda3/pkgs/notebook-6.4.8-py39hecd8cb5_0/lib/python3.9/site-packages/notebook/services/nbconvert\n",
      "/opt/anaconda3/pkgs/nbconvert-6.4.4-py39hecd8cb5_0/info/test/nbconvert\n",
      "/opt/anaconda3/pkgs/nbconvert-6.4.4-py39hecd8cb5_0/lib/python3.9/site-packages/nbconvert\n",
      "/opt/anaconda3/pkgs/nbconvert-6.4.4-py39hecd8cb5_0/share/jupyter/nbconvert\n",
      "/opt/anaconda3/lib/python3.9/site-packages/jupyter_server/tests/nbconvert\n",
      "/opt/anaconda3/lib/python3.9/site-packages/jupyter_server/tests/services/nbconvert\n",
      "/opt/anaconda3/lib/python3.9/site-packages/jupyter_server/nbconvert\n",
      "/opt/anaconda3/lib/python3.9/site-packages/jupyter_server/services/nbconvert\n",
      "/opt/anaconda3/lib/python3.9/site-packages/nbconvert\n",
      "/opt/anaconda3/lib/python3.9/site-packages/notebook/nbconvert\n",
      "/opt/anaconda3/lib/python3.9/site-packages/notebook/services/nbconvert\n",
      "/opt/anaconda3/share/jupyter/nbconvert\n"
     ]
    }
   ],
   "source": [
    "!find /opt/anaconda3 -name \"nbconvert\""
   ]
  },
  {
   "cell_type": "code",
   "execution_count": 33,
   "id": "b90a673e",
   "metadata": {
    "ExecuteTime": {
     "end_time": "2022-09-30T15:19:27.494475Z",
     "start_time": "2022-09-30T15:19:19.015042Z"
    }
   },
   "outputs": [
    {
     "name": "stdout",
     "output_type": "stream",
     "text": [
      "/Users//nymath/Library/TeXShop/Engines/Inactive/pandoc\r\n"
     ]
    }
   ],
   "source": [
    "!find /Users/ -name \"pandoc\""
   ]
  },
  {
   "cell_type": "code",
   "execution_count": 14,
   "id": "87591abe",
   "metadata": {
    "ExecuteTime": {
     "end_time": "2022-09-30T07:40:14.710439Z",
     "start_time": "2022-09-30T07:40:14.559020Z"
    }
   },
   "outputs": [
    {
     "name": "stdout",
     "output_type": "stream",
     "text": [
      "/opt/anaconda3/bin/jupyter\r\n"
     ]
    }
   ],
   "source": [
    "!which jupyter"
   ]
  },
  {
   "cell_type": "code",
   "execution_count": 13,
   "id": "291f956f",
   "metadata": {
    "ExecuteTime": {
     "end_time": "2022-09-30T07:39:30.072130Z",
     "start_time": "2022-09-30T07:39:29.925982Z"
    }
   },
   "outputs": [
    {
     "name": "stdout",
     "output_type": "stream",
     "text": [
      "/opt/anaconda3/bin/python\r\n"
     ]
    }
   ],
   "source": [
    "!which python # python解释器所在位置，的确是vscode中用到的那个。"
   ]
  },
  {
   "cell_type": "code",
   "execution_count": null,
   "id": "ffb615b4",
   "metadata": {},
   "outputs": [],
   "source": []
  },
  {
   "cell_type": "markdown",
   "id": "fc812e2d",
   "metadata": {},
   "source": [
    "## Pandoc"
   ]
  },
  {
   "cell_type": "code",
   "execution_count": 34,
   "id": "10d06bfc",
   "metadata": {
    "ExecuteTime": {
     "end_time": "2022-09-30T15:20:05.194696Z",
     "start_time": "2022-09-30T15:19:57.214660Z"
    }
   },
   "outputs": [
    {
     "name": "stdout",
     "output_type": "stream",
     "text": [
      "/Users/nymath/Library/TeXShop/Engines/Inactive/pandoc\r\n"
     ]
    }
   ],
   "source": [
    "# 获取pandoc的安装路径\n",
    "!find /Users -name \"pandoc\""
   ]
  },
  {
   "cell_type": "code",
   "execution_count": 56,
   "id": "3fa3aae9",
   "metadata": {
    "ExecuteTime": {
     "end_time": "2022-09-30T15:47:03.451908Z",
     "start_time": "2022-09-30T15:47:03.224746Z"
    }
   },
   "outputs": [],
   "source": [
    "!open /Users/nymath/Library/TeXShop/Engines/Inactive/pandoc"
   ]
  },
  {
   "cell_type": "code",
   "execution_count": 37,
   "id": "737be476",
   "metadata": {
    "ExecuteTime": {
     "end_time": "2022-09-30T15:20:43.044110Z",
     "start_time": "2022-09-30T15:20:42.905314Z"
    }
   },
   "outputs": [
    {
     "name": "stdout",
     "output_type": "stream",
     "text": [
      "/usr/local/bin/pandoc\r\n"
     ]
    }
   ],
   "source": [
    "# pandoc这个解释器?或者说函数？命令？保存的位置\n",
    "!which pandoc"
   ]
  },
  {
   "cell_type": "markdown",
   "id": "eeba6646",
   "metadata": {},
   "source": [
    "开始pandoc的应用介绍了"
   ]
  },
  {
   "cell_type": "code",
   "execution_count": 49,
   "id": "b48ee747",
   "metadata": {
    "ExecuteTime": {
     "end_time": "2022-09-30T15:39:50.385520Z",
     "start_time": "2022-09-30T15:39:50.206805Z"
    }
   },
   "outputs": [
    {
     "name": "stdout",
     "output_type": "stream",
     "text": [
      "pandoc 2.19.2\r\n",
      "Compiled with pandoc-types 1.22.2.1, texmath 0.12.5.2, skylighting 0.13,\r\n",
      "citeproc 0.8.0.1, ipynb 0.2, hslua 2.2.1\r\n",
      "Scripting engine: Lua 5.4\r\n",
      "User data directory: /Users/nymath/.local/share/pandoc\r\n",
      "Copyright (C) 2006-2022 John MacFarlane. Web:  https://pandoc.org\r\n",
      "This is free software; see the source for copying conditions. There is no\r\n",
      "warranty, not even for merchantability or fitness for a particular purpose.\r\n"
     ]
    }
   ],
   "source": [
    "!pandoc --version"
   ]
  },
  {
   "cell_type": "code",
   "execution_count": 40,
   "id": "84d24e28",
   "metadata": {
    "ExecuteTime": {
     "end_time": "2022-09-30T15:24:05.126209Z",
     "start_time": "2022-09-30T15:24:04.973009Z"
    }
   },
   "outputs": [],
   "source": [
    "!mkdir pandoc-test"
   ]
  },
  {
   "cell_type": "code",
   "execution_count": 45,
   "id": "9c099431",
   "metadata": {
    "ExecuteTime": {
     "end_time": "2022-09-30T15:25:10.304545Z",
     "start_time": "2022-09-30T15:25:10.156960Z"
    }
   },
   "outputs": [
    {
     "name": "stdout",
     "output_type": "stream",
     "text": [
      "/Users/nymath/Desktop/python/python_quant/Statistical_learning/pandoc-test\r\n"
     ]
    }
   ],
   "source": [
    "!cd pandoc-test;\\\n",
    "pwd;\\\n"
   ]
  },
  {
   "cell_type": "markdown",
   "id": "46a3e16d",
   "metadata": {},
   "source": [
    "相关命令解读 \n",
    "```{zsh}\n",
    "pandoc test1.md -f markdown -t html -s -o test1.html\n",
    "```\n",
    "*test1.md* tells pandoc which file to convert.    \n",
    "*-f* markdown -t html: from md to html.    \n",
    "*-s* says to create a “standalone” file   \n",
    "*-o* test1.html says to put the output in the file test1.html.  "
   ]
  },
  {
   "cell_type": "markdown",
   "id": "a08a9880",
   "metadata": {},
   "source": [
    "```\n",
    "pandoc -f html -t markdown hello.html\n",
    "```\n",
    "将hello.html转化为hello.md"
   ]
  },
  {
   "cell_type": "code",
   "execution_count": 57,
   "id": "5f8451b6",
   "metadata": {
    "ExecuteTime": {
     "end_time": "2022-09-30T15:52:54.524659Z",
     "start_time": "2022-09-30T15:52:54.095641Z"
    }
   },
   "outputs": [],
   "source": [
    "!pandoc zsh_basics.ipynb -f ipynb -t latex -s -o zsh_basics.tex "
   ]
  },
  {
   "cell_type": "markdown",
   "id": "14da5d87",
   "metadata": {},
   "source": [
    "关于如何添加模版，可以参考\n",
    "[Template](https://github.com/Wandmalfarbe/pandoc-latex-template)"
   ]
  },
  {
   "cell_type": "code",
   "execution_count": null,
   "id": "7bce0dfd",
   "metadata": {},
   "outputs": [],
   "source": []
  },
  {
   "cell_type": "code",
   "execution_count": null,
   "id": "d3f09f92",
   "metadata": {},
   "outputs": [],
   "source": []
  },
  {
   "cell_type": "code",
   "execution_count": 54,
   "id": "3fa3b12e",
   "metadata": {
    "ExecuteTime": {
     "end_time": "2022-09-30T15:44:43.213991Z",
     "start_time": "2022-09-30T15:44:42.955044Z"
    }
   },
   "outputs": [],
   "source": [
    "zsh_in_jupyter.opendir()"
   ]
  },
  {
   "cell_type": "code",
   "execution_count": null,
   "id": "ac0d7b0c",
   "metadata": {},
   "outputs": [],
   "source": []
  },
  {
   "cell_type": "code",
   "execution_count": null,
   "id": "c1bf4922",
   "metadata": {},
   "outputs": [],
   "source": []
  },
  {
   "cell_type": "code",
   "execution_count": null,
   "id": "7eb7dc05",
   "metadata": {},
   "outputs": [],
   "source": []
  },
  {
   "cell_type": "code",
   "execution_count": null,
   "id": "b246b97c",
   "metadata": {},
   "outputs": [],
   "source": []
  },
  {
   "cell_type": "code",
   "execution_count": null,
   "id": "ee020546",
   "metadata": {},
   "outputs": [],
   "source": []
  },
  {
   "cell_type": "code",
   "execution_count": null,
   "id": "b4f2442d",
   "metadata": {},
   "outputs": [],
   "source": []
  },
  {
   "cell_type": "markdown",
   "id": "54253909",
   "metadata": {},
   "source": [
    "## nbconvert"
   ]
  },
  {
   "cell_type": "markdown",
   "id": "efb8a460",
   "metadata": {},
   "source": [
    "[指南](https://nbconvert.readthedocs.io/en/latest/usage.html?highlight=pdf)  \n",
    "当然pandoc也非常重要，可以看看   \n",
    "[Pandoc](https://pandoc.org/)"
   ]
  },
  {
   "cell_type": "code",
   "execution_count": 95,
   "id": "3dacbfe6",
   "metadata": {
    "ExecuteTime": {
     "end_time": "2022-09-30T17:00:12.696525Z",
     "start_time": "2022-09-30T17:00:12.477101Z"
    }
   },
   "outputs": [
    {
     "name": "stdout",
     "output_type": "stream",
     "text": [
      "config:\r\n",
      "    /Users/nymath/.jupyter\r\n",
      "    /Users/nymath/.local/etc/jupyter\r\n",
      "    /opt/anaconda3/etc/jupyter\r\n",
      "    /usr/local/etc/jupyter\r\n",
      "    /etc/jupyter\r\n",
      "data:\r\n",
      "    /Users/nymath/Library/Jupyter\r\n",
      "    /Users/nymath/.local/share/jupyter\r\n",
      "    /opt/anaconda3/share/jupyter\r\n",
      "    /usr/local/share/jupyter\r\n",
      "    /usr/share/jupyter\r\n",
      "runtime:\r\n",
      "    /Users/nymath/Library/Jupyter/runtime\r\n"
     ]
    }
   ],
   "source": [
    "!jupyter --paths"
   ]
  },
  {
   "cell_type": "code",
   "execution_count": 87,
   "id": "5e9d8327",
   "metadata": {
    "ExecuteTime": {
     "end_time": "2022-09-30T16:53:47.815393Z",
     "start_time": "2022-09-30T16:53:47.665591Z"
    }
   },
   "outputs": [
    {
     "name": "stdout",
     "output_type": "stream",
     "text": [
      "/opt/anaconda3/bin/jupyter-nbconvert\r\n"
     ]
    }
   ],
   "source": [
    "!which jupyter-nbconvert"
   ]
  },
  {
   "cell_type": "code",
   "execution_count": null,
   "id": "36d171a3",
   "metadata": {},
   "outputs": [],
   "source": []
  },
  {
   "cell_type": "code",
   "execution_count": null,
   "id": "523c98d9",
   "metadata": {},
   "outputs": [],
   "source": []
  },
  {
   "cell_type": "code",
   "execution_count": null,
   "id": "b11eb826",
   "metadata": {},
   "outputs": [],
   "source": []
  },
  {
   "cell_type": "code",
   "execution_count": null,
   "id": "4a061c24",
   "metadata": {},
   "outputs": [],
   "source": []
  },
  {
   "cell_type": "markdown",
   "id": "d472e0de",
   "metadata": {},
   "source": [
    "### HTML"
   ]
  },
  {
   "cell_type": "code",
   "execution_count": 92,
   "id": "840690bf",
   "metadata": {
    "ExecuteTime": {
     "end_time": "2022-09-30T16:56:31.030392Z",
     "start_time": "2022-09-30T16:56:29.062602Z"
    }
   },
   "outputs": [
    {
     "name": "stdout",
     "output_type": "stream",
     "text": [
      "[NbConvertApp] Converting notebook zsh_basics.ipynb to html\n",
      "[NbConvertApp] Writing 649321 bytes to zsh_basics.html\n"
     ]
    }
   ],
   "source": [
    "# HTML\n",
    "!jupyter-nbconvert --to html zsh_basics.ipynb"
   ]
  },
  {
   "cell_type": "markdown",
   "id": "87d51d83",
   "metadata": {
    "ExecuteTime": {
     "end_time": "2022-09-30T01:11:00.621131Z",
     "start_time": "2022-09-30T01:11:00.613532Z"
    }
   },
   "source": [
    "### PDF\n",
    "PDF转化为pdf倒是挺费功夫的，不信的话直接转化看看，应该会报错，比如不支持中文，因此我们需要去弄一个template  \n",
    "这个文件所在路径为/opt/anaconda3/share/jupyter/nbconvert/templates/latex "
   ]
  },
  {
   "cell_type": "code",
   "execution_count": 96,
   "id": "8c8f166b",
   "metadata": {
    "ExecuteTime": {
     "end_time": "2022-09-30T17:05:42.838961Z",
     "start_time": "2022-09-30T17:05:42.623156Z"
    }
   },
   "outputs": [],
   "source": [
    "!open /opt/anaconda3/share/jupyter/nbconvert/templates/latex "
   ]
  },
  {
   "cell_type": "code",
   "execution_count": 80,
   "id": "06137370",
   "metadata": {
    "ExecuteTime": {
     "end_time": "2022-09-30T16:43:16.536752Z",
     "start_time": "2022-09-30T16:43:06.908571Z"
    }
   },
   "outputs": [
    {
     "name": "stdout",
     "output_type": "stream",
     "text": [
      "[NbConvertApp] Converting notebook zsh_basics.ipynb to pdf\n",
      "[NbConvertApp] Writing 118629 bytes to zsh_basics.pdf\n"
     ]
    }
   ],
   "source": [
    "!jupyter nbconvert --to pdf zsh_basics.ipynb"
   ]
  },
  {
   "cell_type": "code",
   "execution_count": 86,
   "id": "9dddac5e",
   "metadata": {
    "ExecuteTime": {
     "end_time": "2022-09-30T16:52:51.295627Z",
     "start_time": "2022-09-30T16:52:51.145248Z"
    }
   },
   "outputs": [
    {
     "name": "stdout",
     "output_type": "stream",
     "text": [
      "/opt/anaconda3/bin/jupyter-nbconvert\r\n"
     ]
    }
   ],
   "source": []
  },
  {
   "cell_type": "code",
   "execution_count": null,
   "id": "f0c25e7d",
   "metadata": {},
   "outputs": [],
   "source": []
  },
  {
   "cell_type": "code",
   "execution_count": null,
   "id": "cd74181b",
   "metadata": {},
   "outputs": [],
   "source": []
  },
  {
   "cell_type": "code",
   "execution_count": null,
   "id": "48473d60",
   "metadata": {},
   "outputs": [],
   "source": []
  },
  {
   "cell_type": "code",
   "execution_count": 83,
   "id": "62e24bad",
   "metadata": {
    "ExecuteTime": {
     "end_time": "2022-09-30T16:46:20.228753Z",
     "start_time": "2022-09-30T16:46:18.627080Z"
    }
   },
   "outputs": [
    {
     "name": "stdout",
     "output_type": "stream",
     "text": [
      "Traceback (most recent call last):\r\n",
      "  File \"/opt/anaconda3/lib/python3.9/site-packages/traitlets/traitlets.py\", line 537, in get\r\n",
      "    value = obj._trait_values[self.name]\r\n",
      "KeyError: 'template_paths'\r\n",
      "\r\n",
      "During handling of the above exception, another exception occurred:\r\n",
      "\r\n",
      "Traceback (most recent call last):\r\n",
      "  File \"/opt/anaconda3/bin/jupyter-nbconvert\", line 11, in <module>\r\n",
      "    sys.exit(main())\r\n",
      "  File \"/opt/anaconda3/lib/python3.9/site-packages/jupyter_core/application.py\", line 264, in launch_instance\r\n",
      "    return super(JupyterApp, cls).launch_instance(argv=argv, **kwargs)\r\n",
      "  File \"/opt/anaconda3/lib/python3.9/site-packages/traitlets/config/application.py\", line 846, in launch_instance\r\n",
      "    app.start()\r\n",
      "  File \"/opt/anaconda3/lib/python3.9/site-packages/nbconvert/nbconvertapp.py\", line 369, in start\r\n",
      "    self.convert_notebooks()\r\n",
      "  File \"/opt/anaconda3/lib/python3.9/site-packages/nbconvert/nbconvertapp.py\", line 536, in convert_notebooks\r\n",
      "    self.exporter = cls(config=self.config)\r\n",
      "  File \"/opt/anaconda3/lib/python3.9/site-packages/nbconvert/exporters/templateexporter.py\", line 332, in __init__\r\n",
      "    super().__init__(config=config, **kw)\r\n",
      "  File \"/opt/anaconda3/lib/python3.9/site-packages/nbconvert/exporters/exporter.py\", line 118, in __init__\r\n",
      "    self._init_preprocessors()\r\n",
      "  File \"/opt/anaconda3/lib/python3.9/site-packages/nbconvert/exporters/templateexporter.py\", line 499, in _init_preprocessors\r\n",
      "    conf = self._get_conf()\r\n",
      "  File \"/opt/anaconda3/lib/python3.9/site-packages/nbconvert/exporters/templateexporter.py\", line 517, in _get_conf\r\n",
      "    for path in map(Path, self.template_paths):\r\n",
      "  File \"/opt/anaconda3/lib/python3.9/site-packages/traitlets/traitlets.py\", line 577, in __get__\r\n",
      "    return self.get(obj, cls)\r\n",
      "  File \"/opt/anaconda3/lib/python3.9/site-packages/traitlets/traitlets.py\", line 540, in get\r\n",
      "    default = obj.trait_defaults(self.name)\r\n",
      "  File \"/opt/anaconda3/lib/python3.9/site-packages/traitlets/traitlets.py\", line 1580, in trait_defaults\r\n",
      "    return self._get_trait_default_generator(names[0])(self)\r\n",
      "  File \"/opt/anaconda3/lib/python3.9/site-packages/traitlets/traitlets.py\", line 977, in __call__\r\n",
      "    return self.func(*args, **kwargs)\r\n",
      "  File \"/opt/anaconda3/lib/python3.9/site-packages/nbconvert/exporters/templateexporter.py\", line 528, in _template_paths\r\n",
      "    template_names = self.get_template_names()\r\n",
      "  File \"/opt/anaconda3/lib/python3.9/site-packages/nbconvert/exporters/templateexporter.py\", line 610, in get_template_names\r\n",
      "    raise ValueError('No template sub-directory with name %r found in the following paths:\\n\\t%s' % (base_template, paths))\r\n",
      "ValueError: No template sub-directory with name 'style_python.tex.j2' found in the following paths:\r\n",
      "\t/Users/nymath/Library/Jupyter\r\n",
      "\t/Users/nymath/.local/share/jupyter\r\n",
      "\t/opt/anaconda3/share/jupyter\r\n",
      "\t/usr/local/share/jupyter\r\n",
      "\t/usr/share/jupyter\r\n"
     ]
    }
   ],
   "source": [
    "!jupyter nbconvert --to pdf --template style_python.tex.j2 zsh_basics.ipynb"
   ]
  },
  {
   "cell_type": "code",
   "execution_count": 74,
   "id": "53365f58",
   "metadata": {
    "ExecuteTime": {
     "end_time": "2022-09-30T16:32:17.547183Z",
     "start_time": "2022-09-30T16:32:17.282589Z"
    }
   },
   "outputs": [],
   "source": [
    "zsh_in_jupyter.opendir()"
   ]
  },
  {
   "cell_type": "markdown",
   "id": "d9b2b500",
   "metadata": {},
   "source": [
    "### Python"
   ]
  },
  {
   "cell_type": "code",
   "execution_count": 26,
   "id": "56272e70",
   "metadata": {
    "ExecuteTime": {
     "end_time": "2022-09-30T15:05:40.136614Z",
     "start_time": "2022-09-30T15:05:38.435076Z"
    }
   },
   "outputs": [
    {
     "name": "stdout",
     "output_type": "stream",
     "text": [
      "[NbConvertApp] Converting notebook zsh_basics.ipynb to python\n",
      "[NbConvertApp] Writing 4870 bytes to zsh_basics.py\n"
     ]
    }
   ],
   "source": [
    "!jupyter nbconvert --to python zsh_basics.ipynb"
   ]
  },
  {
   "cell_type": "code",
   "execution_count": 98,
   "id": "09bc2ee6",
   "metadata": {
    "ExecuteTime": {
     "end_time": "2022-09-30T01:56:28.004862Z",
     "start_time": "2022-09-30T01:56:27.739231Z"
    }
   },
   "outputs": [],
   "source": [
    "zsh()"
   ]
  },
  {
   "cell_type": "markdown",
   "id": "bad748bc",
   "metadata": {},
   "source": [
    "### Latex"
   ]
  },
  {
   "cell_type": "code",
   "execution_count": 96,
   "id": "b9528858",
   "metadata": {
    "ExecuteTime": {
     "end_time": "2022-09-30T01:48:04.487723Z",
     "start_time": "2022-09-30T01:48:01.831826Z"
    }
   },
   "outputs": [
    {
     "name": "stdout",
     "output_type": "stream",
     "text": [
      "[NbConvertApp] Converting notebook zsh_basics.ipynb to latex\n",
      "[NbConvertApp] Writing 31753 bytes to zsh_basics.tex\n"
     ]
    }
   ],
   "source": [
    "!jupyter nbconvert --to latex zsh_basics.ipynb"
   ]
  },
  {
   "cell_type": "markdown",
   "id": "35a6ca5c",
   "metadata": {},
   "source": [
    "修改\n",
    "documentclass[11pt]{article}  \n",
    "为   \n",
    "documentclass{article}   \n",
    "usepackage{ctex}  "
   ]
  },
  {
   "cell_type": "code",
   "execution_count": 1,
   "id": "1c7d164c",
   "metadata": {
    "ExecuteTime": {
     "end_time": "2022-09-30T03:32:23.118412Z",
     "start_time": "2022-09-30T03:32:23.108308Z"
    }
   },
   "outputs": [],
   "source": [
    "import zsh_in_jupyter"
   ]
  },
  {
   "cell_type": "code",
   "execution_count": 5,
   "id": "6567a6f4",
   "metadata": {
    "ExecuteTime": {
     "end_time": "2022-09-30T07:23:38.593597Z",
     "start_time": "2022-09-30T07:23:38.587480Z"
    }
   },
   "outputs": [
    {
     "name": "stdout",
     "output_type": "stream",
     "text": [
      "\n",
      "用于调用xxx\n",
      "\n"
     ]
    }
   ],
   "source": [
    "# 查看模组的说明\n",
    "print(zsh_in_jupyter.__doc__)"
   ]
  },
  {
   "cell_type": "code",
   "execution_count": 6,
   "id": "8400b0b0",
   "metadata": {
    "ExecuteTime": {
     "end_time": "2022-09-30T07:23:41.002374Z",
     "start_time": "2022-09-30T07:23:40.737537Z"
    }
   },
   "outputs": [],
   "source": [
    "zsh_in_jupyter.opendir()"
   ]
  },
  {
   "cell_type": "code",
   "execution_count": null,
   "id": "26e90691",
   "metadata": {},
   "outputs": [],
   "source": [
    "!open "
   ]
  },
  {
   "cell_type": "code",
   "execution_count": null,
   "id": "2c6881f1",
   "metadata": {},
   "outputs": [],
   "source": []
  },
  {
   "cell_type": "code",
   "execution_count": null,
   "id": "5de6e2f3",
   "metadata": {},
   "outputs": [],
   "source": []
  },
  {
   "cell_type": "markdown",
   "id": "4ce8b5a7",
   "metadata": {},
   "source": [
    "# Work with Files and Directories\n",
    "似乎用的不太多，但还是写一点"
   ]
  },
  {
   "cell_type": "markdown",
   "id": "fee21310",
   "metadata": {},
   "source": [
    "## Create a File\n",
    "Command **touch** is used for creating a file. (md macos简直了，右键创建文件夹都得付费)"
   ]
  },
  {
   "cell_type": "code",
   "execution_count": 19,
   "id": "fe2faaec",
   "metadata": {
    "ExecuteTime": {
     "end_time": "2022-09-30T07:52:20.475020Z",
     "start_time": "2022-09-30T07:52:20.300681Z"
    }
   },
   "outputs": [],
   "source": [
    "!touch test.sh"
   ]
  },
  {
   "cell_type": "code",
   "execution_count": 24,
   "id": "22504561",
   "metadata": {
    "ExecuteTime": {
     "end_time": "2022-09-30T07:56:08.152377Z",
     "start_time": "2022-09-30T07:56:07.866789Z"
    }
   },
   "outputs": [],
   "source": [
    "zsh_in_jupyter.opendir()"
   ]
  },
  {
   "cell_type": "markdown",
   "id": "989345a2",
   "metadata": {},
   "source": [
    "## Create a Directory"
   ]
  },
  {
   "cell_type": "code",
   "execution_count": null,
   "id": "2cf3ca8f",
   "metadata": {},
   "outputs": [],
   "source": []
  },
  {
   "cell_type": "code",
   "execution_count": null,
   "id": "bc0b18fa",
   "metadata": {},
   "outputs": [],
   "source": []
  },
  {
   "cell_type": "code",
   "execution_count": null,
   "id": "bc02dd51",
   "metadata": {},
   "outputs": [],
   "source": []
  },
  {
   "cell_type": "code",
   "execution_count": null,
   "id": "d7e05175",
   "metadata": {},
   "outputs": [],
   "source": []
  },
  {
   "cell_type": "code",
   "execution_count": null,
   "id": "4665e0f1",
   "metadata": {},
   "outputs": [],
   "source": []
  },
  {
   "cell_type": "code",
   "execution_count": null,
   "id": "c414eefd",
   "metadata": {},
   "outputs": [],
   "source": []
  },
  {
   "cell_type": "code",
   "execution_count": null,
   "id": "a7292b00",
   "metadata": {},
   "outputs": [],
   "source": []
  },
  {
   "cell_type": "code",
   "execution_count": null,
   "id": "6f626e67",
   "metadata": {},
   "outputs": [],
   "source": []
  },
  {
   "cell_type": "code",
   "execution_count": null,
   "id": "71771c75",
   "metadata": {},
   "outputs": [],
   "source": []
  },
  {
   "cell_type": "code",
   "execution_count": null,
   "id": "87afa687",
   "metadata": {},
   "outputs": [],
   "source": []
  },
  {
   "cell_type": "code",
   "execution_count": null,
   "id": "50f27d9c",
   "metadata": {},
   "outputs": [],
   "source": []
  },
  {
   "cell_type": "code",
   "execution_count": null,
   "id": "800ab4ea",
   "metadata": {},
   "outputs": [],
   "source": []
  }
 ],
 "metadata": {
  "kernelspec": {
   "display_name": "Python 3 (ipykernel)",
   "language": "python",
   "name": "python3"
  },
  "language_info": {
   "codemirror_mode": {
    "name": "ipython",
    "version": 3
   },
   "file_extension": ".py",
   "mimetype": "text/x-python",
   "name": "python",
   "nbconvert_exporter": "python",
   "pygments_lexer": "ipython3",
   "version": "3.9.12"
  },
  "latex_envs": {
   "LaTeX_envs_menu_present": true,
   "autoclose": false,
   "autocomplete": true,
   "bibliofile": "biblio.bib",
   "cite_by": "apalike",
   "current_citInitial": 1,
   "eqLabelWithNumbers": true,
   "eqNumInitial": 1,
   "hotkeys": {
    "equation": "Ctrl-E",
    "itemize": "Ctrl-I"
   },
   "labels_anchors": false,
   "latex_user_defs": false,
   "report_style_numbering": false,
   "user_envs_cfg": false
  },
  "nbTranslate": {
   "displayLangs": [
    "*"
   ],
   "hotkey": "alt-t",
   "langInMainMenu": true,
   "sourceLang": "en",
   "targetLang": "fr",
   "useGoogleTranslate": true
  },
  "toc": {
   "base_numbering": 1,
   "nav_menu": {},
   "number_sections": true,
   "sideBar": true,
   "skip_h1_title": false,
   "title_cell": "Table of Contents",
   "title_sidebar": "Contents",
   "toc_cell": false,
   "toc_position": {
    "height": "calc(100% - 180px)",
    "left": "10px",
    "top": "150px",
    "width": "302.391px"
   },
   "toc_section_display": true,
   "toc_window_display": true
  },
  "varInspector": {
   "cols": {
    "lenName": 16,
    "lenType": 16,
    "lenVar": 40
   },
   "kernels_config": {
    "python": {
     "delete_cmd_postfix": "",
     "delete_cmd_prefix": "del ",
     "library": "var_list.py",
     "varRefreshCmd": "print(var_dic_list())"
    },
    "r": {
     "delete_cmd_postfix": ") ",
     "delete_cmd_prefix": "rm(",
     "library": "var_list.r",
     "varRefreshCmd": "cat(var_dic_list()) "
    }
   },
   "types_to_exclude": [
    "module",
    "function",
    "builtin_function_or_method",
    "instance",
    "_Feature"
   ],
   "window_display": false
  }
 },
 "nbformat": 4,
 "nbformat_minor": 5
}
