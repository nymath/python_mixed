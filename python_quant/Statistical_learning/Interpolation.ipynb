{
 "cells": [
  {
   "cell_type": "code",
   "execution_count": 1,
   "id": "60d7bf30",
   "metadata": {
    "ExecuteTime": {
     "end_time": "2022-10-01T13:47:06.829865Z",
     "start_time": "2022-10-01T13:47:06.659968Z"
    }
   },
   "outputs": [],
   "source": [
    "from scipy import interpolate\n",
    "from numpy import polynomial as P"
   ]
  },
  {
   "cell_type": "code",
   "execution_count": 3,
   "id": "6bfc8281",
   "metadata": {
    "ExecuteTime": {
     "end_time": "2022-10-01T13:47:48.167029Z",
     "start_time": "2022-10-01T13:47:47.774908Z"
    }
   },
   "outputs": [],
   "source": [
    "import numpy as np\n",
    "import pandas as pd\n",
    "from scipy import linalg\n",
    "import matplotlib.pyplot as plt"
   ]
  },
  {
   "cell_type": "code",
   "execution_count": 17,
   "id": "7ebf7adb",
   "metadata": {
    "ExecuteTime": {
     "end_time": "2022-10-01T13:56:02.682565Z",
     "start_time": "2022-10-01T13:56:02.659227Z"
    }
   },
   "outputs": [],
   "source": [
    "%config InlineBackend.figure_format='svg' #'png2x','svg','jpeg','pdf','png','jpg','retina'"
   ]
  },
  {
   "cell_type": "code",
   "execution_count": null,
   "id": "82d05d47",
   "metadata": {},
   "outputs": [],
   "source": []
  },
  {
   "cell_type": "markdown",
   "id": "1d25e69d",
   "metadata": {},
   "source": [
    "$$\n",
    "\\text{自定义命令}  \n",
    "\\newcommand{\\inner}[2]{{\\langle #1,#2\\rangle}}\n",
    "\\newcommand{\\dlim}{\\displaystyle \\lim}  \n",
    "\\newcommand{\\dint}{\\displaystyle \\int}   \n",
    "\\newcommand{\\ra}{\\rangle}  \n",
    "\\newcommand{\\la}{\\langle}   \n",
    "\\newcommand{\\inner}[2]{{\\langle #1,#2\\rangle}}\n",
    "\\newcommand{\\x}{\\mathbf{x}}   \n",
    "\\newcommand{\\xt}{\\mathbf{x}^{\\mathsf{T}}}   \n",
    "\\newcommand{\\T}{{\\mathsf{T}}}\n",
    "\\newcommand{\\abf}{\\mathbf{a}}   \n",
    "\\newcommand{\\abft}{\\mathbf{a}^{\\mathsf{T}}}   \n",
    "\\newcommand{\\R}{\\mathbb{R}}   \n",
    "\\newcommand{\\C}{\\mathbb{C}}   \n",
    "\\newcommand{\\E}{\\mathrm{e}}   \n",
    "\\newcommand{\\F}{\\mathbb{F}}   \n",
    "\\newcommand{\\X}{\\mathbf{X}}   \n",
    "\\newcommand{\\Y}{\\mathbf{Y}}  \n",
    "\\newcommand{\\f}{\\mathbf{f}}  \n",
    "\\newcommand{\\U}{\\mathbf{u}}   \n",
    "\\newcommand{\\D}{\\mathrm{d}}  \n",
    "\\newcommand{\\M}{\\mathcal{M}}  \n",
    "\\newcommand{\\LL}{\\mathcal{L}}  \n",
    "\\newcommand{\\nullspace}{\\mathrm{null}}   \n",
    "\\newcommand{\\range}{\\mathrm{range}}   \n",
    "\\newcommand{\\Sum}[2]{{\\sum_{#1}^{#2}}}   \n",
    "\\newcommand{\\Union}[2]{{\\bigcup_{#1}^{#2}}}   \n",
    "\\newcommand{\\Intersection}[2]{{\\bigcap_{#1}^{#2}}}   \n",
    "\\newcommand{\\pd}[1]{\\frac{\\partial}{\\partial #1}} \\notag\n",
    "$$  "
   ]
  },
  {
   "cell_type": "markdown",
   "id": "53bc581b",
   "metadata": {},
   "source": [
    "# Ploynomials"
   ]
  },
  {
   "cell_type": "markdown",
   "id": "b85314ab",
   "metadata": {},
   "source": [
    "Suppose p is a polynomial, then \n",
    "   \n",
    "Method| Descriptions\n",
    "-----|-----\n",
    "p.roots()\n",
    "p.coef\n",
    "p.domain\n",
    "p.window"
   ]
  },
  {
   "cell_type": "code",
   "execution_count": null,
   "id": "6a73a81d",
   "metadata": {},
   "outputs": [],
   "source": []
  },
  {
   "cell_type": "code",
   "execution_count": 12,
   "id": "2a71f6f3",
   "metadata": {
    "ExecuteTime": {
     "end_time": "2022-10-01T13:52:37.504615Z",
     "start_time": "2022-10-01T13:52:37.490584Z"
    }
   },
   "outputs": [
    {
     "data": {
      "text/latex": [
       "$x \\mapsto \\text{1.0} + \\text{2.0}\\,x + \\text{3.0}\\,x^{2}$"
      ],
      "text/plain": [
       "Polynomial([1., 2., 3.], domain=[-1.,  1.], window=[-1.,  1.])"
      ]
     },
     "execution_count": 12,
     "metadata": {},
     "output_type": "execute_result"
    }
   ],
   "source": [
    "p1 = P.Polynomial([1,2,3],domain=[-1,1],window=[-1,1])\n",
    "p1"
   ]
  },
  {
   "cell_type": "code",
   "execution_count": 18,
   "id": "186a514c",
   "metadata": {
    "ExecuteTime": {
     "end_time": "2022-10-01T13:56:31.155917Z",
     "start_time": "2022-10-01T13:56:31.139586Z"
    }
   },
   "outputs": [
    {
     "data": {
      "text/plain": [
       "numpy.polynomial.polynomial.Polynomial"
      ]
     },
     "execution_count": 18,
     "metadata": {},
     "output_type": "execute_result"
    }
   ],
   "source": [
    "type(p1)"
   ]
  },
  {
   "cell_type": "code",
   "execution_count": 20,
   "id": "c63236c9",
   "metadata": {
    "ExecuteTime": {
     "end_time": "2022-10-01T13:57:43.105467Z",
     "start_time": "2022-10-01T13:57:43.088291Z"
    }
   },
   "outputs": [
    {
     "data": {
      "text/plain": [
       "array([-0.33333333-0.47140452j, -0.33333333+0.47140452j])"
      ]
     },
     "execution_count": 20,
     "metadata": {},
     "output_type": "execute_result"
    }
   ],
   "source": [
    "p1.roots()"
   ]
  },
  {
   "cell_type": "code",
   "execution_count": 16,
   "id": "4bba0b59",
   "metadata": {
    "ExecuteTime": {
     "end_time": "2022-10-01T13:54:49.722939Z",
     "start_time": "2022-10-01T13:54:49.711607Z"
    }
   },
   "outputs": [
    {
     "data": {
      "text/latex": [
       "$x \\mapsto \\text{-1.0}\\color{LightGray}{ + \\text{0.0}\\,x} + \\text{1.0}\\,x^{2}$"
      ],
      "text/plain": [
       "Polynomial([-1.,  0.,  1.], domain=[-1.,  1.], window=[-1.,  1.])"
      ]
     },
     "execution_count": 16,
     "metadata": {},
     "output_type": "execute_result"
    }
   ],
   "source": [
    "p2 = P.Polynomial.fromroots([-1,1])\n",
    "p2"
   ]
  },
  {
   "cell_type": "code",
   "execution_count": 24,
   "id": "5c347ceb",
   "metadata": {
    "ExecuteTime": {
     "end_time": "2022-10-01T14:00:25.429286Z",
     "start_time": "2022-10-01T14:00:25.417345Z"
    }
   },
   "outputs": [
    {
     "data": {
      "text/latex": [
       "$x \\mapsto \\color{LightGray}{\\text{0.0}} + \\text{2.0}\\,x + \\text{4.0}\\,x^{2}$"
      ],
      "text/plain": [
       "Polynomial([0., 2., 4.], domain=[-1.,  1.], window=[-1.,  1.])"
      ]
     },
     "execution_count": 24,
     "metadata": {},
     "output_type": "execute_result"
    }
   ],
   "source": [
    "p1+p2"
   ]
  },
  {
   "cell_type": "code",
   "execution_count": null,
   "id": "427d7387",
   "metadata": {},
   "outputs": [],
   "source": []
  },
  {
   "cell_type": "code",
   "execution_count": null,
   "id": "cfc254d7",
   "metadata": {},
   "outputs": [],
   "source": []
  },
  {
   "cell_type": "markdown",
   "id": "28812df3",
   "metadata": {},
   "source": [
    "# Ploynomial Interpolation"
   ]
  },
  {
   "cell_type": "code",
   "execution_count": 25,
   "id": "e39d1bd8",
   "metadata": {
    "ExecuteTime": {
     "end_time": "2022-10-01T14:02:31.337434Z",
     "start_time": "2022-10-01T14:02:31.326101Z"
    }
   },
   "outputs": [],
   "source": [
    "x = np.array([1,2,3,4])\n",
    "y = np.array([1,3,5,4])"
   ]
  },
  {
   "cell_type": "code",
   "execution_count": 29,
   "id": "eaa1fe9a",
   "metadata": {
    "ExecuteTime": {
     "end_time": "2022-10-01T14:06:16.743208Z",
     "start_time": "2022-10-01T14:06:16.728991Z"
    }
   },
   "outputs": [
    {
     "data": {
      "text/plain": [
       "array([[ 1.,  1.,  1.,  1.],\n",
       "       [ 1.,  2.,  4.,  8.],\n",
       "       [ 1.,  3.,  9., 27.],\n",
       "       [ 1.,  4., 16., 64.]])"
      ]
     },
     "execution_count": 29,
     "metadata": {},
     "output_type": "execute_result"
    }
   ],
   "source": [
    "deg = len(x) - 1\n",
    "A = P.polynomial.polyvander(x, deg)\n",
    "A"
   ]
  },
  {
   "cell_type": "code",
   "execution_count": 30,
   "id": "982dc8f4",
   "metadata": {
    "ExecuteTime": {
     "end_time": "2022-10-01T14:06:32.742072Z",
     "start_time": "2022-10-01T14:06:32.721971Z"
    }
   },
   "outputs": [
    {
     "data": {
      "text/plain": [
       "array([ 2. , -3.5,  3. , -0.5])"
      ]
     },
     "execution_count": 30,
     "metadata": {},
     "output_type": "execute_result"
    }
   ],
   "source": [
    "c = linalg.solve(A,y)\n",
    "c"
   ]
  },
  {
   "cell_type": "code",
   "execution_count": 35,
   "id": "45e72c50",
   "metadata": {
    "ExecuteTime": {
     "end_time": "2022-10-01T14:07:25.034608Z",
     "start_time": "2022-10-01T14:07:25.021507Z"
    }
   },
   "outputs": [
    {
     "data": {
      "text/latex": [
       "$x \\mapsto \\text{2.0} - \\text{3.5}\\,x + \\text{3.0}\\,x^{2} - \\text{0.5}\\,x^{3}$"
      ],
      "text/plain": [
       "Polynomial([ 2. , -3.5,  3. , -0.5], domain=[-1,  1], window=[-1,  1])"
      ]
     },
     "execution_count": 35,
     "metadata": {},
     "output_type": "execute_result"
    }
   ],
   "source": [
    "f1 = P.Polynomial(c)\n",
    "f1"
   ]
  },
  {
   "cell_type": "code",
   "execution_count": 41,
   "id": "81d355bc",
   "metadata": {
    "ExecuteTime": {
     "end_time": "2022-10-01T14:09:16.752927Z",
     "start_time": "2022-10-01T14:09:16.739484Z"
    }
   },
   "outputs": [
    {
     "data": {
      "text/plain": [
       "3.9999999999999987"
      ]
     },
     "execution_count": 41,
     "metadata": {},
     "output_type": "execute_result"
    }
   ],
   "source": [
    "f1b = P.Polynomial.fit(x,y,deg)\n",
    "f1b(4)"
   ]
  },
  {
   "cell_type": "code",
   "execution_count": null,
   "id": "6602e042",
   "metadata": {},
   "outputs": [],
   "source": []
  },
  {
   "cell_type": "markdown",
   "id": "8e470720",
   "metadata": {},
   "source": [
    "# Spline Interpolation"
   ]
  },
  {
   "cell_type": "code",
   "execution_count": null,
   "id": "0c20d625",
   "metadata": {},
   "outputs": [],
   "source": []
  },
  {
   "cell_type": "code",
   "execution_count": null,
   "id": "3afe78fd",
   "metadata": {},
   "outputs": [],
   "source": []
  },
  {
   "cell_type": "code",
   "execution_count": null,
   "id": "630f0110",
   "metadata": {},
   "outputs": [],
   "source": []
  },
  {
   "cell_type": "code",
   "execution_count": null,
   "id": "49246649",
   "metadata": {},
   "outputs": [],
   "source": []
  }
 ],
 "metadata": {
  "kernelspec": {
   "display_name": "Python 3 (ipykernel)",
   "language": "python",
   "name": "python3"
  },
  "language_info": {
   "codemirror_mode": {
    "name": "ipython",
    "version": 3
   },
   "file_extension": ".py",
   "mimetype": "text/x-python",
   "name": "python",
   "nbconvert_exporter": "python",
   "pygments_lexer": "ipython3",
   "version": "3.9.12"
  },
  "latex_envs": {
   "LaTeX_envs_menu_present": true,
   "autoclose": false,
   "autocomplete": false,
   "bibliofile": "biblio.bib",
   "cite_by": "apalike",
   "current_citInitial": 1,
   "eqLabelWithNumbers": true,
   "eqNumInitial": 1,
   "hotkeys": {
    "equation": "Ctrl-E",
    "itemize": "Ctrl-I"
   },
   "labels_anchors": false,
   "latex_user_defs": false,
   "report_style_numbering": false,
   "user_envs_cfg": false
  },
  "nbTranslate": {
   "displayLangs": [
    "*"
   ],
   "hotkey": "alt-t",
   "langInMainMenu": true,
   "sourceLang": "en",
   "targetLang": "fr",
   "useGoogleTranslate": true
  },
  "toc": {
   "base_numbering": 1,
   "nav_menu": {},
   "number_sections": true,
   "sideBar": true,
   "skip_h1_title": false,
   "title_cell": "Table of Contents",
   "title_sidebar": "Contents",
   "toc_cell": false,
   "toc_position": {},
   "toc_section_display": true,
   "toc_window_display": false
  },
  "varInspector": {
   "cols": {
    "lenName": 16,
    "lenType": 16,
    "lenVar": 40
   },
   "kernels_config": {
    "python": {
     "delete_cmd_postfix": "",
     "delete_cmd_prefix": "del ",
     "library": "var_list.py",
     "varRefreshCmd": "print(var_dic_list())"
    },
    "r": {
     "delete_cmd_postfix": ") ",
     "delete_cmd_prefix": "rm(",
     "library": "var_list.r",
     "varRefreshCmd": "cat(var_dic_list()) "
    }
   },
   "types_to_exclude": [
    "module",
    "function",
    "builtin_function_or_method",
    "instance",
    "_Feature"
   ],
   "window_display": false
  }
 },
 "nbformat": 4,
 "nbformat_minor": 5
}
