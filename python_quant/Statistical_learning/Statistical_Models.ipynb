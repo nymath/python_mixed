{
 "cells": [
  {
   "cell_type": "code",
   "execution_count": 3,
   "id": "1b409031",
   "metadata": {
    "ExecuteTime": {
     "end_time": "2022-10-04T08:46:03.668292Z",
     "start_time": "2022-10-04T08:46:03.643757Z"
    }
   },
   "outputs": [],
   "source": [
    "import pandas as pd\n",
    "import numpy as np\n",
    "import sympy as sp\n",
    "import zsh_in_jupyter as jz\n",
    "import matplotlib as mpl\n",
    "import matplotlib.pyplot as plt\n",
    "sp.init_printing()\n",
    "%config InlineBackend.figure_format='svg' "
   ]
  },
  {
   "cell_type": "code",
   "execution_count": 3,
   "id": "22b2c782",
   "metadata": {
    "ExecuteTime": {
     "end_time": "2022-10-04T08:48:58.726239Z",
     "start_time": "2022-10-04T08:48:58.715862Z"
    }
   },
   "outputs": [],
   "source": [
    "import statsmodels.api as sm\n",
    "import statsmodels.formula.api as smf\n",
    "import statsmodels.graphics.api as smg\n",
    "import patsy\n",
    "from scipy import stats"
   ]
  },
  {
   "cell_type": "markdown",
   "id": "66051a41",
   "metadata": {
    "variables": {
     "\\bigcap_{#1}^{#2": "<p><strong>SyntaxError</strong>: unexpected character after line continuation character (1967741927.py, line 1)</p>\n",
     "\\bigcup_{#1}^{#2": "<p><strong>SyntaxError</strong>: unexpected character after line continuation character (25353433.py, line 1)</p>\n",
     "\\langle #1,#2\\rangle": "<p><strong>SyntaxError</strong>: unexpected character after line continuation character (3566613789.py, line 1)</p>\n",
     "\\mathsf{T": "<p><strong>SyntaxError</strong>: unexpected character after line continuation character (2646530652.py, line 1)</p>\n",
     "\\sum_{#1}^{#2": "<p><strong>SyntaxError</strong>: unexpected character after line continuation character (177279194.py, line 1)</p>\n"
    }
   },
   "source": [
    "$$\n",
    "\\text{自定义命令}  \n",
    "\\newcommand{\\inner}[2]{{\\langle #1,#2\\rangle}}\n",
    "\\newcommand{\\dlim}{\\displaystyle \\lim}  \n",
    "\\newcommand{\\dint}{\\displaystyle \\int}   \n",
    "\\newcommand{\\ra}{\\rangle}  \n",
    "\\newcommand{\\la}{\\langle}   \n",
    "\\newcommand{\\inner}[2]{{\\langle #1,#2\\rangle}}\n",
    "\\newcommand{\\x}{\\mathbf{x}}   \n",
    "\\newcommand{\\xt}{\\mathbf{x}^{\\mathsf{T}}}   \n",
    "\\newcommand{\\T}{{\\mathsf{T}}}\n",
    "\\newcommand{\\abf}{\\mathbf{a}}   \n",
    "\\newcommand{\\abft}{\\mathbf{a}^{\\mathsf{T}}}   \n",
    "\\newcommand{\\R}{\\mathbb{R}}   \n",
    "\\newcommand{\\C}{\\mathbb{C}}   \n",
    "\\newcommand{\\E}{\\mathrm{e}}   \n",
    "\\newcommand{\\F}{\\mathbb{F}}   \n",
    "\\newcommand{\\X}{\\mathbf{X}}   \n",
    "\\newcommand{\\Y}{\\mathbf{Y}}  \n",
    "\\newcommand{\\f}{\\mathbf{f}}  \n",
    "\\newcommand{\\U}{\\mathbf{u}}   \n",
    "\\newcommand{\\D}{\\mathrm{d}}  \n",
    "\\newcommand{\\M}{\\mathcal{M}}  \n",
    "\\newcommand{\\LL}{\\mathcal{L}}  \n",
    "\\newcommand{\\nullspace}{\\mathrm{null}}   \n",
    "\\newcommand{\\range}{\\mathrm{range}}   \n",
    "\\newcommand{\\Sum}[2]{{\\sum_{#1}^{#2}}}   \n",
    "\\newcommand{\\Union}[2]{{\\bigcup_{#1}^{#2}}}   \n",
    "\\newcommand{\\Intersection}[2]{{\\bigcap_{#1}^{#2}}}   \n",
    "\\newcommand{\\pd}[1]{\\frac{\\partial}{\\partial #1}} \\notag\n",
    "$$"
   ]
  },
  {
   "cell_type": "code",
   "execution_count": null,
   "id": "74d39c26",
   "metadata": {},
   "outputs": [],
   "source": []
  },
  {
   "cell_type": "code",
   "execution_count": null,
   "id": "fa083cfe",
   "metadata": {},
   "outputs": [],
   "source": []
  },
  {
   "cell_type": "code",
   "execution_count": null,
   "id": "50375b8f",
   "metadata": {},
   "outputs": [],
   "source": []
  }
 ],
 "metadata": {
  "kernelspec": {
   "display_name": "Python 3 (ipykernel)",
   "language": "python",
   "name": "python3"
  },
  "language_info": {
   "codemirror_mode": {
    "name": "ipython",
    "version": 3
   },
   "file_extension": ".py",
   "mimetype": "text/x-python",
   "name": "python",
   "nbconvert_exporter": "python",
   "pygments_lexer": "ipython3",
   "version": "3.9.12"
  },
  "latex_envs": {
   "LaTeX_envs_menu_present": true,
   "autoclose": false,
   "autocomplete": false,
   "bibliofile": "biblio.bib",
   "cite_by": "apalike",
   "current_citInitial": 1,
   "eqLabelWithNumbers": false,
   "eqNumInitial": 1,
   "hotkeys": {
    "equation": "Ctrl-E",
    "itemize": "Ctrl-I"
   },
   "labels_anchors": false,
   "latex_user_defs": false,
   "report_style_numbering": false,
   "user_envs_cfg": false
  },
  "nbTranslate": {
   "displayLangs": [
    "*"
   ],
   "hotkey": "alt-t",
   "langInMainMenu": true,
   "sourceLang": "en",
   "targetLang": "fr",
   "useGoogleTranslate": true
  },
  "toc": {
   "base_numbering": 1,
   "nav_menu": {},
   "number_sections": true,
   "sideBar": true,
   "skip_h1_title": false,
   "title_cell": "Table of Contents",
   "title_sidebar": "Contents",
   "toc_cell": false,
   "toc_position": {},
   "toc_section_display": true,
   "toc_window_display": false
  },
  "varInspector": {
   "cols": {
    "lenName": 16,
    "lenType": 16,
    "lenVar": 40
   },
   "kernels_config": {
    "python": {
     "delete_cmd_postfix": "",
     "delete_cmd_prefix": "del ",
     "library": "var_list.py",
     "varRefreshCmd": "print(var_dic_list())"
    },
    "r": {
     "delete_cmd_postfix": ") ",
     "delete_cmd_prefix": "rm(",
     "library": "var_list.r",
     "varRefreshCmd": "cat(var_dic_list()) "
    }
   },
   "types_to_exclude": [
    "module",
    "function",
    "builtin_function_or_method",
    "instance",
    "_Feature"
   ],
   "window_display": false
  }
 },
 "nbformat": 4,
 "nbformat_minor": 5
}
