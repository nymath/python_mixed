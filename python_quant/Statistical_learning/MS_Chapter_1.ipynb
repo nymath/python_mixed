{
 "cells": [
  {
   "cell_type": "code",
   "execution_count": 2,
   "id": "7fa81ac7",
   "metadata": {
    "ExecuteTime": {
     "end_time": "2022-10-02T08:52:14.373662Z",
     "start_time": "2022-10-02T08:52:13.259067Z"
    }
   },
   "outputs": [],
   "source": [
    "from scipy import optimize\n",
    "import cvxopt\n",
    "import matplotlib.pyplot as plt\n",
    "import numpy as np\n",
    "import sympy\n",
    "import pandas as pd\n",
    "sympy.init_printing()\n",
    "%config InlineBackend.figure_format='svg' #'png2x','svg','jpeg','pdf','png','jpg','retina'"
   ]
  },
  {
   "cell_type": "code",
   "execution_count": 26,
   "id": "32a63645",
   "metadata": {
    "ExecuteTime": {
     "end_time": "2022-10-02T08:59:14.175689Z",
     "start_time": "2022-10-02T08:59:14.078000Z"
    }
   },
   "outputs": [],
   "source": [
    "from sklearn import datasets"
   ]
  },
  {
   "cell_type": "markdown",
   "id": "7267b3ee",
   "metadata": {
    "ExecuteTime": {
     "end_time": "2022-10-02T08:52:09.261106Z",
     "start_time": "2022-10-02T08:52:09.242052Z"
    }
   },
   "source": [
    "$$\n",
    "\\text{自定义命令}  \n",
    "\\newcommand{\\inner}[2]{{\\langle #1,#2\\rangle}}\n",
    "\\newcommand{\\dlim}{\\displaystyle \\lim}  \n",
    "\\newcommand{\\dint}{\\displaystyle \\int}   \n",
    "\\newcommand{\\ra}{\\rangle}  \n",
    "\\newcommand{\\la}{\\langle}   \n",
    "\\newcommand{\\inner}[2]{{\\langle #1,#2\\rangle}}\n",
    "\\newcommand{\\x}{\\mathbf{x}}   \n",
    "\\newcommand{\\xt}{\\mathbf{x}^{\\mathsf{T}}}   \n",
    "\\newcommand{\\T}{{\\mathsf{T}}}\n",
    "\\newcommand{\\abf}{\\mathbf{a}}   \n",
    "\\newcommand{\\abft}{\\mathbf{a}^{\\mathsf{T}}}   \n",
    "\\newcommand{\\R}{\\mathbb{R}}   \n",
    "\\newcommand{\\C}{\\mathbb{C}}   \n",
    "\\newcommand{\\E}{\\mathrm{e}}   \n",
    "\\newcommand{\\F}{\\mathbb{F}}   \n",
    "\\newcommand{\\X}{\\mathbf{X}}   \n",
    "\\newcommand{\\Y}{\\mathbf{Y}}  \n",
    "\\newcommand{\\f}{\\mathbf{f}}  \n",
    "\\newcommand{\\U}{\\mathbf{u}}   \n",
    "\\newcommand{\\D}{\\mathrm{d}}  \n",
    "\\newcommand{\\M}{\\mathcal{M}}  \n",
    "\\newcommand{\\LL}{\\mathcal{L}}  \n",
    "\\newcommand{\\nullspace}{\\mathrm{null}}   \n",
    "\\newcommand{\\range}{\\mathrm{range}}   \n",
    "\\newcommand{\\Sum}[2]{{\\sum_{#1}^{#2}}}   \n",
    "\\newcommand{\\Union}[2]{{\\bigcup_{#1}^{#2}}}   \n",
    "\\newcommand{\\Intersection}[2]{{\\bigcap_{#1}^{#2}}}   \n",
    "\\newcommand{\\pd}[1]{\\frac{\\partial}{\\partial #1}} \\notag\n",
    "$$  "
   ]
  },
  {
   "cell_type": "code",
   "execution_count": 15,
   "id": "35bbdea3",
   "metadata": {
    "ExecuteTime": {
     "end_time": "2022-10-02T08:55:56.625200Z",
     "start_time": "2022-10-02T08:55:56.616644Z"
    }
   },
   "outputs": [],
   "source": [
    "np.random.seed(1234)\n",
    "X = np.random.rand(1000)\n",
    "X.resize((200,5))"
   ]
  },
  {
   "cell_type": "code",
   "execution_count": null,
   "id": "a009e8b6",
   "metadata": {},
   "outputs": [],
   "source": []
  },
  {
   "cell_type": "markdown",
   "id": "8a3d16a6",
   "metadata": {},
   "source": [
    "# Sample Statistics"
   ]
  },
  {
   "cell_type": "markdown",
   "id": "164acb5b",
   "metadata": {},
   "source": [
    "Suppose X is the data matrix, \n",
    "$$\n",
    "X = \n",
    "\\begin{bmatrix}\n",
    "X_{11} & X_{12} & \\cdots & X_{1p} \\\\ \n",
    "X_{21} & X_{22} & \\cdots & X_{2p} \\\\ \n",
    "\\cdots & \\cdots &        & \\vdots \\\\ \n",
    "X_{n1} & X_{n2} & \\cdots & X_{np} \\\\  \n",
    "\\end{bmatrix}\n",
    "$$\n",
    "then the sample mean and sample covariance matrix of $X$ is \n",
    "$$\n",
    "\\bar X = \\frac{1}{n} \\sum_{a=1}^{n} X_{(a)} = \n",
    "\\begin{bmatrix}\n",
    "\\bar X_1 \\\\\n",
    "\\bar X_2 \\\\\n",
    "\\vdots \\\\\n",
    "\\bar X_p \\\\\n",
    "\\end{bmatrix}= \\frac{1}{n}X^\\prime 1_n\n",
    "$$"
   ]
  },
  {
   "cell_type": "markdown",
   "id": "6d2e8b84",
   "metadata": {},
   "source": [
    "In addition,  considering the deviation matrix\n",
    "$$\n",
    "L = \n",
    "\\begin{bmatrix}\n",
    "X_{11}-\\bar X_1 & X_{12}-\\bar X_2 & \\cdots & X_{1p}-\\bar X_p \\\\ \n",
    "X_{21}-\\bar X_1 & X_{22}-\\bar X_2 & \\cdots & X_{2p}-\\bar X_p \\\\ \n",
    "\\vdots & \\vdots &        & \\vdots \\\\ \n",
    "X_{n1}-\\bar X_1 & X_{n2}-\\bar X_2 & \\cdots & X_{np}-\\bar X_p \\\\  \n",
    "\\end{bmatrix}\n",
    "=(I-\\frac{1}{n}1_n 1_n^\\prime)X.\n",
    "$$\n",
    "and thus\n",
    "$$\n",
    "S = \\frac{1}{n-1}L^\\prime L = \\frac{1}{n-1} X^\\prime (I-\\frac{1}{n}1_n1_n^\\prime)X\n",
    "$$"
   ]
  },
  {
   "cell_type": "code",
   "execution_count": 36,
   "id": "10993178",
   "metadata": {
    "ExecuteTime": {
     "end_time": "2022-10-02T09:00:54.648665Z",
     "start_time": "2022-10-02T09:00:54.636303Z"
    }
   },
   "outputs": [],
   "source": [
    "# diabetes is a dict\n",
    "iris = datasets.load_iris()"
   ]
  },
  {
   "cell_type": "code",
   "execution_count": 37,
   "id": "bc435577",
   "metadata": {
    "ExecuteTime": {
     "end_time": "2022-10-02T09:00:59.570452Z",
     "start_time": "2022-10-02T09:00:59.561858Z"
    }
   },
   "outputs": [],
   "source": [
    "X = iris.data"
   ]
  },
  {
   "cell_type": "code",
   "execution_count": 43,
   "id": "4f5c8e19",
   "metadata": {
    "ExecuteTime": {
     "end_time": "2022-10-02T09:01:44.708125Z",
     "start_time": "2022-10-02T09:01:44.681987Z"
    }
   },
   "outputs": [
    {
     "data": {
      "text/html": [
       "<div>\n",
       "<style scoped>\n",
       "    .dataframe tbody tr th:only-of-type {\n",
       "        vertical-align: middle;\n",
       "    }\n",
       "\n",
       "    .dataframe tbody tr th {\n",
       "        vertical-align: top;\n",
       "    }\n",
       "\n",
       "    .dataframe thead th {\n",
       "        text-align: right;\n",
       "    }\n",
       "</style>\n",
       "<table border=\"1\" class=\"dataframe\">\n",
       "  <thead>\n",
       "    <tr style=\"text-align: right;\">\n",
       "      <th></th>\n",
       "      <th>0</th>\n",
       "      <th>1</th>\n",
       "      <th>2</th>\n",
       "      <th>3</th>\n",
       "    </tr>\n",
       "  </thead>\n",
       "  <tbody>\n",
       "    <tr>\n",
       "      <th>0</th>\n",
       "      <td>5.1</td>\n",
       "      <td>3.5</td>\n",
       "      <td>1.4</td>\n",
       "      <td>0.2</td>\n",
       "    </tr>\n",
       "    <tr>\n",
       "      <th>1</th>\n",
       "      <td>4.9</td>\n",
       "      <td>3.0</td>\n",
       "      <td>1.4</td>\n",
       "      <td>0.2</td>\n",
       "    </tr>\n",
       "    <tr>\n",
       "      <th>2</th>\n",
       "      <td>4.7</td>\n",
       "      <td>3.2</td>\n",
       "      <td>1.3</td>\n",
       "      <td>0.2</td>\n",
       "    </tr>\n",
       "    <tr>\n",
       "      <th>3</th>\n",
       "      <td>4.6</td>\n",
       "      <td>3.1</td>\n",
       "      <td>1.5</td>\n",
       "      <td>0.2</td>\n",
       "    </tr>\n",
       "    <tr>\n",
       "      <th>4</th>\n",
       "      <td>5.0</td>\n",
       "      <td>3.6</td>\n",
       "      <td>1.4</td>\n",
       "      <td>0.2</td>\n",
       "    </tr>\n",
       "    <tr>\n",
       "      <th>...</th>\n",
       "      <td>...</td>\n",
       "      <td>...</td>\n",
       "      <td>...</td>\n",
       "      <td>...</td>\n",
       "    </tr>\n",
       "    <tr>\n",
       "      <th>145</th>\n",
       "      <td>6.7</td>\n",
       "      <td>3.0</td>\n",
       "      <td>5.2</td>\n",
       "      <td>2.3</td>\n",
       "    </tr>\n",
       "    <tr>\n",
       "      <th>146</th>\n",
       "      <td>6.3</td>\n",
       "      <td>2.5</td>\n",
       "      <td>5.0</td>\n",
       "      <td>1.9</td>\n",
       "    </tr>\n",
       "    <tr>\n",
       "      <th>147</th>\n",
       "      <td>6.5</td>\n",
       "      <td>3.0</td>\n",
       "      <td>5.2</td>\n",
       "      <td>2.0</td>\n",
       "    </tr>\n",
       "    <tr>\n",
       "      <th>148</th>\n",
       "      <td>6.2</td>\n",
       "      <td>3.4</td>\n",
       "      <td>5.4</td>\n",
       "      <td>2.3</td>\n",
       "    </tr>\n",
       "    <tr>\n",
       "      <th>149</th>\n",
       "      <td>5.9</td>\n",
       "      <td>3.0</td>\n",
       "      <td>5.1</td>\n",
       "      <td>1.8</td>\n",
       "    </tr>\n",
       "  </tbody>\n",
       "</table>\n",
       "<p>150 rows × 4 columns</p>\n",
       "</div>"
      ],
      "text/plain": [
       "       0    1    2    3\n",
       "0    5.1  3.5  1.4  0.2\n",
       "1    4.9  3.0  1.4  0.2\n",
       "2    4.7  3.2  1.3  0.2\n",
       "3    4.6  3.1  1.5  0.2\n",
       "4    5.0  3.6  1.4  0.2\n",
       "..   ...  ...  ...  ...\n",
       "145  6.7  3.0  5.2  2.3\n",
       "146  6.3  2.5  5.0  1.9\n",
       "147  6.5  3.0  5.2  2.0\n",
       "148  6.2  3.4  5.4  2.3\n",
       "149  5.9  3.0  5.1  1.8\n",
       "\n",
       "[150 rows x 4 columns]"
      ]
     },
     "execution_count": 43,
     "metadata": {},
     "output_type": "execute_result"
    }
   ],
   "source": [
    "pd.DataFrame(X)"
   ]
  },
  {
   "cell_type": "code",
   "execution_count": 77,
   "id": "d12082fe",
   "metadata": {
    "ExecuteTime": {
     "end_time": "2022-10-02T09:11:50.124917Z",
     "start_time": "2022-10-02T09:11:50.117736Z"
    }
   },
   "outputs": [],
   "source": [
    "I_n = np.ones(X.shape[0])\n",
    "I_n.resize((150,1))\n",
    "E = np.identity(X.shape[0])"
   ]
  },
  {
   "cell_type": "code",
   "execution_count": 45,
   "id": "2f948122",
   "metadata": {
    "ExecuteTime": {
     "end_time": "2022-10-02T09:02:29.910507Z",
     "start_time": "2022-10-02T09:02:29.900988Z"
    }
   },
   "outputs": [
    {
     "data": {
      "text/plain": [
       "array([5.84333333, 3.05733333, 3.758     , 1.19933333])"
      ]
     },
     "execution_count": 45,
     "metadata": {},
     "output_type": "execute_result"
    }
   ],
   "source": [
    "np.mean(X,axis=0)"
   ]
  },
  {
   "cell_type": "code",
   "execution_count": 67,
   "id": "647245fb",
   "metadata": {
    "ExecuteTime": {
     "end_time": "2022-10-02T09:08:39.588105Z",
     "start_time": "2022-10-02T09:08:39.569799Z"
    }
   },
   "outputs": [
    {
     "data": {
      "text/plain": [
       "array([[5.84333333],\n",
       "       [3.05733333],\n",
       "       [3.758     ],\n",
       "       [1.19933333]])"
      ]
     },
     "execution_count": 67,
     "metadata": {},
     "output_type": "execute_result"
    }
   ],
   "source": [
    "(X.T @ I_n)/X.shape[0]"
   ]
  },
  {
   "cell_type": "code",
   "execution_count": 39,
   "id": "cbc3d6f9",
   "metadata": {
    "ExecuteTime": {
     "end_time": "2022-10-02T09:01:17.175259Z",
     "start_time": "2022-10-02T09:01:17.160387Z"
    }
   },
   "outputs": [
    {
     "data": {
      "text/plain": [
       "array([[ 0.68569351, -0.042434  ,  1.27431544,  0.51627069],\n",
       "       [-0.042434  ,  0.18997942, -0.32965638, -0.12163937],\n",
       "       [ 1.27431544, -0.32965638,  3.11627785,  1.2956094 ],\n",
       "       [ 0.51627069, -0.12163937,  1.2956094 ,  0.58100626]])"
      ]
     },
     "execution_count": 39,
     "metadata": {},
     "output_type": "execute_result"
    }
   ],
   "source": [
    "np.cov(X,rowvar=False)"
   ]
  },
  {
   "cell_type": "code",
   "execution_count": 78,
   "id": "b1e4f2f2",
   "metadata": {
    "ExecuteTime": {
     "end_time": "2022-10-02T09:13:32.627342Z",
     "start_time": "2022-10-02T09:13:32.612019Z"
    }
   },
   "outputs": [
    {
     "data": {
      "text/plain": [
       "array([[ 0.68569351, -0.042434  ,  1.27431544,  0.51627069],\n",
       "       [-0.042434  ,  0.18997942, -0.32965638, -0.12163937],\n",
       "       [ 1.27431544, -0.32965638,  3.11627785,  1.2956094 ],\n",
       "       [ 0.51627069, -0.12163937,  1.2956094 ,  0.58100626]])"
      ]
     },
     "execution_count": 78,
     "metadata": {},
     "output_type": "execute_result"
    }
   ],
   "source": [
    "(X.T @ (E - (I_n @ I_n.T)/X.shape[0]) @ X)/(X.shape[0]-1)"
   ]
  },
  {
   "cell_type": "code",
   "execution_count": null,
   "id": "d7a7bdbf",
   "metadata": {},
   "outputs": [],
   "source": []
  },
  {
   "cell_type": "code",
   "execution_count": null,
   "id": "250a9a03",
   "metadata": {},
   "outputs": [],
   "source": []
  },
  {
   "cell_type": "code",
   "execution_count": null,
   "id": "ed9965cd",
   "metadata": {},
   "outputs": [],
   "source": []
  },
  {
   "cell_type": "markdown",
   "id": "2e10cfe4",
   "metadata": {},
   "source": [
    "# Multivariate-Normal "
   ]
  },
  {
   "cell_type": "code",
   "execution_count": null,
   "id": "31ef07c4",
   "metadata": {},
   "outputs": [],
   "source": []
  },
  {
   "cell_type": "code",
   "execution_count": null,
   "id": "20f5fc84",
   "metadata": {},
   "outputs": [],
   "source": []
  },
  {
   "cell_type": "code",
   "execution_count": null,
   "id": "d693b1b9",
   "metadata": {},
   "outputs": [],
   "source": []
  },
  {
   "cell_type": "markdown",
   "id": "e2ea71c5",
   "metadata": {},
   "source": [
    "# Sampling Distribution"
   ]
  },
  {
   "cell_type": "markdown",
   "id": "937c45ec",
   "metadata": {},
   "source": [
    "## Chisq-distribution and Wishart-distribution"
   ]
  },
  {
   "cell_type": "code",
   "execution_count": null,
   "id": "e6525351",
   "metadata": {},
   "outputs": [],
   "source": []
  },
  {
   "cell_type": "markdown",
   "id": "f3a4dbbf",
   "metadata": {},
   "source": [
    "$$\n",
    "\\chi^2(n) \\sim Ga(\\frac{n}{2},\\frac{1}{2})\n",
    "$$"
   ]
  },
  {
   "cell_type": "code",
   "execution_count": null,
   "id": "c0ea340a",
   "metadata": {},
   "outputs": [],
   "source": []
  },
  {
   "cell_type": "code",
   "execution_count": null,
   "id": "d3a2d9be",
   "metadata": {},
   "outputs": [],
   "source": []
  },
  {
   "cell_type": "code",
   "execution_count": null,
   "id": "b95140b1",
   "metadata": {},
   "outputs": [],
   "source": []
  },
  {
   "cell_type": "code",
   "execution_count": null,
   "id": "19b30b52",
   "metadata": {},
   "outputs": [],
   "source": []
  },
  {
   "cell_type": "code",
   "execution_count": null,
   "id": "7a9e448b",
   "metadata": {},
   "outputs": [],
   "source": []
  },
  {
   "cell_type": "code",
   "execution_count": null,
   "id": "55016df4",
   "metadata": {},
   "outputs": [],
   "source": []
  },
  {
   "cell_type": "code",
   "execution_count": null,
   "id": "b70e3a6f",
   "metadata": {},
   "outputs": [],
   "source": []
  },
  {
   "cell_type": "code",
   "execution_count": null,
   "id": "1b18207e",
   "metadata": {},
   "outputs": [],
   "source": []
  },
  {
   "cell_type": "code",
   "execution_count": null,
   "id": "a10baf2d",
   "metadata": {},
   "outputs": [],
   "source": []
  },
  {
   "cell_type": "code",
   "execution_count": null,
   "id": "5efa4c1a",
   "metadata": {},
   "outputs": [],
   "source": []
  },
  {
   "cell_type": "code",
   "execution_count": null,
   "id": "be7db0f0",
   "metadata": {},
   "outputs": [],
   "source": []
  },
  {
   "cell_type": "code",
   "execution_count": null,
   "id": "8636b17a",
   "metadata": {},
   "outputs": [],
   "source": []
  },
  {
   "cell_type": "code",
   "execution_count": null,
   "id": "11660936",
   "metadata": {},
   "outputs": [],
   "source": []
  },
  {
   "cell_type": "code",
   "execution_count": null,
   "id": "df516ec0",
   "metadata": {},
   "outputs": [],
   "source": []
  },
  {
   "cell_type": "code",
   "execution_count": null,
   "id": "2e18b101",
   "metadata": {},
   "outputs": [],
   "source": []
  },
  {
   "cell_type": "code",
   "execution_count": null,
   "id": "c15d2e5c",
   "metadata": {},
   "outputs": [],
   "source": []
  }
 ],
 "metadata": {
  "kernelspec": {
   "display_name": "Python 3 (ipykernel)",
   "language": "python",
   "name": "python3"
  },
  "language_info": {
   "codemirror_mode": {
    "name": "ipython",
    "version": 3
   },
   "file_extension": ".py",
   "mimetype": "text/x-python",
   "name": "python",
   "nbconvert_exporter": "python",
   "pygments_lexer": "ipython3",
   "version": "3.9.12"
  },
  "latex_envs": {
   "LaTeX_envs_menu_present": true,
   "autoclose": false,
   "autocomplete": false,
   "bibliofile": "biblio.bib",
   "cite_by": "apalike",
   "current_citInitial": 1,
   "eqLabelWithNumbers": true,
   "eqNumInitial": 1,
   "hotkeys": {
    "equation": "Ctrl-E",
    "itemize": "Ctrl-I"
   },
   "labels_anchors": false,
   "latex_user_defs": false,
   "report_style_numbering": false,
   "user_envs_cfg": false
  },
  "nbTranslate": {
   "displayLangs": [
    "*"
   ],
   "hotkey": "alt-t",
   "langInMainMenu": true,
   "sourceLang": "en",
   "targetLang": "fr",
   "useGoogleTranslate": true
  },
  "toc": {
   "base_numbering": 1,
   "nav_menu": {},
   "number_sections": true,
   "sideBar": true,
   "skip_h1_title": false,
   "title_cell": "Table of Contents",
   "title_sidebar": "Contents",
   "toc_cell": false,
   "toc_position": {},
   "toc_section_display": true,
   "toc_window_display": false
  },
  "varInspector": {
   "cols": {
    "lenName": 16,
    "lenType": 16,
    "lenVar": 40
   },
   "kernels_config": {
    "python": {
     "delete_cmd_postfix": "",
     "delete_cmd_prefix": "del ",
     "library": "var_list.py",
     "varRefreshCmd": "print(var_dic_list())"
    },
    "r": {
     "delete_cmd_postfix": ") ",
     "delete_cmd_prefix": "rm(",
     "library": "var_list.r",
     "varRefreshCmd": "cat(var_dic_list()) "
    }
   },
   "types_to_exclude": [
    "module",
    "function",
    "builtin_function_or_method",
    "instance",
    "_Feature"
   ],
   "window_display": false
  }
 },
 "nbformat": 4,
 "nbformat_minor": 5
}
