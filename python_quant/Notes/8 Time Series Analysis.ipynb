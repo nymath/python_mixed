{
 "cells": [
  {
   "cell_type": "markdown",
   "id": "159813f2",
   "metadata": {},
   "source": [
    "\\begin{equation}\\label{eq:6}\n",
    "k_{n+1} = n^2 + k_n^2 - k_{n-1}\n",
    "\\end{equation}\n",
    "\n",
    "\\begin{equation}\\label{eq:3}\n",
    "123123\n",
    "\\end{equation}\n",
    "\n",
    "\\begin{equation}\\label{eq:4}\n",
    "\\TeX\n",
    "\\end{equation}\n",
    "\n",
    "\n",
    "\n",
    "\n"
   ]
  },
  {
   "cell_type": "code",
   "execution_count": 161,
   "id": "34d634ef",
   "metadata": {},
   "outputs": [],
   "source": [
    "wd = %pwd\n",
    "wd = wd.replace('\\\\','//')"
   ]
  },
  {
   "cell_type": "code",
   "execution_count": 1,
   "id": "fe98a74d",
   "metadata": {
    "ExecuteTime": {
     "end_time": "2022-10-08T10:22:56.657663Z",
     "start_time": "2022-10-08T10:22:55.465643Z"
    }
   },
   "outputs": [],
   "source": [
    "import pandas as pd\n",
    "import numpy as np\n",
    "import matplotlib\n",
    "%config InlineBackend.figure_format = 'retina'\n",
    "%matplotlib inline\n",
    "from datetime import datetime\n",
    "from dateutil.parser import parse"
   ]
  },
  {
   "cell_type": "markdown",
   "id": "0ceb30fa",
   "metadata": {},
   "source": [
    "Time Series Analysis    \n",
    "\n",
    "本节，你需要掌握\n",
    "\\begin{itemize}\n",
    "    \\item Timestamps,specific instants in time\n",
    "    \\item Fixed periods,such as the month January 2007 or the full year 2010\n",
    "\\end{itemize}"
   ]
  },
  {
   "cell_type": "markdown",
   "id": "2dca214b",
   "metadata": {},
   "source": [
    "## Date and Time Date Types and Tools"
   ]
  },
  {
   "cell_type": "markdown",
   "id": "6ee1a835",
   "metadata": {},
   "source": [
    "### Basic Operations"
   ]
  },
  {
   "cell_type": "markdown",
   "id": "960e1c9f",
   "metadata": {},
   "source": [
    "|Operation|Description|\n",
    "|---|---|\n",
    "|datetime.now()|\n",
    "|datetime()|\n",
    "|| \n",
    "|| \n",
    "|| \n",
    "||\n",
    "||\n",
    "||"
   ]
  },
  {
   "cell_type": "code",
   "execution_count": 2,
   "id": "e1b971d1",
   "metadata": {
    "ExecuteTime": {
     "end_time": "2022-10-08T10:22:58.663229Z",
     "start_time": "2022-10-08T10:22:58.653882Z"
    }
   },
   "outputs": [
    {
     "data": {
      "text/plain": [
       "datetime.datetime(2022, 10, 8, 18, 22, 58, 655889)"
      ]
     },
     "execution_count": 2,
     "metadata": {},
     "output_type": "execute_result"
    }
   ],
   "source": [
    "datetime.now()"
   ]
  },
  {
   "cell_type": "code",
   "execution_count": 3,
   "id": "f32779f9",
   "metadata": {
    "ExecuteTime": {
     "end_time": "2022-10-08T10:23:00.117109Z",
     "start_time": "2022-10-08T10:23:00.104500Z"
    }
   },
   "outputs": [
    {
     "data": {
      "text/plain": [
       "[2022, 10, 8]"
      ]
     },
     "execution_count": 3,
     "metadata": {},
     "output_type": "execute_result"
    }
   ],
   "source": [
    "[datetime.now().year, datetime.now().month, datetime.now().day]"
   ]
  },
  {
   "cell_type": "code",
   "execution_count": 4,
   "id": "252ffab0",
   "metadata": {
    "ExecuteTime": {
     "end_time": "2022-10-08T10:23:00.290242Z",
     "start_time": "2022-10-08T10:23:00.280310Z"
    }
   },
   "outputs": [
    {
     "data": {
      "text/plain": [
       "datetime.timedelta(days=926, seconds=56700)"
      ]
     },
     "execution_count": 4,
     "metadata": {},
     "output_type": "execute_result"
    }
   ],
   "source": [
    "datetime(2011,1,7) - datetime(2008,6,24,8,15)"
   ]
  },
  {
   "cell_type": "markdown",
   "id": "5c8ddc06",
   "metadata": {},
   "source": [
    "### Converting Between String and Datetime"
   ]
  },
  {
   "cell_type": "markdown",
   "id": "8f38c895",
   "metadata": {},
   "source": [
    "|Operation|Description|\n",
    "|---|---|\n",
    "|datetime.strptime()|将已知格式字符串转化为datetime\n",
    "|parse()|自动转化\n",
    "|pd.to_datetime()|与parse()效果相同 \n",
    "|| \n",
    "|| \n",
    "||\n",
    "||\n",
    "||"
   ]
  },
  {
   "cell_type": "markdown",
   "id": "8900fa8f",
   "metadata": {},
   "source": [
    "|Arguments|Description|\n",
    "|---|---|\n",
    "|%Y|Four-digit year 2001\n",
    "|%y|Two-digit year 01\n",
    "|%m|Two-digit month [0,12]\n",
    "|%d|Two-digit day [01,31]\n",
    "|%F|Shortcut for %Y-%m-%d \n",
    "||\n",
    "||\n",
    "||"
   ]
  },
  {
   "cell_type": "code",
   "execution_count": 5,
   "id": "226b5e60",
   "metadata": {
    "ExecuteTime": {
     "end_time": "2022-10-08T10:23:01.040604Z",
     "start_time": "2022-10-08T10:23:01.031361Z"
    }
   },
   "outputs": [
    {
     "data": {
      "text/plain": [
       "datetime.datetime(2011, 1, 3, 0, 0)"
      ]
     },
     "execution_count": 5,
     "metadata": {},
     "output_type": "execute_result"
    }
   ],
   "source": [
    "stamp = datetime(2011,1,3)\n",
    "stamp"
   ]
  },
  {
   "cell_type": "code",
   "execution_count": 6,
   "id": "00063e28",
   "metadata": {
    "ExecuteTime": {
     "end_time": "2022-10-08T10:23:01.189707Z",
     "start_time": "2022-10-08T10:23:01.183758Z"
    }
   },
   "outputs": [
    {
     "data": {
      "text/plain": [
       "'2011-01-03 00:00:00'"
      ]
     },
     "execution_count": 6,
     "metadata": {},
     "output_type": "execute_result"
    }
   ],
   "source": [
    "str(stamp)"
   ]
  },
  {
   "cell_type": "markdown",
   "id": "863f2161",
   "metadata": {},
   "source": [
    "#### Dealing with a known format"
   ]
  },
  {
   "cell_type": "markdown",
   "id": "9c6ef3f2",
   "metadata": {},
   "source": [
    "datatime.strptime()"
   ]
  },
  {
   "cell_type": "code",
   "execution_count": 7,
   "id": "83b28c3c",
   "metadata": {
    "ExecuteTime": {
     "end_time": "2022-10-08T10:23:01.648774Z",
     "start_time": "2022-10-08T10:23:01.641653Z"
    }
   },
   "outputs": [
    {
     "name": "stdout",
     "output_type": "stream",
     "text": [
      "2011-01-03 00:00:00\n",
      "2011-01-03 00:00:00\n",
      "2011-01-03 00:00:00\n"
     ]
    }
   ],
   "source": [
    "print(datetime.strptime('2011-01-03','%Y-%m-%d'))\n",
    "print(datetime.strptime('2011-1-03','%Y-%m-%d'))\n",
    "print(datetime.strptime('2011-1-3','%Y-%m-%d'))"
   ]
  },
  {
   "cell_type": "code",
   "execution_count": 8,
   "id": "41d634d0",
   "metadata": {
    "ExecuteTime": {
     "end_time": "2022-10-08T10:23:01.815523Z",
     "start_time": "2022-10-08T10:23:01.801972Z"
    }
   },
   "outputs": [
    {
     "data": {
      "text/plain": [
       "[datetime.datetime(2011, 7, 6, 0, 0), datetime.datetime(2008, 8, 6, 0, 0)]"
      ]
     },
     "execution_count": 8,
     "metadata": {},
     "output_type": "execute_result"
    }
   ],
   "source": [
    "datestrs = ['7/6/2011','8/06/2008']\n",
    "[datetime.strptime(x,'%m/%d/%Y') for x in datestrs]"
   ]
  },
  {
   "cell_type": "markdown",
   "id": "f066fafa",
   "metadata": {},
   "source": [
    "#### Dealing with an unkown format"
   ]
  },
  {
   "cell_type": "code",
   "execution_count": 9,
   "id": "fda72b33",
   "metadata": {
    "ExecuteTime": {
     "end_time": "2022-10-08T10:23:02.126049Z",
     "start_time": "2022-10-08T10:23:02.116609Z"
    }
   },
   "outputs": [
    {
     "data": {
      "text/plain": [
       "datetime.datetime(2011, 1, 3, 0, 0)"
      ]
     },
     "execution_count": 9,
     "metadata": {},
     "output_type": "execute_result"
    }
   ],
   "source": [
    "parse('2011-01-03')"
   ]
  },
  {
   "cell_type": "code",
   "execution_count": 10,
   "id": "5169421c",
   "metadata": {
    "ExecuteTime": {
     "end_time": "2022-10-08T10:23:02.285810Z",
     "start_time": "2022-10-08T10:23:02.278171Z"
    }
   },
   "outputs": [
    {
     "data": {
      "text/plain": [
       "datetime.datetime(2011, 3, 8, 0, 0)"
      ]
     },
     "execution_count": 10,
     "metadata": {},
     "output_type": "execute_result"
    }
   ],
   "source": [
    "parse('3/8/2011')"
   ]
  },
  {
   "cell_type": "code",
   "execution_count": 11,
   "id": "6bf4eba7",
   "metadata": {
    "ExecuteTime": {
     "end_time": "2022-10-08T10:23:02.435474Z",
     "start_time": "2022-10-08T10:23:02.426737Z"
    }
   },
   "outputs": [
    {
     "data": {
      "text/plain": [
       "datetime.datetime(2011, 12, 6, 0, 0)"
      ]
     },
     "execution_count": 11,
     "metadata": {},
     "output_type": "execute_result"
    }
   ],
   "source": [
    "parse('6/12/2011',dayfirst=True)"
   ]
  },
  {
   "cell_type": "code",
   "execution_count": 12,
   "id": "2c07d96a",
   "metadata": {
    "ExecuteTime": {
     "end_time": "2022-10-08T10:23:02.601081Z",
     "start_time": "2022-10-08T10:23:02.588959Z"
    }
   },
   "outputs": [
    {
     "data": {
      "text/plain": [
       "datetime.datetime(1997, 1, 31, 22, 45)"
      ]
     },
     "execution_count": 12,
     "metadata": {},
     "output_type": "execute_result"
    }
   ],
   "source": [
    "parse('Jan 31, 1997 10:45 PM')"
   ]
  },
  {
   "cell_type": "code",
   "execution_count": 13,
   "id": "db17282a",
   "metadata": {
    "ExecuteTime": {
     "end_time": "2022-10-08T10:23:02.759829Z",
     "start_time": "2022-10-08T10:23:02.738125Z"
    }
   },
   "outputs": [
    {
     "data": {
      "text/plain": [
       "DatetimeIndex(['2011-03-08 00:00:00', '2011-06-12 00:00:00',\n",
       "               '1997-01-31 22:45:00'],\n",
       "              dtype='datetime64[ns]', freq=None)"
      ]
     },
     "execution_count": 13,
     "metadata": {},
     "output_type": "execute_result"
    }
   ],
   "source": [
    "#使用pd.to_datetime()能够达到与parse相同的效果\n",
    "pd.to_datetime(['3/8/2011','6/12/2011','Jan 31, 1997 10:45 PM'])"
   ]
  },
  {
   "cell_type": "code",
   "execution_count": null,
   "id": "160e2ed9",
   "metadata": {},
   "outputs": [],
   "source": []
  },
  {
   "cell_type": "markdown",
   "id": "ba71caaa",
   "metadata": {},
   "source": [
    "## Time Series Basics"
   ]
  },
  {
   "cell_type": "code",
   "execution_count": 14,
   "id": "0e3496cf",
   "metadata": {
    "ExecuteTime": {
     "end_time": "2022-10-08T10:23:03.244813Z",
     "start_time": "2022-10-08T10:23:03.235188Z"
    }
   },
   "outputs": [],
   "source": [
    "dates = [datetime(2011,1,2),datetime(2011,1,5),datetime(2011,1,7),\n",
    "         datetime(2011,1,8),datetime(2011,1,10),datetime(2011,1,12)]\n",
    "ts = pd.Series(np.random.randn(6),index=dates)"
   ]
  },
  {
   "cell_type": "code",
   "execution_count": 15,
   "id": "6916f641",
   "metadata": {
    "ExecuteTime": {
     "end_time": "2022-10-08T10:23:03.413198Z",
     "start_time": "2022-10-08T10:23:03.400763Z"
    }
   },
   "outputs": [
    {
     "data": {
      "text/plain": [
       "2011-01-02    1.064531\n",
       "2011-01-05   -1.267553\n",
       "2011-01-07    0.190376\n",
       "2011-01-08   -0.573083\n",
       "2011-01-10    0.132531\n",
       "2011-01-12   -0.311342\n",
       "dtype: float64"
      ]
     },
     "execution_count": 15,
     "metadata": {},
     "output_type": "execute_result"
    }
   ],
   "source": [
    "ts"
   ]
  },
  {
   "cell_type": "code",
   "execution_count": 16,
   "id": "4abb1d90",
   "metadata": {
    "ExecuteTime": {
     "end_time": "2022-10-08T10:23:03.578591Z",
     "start_time": "2022-10-08T10:23:03.566390Z"
    }
   },
   "outputs": [
    {
     "data": {
      "text/plain": [
       "DatetimeIndex(['2011-01-02', '2011-01-05', '2011-01-07', '2011-01-08',\n",
       "               '2011-01-10', '2011-01-12'],\n",
       "              dtype='datetime64[ns]', freq=None)"
      ]
     },
     "execution_count": 16,
     "metadata": {},
     "output_type": "execute_result"
    }
   ],
   "source": [
    "ts.index"
   ]
  },
  {
   "cell_type": "markdown",
   "id": "e6ab83d5",
   "metadata": {},
   "source": [
    "### Indexing,Selection,Subsetting"
   ]
  },
  {
   "cell_type": "code",
   "execution_count": 17,
   "id": "fb3e0662",
   "metadata": {
    "ExecuteTime": {
     "end_time": "2022-10-08T10:23:03.931727Z",
     "start_time": "2022-10-08T10:23:03.916428Z"
    }
   },
   "outputs": [
    {
     "name": "stdout",
     "output_type": "stream",
     "text": [
      "0.19037620751461073\n",
      "0.19037620751461073\n",
      "0.19037620751461073\n"
     ]
    }
   ],
   "source": [
    "print(ts[ts.index[2]])\n",
    "print(ts['2011-01-07'])\n",
    "print(ts['01/07/2011'])"
   ]
  },
  {
   "cell_type": "code",
   "execution_count": null,
   "id": "a73de5fb",
   "metadata": {},
   "outputs": [],
   "source": []
  },
  {
   "cell_type": "code",
   "execution_count": 18,
   "id": "51414624",
   "metadata": {
    "ExecuteTime": {
     "end_time": "2022-10-08T10:23:04.288116Z",
     "start_time": "2022-10-08T10:23:04.275292Z"
    }
   },
   "outputs": [],
   "source": [
    "longer_ts = pd.Series(np.random.randn(1000),\n",
    "                      index=pd.date_range('2000-01-01',periods=1000))"
   ]
  },
  {
   "cell_type": "code",
   "execution_count": 19,
   "id": "1c7dd2cf",
   "metadata": {
    "ExecuteTime": {
     "end_time": "2022-10-08T10:23:04.476276Z",
     "start_time": "2022-10-08T10:23:04.463318Z"
    }
   },
   "outputs": [
    {
     "data": {
      "text/plain": [
       "2000-01-01   -0.088310\n",
       "2000-01-02    2.060634\n",
       "2000-01-03   -0.488282\n",
       "2000-01-04    0.423004\n",
       "2000-01-05   -0.148334\n",
       "                ...   \n",
       "2002-09-22    0.198400\n",
       "2002-09-23    0.605910\n",
       "2002-09-24    0.247038\n",
       "2002-09-25    0.188075\n",
       "2002-09-26    0.389113\n",
       "Freq: D, Length: 1000, dtype: float64"
      ]
     },
     "execution_count": 19,
     "metadata": {},
     "output_type": "execute_result"
    }
   ],
   "source": [
    "longer_ts"
   ]
  },
  {
   "cell_type": "code",
   "execution_count": 20,
   "id": "338bbcb2",
   "metadata": {
    "ExecuteTime": {
     "end_time": "2022-10-08T10:23:04.656838Z",
     "start_time": "2022-10-08T10:23:04.634542Z"
    }
   },
   "outputs": [
    {
     "data": {
      "text/plain": [
       "2001-01-01   -0.829782\n",
       "2001-01-02   -0.731420\n",
       "2001-01-03   -1.760942\n",
       "2001-01-04    2.275561\n",
       "2001-01-05   -1.414823\n",
       "                ...   \n",
       "2001-12-27    0.569607\n",
       "2001-12-28    4.334499\n",
       "2001-12-29   -0.362823\n",
       "2001-12-30    0.496734\n",
       "2001-12-31    1.070005\n",
       "Freq: D, Length: 365, dtype: float64"
      ]
     },
     "execution_count": 20,
     "metadata": {},
     "output_type": "execute_result"
    }
   ],
   "source": [
    "longer_ts['2001']"
   ]
  },
  {
   "cell_type": "code",
   "execution_count": 21,
   "id": "bae825e7",
   "metadata": {
    "ExecuteTime": {
     "end_time": "2022-10-08T10:23:04.838435Z",
     "start_time": "2022-10-08T10:23:04.828132Z"
    }
   },
   "outputs": [
    {
     "data": {
      "text/plain": [
       "-0.7314201210209392"
      ]
     },
     "execution_count": 21,
     "metadata": {},
     "output_type": "execute_result"
    }
   ],
   "source": [
    "longer_ts['2001-01-02']"
   ]
  },
  {
   "cell_type": "code",
   "execution_count": 22,
   "id": "6f64feb1",
   "metadata": {
    "ExecuteTime": {
     "end_time": "2022-10-08T10:23:05.035302Z",
     "start_time": "2022-10-08T10:23:05.017141Z"
    }
   },
   "outputs": [
    {
     "data": {
      "text/plain": [
       "2001-01-01   -0.829782\n",
       "2001-01-02   -0.731420\n",
       "2001-01-03   -1.760942\n",
       "2001-01-04    2.275561\n",
       "2001-01-05   -1.414823\n",
       "2001-01-06   -0.474894\n",
       "2001-01-07   -1.083798\n",
       "2001-01-08   -0.568723\n",
       "2001-01-09   -0.291254\n",
       "2001-01-10    1.024343\n",
       "2001-01-11   -0.867892\n",
       "2001-01-12   -2.373943\n",
       "2001-01-13   -0.393884\n",
       "2001-01-14   -0.253916\n",
       "2001-01-15    0.481256\n",
       "2001-01-16   -2.741765\n",
       "2001-01-17   -1.118304\n",
       "2001-01-18   -1.516795\n",
       "2001-01-19    0.576015\n",
       "2001-01-20    0.716872\n",
       "2001-01-21   -0.068538\n",
       "2001-01-22   -0.224763\n",
       "2001-01-23   -0.219023\n",
       "2001-01-24   -1.448751\n",
       "2001-01-25   -0.744953\n",
       "2001-01-26    0.350421\n",
       "2001-01-27   -1.657548\n",
       "2001-01-28    1.208130\n",
       "2001-01-29    1.946908\n",
       "2001-01-30   -1.599207\n",
       "2001-01-31    0.649258\n",
       "2001-02-01    1.266854\n",
       "Freq: D, dtype: float64"
      ]
     },
     "execution_count": 22,
     "metadata": {},
     "output_type": "execute_result"
    }
   ],
   "source": [
    "longer_ts['2001-01-01':'2001-02-01']"
   ]
  },
  {
   "cell_type": "code",
   "execution_count": 23,
   "id": "5bde6c2b",
   "metadata": {
    "ExecuteTime": {
     "end_time": "2022-10-08T10:23:05.214627Z",
     "start_time": "2022-10-08T10:23:05.202919Z"
    }
   },
   "outputs": [],
   "source": [
    "# All of this holds true for DataFrame as well\n",
    "dates =pd.date_range('2000-01-01',periods=100,freq='W-WED')"
   ]
  },
  {
   "cell_type": "code",
   "execution_count": 24,
   "id": "5509c1be",
   "metadata": {
    "ExecuteTime": {
     "end_time": "2022-10-08T10:23:05.393584Z",
     "start_time": "2022-10-08T10:23:05.384948Z"
    }
   },
   "outputs": [],
   "source": [
    "long_df = pd.DataFrame(np.random.randn(100,4),\n",
    "                       index=dates,\n",
    "                       columns=['Colorado','Texas','New York','Ohio'])"
   ]
  },
  {
   "cell_type": "code",
   "execution_count": 25,
   "id": "95a258a0",
   "metadata": {
    "ExecuteTime": {
     "end_time": "2022-10-08T10:23:05.601045Z",
     "start_time": "2022-10-08T10:23:05.577493Z"
    }
   },
   "outputs": [
    {
     "data": {
      "text/html": [
       "<div>\n",
       "<style scoped>\n",
       "    .dataframe tbody tr th:only-of-type {\n",
       "        vertical-align: middle;\n",
       "    }\n",
       "\n",
       "    .dataframe tbody tr th {\n",
       "        vertical-align: top;\n",
       "    }\n",
       "\n",
       "    .dataframe thead th {\n",
       "        text-align: right;\n",
       "    }\n",
       "</style>\n",
       "<table border=\"1\" class=\"dataframe\">\n",
       "  <thead>\n",
       "    <tr style=\"text-align: right;\">\n",
       "      <th></th>\n",
       "      <th>Colorado</th>\n",
       "      <th>Texas</th>\n",
       "      <th>New York</th>\n",
       "      <th>Ohio</th>\n",
       "    </tr>\n",
       "  </thead>\n",
       "  <tbody>\n",
       "    <tr>\n",
       "      <th>2000-01-05</th>\n",
       "      <td>-1.774186</td>\n",
       "      <td>-0.344874</td>\n",
       "      <td>-0.102193</td>\n",
       "      <td>-0.552710</td>\n",
       "    </tr>\n",
       "    <tr>\n",
       "      <th>2000-01-12</th>\n",
       "      <td>1.572787</td>\n",
       "      <td>-0.583338</td>\n",
       "      <td>-1.849206</td>\n",
       "      <td>-1.103002</td>\n",
       "    </tr>\n",
       "    <tr>\n",
       "      <th>2000-01-19</th>\n",
       "      <td>-1.526104</td>\n",
       "      <td>1.507951</td>\n",
       "      <td>0.905305</td>\n",
       "      <td>0.623364</td>\n",
       "    </tr>\n",
       "    <tr>\n",
       "      <th>2000-01-26</th>\n",
       "      <td>-1.119854</td>\n",
       "      <td>-0.192685</td>\n",
       "      <td>0.686184</td>\n",
       "      <td>-1.019888</td>\n",
       "    </tr>\n",
       "    <tr>\n",
       "      <th>2000-02-02</th>\n",
       "      <td>0.157391</td>\n",
       "      <td>0.877399</td>\n",
       "      <td>-1.360788</td>\n",
       "      <td>0.388047</td>\n",
       "    </tr>\n",
       "    <tr>\n",
       "      <th>...</th>\n",
       "      <td>...</td>\n",
       "      <td>...</td>\n",
       "      <td>...</td>\n",
       "      <td>...</td>\n",
       "    </tr>\n",
       "    <tr>\n",
       "      <th>2001-10-31</th>\n",
       "      <td>-0.731727</td>\n",
       "      <td>1.024463</td>\n",
       "      <td>0.512967</td>\n",
       "      <td>-1.362068</td>\n",
       "    </tr>\n",
       "    <tr>\n",
       "      <th>2001-11-07</th>\n",
       "      <td>-1.785625</td>\n",
       "      <td>2.176390</td>\n",
       "      <td>0.962580</td>\n",
       "      <td>0.645011</td>\n",
       "    </tr>\n",
       "    <tr>\n",
       "      <th>2001-11-14</th>\n",
       "      <td>-0.144063</td>\n",
       "      <td>0.736502</td>\n",
       "      <td>1.333545</td>\n",
       "      <td>0.196734</td>\n",
       "    </tr>\n",
       "    <tr>\n",
       "      <th>2001-11-21</th>\n",
       "      <td>0.866183</td>\n",
       "      <td>-0.897121</td>\n",
       "      <td>0.871533</td>\n",
       "      <td>-1.121134</td>\n",
       "    </tr>\n",
       "    <tr>\n",
       "      <th>2001-11-28</th>\n",
       "      <td>-0.281212</td>\n",
       "      <td>-0.309113</td>\n",
       "      <td>-0.794603</td>\n",
       "      <td>0.225464</td>\n",
       "    </tr>\n",
       "  </tbody>\n",
       "</table>\n",
       "<p>100 rows × 4 columns</p>\n",
       "</div>"
      ],
      "text/plain": [
       "            Colorado     Texas  New York      Ohio\n",
       "2000-01-05 -1.774186 -0.344874 -0.102193 -0.552710\n",
       "2000-01-12  1.572787 -0.583338 -1.849206 -1.103002\n",
       "2000-01-19 -1.526104  1.507951  0.905305  0.623364\n",
       "2000-01-26 -1.119854 -0.192685  0.686184 -1.019888\n",
       "2000-02-02  0.157391  0.877399 -1.360788  0.388047\n",
       "...              ...       ...       ...       ...\n",
       "2001-10-31 -0.731727  1.024463  0.512967 -1.362068\n",
       "2001-11-07 -1.785625  2.176390  0.962580  0.645011\n",
       "2001-11-14 -0.144063  0.736502  1.333545  0.196734\n",
       "2001-11-21  0.866183 -0.897121  0.871533 -1.121134\n",
       "2001-11-28 -0.281212 -0.309113 -0.794603  0.225464\n",
       "\n",
       "[100 rows x 4 columns]"
      ]
     },
     "execution_count": 25,
     "metadata": {},
     "output_type": "execute_result"
    }
   ],
   "source": [
    "long_df"
   ]
  },
  {
   "cell_type": "code",
   "execution_count": 26,
   "id": "4b1302a0",
   "metadata": {
    "ExecuteTime": {
     "end_time": "2022-10-08T10:23:05.766758Z",
     "start_time": "2022-10-08T10:23:05.748068Z"
    }
   },
   "outputs": [
    {
     "data": {
      "text/html": [
       "<div>\n",
       "<style scoped>\n",
       "    .dataframe tbody tr th:only-of-type {\n",
       "        vertical-align: middle;\n",
       "    }\n",
       "\n",
       "    .dataframe tbody tr th {\n",
       "        vertical-align: top;\n",
       "    }\n",
       "\n",
       "    .dataframe thead th {\n",
       "        text-align: right;\n",
       "    }\n",
       "</style>\n",
       "<table border=\"1\" class=\"dataframe\">\n",
       "  <thead>\n",
       "    <tr style=\"text-align: right;\">\n",
       "      <th></th>\n",
       "      <th>Colorado</th>\n",
       "      <th>Texas</th>\n",
       "      <th>New York</th>\n",
       "      <th>Ohio</th>\n",
       "    </tr>\n",
       "  </thead>\n",
       "  <tbody>\n",
       "    <tr>\n",
       "      <th>2001-01-03</th>\n",
       "      <td>-0.460287</td>\n",
       "      <td>-0.755886</td>\n",
       "      <td>0.146998</td>\n",
       "      <td>-0.015350</td>\n",
       "    </tr>\n",
       "    <tr>\n",
       "      <th>2001-01-10</th>\n",
       "      <td>1.519228</td>\n",
       "      <td>0.019884</td>\n",
       "      <td>-0.202643</td>\n",
       "      <td>-0.583909</td>\n",
       "    </tr>\n",
       "    <tr>\n",
       "      <th>2001-01-17</th>\n",
       "      <td>0.657023</td>\n",
       "      <td>-0.061211</td>\n",
       "      <td>-1.148936</td>\n",
       "      <td>0.750525</td>\n",
       "    </tr>\n",
       "    <tr>\n",
       "      <th>2001-01-24</th>\n",
       "      <td>-0.277009</td>\n",
       "      <td>0.997174</td>\n",
       "      <td>-0.608948</td>\n",
       "      <td>0.004967</td>\n",
       "    </tr>\n",
       "    <tr>\n",
       "      <th>2001-01-31</th>\n",
       "      <td>0.790166</td>\n",
       "      <td>2.143566</td>\n",
       "      <td>0.227170</td>\n",
       "      <td>0.329075</td>\n",
       "    </tr>\n",
       "  </tbody>\n",
       "</table>\n",
       "</div>"
      ],
      "text/plain": [
       "            Colorado     Texas  New York      Ohio\n",
       "2001-01-03 -0.460287 -0.755886  0.146998 -0.015350\n",
       "2001-01-10  1.519228  0.019884 -0.202643 -0.583909\n",
       "2001-01-17  0.657023 -0.061211 -1.148936  0.750525\n",
       "2001-01-24 -0.277009  0.997174 -0.608948  0.004967\n",
       "2001-01-31  0.790166  2.143566  0.227170  0.329075"
      ]
     },
     "execution_count": 26,
     "metadata": {},
     "output_type": "execute_result"
    }
   ],
   "source": [
    "long_df.loc['2001-01',:]"
   ]
  },
  {
   "cell_type": "code",
   "execution_count": null,
   "id": "b2b12b29",
   "metadata": {},
   "outputs": [],
   "source": []
  },
  {
   "cell_type": "markdown",
   "id": "b0084452",
   "metadata": {},
   "source": [
    "### Time Series with Duplicate Indices"
   ]
  },
  {
   "cell_type": "code",
   "execution_count": null,
   "id": "4ba2641b",
   "metadata": {},
   "outputs": [],
   "source": []
  },
  {
   "cell_type": "markdown",
   "id": "5a1bde28",
   "metadata": {},
   "source": [
    "### Date Ranges,Frequencies,and Shifting"
   ]
  },
  {
   "cell_type": "markdown",
   "id": "51aa463f",
   "metadata": {},
   "source": [
    "#### Generating Date Ranges"
   ]
  },
  {
   "cell_type": "markdown",
   "id": "003c1527",
   "metadata": {},
   "source": [
    "\\begin{itemize}\n",
    "    \\itempd.date_range()\n",
    "\\end{itemize}"
   ]
  },
  {
   "cell_type": "markdown",
   "id": "95fbe17a",
   "metadata": {},
   "source": [
    "freq常用的参数   \n",
    "\n",
    "|Arguments|Description|\n",
    "|---|---|\n",
    "|D|Calendar daily\n",
    "|B|Business daily\n",
    "|H|Hourly \n",
    "|min|Minutely \n",
    "|S|Secondly \n",
    "|--------|-----------------------------------------------------------------------------------------------|\n",
    "|W-MON|Weekly on given day of week(MON,TUE,WED,THU,FRI,SAT,SUN)\n",
    "|WOM-1MON|Week of Month\n",
    "|--------|-----------------------------------------------------------------------------------------------|\n",
    "|M|Last calendar day of month\n",
    "|MS|First calendar day of month\n",
    "|BM|Last business day of month\n",
    "|BMS|Last business day of month\n",
    "|--------|-----------------------------------------------------------------------------------------------|\n",
    "|Q-JAN|Quarterly dates anchored on the last calendar day of each month,for year ending in indicated month\n",
    "|QS-JAN|\n",
    "|BQ-JAN|business\n",
    "|BQS-JAN|business\n",
    "|--------|-----------------------------------------------------------------------------------------------|\n",
    "|A-JAN|Annual Dated anchored on last weekday of given month\n",
    "|AS-JAN|YearBegin\n",
    "|BA-JAN|\n",
    "|BAS-JAN|"
   ]
  },
  {
   "cell_type": "code",
   "execution_count": 27,
   "id": "b7da0f41",
   "metadata": {
    "ExecuteTime": {
     "end_time": "2022-10-08T10:23:07.297494Z",
     "start_time": "2022-10-08T10:23:07.285712Z"
    }
   },
   "outputs": [
    {
     "data": {
      "text/plain": [
       "DatetimeIndex(['2012-04-01', '2012-04-02', '2012-04-03', '2012-04-04',\n",
       "               '2012-04-05', '2012-04-06', '2012-04-07', '2012-04-08',\n",
       "               '2012-04-09', '2012-04-10', '2012-04-11', '2012-04-12',\n",
       "               '2012-04-13', '2012-04-14', '2012-04-15', '2012-04-16',\n",
       "               '2012-04-17', '2012-04-18', '2012-04-19', '2012-04-20',\n",
       "               '2012-04-21', '2012-04-22', '2012-04-23', '2012-04-24',\n",
       "               '2012-04-25', '2012-04-26', '2012-04-27', '2012-04-28',\n",
       "               '2012-04-29', '2012-04-30', '2012-05-01', '2012-05-02',\n",
       "               '2012-05-03', '2012-05-04', '2012-05-05', '2012-05-06',\n",
       "               '2012-05-07', '2012-05-08', '2012-05-09', '2012-05-10',\n",
       "               '2012-05-11', '2012-05-12', '2012-05-13', '2012-05-14',\n",
       "               '2012-05-15', '2012-05-16', '2012-05-17', '2012-05-18',\n",
       "               '2012-05-19', '2012-05-20', '2012-05-21', '2012-05-22',\n",
       "               '2012-05-23', '2012-05-24', '2012-05-25', '2012-05-26',\n",
       "               '2012-05-27', '2012-05-28', '2012-05-29', '2012-05-30',\n",
       "               '2012-05-31', '2012-06-01'],\n",
       "              dtype='datetime64[ns]', freq='D')"
      ]
     },
     "execution_count": 27,
     "metadata": {},
     "output_type": "execute_result"
    }
   ],
   "source": [
    "pd.date_range('2012-04-01','2012-06-01')"
   ]
  },
  {
   "cell_type": "code",
   "execution_count": 28,
   "id": "b19d0e46",
   "metadata": {
    "ExecuteTime": {
     "end_time": "2022-10-08T10:23:07.618822Z",
     "start_time": "2022-10-08T10:23:07.606664Z"
    }
   },
   "outputs": [
    {
     "data": {
      "text/plain": [
       "DatetimeIndex(['2012-04-01', '2012-04-02', '2012-04-03', '2012-04-04',\n",
       "               '2012-04-05', '2012-04-06', '2012-04-07', '2012-04-08',\n",
       "               '2012-04-09', '2012-04-10', '2012-04-11', '2012-04-12',\n",
       "               '2012-04-13', '2012-04-14', '2012-04-15', '2012-04-16',\n",
       "               '2012-04-17', '2012-04-18', '2012-04-19', '2012-04-20'],\n",
       "              dtype='datetime64[ns]', freq='D')"
      ]
     },
     "execution_count": 28,
     "metadata": {},
     "output_type": "execute_result"
    }
   ],
   "source": [
    "pd.date_range('2012-04-01',periods=20)"
   ]
  },
  {
   "cell_type": "code",
   "execution_count": 29,
   "id": "619596c3",
   "metadata": {
    "ExecuteTime": {
     "end_time": "2022-10-08T10:23:07.808266Z",
     "start_time": "2022-10-08T10:23:07.796450Z"
    }
   },
   "outputs": [
    {
     "data": {
      "text/plain": [
       "DatetimeIndex(['2000-03-31', '2000-06-30', '2000-09-30'], dtype='datetime64[ns]', freq='Q-DEC')"
      ]
     },
     "execution_count": 29,
     "metadata": {},
     "output_type": "execute_result"
    }
   ],
   "source": [
    "pd.date_range('2000-01-01','2000-12-01',freq='Q')"
   ]
  },
  {
   "cell_type": "code",
   "execution_count": 30,
   "id": "fd30ce64",
   "metadata": {
    "ExecuteTime": {
     "end_time": "2022-10-08T10:23:07.987677Z",
     "start_time": "2022-10-08T10:23:07.974020Z"
    }
   },
   "outputs": [
    {
     "data": {
      "text/plain": [
       "DatetimeIndex(['2000-01-01 00:00:00', '2000-01-01 01:30:00',\n",
       "               '2000-01-01 03:00:00', '2000-01-01 04:30:00',\n",
       "               '2000-01-01 06:00:00', '2000-01-01 07:30:00',\n",
       "               '2000-01-01 09:00:00', '2000-01-01 10:30:00',\n",
       "               '2000-01-01 12:00:00', '2000-01-01 13:30:00',\n",
       "               ...\n",
       "               '2000-11-30 10:30:00', '2000-11-30 12:00:00',\n",
       "               '2000-11-30 13:30:00', '2000-11-30 15:00:00',\n",
       "               '2000-11-30 16:30:00', '2000-11-30 18:00:00',\n",
       "               '2000-11-30 19:30:00', '2000-11-30 21:00:00',\n",
       "               '2000-11-30 22:30:00', '2000-12-01 00:00:00'],\n",
       "              dtype='datetime64[ns]', length=5361, freq='90T')"
      ]
     },
     "execution_count": 30,
     "metadata": {},
     "output_type": "execute_result"
    }
   ],
   "source": [
    "pd.date_range('2000-01-01','2000-12-01',freq='4h')\n",
    "pd.date_range('2000-01-01','2000-12-01',freq='1h30min')"
   ]
  },
  {
   "cell_type": "code",
   "execution_count": 31,
   "id": "3d58c2fa",
   "metadata": {
    "ExecuteTime": {
     "end_time": "2022-10-08T10:23:08.178844Z",
     "start_time": "2022-10-08T10:23:08.160812Z"
    }
   },
   "outputs": [
    {
     "data": {
      "text/plain": [
       "DatetimeIndex(['2000-01-21', '2000-02-18', '2000-03-17', '2000-04-21',\n",
       "               '2000-05-19', '2000-06-16', '2000-07-21', '2000-08-18',\n",
       "               '2000-09-15', '2000-10-20', '2000-11-17'],\n",
       "              dtype='datetime64[ns]', freq='WOM-3FRI')"
      ]
     },
     "execution_count": 31,
     "metadata": {},
     "output_type": "execute_result"
    }
   ],
   "source": [
    "pd.date_range('2000-01-01','2000-12-01',freq='WOM-3FRI')"
   ]
  },
  {
   "cell_type": "markdown",
   "id": "7877f4b6",
   "metadata": {},
   "source": [
    "#### Shifting (Leading and Lagging) Data"
   ]
  },
  {
   "cell_type": "code",
   "execution_count": 32,
   "id": "c2b0658a",
   "metadata": {
    "ExecuteTime": {
     "end_time": "2022-10-08T10:23:08.575717Z",
     "start_time": "2022-10-08T10:23:08.567519Z"
    }
   },
   "outputs": [],
   "source": [
    "ts = pd.Series(np.random.randn(8),\n",
    "               index=pd.date_range('2000-01-01',periods=8,freq='M'))"
   ]
  },
  {
   "cell_type": "code",
   "execution_count": 33,
   "id": "e2f11e55",
   "metadata": {
    "ExecuteTime": {
     "end_time": "2022-10-08T10:23:08.765651Z",
     "start_time": "2022-10-08T10:23:08.754108Z"
    }
   },
   "outputs": [
    {
     "data": {
      "text/plain": [
       "2000-01-31   -3.066760\n",
       "2000-02-29    0.611878\n",
       "2000-03-31    0.432855\n",
       "2000-04-30    1.160919\n",
       "2000-05-31    0.248552\n",
       "2000-06-30    1.086567\n",
       "2000-07-31   -0.048295\n",
       "2000-08-31   -1.765511\n",
       "Freq: M, dtype: float64"
      ]
     },
     "execution_count": 33,
     "metadata": {},
     "output_type": "execute_result"
    }
   ],
   "source": [
    "ts"
   ]
  },
  {
   "cell_type": "code",
   "execution_count": 34,
   "id": "cea190b6",
   "metadata": {
    "ExecuteTime": {
     "end_time": "2022-10-08T10:23:08.957511Z",
     "start_time": "2022-10-08T10:23:08.944093Z"
    }
   },
   "outputs": [
    {
     "data": {
      "text/plain": [
       "2000-01-31         NaN\n",
       "2000-02-29         NaN\n",
       "2000-03-31   -3.066760\n",
       "2000-04-30    0.611878\n",
       "2000-05-31    0.432855\n",
       "2000-06-30    1.160919\n",
       "2000-07-31    0.248552\n",
       "2000-08-31    1.086567\n",
       "Freq: M, dtype: float64"
      ]
     },
     "execution_count": 34,
     "metadata": {},
     "output_type": "execute_result"
    }
   ],
   "source": [
    "ts.shift(2)"
   ]
  },
  {
   "cell_type": "code",
   "execution_count": 35,
   "id": "4333e498",
   "metadata": {
    "ExecuteTime": {
     "end_time": "2022-10-08T10:23:09.150895Z",
     "start_time": "2022-10-08T10:23:09.137796Z"
    }
   },
   "outputs": [
    {
     "data": {
      "text/plain": [
       "2000-01-31    0.432855\n",
       "2000-02-29    1.160919\n",
       "2000-03-31    0.248552\n",
       "2000-04-30    1.086567\n",
       "2000-05-31   -0.048295\n",
       "2000-06-30   -1.765511\n",
       "2000-07-31         NaN\n",
       "2000-08-31         NaN\n",
       "Freq: M, dtype: float64"
      ]
     },
     "execution_count": 35,
     "metadata": {},
     "output_type": "execute_result"
    }
   ],
   "source": [
    "ts.shift(-2)"
   ]
  },
  {
   "cell_type": "code",
   "execution_count": 36,
   "id": "0dbf4c5b",
   "metadata": {
    "ExecuteTime": {
     "end_time": "2022-10-08T10:23:09.338177Z",
     "start_time": "2022-10-08T10:23:09.319103Z"
    }
   },
   "outputs": [
    {
     "data": {
      "text/html": [
       "<div>\n",
       "<style scoped>\n",
       "    .dataframe tbody tr th:only-of-type {\n",
       "        vertical-align: middle;\n",
       "    }\n",
       "\n",
       "    .dataframe tbody tr th {\n",
       "        vertical-align: top;\n",
       "    }\n",
       "\n",
       "    .dataframe thead th {\n",
       "        text-align: right;\n",
       "    }\n",
       "</style>\n",
       "<table border=\"1\" class=\"dataframe\">\n",
       "  <thead>\n",
       "    <tr style=\"text-align: right;\">\n",
       "      <th></th>\n",
       "      <th>0</th>\n",
       "      <th>1</th>\n",
       "    </tr>\n",
       "  </thead>\n",
       "  <tbody>\n",
       "    <tr>\n",
       "      <th>2000-01-31</th>\n",
       "      <td>-3.066760</td>\n",
       "      <td>NaN</td>\n",
       "    </tr>\n",
       "    <tr>\n",
       "      <th>2000-02-29</th>\n",
       "      <td>0.611878</td>\n",
       "      <td>NaN</td>\n",
       "    </tr>\n",
       "    <tr>\n",
       "      <th>2000-03-31</th>\n",
       "      <td>0.432855</td>\n",
       "      <td>-3.066760</td>\n",
       "    </tr>\n",
       "    <tr>\n",
       "      <th>2000-04-30</th>\n",
       "      <td>1.160919</td>\n",
       "      <td>0.611878</td>\n",
       "    </tr>\n",
       "    <tr>\n",
       "      <th>2000-05-31</th>\n",
       "      <td>0.248552</td>\n",
       "      <td>0.432855</td>\n",
       "    </tr>\n",
       "    <tr>\n",
       "      <th>2000-06-30</th>\n",
       "      <td>1.086567</td>\n",
       "      <td>1.160919</td>\n",
       "    </tr>\n",
       "    <tr>\n",
       "      <th>2000-07-31</th>\n",
       "      <td>-0.048295</td>\n",
       "      <td>0.248552</td>\n",
       "    </tr>\n",
       "    <tr>\n",
       "      <th>2000-08-31</th>\n",
       "      <td>-1.765511</td>\n",
       "      <td>1.086567</td>\n",
       "    </tr>\n",
       "  </tbody>\n",
       "</table>\n",
       "</div>"
      ],
      "text/plain": [
       "                   0         1\n",
       "2000-01-31 -3.066760       NaN\n",
       "2000-02-29  0.611878       NaN\n",
       "2000-03-31  0.432855 -3.066760\n",
       "2000-04-30  1.160919  0.611878\n",
       "2000-05-31  0.248552  0.432855\n",
       "2000-06-30  1.086567  1.160919\n",
       "2000-07-31 -0.048295  0.248552\n",
       "2000-08-31 -1.765511  1.086567"
      ]
     },
     "execution_count": 36,
     "metadata": {},
     "output_type": "execute_result"
    }
   ],
   "source": [
    "pd.concat([ts,ts.shift(2)],axis=1)\n",
    "# pd.concat([ts,ts.shift(2)],axis=1).dropna()"
   ]
  },
  {
   "cell_type": "markdown",
   "id": "8ba38ca9",
   "metadata": {},
   "source": [
    "## periods and Period Arithmetic"
   ]
  },
  {
   "cell_type": "code",
   "execution_count": 37,
   "id": "d5b50299",
   "metadata": {
    "ExecuteTime": {
     "end_time": "2022-10-08T10:23:09.702371Z",
     "start_time": "2022-10-08T10:23:09.691191Z"
    }
   },
   "outputs": [
    {
     "data": {
      "text/plain": [
       "Period('2007', 'A-DEC')"
      ]
     },
     "execution_count": 37,
     "metadata": {},
     "output_type": "execute_result"
    }
   ],
   "source": [
    "p = pd.Period(2007, freq='A-DEC')\n",
    "p"
   ]
  },
  {
   "cell_type": "code",
   "execution_count": 38,
   "id": "934fa209",
   "metadata": {
    "ExecuteTime": {
     "end_time": "2022-10-08T10:23:09.882708Z",
     "start_time": "2022-10-08T10:23:09.870929Z"
    }
   },
   "outputs": [
    {
     "data": {
      "text/plain": [
       "Period('2009', 'A-DEC')"
      ]
     },
     "execution_count": 38,
     "metadata": {},
     "output_type": "execute_result"
    }
   ],
   "source": [
    "p+2"
   ]
  },
  {
   "cell_type": "code",
   "execution_count": 39,
   "id": "a0eee345",
   "metadata": {
    "ExecuteTime": {
     "end_time": "2022-10-08T10:23:10.092858Z",
     "start_time": "2022-10-08T10:23:10.082590Z"
    }
   },
   "outputs": [
    {
     "data": {
      "text/plain": [
       "PeriodIndex(['2000-01', '2000-02', '2000-03', '2000-04', '2000-05', '2000-06'], dtype='period[M]')"
      ]
     },
     "execution_count": 39,
     "metadata": {},
     "output_type": "execute_result"
    }
   ],
   "source": [
    "rng = pd.period_range('2000-01-01','2000-06-30',freq='M')\n",
    "rng"
   ]
  },
  {
   "cell_type": "code",
   "execution_count": 40,
   "id": "ae70a3ac",
   "metadata": {
    "ExecuteTime": {
     "end_time": "2022-10-08T10:23:10.280155Z",
     "start_time": "2022-10-08T10:23:10.269142Z"
    }
   },
   "outputs": [
    {
     "data": {
      "text/plain": [
       "2000-01    0.150722\n",
       "2000-02   -0.871952\n",
       "2000-03    1.895842\n",
       "2000-04    0.371955\n",
       "2000-05    0.181509\n",
       "2000-06   -0.058981\n",
       "Freq: M, dtype: float64"
      ]
     },
     "execution_count": 40,
     "metadata": {},
     "output_type": "execute_result"
    }
   ],
   "source": [
    "pd.Series(np.random.randn(6),index=rng)"
   ]
  },
  {
   "cell_type": "code",
   "execution_count": 41,
   "id": "e24f606e",
   "metadata": {
    "ExecuteTime": {
     "end_time": "2022-10-08T10:23:10.465136Z",
     "start_time": "2022-10-08T10:23:10.452738Z"
    }
   },
   "outputs": [
    {
     "data": {
      "text/plain": [
       "PeriodIndex(['2001Q3', '2001Q2', '2001Q1'], dtype='period[Q-DEC]')"
      ]
     },
     "execution_count": 41,
     "metadata": {},
     "output_type": "execute_result"
    }
   ],
   "source": [
    "values = ['2001Q3', '2001Q2', '2001Q1']\n",
    "index = pd.PeriodIndex(values,freq='Q-DEC')\n",
    "index"
   ]
  },
  {
   "cell_type": "markdown",
   "id": "d60c0f29",
   "metadata": {},
   "source": [
    "### Period Frequency Conversion"
   ]
  },
  {
   "cell_type": "markdown",
   "id": "5d23bf52",
   "metadata": {},
   "source": [
    "一个例子"
   ]
  },
  {
   "cell_type": "code",
   "execution_count": 42,
   "id": "f695df58",
   "metadata": {
    "ExecuteTime": {
     "end_time": "2022-10-08T10:23:11.376982Z",
     "start_time": "2022-10-08T10:23:11.030887Z"
    }
   },
   "outputs": [
    {
     "ename": "NameError",
     "evalue": "name 'wd' is not defined",
     "output_type": "error",
     "traceback": [
      "\u001b[0;31m---------------------------------------------------------------------------\u001b[0m",
      "\u001b[0;31mNameError\u001b[0m                                 Traceback (most recent call last)",
      "Input \u001b[0;32mIn [42]\u001b[0m, in \u001b[0;36m<cell line: 1>\u001b[0;34m()\u001b[0m\n\u001b[0;32m----> 1\u001b[0m data \u001b[38;5;241m=\u001b[39m pd\u001b[38;5;241m.\u001b[39mread_csv(\u001b[43mwd\u001b[49m\u001b[38;5;241m+\u001b[39m\u001b[38;5;124m'\u001b[39m\u001b[38;5;124m//pydata-book//examples//macrodata.csv\u001b[39m\u001b[38;5;124m'\u001b[39m)\n\u001b[1;32m      2\u001b[0m data\n",
      "\u001b[0;31mNameError\u001b[0m: name 'wd' is not defined"
     ]
    }
   ],
   "source": [
    "data = pd.read_csv(wd+'//pydata-book//examples//macrodata.csv')\n",
    "data"
   ]
  },
  {
   "cell_type": "code",
   "execution_count": null,
   "id": "e8d24894",
   "metadata": {
    "ExecuteTime": {
     "end_time": "2022-10-08T10:23:11.380248Z",
     "start_time": "2022-10-08T10:23:11.380240Z"
    }
   },
   "outputs": [],
   "source": [
    "index =pd.PeriodIndex(year=data.year,quarter=data.quarter,freq='Q-DEC')\n",
    "data.index = index\n",
    "data"
   ]
  },
  {
   "cell_type": "code",
   "execution_count": null,
   "id": "d99a74df",
   "metadata": {},
   "outputs": [],
   "source": []
  },
  {
   "cell_type": "markdown",
   "id": "a2ff89b6",
   "metadata": {},
   "source": [
    "## Resampling and Frequency Conversion"
   ]
  },
  {
   "cell_type": "markdown",
   "id": "7b3acb95",
   "metadata": {},
   "source": [
    "### Resample"
   ]
  },
  {
   "cell_type": "markdown",
   "id": "4fb2c854",
   "metadata": {},
   "source": [
    "\\begin{itemize}\n",
    "\\item Resample与groupby类似\n",
    "\\end{itemize}\n"
   ]
  },
  {
   "cell_type": "code",
   "execution_count": 43,
   "id": "e77d9815",
   "metadata": {
    "ExecuteTime": {
     "end_time": "2022-10-08T10:23:12.142932Z",
     "start_time": "2022-10-08T10:23:12.132459Z"
    }
   },
   "outputs": [],
   "source": [
    "rng = pd.date_range('2000-01-01',periods=300,freq='D')\n",
    "ts = pd.Series(np.random.randn(len(rng)),index=rng)\n",
    "df = pd.DataFrame(np.random.randn(len(rng),3),index=rng)"
   ]
  },
  {
   "cell_type": "code",
   "execution_count": 44,
   "id": "6aab34a2",
   "metadata": {
    "ExecuteTime": {
     "end_time": "2022-10-08T10:23:12.342282Z",
     "start_time": "2022-10-08T10:23:12.330349Z"
    }
   },
   "outputs": [
    {
     "data": {
      "text/plain": [
       "2000-01-01   -1.232679\n",
       "2000-01-02   -1.316837\n",
       "2000-01-03   -0.498254\n",
       "2000-01-04   -0.561934\n",
       "2000-01-05    0.854752\n",
       "                ...   \n",
       "2000-10-22    0.435132\n",
       "2000-10-23   -0.598874\n",
       "2000-10-24    0.351440\n",
       "2000-10-25    2.257321\n",
       "2000-10-26    1.901338\n",
       "Freq: D, Length: 300, dtype: float64"
      ]
     },
     "execution_count": 44,
     "metadata": {},
     "output_type": "execute_result"
    }
   ],
   "source": [
    "ts"
   ]
  },
  {
   "cell_type": "code",
   "execution_count": 45,
   "id": "a299b213",
   "metadata": {
    "ExecuteTime": {
     "end_time": "2022-10-08T10:23:12.540222Z",
     "start_time": "2022-10-08T10:23:12.516145Z"
    }
   },
   "outputs": [
    {
     "data": {
      "text/plain": [
       "2000-01-31    0.241480\n",
       "2000-02-29    0.082188\n",
       "2000-03-31    0.117602\n",
       "2000-04-30   -0.247452\n",
       "2000-05-31   -0.199804\n",
       "2000-06-30   -0.283468\n",
       "2000-07-31   -0.415088\n",
       "2000-08-31    0.210128\n",
       "2000-09-30    0.132158\n",
       "2000-10-31    0.171281\n",
       "Freq: M, dtype: float64"
      ]
     },
     "execution_count": 45,
     "metadata": {},
     "output_type": "execute_result"
    }
   ],
   "source": [
    "ts.resample('M').apply(lambda x:x.mean()) "
   ]
  },
  {
   "cell_type": "code",
   "execution_count": 46,
   "id": "90686040",
   "metadata": {
    "ExecuteTime": {
     "end_time": "2022-10-08T10:23:12.785280Z",
     "start_time": "2022-10-08T10:23:12.760373Z"
    }
   },
   "outputs": [
    {
     "data": {
      "text/html": [
       "<div>\n",
       "<style scoped>\n",
       "    .dataframe tbody tr th:only-of-type {\n",
       "        vertical-align: middle;\n",
       "    }\n",
       "\n",
       "    .dataframe tbody tr th {\n",
       "        vertical-align: top;\n",
       "    }\n",
       "\n",
       "    .dataframe thead th {\n",
       "        text-align: right;\n",
       "    }\n",
       "</style>\n",
       "<table border=\"1\" class=\"dataframe\">\n",
       "  <thead>\n",
       "    <tr style=\"text-align: right;\">\n",
       "      <th></th>\n",
       "      <th>open</th>\n",
       "      <th>high</th>\n",
       "      <th>low</th>\n",
       "      <th>close</th>\n",
       "    </tr>\n",
       "  </thead>\n",
       "  <tbody>\n",
       "    <tr>\n",
       "      <th>2000-01-31</th>\n",
       "      <td>-1.232679</td>\n",
       "      <td>2.484016</td>\n",
       "      <td>-2.452750</td>\n",
       "      <td>-0.177620</td>\n",
       "    </tr>\n",
       "    <tr>\n",
       "      <th>2000-02-29</th>\n",
       "      <td>0.432341</td>\n",
       "      <td>1.426834</td>\n",
       "      <td>-2.659651</td>\n",
       "      <td>0.241377</td>\n",
       "    </tr>\n",
       "    <tr>\n",
       "      <th>2000-03-31</th>\n",
       "      <td>-0.822272</td>\n",
       "      <td>1.719188</td>\n",
       "      <td>-2.399626</td>\n",
       "      <td>1.536209</td>\n",
       "    </tr>\n",
       "    <tr>\n",
       "      <th>2000-04-30</th>\n",
       "      <td>-0.169842</td>\n",
       "      <td>2.069539</td>\n",
       "      <td>-3.253711</td>\n",
       "      <td>-0.501503</td>\n",
       "    </tr>\n",
       "    <tr>\n",
       "      <th>2000-05-31</th>\n",
       "      <td>-0.163808</td>\n",
       "      <td>2.162724</td>\n",
       "      <td>-2.569932</td>\n",
       "      <td>1.077663</td>\n",
       "    </tr>\n",
       "    <tr>\n",
       "      <th>2000-06-30</th>\n",
       "      <td>-0.487612</td>\n",
       "      <td>2.804687</td>\n",
       "      <td>-1.770620</td>\n",
       "      <td>0.898140</td>\n",
       "    </tr>\n",
       "    <tr>\n",
       "      <th>2000-07-31</th>\n",
       "      <td>0.223486</td>\n",
       "      <td>1.687753</td>\n",
       "      <td>-3.698087</td>\n",
       "      <td>-0.377327</td>\n",
       "    </tr>\n",
       "    <tr>\n",
       "      <th>2000-08-31</th>\n",
       "      <td>-0.365808</td>\n",
       "      <td>1.861726</td>\n",
       "      <td>-1.392064</td>\n",
       "      <td>-0.144205</td>\n",
       "    </tr>\n",
       "    <tr>\n",
       "      <th>2000-09-30</th>\n",
       "      <td>0.811664</td>\n",
       "      <td>1.724974</td>\n",
       "      <td>-1.932099</td>\n",
       "      <td>0.146607</td>\n",
       "    </tr>\n",
       "    <tr>\n",
       "      <th>2000-10-31</th>\n",
       "      <td>-0.114004</td>\n",
       "      <td>2.257321</td>\n",
       "      <td>-1.632933</td>\n",
       "      <td>1.901338</td>\n",
       "    </tr>\n",
       "  </tbody>\n",
       "</table>\n",
       "</div>"
      ],
      "text/plain": [
       "                open      high       low     close\n",
       "2000-01-31 -1.232679  2.484016 -2.452750 -0.177620\n",
       "2000-02-29  0.432341  1.426834 -2.659651  0.241377\n",
       "2000-03-31 -0.822272  1.719188 -2.399626  1.536209\n",
       "2000-04-30 -0.169842  2.069539 -3.253711 -0.501503\n",
       "2000-05-31 -0.163808  2.162724 -2.569932  1.077663\n",
       "2000-06-30 -0.487612  2.804687 -1.770620  0.898140\n",
       "2000-07-31  0.223486  1.687753 -3.698087 -0.377327\n",
       "2000-08-31 -0.365808  1.861726 -1.392064 -0.144205\n",
       "2000-09-30  0.811664  1.724974 -1.932099  0.146607\n",
       "2000-10-31 -0.114004  2.257321 -1.632933  1.901338"
      ]
     },
     "execution_count": 46,
     "metadata": {},
     "output_type": "execute_result"
    }
   ],
   "source": [
    "ts.resample('M').ohlc()"
   ]
  },
  {
   "cell_type": "code",
   "execution_count": 47,
   "id": "c80a96e4",
   "metadata": {
    "ExecuteTime": {
     "end_time": "2022-10-08T10:23:12.962710Z",
     "start_time": "2022-10-08T10:23:12.935983Z"
    }
   },
   "outputs": [
    {
     "data": {
      "text/html": [
       "<div>\n",
       "<style scoped>\n",
       "    .dataframe tbody tr th:only-of-type {\n",
       "        vertical-align: middle;\n",
       "    }\n",
       "\n",
       "    .dataframe tbody tr th {\n",
       "        vertical-align: top;\n",
       "    }\n",
       "\n",
       "    .dataframe thead th {\n",
       "        text-align: right;\n",
       "    }\n",
       "</style>\n",
       "<table border=\"1\" class=\"dataframe\">\n",
       "  <thead>\n",
       "    <tr style=\"text-align: right;\">\n",
       "      <th></th>\n",
       "      <th>0</th>\n",
       "      <th>1</th>\n",
       "      <th>2</th>\n",
       "    </tr>\n",
       "  </thead>\n",
       "  <tbody>\n",
       "    <tr>\n",
       "      <th>1999-12-17</th>\n",
       "      <td>0.088369</td>\n",
       "      <td>-0.480482</td>\n",
       "      <td>-0.119894</td>\n",
       "    </tr>\n",
       "    <tr>\n",
       "      <th>2000-01-21</th>\n",
       "      <td>0.025456</td>\n",
       "      <td>-0.024559</td>\n",
       "      <td>0.065928</td>\n",
       "    </tr>\n",
       "    <tr>\n",
       "      <th>2000-02-18</th>\n",
       "      <td>-0.202020</td>\n",
       "      <td>-0.119354</td>\n",
       "      <td>0.225212</td>\n",
       "    </tr>\n",
       "    <tr>\n",
       "      <th>2000-03-17</th>\n",
       "      <td>-0.412436</td>\n",
       "      <td>0.116556</td>\n",
       "      <td>0.077412</td>\n",
       "    </tr>\n",
       "    <tr>\n",
       "      <th>2000-04-21</th>\n",
       "      <td>-0.113501</td>\n",
       "      <td>0.271748</td>\n",
       "      <td>0.022574</td>\n",
       "    </tr>\n",
       "    <tr>\n",
       "      <th>2000-05-19</th>\n",
       "      <td>-0.077492</td>\n",
       "      <td>-0.131117</td>\n",
       "      <td>-0.109322</td>\n",
       "    </tr>\n",
       "    <tr>\n",
       "      <th>2000-06-16</th>\n",
       "      <td>-0.044951</td>\n",
       "      <td>0.092002</td>\n",
       "      <td>0.283052</td>\n",
       "    </tr>\n",
       "    <tr>\n",
       "      <th>2000-07-21</th>\n",
       "      <td>0.334919</td>\n",
       "      <td>-0.025624</td>\n",
       "      <td>-0.268753</td>\n",
       "    </tr>\n",
       "    <tr>\n",
       "      <th>2000-08-18</th>\n",
       "      <td>-0.042219</td>\n",
       "      <td>-0.148987</td>\n",
       "      <td>0.162796</td>\n",
       "    </tr>\n",
       "    <tr>\n",
       "      <th>2000-09-15</th>\n",
       "      <td>-0.082354</td>\n",
       "      <td>0.521307</td>\n",
       "      <td>-0.049944</td>\n",
       "    </tr>\n",
       "    <tr>\n",
       "      <th>2000-10-20</th>\n",
       "      <td>0.089347</td>\n",
       "      <td>0.182003</td>\n",
       "      <td>-0.797847</td>\n",
       "    </tr>\n",
       "  </tbody>\n",
       "</table>\n",
       "</div>"
      ],
      "text/plain": [
       "                   0         1         2\n",
       "1999-12-17  0.088369 -0.480482 -0.119894\n",
       "2000-01-21  0.025456 -0.024559  0.065928\n",
       "2000-02-18 -0.202020 -0.119354  0.225212\n",
       "2000-03-17 -0.412436  0.116556  0.077412\n",
       "2000-04-21 -0.113501  0.271748  0.022574\n",
       "2000-05-19 -0.077492 -0.131117 -0.109322\n",
       "2000-06-16 -0.044951  0.092002  0.283052\n",
       "2000-07-21  0.334919 -0.025624 -0.268753\n",
       "2000-08-18 -0.042219 -0.148987  0.162796\n",
       "2000-09-15 -0.082354  0.521307 -0.049944\n",
       "2000-10-20  0.089347  0.182003 -0.797847"
      ]
     },
     "execution_count": 47,
     "metadata": {},
     "output_type": "execute_result"
    }
   ],
   "source": [
    "df.resample('WOM-3FRI').mean()"
   ]
  },
  {
   "cell_type": "code",
   "execution_count": 48,
   "id": "aea1c43f",
   "metadata": {
    "ExecuteTime": {
     "end_time": "2022-10-08T10:23:13.175038Z",
     "start_time": "2022-10-08T10:23:13.126517Z"
    }
   },
   "outputs": [
    {
     "name": "stdout",
     "output_type": "stream",
     "text": [
      "2000-01-01    1.550969\n",
      "2000-01-02   -0.162380\n",
      "2000-01-03    0.321459\n",
      "2000-01-04   -0.022757\n",
      "2000-01-05   -0.887864\n",
      "2000-01-06   -1.050213\n",
      "2000-01-07    0.162142\n",
      "2000-01-08    2.330733\n",
      "2000-01-09   -0.360497\n",
      "2000-01-10    0.855686\n",
      "2000-01-11    0.135640\n",
      "2000-01-12    0.267897\n",
      "2000-01-13   -0.484204\n",
      "2000-01-14   -0.865481\n",
      "2000-01-15   -0.585308\n",
      "2000-01-16    0.561106\n",
      "2000-01-17    0.264953\n",
      "2000-01-18   -1.742867\n",
      "2000-01-19    2.411252\n",
      "2000-01-20   -0.932889\n",
      "2000-01-21    0.387369\n",
      "2000-01-22    0.233668\n",
      "2000-01-23    0.501367\n",
      "2000-01-24    0.872562\n",
      "2000-01-25   -0.966574\n",
      "2000-01-26    0.327692\n",
      "2000-01-27    1.215181\n",
      "2000-01-28   -0.731952\n",
      "2000-01-29    0.442485\n",
      "2000-01-30   -0.809680\n",
      "2000-01-31   -0.119651\n",
      "Freq: D, Name: 0, dtype: float64\n",
      "2000-02-01   -0.203243\n",
      "2000-02-02    1.109499\n",
      "2000-02-03    0.548701\n",
      "2000-02-04   -1.002687\n",
      "2000-02-05   -0.759814\n",
      "2000-02-06    0.818830\n",
      "2000-02-07   -1.754595\n",
      "2000-02-08    1.387735\n",
      "2000-02-09   -0.225155\n",
      "2000-02-10   -0.153798\n",
      "2000-02-11   -0.967457\n",
      "2000-02-12   -1.236170\n",
      "2000-02-13   -0.163685\n",
      "2000-02-14    0.536723\n",
      "2000-02-15    1.382452\n",
      "2000-02-16    0.211047\n",
      "2000-02-17   -0.168087\n",
      "2000-02-18    1.432771\n",
      "2000-02-19   -0.764808\n",
      "2000-02-20    0.102888\n",
      "2000-02-21   -0.798880\n",
      "2000-02-22    0.019583\n",
      "2000-02-23   -0.502895\n",
      "2000-02-24   -0.843609\n",
      "2000-02-25   -0.698009\n",
      "2000-02-26    0.052302\n",
      "2000-02-27    0.293042\n",
      "2000-02-28    0.167993\n",
      "2000-02-29    1.816862\n",
      "Freq: D, Name: 0, dtype: float64\n",
      "2000-03-01   -0.003543\n",
      "2000-03-02   -0.069134\n",
      "2000-03-03   -0.554553\n",
      "2000-03-04    0.560947\n",
      "2000-03-05   -0.921278\n",
      "2000-03-06   -0.013324\n",
      "2000-03-07   -0.931231\n",
      "2000-03-08   -1.353511\n",
      "2000-03-09   -1.920801\n",
      "2000-03-10    1.208201\n",
      "2000-03-11   -0.963987\n",
      "2000-03-12    0.102852\n",
      "2000-03-13   -0.763594\n",
      "2000-03-14    0.900351\n",
      "2000-03-15   -0.688186\n",
      "2000-03-16   -0.523019\n",
      "2000-03-17   -0.606731\n",
      "2000-03-18    1.245722\n",
      "2000-03-19   -0.399980\n",
      "2000-03-20   -1.202036\n",
      "2000-03-21   -0.211060\n",
      "2000-03-22    0.050776\n",
      "2000-03-23    0.399456\n",
      "2000-03-24   -0.472341\n",
      "2000-03-25   -1.222121\n",
      "2000-03-26   -1.272591\n",
      "2000-03-27    0.749448\n",
      "2000-03-28    1.477350\n",
      "2000-03-29   -0.391844\n",
      "2000-03-30   -1.844615\n",
      "2000-03-31   -2.066536\n",
      "Freq: D, Name: 0, dtype: float64\n",
      "2000-04-01   -2.304706\n",
      "2000-04-02   -0.012850\n",
      "2000-04-03    0.372591\n",
      "2000-04-04   -0.395123\n",
      "2000-04-05    0.047826\n",
      "2000-04-06   -1.738068\n",
      "2000-04-07   -1.242855\n",
      "2000-04-08    0.516051\n",
      "2000-04-09    0.156528\n",
      "2000-04-10   -1.429746\n",
      "2000-04-11   -0.690010\n",
      "2000-04-12   -0.228941\n",
      "2000-04-13   -0.184634\n",
      "2000-04-14    0.209972\n",
      "2000-04-15   -1.237792\n",
      "2000-04-16   -0.216222\n",
      "2000-04-17    1.593761\n",
      "2000-04-18   -1.210120\n",
      "2000-04-19    0.175270\n",
      "2000-04-20   -0.849079\n",
      "2000-04-21   -1.372845\n",
      "2000-04-22   -0.732440\n",
      "2000-04-23    1.519475\n",
      "2000-04-24    0.730797\n",
      "2000-04-25   -0.954272\n",
      "2000-04-26   -0.935313\n",
      "2000-04-27   -0.591297\n",
      "2000-04-28    1.315386\n",
      "2000-04-29    0.201237\n",
      "2000-04-30   -0.842202\n",
      "Freq: D, Name: 0, dtype: float64\n",
      "2000-05-01    1.233123\n",
      "2000-05-02    0.021053\n",
      "2000-05-03   -0.595828\n",
      "2000-05-04   -0.616276\n",
      "2000-05-05   -1.234271\n",
      "2000-05-06    0.422054\n",
      "2000-05-07   -0.530972\n",
      "2000-05-08    0.358727\n",
      "2000-05-09    0.557782\n",
      "2000-05-10    1.089759\n",
      "2000-05-11   -0.002989\n",
      "2000-05-12   -0.710658\n",
      "2000-05-13   -0.321507\n",
      "2000-05-14   -1.708214\n",
      "2000-05-15    0.275148\n",
      "2000-05-16   -0.011215\n",
      "2000-05-17   -0.063339\n",
      "2000-05-18    0.321072\n",
      "2000-05-19    2.172235\n",
      "2000-05-20    0.090111\n",
      "2000-05-21   -0.769170\n",
      "2000-05-22    0.090713\n",
      "2000-05-23   -0.779554\n",
      "2000-05-24    0.267500\n",
      "2000-05-25    0.103168\n",
      "2000-05-26   -0.414170\n",
      "2000-05-27    0.854813\n",
      "2000-05-28   -1.180996\n",
      "2000-05-29   -0.674625\n",
      "2000-05-30    0.314533\n",
      "2000-05-31   -0.382172\n",
      "Freq: D, Name: 0, dtype: float64\n",
      "2000-06-01    0.154321\n",
      "2000-06-02    0.037297\n",
      "2000-06-03   -0.820201\n",
      "2000-06-04   -0.434769\n",
      "2000-06-05   -2.481626\n",
      "2000-06-06   -0.489566\n",
      "2000-06-07   -0.264957\n",
      "2000-06-08   -0.601622\n",
      "2000-06-09   -1.492029\n",
      "2000-06-10    0.901510\n",
      "2000-06-11    0.034695\n",
      "2000-06-12    1.282926\n",
      "2000-06-13    1.260079\n",
      "2000-06-14    1.367457\n",
      "2000-06-15   -0.315680\n",
      "2000-06-16    0.920964\n",
      "2000-06-17   -1.723276\n",
      "2000-06-18   -0.763871\n",
      "2000-06-19   -2.257537\n",
      "2000-06-20    0.474350\n",
      "2000-06-21   -0.754602\n",
      "2000-06-22   -0.230991\n",
      "2000-06-23    1.165344\n",
      "2000-06-24    0.005454\n",
      "2000-06-25   -0.933390\n",
      "2000-06-26    0.691788\n",
      "2000-06-27    1.015322\n",
      "2000-06-28   -1.337003\n",
      "2000-06-29    0.918498\n",
      "2000-06-30    1.796573\n",
      "Freq: D, Name: 0, dtype: float64\n",
      "2000-07-01   -0.252779\n",
      "2000-07-02    0.291588\n",
      "2000-07-03   -1.483917\n",
      "2000-07-04    0.957620\n",
      "2000-07-05    1.261999\n",
      "2000-07-06    0.971877\n",
      "2000-07-07    1.202641\n",
      "2000-07-08    0.463413\n",
      "2000-07-09   -1.294614\n",
      "2000-07-10   -0.389423\n",
      "2000-07-11   -0.436662\n",
      "2000-07-12    0.614969\n",
      "2000-07-13   -1.931632\n",
      "2000-07-14   -0.543995\n",
      "2000-07-15    0.490242\n",
      "2000-07-16   -0.506811\n",
      "2000-07-17    1.519927\n",
      "2000-07-18   -0.539245\n",
      "2000-07-19   -1.236395\n",
      "2000-07-20    0.280304\n",
      "2000-07-21   -0.125091\n",
      "2000-07-22    1.744898\n",
      "2000-07-23   -0.929614\n",
      "2000-07-24   -0.968756\n",
      "2000-07-25    0.709051\n",
      "2000-07-26    1.477265\n",
      "2000-07-27    0.518810\n",
      "2000-07-28   -1.641935\n",
      "2000-07-29    1.663179\n",
      "2000-07-30    2.407356\n",
      "2000-07-31   -0.369579\n",
      "Freq: D, Name: 0, dtype: float64\n",
      "2000-08-01    0.855663\n",
      "2000-08-02    1.773871\n",
      "2000-08-03   -0.200416\n",
      "2000-08-04    1.219630\n",
      "2000-08-05    0.419646\n",
      "2000-08-06   -1.490310\n",
      "2000-08-07   -0.237330\n",
      "2000-08-08    1.663592\n",
      "2000-08-09    1.893493\n",
      "2000-08-10    2.244088\n",
      "2000-08-11    0.133471\n",
      "2000-08-12   -3.117312\n",
      "2000-08-13    0.045017\n",
      "2000-08-14   -1.133318\n",
      "2000-08-15   -0.269451\n",
      "2000-08-16    0.775248\n",
      "2000-08-17    0.316563\n",
      "2000-08-18   -0.372494\n",
      "2000-08-19   -0.334273\n",
      "2000-08-20    0.181581\n",
      "2000-08-21   -0.104643\n",
      "2000-08-22   -1.574835\n",
      "2000-08-23   -0.816117\n",
      "2000-08-24    1.112714\n",
      "2000-08-25    1.376631\n",
      "2000-08-26   -0.522206\n",
      "2000-08-27   -1.303034\n",
      "2000-08-28   -0.523591\n",
      "2000-08-29   -2.328691\n",
      "2000-08-30    0.211162\n",
      "2000-08-31    1.163651\n",
      "Freq: D, Name: 0, dtype: float64\n",
      "2000-09-01   -1.940750\n",
      "2000-09-02    0.549464\n",
      "2000-09-03    0.621677\n",
      "2000-09-04    0.967270\n",
      "2000-09-05    0.954588\n",
      "2000-09-06   -0.909773\n",
      "2000-09-07   -1.801700\n",
      "2000-09-08    0.662204\n",
      "2000-09-09   -0.019407\n",
      "2000-09-10    1.435362\n",
      "2000-09-11    1.839258\n",
      "2000-09-12   -0.002850\n",
      "2000-09-13    0.157076\n",
      "2000-09-14    0.139603\n",
      "2000-09-15   -1.275234\n",
      "2000-09-16   -0.344390\n",
      "2000-09-17   -1.211004\n",
      "2000-09-18    1.736082\n",
      "2000-09-19    0.176102\n",
      "2000-09-20    0.014711\n",
      "2000-09-21   -0.854695\n",
      "2000-09-22   -1.135805\n",
      "2000-09-23   -3.307196\n",
      "2000-09-24    1.636843\n",
      "2000-09-25   -0.258975\n",
      "2000-09-26   -0.951024\n",
      "2000-09-27    0.342634\n",
      "2000-09-28    0.426003\n",
      "2000-09-29    1.686491\n",
      "2000-09-30   -0.797995\n",
      "Freq: D, Name: 0, dtype: float64\n",
      "2000-10-01   -0.219063\n",
      "2000-10-02   -1.162831\n",
      "2000-10-03   -0.387169\n",
      "2000-10-04   -0.201567\n",
      "2000-10-05    0.879040\n",
      "2000-10-06    0.313909\n",
      "2000-10-07   -2.219884\n",
      "2000-10-08   -0.777836\n",
      "2000-10-09    0.103842\n",
      "2000-10-10   -0.104168\n",
      "2000-10-11   -1.592124\n",
      "2000-10-12    1.014800\n",
      "2000-10-13   -0.199304\n",
      "2000-10-14    1.229351\n",
      "2000-10-15   -1.294978\n",
      "2000-10-16    1.885405\n",
      "2000-10-17    2.040442\n",
      "2000-10-18    0.736352\n",
      "2000-10-19    1.190846\n",
      "2000-10-20    0.792887\n",
      "2000-10-21    0.242974\n",
      "2000-10-22   -0.218333\n",
      "2000-10-23   -1.594295\n",
      "2000-10-24    1.096702\n",
      "2000-10-25    1.631711\n",
      "2000-10-26   -1.326219\n",
      "Freq: D, Name: 0, dtype: float64\n",
      "2000-01-01   -0.556456\n",
      "2000-01-02    1.128727\n",
      "2000-01-03   -0.405147\n",
      "2000-01-04    0.624146\n",
      "2000-01-05    0.833114\n",
      "2000-01-06   -1.518854\n",
      "2000-01-07   -0.306656\n",
      "2000-01-08   -0.163129\n",
      "2000-01-09    0.415608\n",
      "2000-01-10   -0.312988\n",
      "2000-01-11    1.931058\n",
      "2000-01-12   -2.108123\n",
      "2000-01-13   -1.811555\n",
      "2000-01-14   -0.949659\n",
      "2000-01-15   -1.324602\n",
      "2000-01-16   -0.568777\n",
      "2000-01-17   -0.078364\n",
      "2000-01-18   -1.849731\n",
      "2000-01-19   -1.691736\n",
      "2000-01-20   -0.896507\n",
      "2000-01-21    0.386577\n",
      "2000-01-22    0.828681\n",
      "2000-01-23    1.351899\n",
      "2000-01-24    0.247849\n",
      "2000-01-25   -1.213675\n",
      "2000-01-26   -2.598305\n",
      "2000-01-27    0.342476\n",
      "2000-01-28   -0.494955\n",
      "2000-01-29    0.398743\n",
      "2000-01-30    0.115355\n",
      "2000-01-31   -0.269919\n",
      "Freq: D, Name: 1, dtype: float64\n",
      "2000-02-01   -1.841017\n",
      "2000-02-02    1.417152\n",
      "2000-02-03    0.291826\n",
      "2000-02-04    1.058707\n",
      "2000-02-05    0.376787\n",
      "2000-02-06   -0.223544\n",
      "2000-02-07    1.143812\n",
      "2000-02-08    0.193262\n",
      "2000-02-09   -1.291262\n",
      "2000-02-10    1.692477\n",
      "2000-02-11   -0.998274\n",
      "2000-02-12   -0.191126\n",
      "2000-02-13   -0.677122\n",
      "2000-02-14    0.333167\n",
      "2000-02-15   -0.730083\n",
      "2000-02-16    0.131016\n",
      "2000-02-17   -0.468158\n",
      "2000-02-18    0.971901\n",
      "2000-02-19   -1.399002\n",
      "2000-02-20   -0.119072\n",
      "2000-02-21   -0.257569\n",
      "2000-02-22    0.052768\n",
      "2000-02-23   -0.196561\n",
      "2000-02-24    0.393524\n",
      "2000-02-25   -1.249775\n",
      "2000-02-26    1.381819\n",
      "2000-02-27   -0.151381\n",
      "2000-02-28    0.633121\n",
      "2000-02-29   -1.324129\n",
      "Freq: D, Name: 1, dtype: float64\n",
      "2000-03-01   -1.144185\n",
      "2000-03-02    1.907217\n",
      "2000-03-03   -3.054295\n",
      "2000-03-04    0.581531\n",
      "2000-03-05   -0.145663\n",
      "2000-03-06   -0.749658\n",
      "2000-03-07    0.067359\n",
      "2000-03-08   -0.458672\n",
      "2000-03-09   -0.213972\n",
      "2000-03-10    0.800976\n",
      "2000-03-11    0.924118\n",
      "2000-03-12    0.672674\n",
      "2000-03-13    0.646202\n",
      "2000-03-14   -2.510615\n",
      "2000-03-15   -0.395172\n",
      "2000-03-16    0.994590\n",
      "2000-03-17    0.457349\n",
      "2000-03-18   -0.988485\n",
      "2000-03-19   -0.084539\n",
      "2000-03-20    0.107958\n",
      "2000-03-21    0.291989\n",
      "2000-03-22   -0.184161\n",
      "2000-03-23    1.917739\n",
      "2000-03-24   -0.028232\n",
      "2000-03-25   -0.945462\n",
      "2000-03-26    1.342983\n",
      "2000-03-27    0.947477\n",
      "2000-03-28   -1.088318\n",
      "2000-03-29   -0.589979\n",
      "2000-03-30    0.425157\n",
      "2000-03-31    0.978969\n",
      "Freq: D, Name: 1, dtype: float64\n",
      "2000-04-01    1.751162\n",
      "2000-04-02   -0.967729\n",
      "2000-04-03    0.345791\n",
      "2000-04-04    1.988167\n",
      "2000-04-05    1.636394\n",
      "2000-04-06   -1.129160\n",
      "2000-04-07   -2.802654\n",
      "2000-04-08    1.032088\n",
      "2000-04-09   -0.169188\n",
      "2000-04-10   -1.265678\n",
      "2000-04-11    0.769573\n",
      "2000-04-12   -1.123603\n",
      "2000-04-13    0.729457\n",
      "2000-04-14    0.655482\n",
      "2000-04-15    1.208698\n",
      "2000-04-16   -0.764390\n",
      "2000-04-17    0.780834\n",
      "2000-04-18   -0.237735\n",
      "2000-04-19    0.603868\n",
      "2000-04-20   -1.522372\n",
      "2000-04-21    0.776797\n",
      "2000-04-22    1.831586\n",
      "2000-04-23    0.883777\n",
      "2000-04-24    0.561853\n",
      "2000-04-25   -0.812889\n",
      "2000-04-26    1.034298\n",
      "2000-04-27    0.215657\n",
      "2000-04-28    0.477081\n",
      "2000-04-29   -0.373958\n",
      "2000-04-30   -1.692503\n",
      "Freq: D, Name: 1, dtype: float64\n",
      "2000-05-01   -0.251859\n",
      "2000-05-02    0.959433\n",
      "2000-05-03   -0.041694\n",
      "2000-05-04   -0.782106\n",
      "2000-05-05    0.996261\n",
      "2000-05-06    0.843750\n",
      "2000-05-07   -1.841510\n",
      "2000-05-08   -0.012747\n",
      "2000-05-09    0.727377\n",
      "2000-05-10    0.301189\n",
      "2000-05-11    1.491730\n",
      "2000-05-12    2.000242\n",
      "2000-05-13   -1.004114\n",
      "2000-05-14   -1.572980\n",
      "2000-05-15   -0.482629\n",
      "2000-05-16    1.206032\n",
      "2000-05-17    0.690140\n",
      "2000-05-18    1.480740\n",
      "2000-05-19    1.048379\n",
      "2000-05-20   -0.387043\n",
      "2000-05-21    0.322139\n",
      "2000-05-22   -1.435096\n",
      "2000-05-23   -0.662213\n",
      "2000-05-24    0.710101\n",
      "2000-05-25   -0.508514\n",
      "2000-05-26    0.271597\n",
      "2000-05-27   -0.663991\n",
      "2000-05-28    0.276760\n",
      "2000-05-29    0.461260\n",
      "2000-05-30   -1.756953\n",
      "2000-05-31   -0.283399\n",
      "Freq: D, Name: 1, dtype: float64\n",
      "2000-06-01    0.754935\n",
      "2000-06-02   -1.424629\n",
      "2000-06-03    0.568766\n",
      "2000-06-04   -0.690290\n",
      "2000-06-05   -0.093754\n",
      "2000-06-06   -0.628035\n",
      "2000-06-07   -0.009881\n",
      "2000-06-08    1.610108\n",
      "2000-06-09   -0.174130\n",
      "2000-06-10   -0.546006\n",
      "2000-06-11    0.651037\n",
      "2000-06-12    0.380688\n",
      "2000-06-13   -0.141983\n",
      "2000-06-14   -1.712057\n",
      "2000-06-15    0.390943\n",
      "2000-06-16   -0.509206\n",
      "2000-06-17   -0.031323\n",
      "2000-06-18    0.529556\n",
      "2000-06-19   -1.039778\n",
      "2000-06-20    0.600488\n",
      "2000-06-21    0.715318\n",
      "2000-06-22   -1.540444\n",
      "2000-06-23    0.088807\n",
      "2000-06-24    2.022535\n",
      "2000-06-25   -0.208644\n",
      "2000-06-26   -0.289711\n",
      "2000-06-27   -1.021274\n",
      "2000-06-28    0.096168\n",
      "2000-06-29    0.797835\n",
      "2000-06-30    1.043253\n",
      "Freq: D, Name: 1, dtype: float64\n",
      "2000-07-01   -0.518037\n",
      "2000-07-02    1.809302\n",
      "2000-07-03   -0.851574\n",
      "2000-07-04   -1.367576\n",
      "2000-07-05    1.709294\n",
      "2000-07-06    0.020661\n",
      "2000-07-07   -0.337644\n",
      "2000-07-08    1.065235\n",
      "2000-07-09    0.256493\n",
      "2000-07-10   -0.769474\n",
      "2000-07-11   -1.587610\n",
      "2000-07-12    1.890893\n",
      "2000-07-13    0.640221\n",
      "2000-07-14   -0.299430\n",
      "2000-07-15    0.994781\n",
      "2000-07-16   -0.323579\n",
      "2000-07-17    0.210170\n",
      "2000-07-18    0.180136\n",
      "2000-07-19   -1.193752\n",
      "2000-07-20    0.437977\n",
      "2000-07-21    0.973071\n",
      "2000-07-22   -1.724301\n",
      "2000-07-23   -1.178936\n",
      "2000-07-24   -0.515046\n",
      "2000-07-25   -1.371704\n",
      "2000-07-26   -0.609255\n",
      "2000-07-27    1.830466\n",
      "2000-07-28    0.911738\n",
      "2000-07-29    0.123993\n",
      "2000-07-30    1.066023\n",
      "2000-07-31    0.535396\n",
      "Freq: D, Name: 1, dtype: float64\n",
      "2000-08-01    0.809977\n",
      "2000-08-02    0.042757\n",
      "2000-08-03   -0.267916\n",
      "2000-08-04    1.302139\n",
      "2000-08-05    0.321853\n",
      "2000-08-06    0.333416\n",
      "2000-08-07   -1.075240\n",
      "2000-08-08   -0.362926\n",
      "2000-08-09   -1.032273\n",
      "2000-08-10   -0.360692\n",
      "2000-08-11   -0.242499\n",
      "2000-08-12    0.080996\n",
      "2000-08-13   -0.842436\n",
      "2000-08-14    1.789623\n",
      "2000-08-15    0.258236\n",
      "2000-08-16   -0.645002\n",
      "2000-08-17   -0.868922\n",
      "2000-08-18   -0.838301\n",
      "2000-08-19    0.351694\n",
      "2000-08-20   -0.557010\n",
      "2000-08-21   -1.538339\n",
      "2000-08-22    0.241966\n",
      "2000-08-23   -2.088159\n",
      "2000-08-24    0.162457\n",
      "2000-08-25   -1.309073\n",
      "2000-08-26    1.690829\n",
      "2000-08-27   -0.740149\n",
      "2000-08-28   -0.021756\n",
      "2000-08-29    0.065112\n",
      "2000-08-30    0.261025\n",
      "2000-08-31   -1.850899\n",
      "Freq: D, Name: 1, dtype: float64\n",
      "2000-09-01    0.570820\n",
      "2000-09-02   -0.162734\n",
      "2000-09-03    0.000236\n",
      "2000-09-04   -0.047531\n",
      "2000-09-05    0.262013\n",
      "2000-09-06   -0.962103\n",
      "2000-09-07    0.412941\n",
      "2000-09-08    0.457070\n",
      "2000-09-09   -0.246692\n",
      "2000-09-10    0.677887\n",
      "2000-09-11    0.568088\n",
      "2000-09-12    1.499787\n",
      "2000-09-13    0.055975\n",
      "2000-09-14   -1.086781\n",
      "2000-09-15    1.381077\n",
      "2000-09-16   -0.006532\n",
      "2000-09-17   -0.452674\n",
      "2000-09-18    0.105932\n",
      "2000-09-19    1.419809\n",
      "2000-09-20    0.889646\n",
      "2000-09-21   -0.083513\n",
      "2000-09-22   -0.386223\n",
      "2000-09-23    1.121027\n",
      "2000-09-24    0.190683\n",
      "2000-09-25    0.875522\n",
      "2000-09-26   -0.461563\n",
      "2000-09-27    0.996846\n",
      "2000-09-28    1.268816\n",
      "2000-09-29   -0.402246\n",
      "2000-09-30    2.130263\n",
      "Freq: D, Name: 1, dtype: float64\n",
      "2000-10-01    0.421579\n",
      "2000-10-02    0.520437\n",
      "2000-10-03    0.321681\n",
      "2000-10-04   -0.291791\n",
      "2000-10-05   -0.346319\n",
      "2000-10-06    0.308824\n",
      "2000-10-07    0.095856\n",
      "2000-10-08    0.766218\n",
      "2000-10-09    0.153602\n",
      "2000-10-10    1.407763\n",
      "2000-10-11   -0.547736\n",
      "2000-10-12    0.280519\n",
      "2000-10-13    1.698304\n",
      "2000-10-14    0.789964\n",
      "2000-10-15    0.109738\n",
      "2000-10-16   -0.053505\n",
      "2000-10-17    2.717445\n",
      "2000-10-18   -0.038356\n",
      "2000-10-19    1.344667\n",
      "2000-10-20   -0.310569\n",
      "2000-10-21    0.130034\n",
      "2000-10-22    1.020881\n",
      "2000-10-23   -0.432250\n",
      "2000-10-24   -0.914353\n",
      "2000-10-25    0.440303\n",
      "2000-10-26    1.339976\n",
      "Freq: D, Name: 1, dtype: float64\n",
      "2000-01-01   -2.131077\n",
      "2000-01-02    0.865318\n",
      "2000-01-03    1.011039\n",
      "2000-01-04    0.689358\n",
      "2000-01-05   -0.036754\n",
      "2000-01-06    0.310953\n",
      "2000-01-07   -1.418023\n",
      "2000-01-08   -0.826723\n",
      "2000-01-09    1.825254\n",
      "2000-01-10   -0.558832\n",
      "2000-01-11   -0.184005\n",
      "2000-01-12    1.262526\n",
      "2000-01-13    0.032634\n",
      "2000-01-14   -0.378195\n",
      "2000-01-15   -0.489163\n",
      "2000-01-16    0.319693\n",
      "2000-01-17   -0.108895\n",
      "2000-01-18    0.220403\n",
      "2000-01-19   -0.754587\n",
      "2000-01-20   -2.048795\n",
      "2000-01-21    0.519018\n",
      "2000-01-22   -0.579629\n",
      "2000-01-23    1.638947\n",
      "2000-01-24   -0.036478\n",
      "2000-01-25   -0.817431\n",
      "2000-01-26   -1.164715\n",
      "2000-01-27   -0.102418\n",
      "2000-01-28   -0.154439\n",
      "2000-01-29   -0.367802\n",
      "2000-01-30   -0.319306\n",
      "2000-01-31   -1.160639\n",
      "Freq: D, Name: 2, dtype: float64\n",
      "2000-02-01   -0.801163\n",
      "2000-02-02    0.978656\n",
      "2000-02-03   -0.148204\n",
      "2000-02-04    0.751379\n",
      "2000-02-05   -0.165396\n",
      "2000-02-06    1.227361\n",
      "2000-02-07   -0.676802\n",
      "2000-02-08   -1.719196\n",
      "2000-02-09   -0.468107\n",
      "2000-02-10    0.678585\n",
      "2000-02-11   -0.838060\n",
      "2000-02-12    0.228140\n",
      "2000-02-13   -0.731226\n",
      "2000-02-14   -0.489806\n",
      "2000-02-15    2.545298\n",
      "2000-02-16    1.585282\n",
      "2000-02-17    2.434129\n",
      "2000-02-18    1.524035\n",
      "2000-02-19    0.115272\n",
      "2000-02-20    0.151528\n",
      "2000-02-21    0.139656\n",
      "2000-02-22   -0.401764\n",
      "2000-02-23    0.317834\n",
      "2000-02-24    1.753058\n",
      "2000-02-25    2.346026\n",
      "2000-02-26    1.069150\n",
      "2000-02-27   -0.399364\n",
      "2000-02-28    0.391049\n",
      "2000-02-29   -0.394583\n",
      "Freq: D, Name: 2, dtype: float64\n",
      "2000-03-01    1.318735\n",
      "2000-03-02   -1.637247\n",
      "2000-03-03   -0.005303\n",
      "2000-03-04    1.175563\n",
      "2000-03-05   -0.980674\n",
      "2000-03-06    0.063625\n",
      "2000-03-07   -1.272699\n",
      "2000-03-08    0.120271\n",
      "2000-03-09   -0.235887\n",
      "2000-03-10   -0.740137\n",
      "2000-03-11    1.617644\n",
      "2000-03-12   -2.729773\n",
      "2000-03-13    1.366160\n",
      "2000-03-14    0.224131\n",
      "2000-03-15    0.724897\n",
      "2000-03-16    0.684720\n",
      "2000-03-17   -0.409746\n",
      "2000-03-18    0.930762\n",
      "2000-03-19   -1.320954\n",
      "2000-03-20   -1.597050\n",
      "2000-03-21   -0.344239\n",
      "2000-03-22    1.419290\n",
      "2000-03-23    1.513596\n",
      "2000-03-24    1.540272\n",
      "2000-03-25    0.582813\n",
      "2000-03-26   -0.833633\n",
      "2000-03-27    0.151653\n",
      "2000-03-28   -0.542364\n",
      "2000-03-29    0.425652\n",
      "2000-03-30   -1.382317\n",
      "2000-03-31   -0.967071\n",
      "Freq: D, Name: 2, dtype: float64\n",
      "2000-04-01    0.602810\n",
      "2000-04-02   -0.903125\n",
      "2000-04-03    0.689312\n",
      "2000-04-04    0.639631\n",
      "2000-04-05    0.658314\n",
      "2000-04-06    0.484843\n",
      "2000-04-07   -1.165056\n",
      "2000-04-08   -0.574568\n",
      "2000-04-09   -0.822494\n",
      "2000-04-10    0.115157\n",
      "2000-04-11    1.850189\n",
      "2000-04-12   -0.263856\n",
      "2000-04-13    0.211108\n",
      "2000-04-14   -0.552558\n",
      "2000-04-15   -0.406158\n",
      "2000-04-16    0.187468\n",
      "2000-04-17    1.223486\n",
      "2000-04-18   -0.667306\n",
      "2000-04-19    0.994078\n",
      "2000-04-20    1.241498\n",
      "2000-04-21    1.102820\n",
      "2000-04-22   -0.788573\n",
      "2000-04-23    0.580326\n",
      "2000-04-24    0.075247\n",
      "2000-04-25   -0.770979\n",
      "2000-04-26    0.771462\n",
      "2000-04-27   -0.048316\n",
      "2000-04-28   -0.286782\n",
      "2000-04-29    0.557714\n",
      "2000-04-30   -1.484057\n",
      "Freq: D, Name: 2, dtype: float64\n",
      "2000-05-01    1.681489\n",
      "2000-05-02    1.138601\n",
      "2000-05-03   -1.549100\n",
      "2000-05-04    1.663975\n",
      "2000-05-05   -0.736052\n",
      "2000-05-06   -0.215646\n",
      "2000-05-07   -0.294470\n",
      "2000-05-08   -0.959435\n",
      "2000-05-09    0.929792\n",
      "2000-05-10   -1.438987\n",
      "2000-05-11    0.188772\n",
      "2000-05-12    0.793423\n",
      "2000-05-13   -1.515610\n",
      "2000-05-14   -1.863446\n",
      "2000-05-15    1.889767\n",
      "2000-05-16   -0.556039\n",
      "2000-05-17    1.900261\n",
      "2000-05-18   -0.134079\n",
      "2000-05-19   -0.233711\n",
      "2000-05-20   -0.337462\n",
      "2000-05-21    0.665589\n",
      "2000-05-22    2.011911\n",
      "2000-05-23    0.877580\n",
      "2000-05-24   -1.122834\n",
      "2000-05-25   -1.824855\n",
      "2000-05-26   -1.539615\n",
      "2000-05-27   -0.599111\n",
      "2000-05-28    0.695910\n",
      "2000-05-29    0.423970\n",
      "2000-05-30    0.522597\n",
      "2000-05-31    0.181191\n",
      "Freq: D, Name: 2, dtype: float64\n",
      "2000-06-01   -0.731830\n",
      "2000-06-02    0.973992\n",
      "2000-06-03   -0.881962\n",
      "2000-06-04   -0.469448\n",
      "2000-06-05   -0.107107\n",
      "2000-06-06   -0.408602\n",
      "2000-06-07   -0.618430\n",
      "2000-06-08   -1.094701\n",
      "2000-06-09    0.867503\n",
      "2000-06-10   -1.440256\n",
      "2000-06-11    1.346087\n",
      "2000-06-12    0.391327\n",
      "2000-06-13   -0.091704\n",
      "2000-06-14   -0.720753\n",
      "2000-06-15    0.203716\n",
      "2000-06-16   -0.481624\n",
      "2000-06-17    1.149842\n",
      "2000-06-18   -0.463240\n",
      "2000-06-19   -0.061798\n",
      "2000-06-20   -0.533229\n",
      "2000-06-21    0.133080\n",
      "2000-06-22   -0.007234\n",
      "2000-06-23   -1.070061\n",
      "2000-06-24    0.553954\n",
      "2000-06-25    2.226429\n",
      "2000-06-26    1.814161\n",
      "2000-06-27   -0.824883\n",
      "2000-06-28   -1.207037\n",
      "2000-06-29   -0.222802\n",
      "2000-06-30    1.198290\n",
      "Freq: D, Name: 2, dtype: float64\n",
      "2000-07-01   -0.175120\n",
      "2000-07-02    0.623793\n",
      "2000-07-03   -0.922656\n",
      "2000-07-04   -0.470216\n",
      "2000-07-05    0.589840\n",
      "2000-07-06    0.910321\n",
      "2000-07-07    0.181203\n",
      "2000-07-08    1.226716\n",
      "2000-07-09   -0.338733\n",
      "2000-07-10    1.454080\n",
      "2000-07-11   -0.647356\n",
      "2000-07-12    1.965573\n",
      "2000-07-13   -0.325130\n",
      "2000-07-14   -0.135247\n",
      "2000-07-15    2.261706\n",
      "2000-07-16    0.125998\n",
      "2000-07-17    0.294996\n",
      "2000-07-18    1.456541\n",
      "2000-07-19   -0.447012\n",
      "2000-07-20    0.073689\n",
      "2000-07-21   -0.377303\n",
      "2000-07-22   -1.306824\n",
      "2000-07-23   -0.120476\n",
      "2000-07-24   -1.001023\n",
      "2000-07-25   -0.927631\n",
      "2000-07-26    0.885393\n",
      "2000-07-27    1.765355\n",
      "2000-07-28   -0.038831\n",
      "2000-07-29    0.089462\n",
      "2000-07-30    0.532205\n",
      "2000-07-31    1.196398\n",
      "Freq: D, Name: 2, dtype: float64\n",
      "2000-08-01   -1.834309\n",
      "2000-08-02   -0.191531\n",
      "2000-08-03   -0.146838\n",
      "2000-08-04   -0.891570\n",
      "2000-08-05    0.240472\n",
      "2000-08-06   -1.911359\n",
      "2000-08-07    0.391047\n",
      "2000-08-08   -0.740510\n",
      "2000-08-09   -0.123792\n",
      "2000-08-10    0.041605\n",
      "2000-08-11   -1.366944\n",
      "2000-08-12    1.234784\n",
      "2000-08-13   -1.413258\n",
      "2000-08-14   -0.174351\n",
      "2000-08-15    0.414329\n",
      "2000-08-16   -0.763056\n",
      "2000-08-17   -0.986525\n",
      "2000-08-18   -0.281392\n",
      "2000-08-19   -0.372207\n",
      "2000-08-20   -0.631779\n",
      "2000-08-21    1.186227\n",
      "2000-08-22   -0.466110\n",
      "2000-08-23    0.910935\n",
      "2000-08-24   -0.114662\n",
      "2000-08-25   -0.063378\n",
      "2000-08-26    0.482101\n",
      "2000-08-27    1.241028\n",
      "2000-08-28    0.839131\n",
      "2000-08-29    1.577725\n",
      "2000-08-30    0.816963\n",
      "2000-08-31   -1.116024\n",
      "Freq: D, Name: 2, dtype: float64\n",
      "2000-09-01   -0.174765\n",
      "2000-09-02    0.442807\n",
      "2000-09-03   -1.072535\n",
      "2000-09-04    0.030959\n",
      "2000-09-05   -0.431801\n",
      "2000-09-06   -0.950399\n",
      "2000-09-07    0.824218\n",
      "2000-09-08    0.507169\n",
      "2000-09-09    0.420793\n",
      "2000-09-10   -0.507460\n",
      "2000-09-11   -0.954410\n",
      "2000-09-12    1.509210\n",
      "2000-09-13    0.533000\n",
      "2000-09-14    0.372934\n",
      "2000-09-15   -1.078230\n",
      "2000-09-16   -0.166219\n",
      "2000-09-17   -0.170660\n",
      "2000-09-18   -1.569718\n",
      "2000-09-19   -0.777020\n",
      "2000-09-20    0.186834\n",
      "2000-09-21   -1.334558\n",
      "2000-09-22    1.160523\n",
      "2000-09-23    1.426906\n",
      "2000-09-24    1.385907\n",
      "2000-09-25   -1.157242\n",
      "2000-09-26    0.461316\n",
      "2000-09-27   -0.774462\n",
      "2000-09-28    2.359873\n",
      "2000-09-29   -0.013898\n",
      "2000-09-30    0.639139\n",
      "Freq: D, Name: 2, dtype: float64\n",
      "2000-10-01   -0.150947\n",
      "2000-10-02    0.207697\n",
      "2000-10-03   -0.038724\n",
      "2000-10-04   -0.393226\n",
      "2000-10-05    0.423374\n",
      "2000-10-06    0.922357\n",
      "2000-10-07   -0.140053\n",
      "2000-10-08   -1.304297\n",
      "2000-10-09    0.277843\n",
      "2000-10-10   -1.951762\n",
      "2000-10-11   -1.285135\n",
      "2000-10-12    0.788947\n",
      "2000-10-13   -0.115789\n",
      "2000-10-14   -0.086255\n",
      "2000-10-15    0.061218\n",
      "2000-10-16   -1.233554\n",
      "2000-10-17   -1.076827\n",
      "2000-10-18    1.561697\n",
      "2000-10-19    1.206902\n",
      "2000-10-20   -0.805398\n",
      "2000-10-21   -1.549025\n",
      "2000-10-22   -1.948560\n",
      "2000-10-23    0.294452\n",
      "2000-10-24   -1.080341\n",
      "2000-10-25   -0.138904\n",
      "2000-10-26   -0.357150\n",
      "Freq: D, Name: 2, dtype: float64\n"
     ]
    },
    {
     "data": {
      "text/html": [
       "<div>\n",
       "<style scoped>\n",
       "    .dataframe tbody tr th:only-of-type {\n",
       "        vertical-align: middle;\n",
       "    }\n",
       "\n",
       "    .dataframe tbody tr th {\n",
       "        vertical-align: top;\n",
       "    }\n",
       "\n",
       "    .dataframe thead th {\n",
       "        text-align: right;\n",
       "    }\n",
       "</style>\n",
       "<table border=\"1\" class=\"dataframe\">\n",
       "  <thead>\n",
       "    <tr style=\"text-align: right;\">\n",
       "      <th></th>\n",
       "      <th>0</th>\n",
       "      <th>1</th>\n",
       "      <th>2</th>\n",
       "    </tr>\n",
       "  </thead>\n",
       "  <tbody>\n",
       "    <tr>\n",
       "      <th>2000-01-31</th>\n",
       "      <td>None</td>\n",
       "      <td>None</td>\n",
       "      <td>None</td>\n",
       "    </tr>\n",
       "    <tr>\n",
       "      <th>2000-02-29</th>\n",
       "      <td>None</td>\n",
       "      <td>None</td>\n",
       "      <td>None</td>\n",
       "    </tr>\n",
       "    <tr>\n",
       "      <th>2000-03-31</th>\n",
       "      <td>None</td>\n",
       "      <td>None</td>\n",
       "      <td>None</td>\n",
       "    </tr>\n",
       "    <tr>\n",
       "      <th>2000-04-30</th>\n",
       "      <td>None</td>\n",
       "      <td>None</td>\n",
       "      <td>None</td>\n",
       "    </tr>\n",
       "    <tr>\n",
       "      <th>2000-05-31</th>\n",
       "      <td>None</td>\n",
       "      <td>None</td>\n",
       "      <td>None</td>\n",
       "    </tr>\n",
       "    <tr>\n",
       "      <th>2000-06-30</th>\n",
       "      <td>None</td>\n",
       "      <td>None</td>\n",
       "      <td>None</td>\n",
       "    </tr>\n",
       "    <tr>\n",
       "      <th>2000-07-31</th>\n",
       "      <td>None</td>\n",
       "      <td>None</td>\n",
       "      <td>None</td>\n",
       "    </tr>\n",
       "    <tr>\n",
       "      <th>2000-08-31</th>\n",
       "      <td>None</td>\n",
       "      <td>None</td>\n",
       "      <td>None</td>\n",
       "    </tr>\n",
       "    <tr>\n",
       "      <th>2000-09-30</th>\n",
       "      <td>None</td>\n",
       "      <td>None</td>\n",
       "      <td>None</td>\n",
       "    </tr>\n",
       "    <tr>\n",
       "      <th>2000-10-31</th>\n",
       "      <td>None</td>\n",
       "      <td>None</td>\n",
       "      <td>None</td>\n",
       "    </tr>\n",
       "  </tbody>\n",
       "</table>\n",
       "</div>"
      ],
      "text/plain": [
       "               0     1     2\n",
       "2000-01-31  None  None  None\n",
       "2000-02-29  None  None  None\n",
       "2000-03-31  None  None  None\n",
       "2000-04-30  None  None  None\n",
       "2000-05-31  None  None  None\n",
       "2000-06-30  None  None  None\n",
       "2000-07-31  None  None  None\n",
       "2000-08-31  None  None  None\n",
       "2000-09-30  None  None  None\n",
       "2000-10-31  None  None  None"
      ]
     },
     "execution_count": 48,
     "metadata": {},
     "output_type": "execute_result"
    }
   ],
   "source": [
    "#观察对于DataFrame是如何切片的，与groupby不同了\n",
    "df.resample('M').apply(lambda x:print(x))"
   ]
  },
  {
   "cell_type": "markdown",
   "id": "480442e9",
   "metadata": {},
   "source": [
    "## Moving Window Functions"
   ]
  },
  {
   "cell_type": "code",
   "execution_count": 49,
   "id": "547329a4",
   "metadata": {
    "ExecuteTime": {
     "end_time": "2022-10-08T10:23:13.483163Z",
     "start_time": "2022-10-08T10:23:13.451592Z"
    }
   },
   "outputs": [
    {
     "ename": "NameError",
     "evalue": "name 'wd' is not defined",
     "output_type": "error",
     "traceback": [
      "\u001b[0;31m---------------------------------------------------------------------------\u001b[0m",
      "\u001b[0;31mNameError\u001b[0m                                 Traceback (most recent call last)",
      "Input \u001b[0;32mIn [49]\u001b[0m, in \u001b[0;36m<cell line: 1>\u001b[0;34m()\u001b[0m\n\u001b[0;32m----> 1\u001b[0m close_px_all \u001b[38;5;241m=\u001b[39m pd\u001b[38;5;241m.\u001b[39mread_csv(\u001b[43mwd\u001b[49m\u001b[38;5;241m+\u001b[39m\u001b[38;5;124m'\u001b[39m\u001b[38;5;124m//pydata-book//examples//stock_px_2.csv\u001b[39m\u001b[38;5;124m'\u001b[39m,parse_dates\u001b[38;5;241m=\u001b[39m\u001b[38;5;28;01mTrue\u001b[39;00m,index_col\u001b[38;5;241m=\u001b[39m\u001b[38;5;241m0\u001b[39m)\n\u001b[1;32m      2\u001b[0m close_px \u001b[38;5;241m=\u001b[39m close_px_all[[\u001b[38;5;124m'\u001b[39m\u001b[38;5;124mAAPL\u001b[39m\u001b[38;5;124m'\u001b[39m,\u001b[38;5;124m'\u001b[39m\u001b[38;5;124mMSFT\u001b[39m\u001b[38;5;124m'\u001b[39m,\u001b[38;5;124m'\u001b[39m\u001b[38;5;124mXOM\u001b[39m\u001b[38;5;124m'\u001b[39m]]\n\u001b[1;32m      3\u001b[0m close_px \u001b[38;5;241m=\u001b[39m close_px\u001b[38;5;241m.\u001b[39mresample(\u001b[38;5;124m'\u001b[39m\u001b[38;5;124mB\u001b[39m\u001b[38;5;124m'\u001b[39m)\u001b[38;5;241m.\u001b[39mffill()\n",
      "\u001b[0;31mNameError\u001b[0m: name 'wd' is not defined"
     ]
    }
   ],
   "source": [
    "close_px_all = pd.read_csv(wd+'//pydata-book//examples//stock_px_2.csv',parse_dates=True,index_col=0)\n",
    "close_px = close_px_all[['AAPL','MSFT','XOM']]\n",
    "close_px = close_px.resample('B').ffill()\n",
    "close_px"
   ]
  },
  {
   "cell_type": "code",
   "execution_count": null,
   "id": "0663b4e9",
   "metadata": {},
   "outputs": [],
   "source": []
  },
  {
   "cell_type": "code",
   "execution_count": 50,
   "id": "2f09b839",
   "metadata": {
    "ExecuteTime": {
     "end_time": "2022-10-08T10:23:13.804194Z",
     "start_time": "2022-10-08T10:23:13.780003Z"
    }
   },
   "outputs": [
    {
     "ename": "NameError",
     "evalue": "name 'close_px' is not defined",
     "output_type": "error",
     "traceback": [
      "\u001b[0;31m---------------------------------------------------------------------------\u001b[0m",
      "\u001b[0;31mNameError\u001b[0m                                 Traceback (most recent call last)",
      "Input \u001b[0;32mIn [50]\u001b[0m, in \u001b[0;36m<cell line: 1>\u001b[0;34m()\u001b[0m\n\u001b[0;32m----> 1\u001b[0m \u001b[43mclose_px\u001b[49m\u001b[38;5;241m.\u001b[39mAAPL\u001b[38;5;241m.\u001b[39mplot()\n\u001b[1;32m      2\u001b[0m close_px\u001b[38;5;241m.\u001b[39mAAPL\u001b[38;5;241m.\u001b[39mrolling(\u001b[38;5;241m50\u001b[39m)\u001b[38;5;241m.\u001b[39mmean()\u001b[38;5;241m.\u001b[39mplot()\n",
      "\u001b[0;31mNameError\u001b[0m: name 'close_px' is not defined"
     ]
    }
   ],
   "source": [
    "close_px.AAPL.plot()\n",
    "close_px.AAPL.rolling(50).mean().plot()"
   ]
  },
  {
   "cell_type": "code",
   "execution_count": 51,
   "id": "1f92b91a",
   "metadata": {
    "ExecuteTime": {
     "end_time": "2022-10-08T10:23:13.995536Z",
     "start_time": "2022-10-08T10:23:13.969681Z"
    }
   },
   "outputs": [
    {
     "ename": "NameError",
     "evalue": "name 'close_px' is not defined",
     "output_type": "error",
     "traceback": [
      "\u001b[0;31m---------------------------------------------------------------------------\u001b[0m",
      "\u001b[0;31mNameError\u001b[0m                                 Traceback (most recent call last)",
      "Input \u001b[0;32mIn [51]\u001b[0m, in \u001b[0;36m<cell line: 1>\u001b[0;34m()\u001b[0m\n\u001b[0;32m----> 1\u001b[0m lin \u001b[38;5;241m=\u001b[39m \u001b[43mclose_px\u001b[49m\u001b[38;5;241m.\u001b[39miloc[\u001b[38;5;28mrange\u001b[39m(\u001b[38;5;241m20\u001b[39m),:]\n\u001b[1;32m      2\u001b[0m lin\n",
      "\u001b[0;31mNameError\u001b[0m: name 'close_px' is not defined"
     ]
    }
   ],
   "source": [
    "lin = close_px.iloc[range(20),:]\n",
    "lin"
   ]
  },
  {
   "cell_type": "markdown",
   "id": "dfdc6466",
   "metadata": {},
   "source": [
    "\\begin{itemize}\n",
    "\\item X.rolling(k).apply(lambda x:f(x))---(4)\n",
    "\\item X.rolling(k).mean()---(5)\n",
    "\\end{itemize}\n",
    "\n",
    "\\begin{equation}\\label{eq:4}\n",
    "Y_{n} = f(X_{n},X_{n-1},\\dots,X_{n+1-k})\n",
    "\\end{equation}\n",
    "\n",
    "\\begin{equation}\\label{eq:5}\n",
    "Y_{n} =  \\frac{X_{n}+X_{n-1}+\\dots+X_{n+1-k}}{k} \n",
    "\\end{equation}\n",
    "\n"
   ]
  },
  {
   "cell_type": "code",
   "execution_count": 52,
   "id": "1691d220",
   "metadata": {
    "ExecuteTime": {
     "end_time": "2022-10-08T10:23:15.045338Z",
     "start_time": "2022-10-08T10:23:15.020109Z"
    }
   },
   "outputs": [
    {
     "ename": "NameError",
     "evalue": "name 'lin' is not defined",
     "output_type": "error",
     "traceback": [
      "\u001b[0;31m---------------------------------------------------------------------------\u001b[0m",
      "\u001b[0;31mNameError\u001b[0m                                 Traceback (most recent call last)",
      "Input \u001b[0;32mIn [52]\u001b[0m, in \u001b[0;36m<cell line: 1>\u001b[0;34m()\u001b[0m\n\u001b[0;32m----> 1\u001b[0m \u001b[43mlin\u001b[49m[\u001b[38;5;124m'\u001b[39m\u001b[38;5;124mAAPL\u001b[39m\u001b[38;5;124m'\u001b[39m]\u001b[38;5;241m.\u001b[39mrolling(\u001b[38;5;241m3\u001b[39m)\u001b[38;5;241m.\u001b[39mapply(\u001b[38;5;28;01mlambda\u001b[39;00m x:x[\u001b[38;5;241m0\u001b[39m]\u001b[38;5;241m+\u001b[39mx[\u001b[38;5;241m1\u001b[39m])\n",
      "\u001b[0;31mNameError\u001b[0m: name 'lin' is not defined"
     ]
    }
   ],
   "source": [
    "lin['AAPL'].rolling(3).apply(lambda x:x[0]+x[1])"
   ]
  },
  {
   "cell_type": "code",
   "execution_count": null,
   "id": "02075154",
   "metadata": {},
   "outputs": [],
   "source": []
  },
  {
   "cell_type": "code",
   "execution_count": null,
   "id": "ed808b8c",
   "metadata": {},
   "outputs": [],
   "source": []
  }
 ],
 "metadata": {
  "kernelspec": {
   "display_name": "Python 3 (ipykernel)",
   "language": "python",
   "name": "python3"
  },
  "language_info": {
   "codemirror_mode": {
    "name": "ipython",
    "version": 3
   },
   "file_extension": ".py",
   "mimetype": "text/x-python",
   "name": "python",
   "nbconvert_exporter": "python",
   "pygments_lexer": "ipython3",
   "version": "3.9.12"
  },
  "latex_envs": {
   "LaTeX_envs_menu_present": true,
   "autoclose": false,
   "autocomplete": true,
   "bibliofile": "biblio.bib",
   "cite_by": "apalike",
   "current_citInitial": 1,
   "eqLabelWithNumbers": false,
   "eqNumInitial": 1,
   "hotkeys": {
    "equation": "Ctrl-E",
    "itemize": "Ctrl-I"
   },
   "labels_anchors": false,
   "latex_user_defs": false,
   "report_style_numbering": false,
   "user_envs_cfg": false
  },
  "nbTranslate": {
   "displayLangs": [
    "*"
   ],
   "hotkey": "alt-t",
   "langInMainMenu": true,
   "sourceLang": "en",
   "targetLang": "fr",
   "useGoogleTranslate": true
  },
  "toc": {
   "base_numbering": 1,
   "nav_menu": {},
   "number_sections": true,
   "sideBar": true,
   "skip_h1_title": false,
   "title_cell": "Table of Contents",
   "title_sidebar": "Contents",
   "toc_cell": false,
   "toc_position": {},
   "toc_section_display": true,
   "toc_window_display": true
  },
  "varInspector": {
   "cols": {
    "lenName": 16,
    "lenType": 16,
    "lenVar": 40
   },
   "kernels_config": {
    "python": {
     "delete_cmd_postfix": "",
     "delete_cmd_prefix": "del ",
     "library": "var_list.py",
     "varRefreshCmd": "print(var_dic_list())"
    },
    "r": {
     "delete_cmd_postfix": ") ",
     "delete_cmd_prefix": "rm(",
     "library": "var_list.r",
     "varRefreshCmd": "cat(var_dic_list()) "
    }
   },
   "types_to_exclude": [
    "module",
    "function",
    "builtin_function_or_method",
    "instance",
    "_Feature"
   ],
   "window_display": false
  }
 },
 "nbformat": 4,
 "nbformat_minor": 5
}
