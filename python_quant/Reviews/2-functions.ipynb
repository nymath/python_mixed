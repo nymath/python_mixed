{
 "cells": [
  {
   "cell_type": "code",
   "execution_count": 15,
   "metadata": {},
   "outputs": [
    {
     "data": {
      "text/plain": [
       "14"
      ]
     },
     "execution_count": 15,
     "metadata": {},
     "output_type": "execute_result"
    }
   ],
   "source": [
    "func_2 =  lambda x,y,z=3 : 1*x + 2*y + 3*z \n",
    "    \n",
    "func_2(1,2,3)\n",
    "func_2(y=2, z=3, x=1)\n",
    "func_2(1,2)"
   ]
  },
  {
   "cell_type": "code",
   "execution_count": 1,
   "metadata": {},
   "outputs": [
    {
     "data": {
      "text/plain": [
       "14"
      ]
     },
     "execution_count": 1,
     "metadata": {},
     "output_type": "execute_result"
    }
   ],
   "source": [
    "def func_1(x,y,z):\n",
    "    \n",
    "    return 1*x + 2*y + 3*z \n",
    "    #yield   \n",
    "func_1(1,2,3)\n"
   ]
  },
  {
   "cell_type": "code",
   "execution_count": 6,
   "metadata": {},
   "outputs": [
    {
     "ename": "SyntaxError",
     "evalue": "positional argument follows keyword argument (<ipython-input-6-689fe6b6bf17>, line 9)",
     "output_type": "error",
     "traceback": [
      "\u001b[1;36m  File \u001b[1;32m\"<ipython-input-6-689fe6b6bf17>\"\u001b[1;36m, line \u001b[1;32m9\u001b[0m\n\u001b[1;33m    func_2(y=2,  z=3, 1 )\u001b[0m\n\u001b[1;37m                     ^\u001b[0m\n\u001b[1;31mSyntaxError\u001b[0m\u001b[1;31m:\u001b[0m positional argument follows keyword argument\n"
     ]
    }
   ],
   "source": [
    "def func_2(x, y,z):\n",
    "    rlt = 1*x + 2*y + 3*z\n",
    "    \n",
    "    return rlt \n",
    "    #yield   \n",
    "func_2(y=2, z=3, x=1)\n",
    "\n",
    "func_2(1,   z=3, y=2)\n",
    "#func_2(2,   z=3, x=1 )\n",
    "func_2(y=2,  z=3, 1 )"
   ]
  },
  {
   "cell_type": "code",
   "execution_count": 9,
   "metadata": {},
   "outputs": [
    {
     "data": {
      "text/plain": [
       "14"
      ]
     },
     "execution_count": 9,
     "metadata": {},
     "output_type": "execute_result"
    }
   ],
   "source": [
    "def func_1(x,y,z=3):\n",
    "    rlt = 1*x + 2*y + 3*z\n",
    "    \n",
    "    return rlt \n",
    "    #yield   \n",
    "func_1(1,2)"
   ]
  },
  {
   "cell_type": "code",
   "execution_count": 10,
   "metadata": {},
   "outputs": [
    {
     "name": "stdout",
     "output_type": "stream",
     "text": [
      "(1, 1, 1, 1, 1, 1, 1, 1, 23) <class 'tuple'>\n"
     ]
    },
    {
     "data": {
      "text/plain": [
       "36"
      ]
     },
     "execution_count": 10,
     "metadata": {},
     "output_type": "execute_result"
    }
   ],
   "source": [
    "def func_1(x,y,*z):\n",
    "    print(z,type(z))\n",
    "    \n",
    "    rlt = 1*x + 2*y + sum(z)\n",
    "    \n",
    "    return rlt \n",
    "    #yield   \n",
    "func_1(1,2,1,1,1,1,1,1,1,1,23)"
   ]
  },
  {
   "cell_type": "code",
   "execution_count": 11,
   "metadata": {},
   "outputs": [
    {
     "name": "stdout",
     "output_type": "stream",
     "text": [
      "{'k1': 3, 'k2': 4, 'k3': 5, 'k4': 6} <class 'dict'>\n"
     ]
    },
    {
     "data": {
      "text/plain": [
       "23"
      ]
     },
     "execution_count": 11,
     "metadata": {},
     "output_type": "execute_result"
    }
   ],
   "source": [
    "def func_1(x,y,**z):\n",
    "    print(z,type(z))\n",
    "    \n",
    "    rlt = 1*x + 2*y + sum(z.values())\n",
    "    \n",
    "    return rlt \n",
    "    #yield   \n",
    "func_1(1,2,k1=3,k2=4,k3=5,k4=6)"
   ]
  },
  {
   "cell_type": "code",
   "execution_count": null,
   "metadata": {},
   "outputs": [],
   "source": [
    "sum([1,2,3])\n",
    "max \n",
    "min \n",
    "abs"
   ]
  }
 ],
 "metadata": {
  "kernelspec": {
   "display_name": "Python 3",
   "language": "python",
   "name": "python3"
  },
  "language_info": {
   "codemirror_mode": {
    "name": "ipython",
    "version": 3
   },
   "file_extension": ".py",
   "mimetype": "text/x-python",
   "name": "python",
   "nbconvert_exporter": "python",
   "pygments_lexer": "ipython3",
   "version": "3.8.10"
  },
  "toc": {
   "base_numbering": 1,
   "nav_menu": {},
   "number_sections": true,
   "sideBar": true,
   "skip_h1_title": false,
   "title_cell": "Table of Contents",
   "title_sidebar": "Contents",
   "toc_cell": false,
   "toc_position": {},
   "toc_section_display": true,
   "toc_window_display": false
  }
 },
 "nbformat": 4,
 "nbformat_minor": 2
}
