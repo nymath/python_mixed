{
 "cells": [
  {
   "cell_type": "code",
   "execution_count": 5,
   "metadata": {},
   "outputs": [
    {
     "ename": "TypeError",
     "evalue": "__init__() takes 2 positional arguments but 3 were given",
     "output_type": "error",
     "traceback": [
      "\u001b[1;31m---------------------------------------------------------------------------\u001b[0m",
      "\u001b[1;31mTypeError\u001b[0m                                 Traceback (most recent call last)",
      "\u001b[1;32m<ipython-input-5-b7a3923e2605>\u001b[0m in \u001b[0;36m<module>\u001b[1;34m\u001b[0m\n\u001b[0;32m      3\u001b[0m         \u001b[1;32mpass\u001b[0m\u001b[1;33m\u001b[0m\u001b[1;33m\u001b[0m\u001b[0m\n\u001b[0;32m      4\u001b[0m \u001b[1;33m\u001b[0m\u001b[0m\n\u001b[1;32m----> 5\u001b[1;33m \u001b[0ms1\u001b[0m \u001b[1;33m=\u001b[0m \u001b[0mStudent\u001b[0m\u001b[1;33m(\u001b[0m\u001b[1;34m'F'\u001b[0m\u001b[1;33m,\u001b[0m\u001b[1;36m19\u001b[0m\u001b[1;33m)\u001b[0m\u001b[1;33m\u001b[0m\u001b[1;33m\u001b[0m\u001b[0m\n\u001b[0m\u001b[0;32m      6\u001b[0m \u001b[1;31m#s1.getAge()\u001b[0m\u001b[1;33m\u001b[0m\u001b[1;33m\u001b[0m\u001b[1;33m\u001b[0m\u001b[0m\n\u001b[0;32m      7\u001b[0m \u001b[0mprint\u001b[0m\u001b[1;33m(\u001b[0m\u001b[0ms1\u001b[0m\u001b[1;33m,\u001b[0m\u001b[0mtype\u001b[0m\u001b[1;33m(\u001b[0m\u001b[0ms1\u001b[0m\u001b[1;33m)\u001b[0m\u001b[1;33m)\u001b[0m\u001b[1;33m\u001b[0m\u001b[1;33m\u001b[0m\u001b[0m\n",
      "\u001b[1;31mTypeError\u001b[0m: __init__() takes 2 positional arguments but 3 were given"
     ]
    }
   ],
   "source": [
    "class Student():\n",
    "    def __init__(sex,age):\n",
    "        pass\n",
    "    \n",
    "s1 = Student('F',19)\n",
    "#s1.getAge()\n",
    "print(s1,type(s1))"
   ]
  },
  {
   "cell_type": "code",
   "execution_count": 19,
   "metadata": {},
   "outputs": [
    {
     "name": "stdout",
     "output_type": "stream",
     "text": [
      "19\n",
      "19\n",
      "None\n",
      "<__main__.Student object at 0x0000000006C09550> <class '__main__.Student'>\n"
     ]
    }
   ],
   "source": [
    "class Student():\n",
    "    sid = None\n",
    "    def __init__(self,sex,age):\n",
    "        self.sex = sex\n",
    "        self.__age = age\n",
    "    \n",
    "    def __getAge(self):\n",
    "        print(self.__age)\n",
    "        print(self.sid)\n",
    "\n",
    "s1 = Student('F',19)\n",
    "print(s1._Student__age)\n",
    "print(s1._Student__getAge())\n",
    "print(s1,type(s1))"
   ]
  },
  {
   "cell_type": "code",
   "execution_count": 22,
   "metadata": {},
   "outputs": [
    {
     "name": "stdout",
     "output_type": "stream",
     "text": [
      "CollegeStudent: M\n",
      "None\n"
     ]
    }
   ],
   "source": [
    "class Student():\n",
    "    def __init__(self,sex,age):\n",
    "        self.sex = sex\n",
    "        self.__age = age\n",
    "    \n",
    "    def __getAge(self):\n",
    "        print(self.__age)\n",
    "        \n",
    "    def getSex(self):    \n",
    "        print(\"Student:\",self.sex)\n",
    "        \n",
    "class CollegeStudent(Student):\n",
    "    def getSex(self):    \n",
    "        print(\"CollegeStudent:\", self.sex)\n",
    "        return None\n",
    "\n",
    "s2 = CollegeStudent('M',20)\n",
    "print(s2.getSex())"
   ]
  },
  {
   "cell_type": "code",
   "execution_count": 24,
   "metadata": {},
   "outputs": [
    {
     "name": "stdout",
     "output_type": "stream",
     "text": [
      "CollegeStudent: M\n",
      "Student: F\n"
     ]
    }
   ],
   "source": [
    "def func(obj):\n",
    "    obj.getSex()\n",
    "\n",
    "s1 = Student('F',19)   \n",
    "\n",
    "s2 = CollegeStudent('M',20)\n",
    "func(s2)    \n",
    "func(s1)\n"
   ]
  }
 ],
 "metadata": {
  "kernelspec": {
   "display_name": "Python 3",
   "language": "python",
   "name": "python3"
  },
  "language_info": {
   "codemirror_mode": {
    "name": "ipython",
    "version": 3
   },
   "file_extension": ".py",
   "mimetype": "text/x-python",
   "name": "python",
   "nbconvert_exporter": "python",
   "pygments_lexer": "ipython3",
   "version": "3.7.1"
  }
 },
 "nbformat": 4,
 "nbformat_minor": 2
}
