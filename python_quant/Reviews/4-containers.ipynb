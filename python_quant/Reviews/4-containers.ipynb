{
 "cells": [
  {
   "cell_type": "code",
   "execution_count": 10,
   "metadata": {},
   "outputs": [
    {
     "ename": "ZeroDivisionError",
     "evalue": "division by zero",
     "output_type": "error",
     "traceback": [
      "\u001b[1;31m---------------------------------------------------------------------------\u001b[0m",
      "\u001b[1;31mZeroDivisionError\u001b[0m                         Traceback (most recent call last)",
      "\u001b[1;32m<ipython-input-10-a51711477540>\u001b[0m in \u001b[0;36m<module>\u001b[1;34m\u001b[0m\n\u001b[0;32m      2\u001b[0m \u001b[0mj\u001b[0m \u001b[1;33m=\u001b[0m \u001b[1;36m0\u001b[0m\u001b[1;33m\u001b[0m\u001b[1;33m\u001b[0m\u001b[0m\n\u001b[0;32m      3\u001b[0m \u001b[1;33m\u001b[0m\u001b[0m\n\u001b[1;32m----> 4\u001b[1;33m \u001b[0mrlt\u001b[0m \u001b[1;33m=\u001b[0m \u001b[0mi\u001b[0m\u001b[1;33m/\u001b[0m\u001b[0mj\u001b[0m\u001b[1;33m\u001b[0m\u001b[1;33m\u001b[0m\u001b[0m\n\u001b[0m\u001b[0;32m      5\u001b[0m \u001b[0mprint\u001b[0m\u001b[1;33m(\u001b[0m\u001b[0mrlt\u001b[0m\u001b[1;33m)\u001b[0m\u001b[1;33m\u001b[0m\u001b[1;33m\u001b[0m\u001b[0m\n",
      "\u001b[1;31mZeroDivisionError\u001b[0m: division by zero"
     ]
    }
   ],
   "source": [
    "i = 1\n",
    "j = 0 \n",
    "\n",
    "rlt = i/j \n",
    "print(rlt)\n"
   ]
  },
  {
   "cell_type": "code",
   "execution_count": 11,
   "metadata": {},
   "outputs": [
    {
     "name": "stdout",
     "output_type": "stream",
     "text": [
      "Error i/0\n",
      "None\n"
     ]
    }
   ],
   "source": [
    "i = 1\n",
    "j = 0 \n",
    "try:\n",
    "    rlt = i/j     \n",
    "except:\n",
    "    print(\"Error i/0\")\n",
    "    rlt = None\n",
    "    \n",
    "print(rlt)    "
   ]
  },
  {
   "cell_type": "code",
   "execution_count": 8,
   "metadata": {},
   "outputs": [
    {
     "name": "stdout",
     "output_type": "stream",
     "text": [
      "5006\n"
     ]
    }
   ],
   "source": [
    "i = 0\n",
    "s = 0     \n",
    "while  True:\n",
    "         \n",
    "    if i == 100:\n",
    "        break\n",
    "    i =i + 1\n",
    "    \n",
    "    if i == 44:\n",
    "        continue\n",
    "        \n",
    "    s = s+ i\n",
    "    \n",
    "print(s)    "
   ]
  },
  {
   "cell_type": "code",
   "execution_count": null,
   "metadata": {},
   "outputs": [],
   "source": [
    "\n",
    "while  True:  \n",
    "    i = 0\n",
    "    s = 0     \n",
    "    while  True:\n",
    "\n",
    "        if i == 100:\n",
    "            break\n",
    "        i =i + 1\n",
    "        s = s+ i\n",
    "    \n",
    "    print(\"Hello\",s    )"
   ]
  },
  {
   "cell_type": "code",
   "execution_count": null,
   "metadata": {},
   "outputs": [],
   "source": [
    "3   for  : \n",
    "    while  :\n",
    "        break\n",
    "        continue\n",
    "    if  :\n",
    "    else:\n",
    "    elif: "
   ]
  },
  {
   "cell_type": "code",
   "execution_count": null,
   "metadata": {},
   "outputs": [],
   "source": [
    "5  int float NoneType bool str\n",
    "\n",
    "\n",
    "4  list tuple set dict\n",
    "     \n",
    "   list  []     lst_1=[1, 2,  [1,4], ]    lst_1[2][1] \n",
    "                       0  1    2                       \n",
    "       增  lst_1.append(itm)  lst_1.extend(list)  +    *\n",
    "       修  lst_1[idx] = itm  \n",
    "       删  del lst_1[idx]   lst_1.remove(itm)    lst_1.pop(idx) \n",
    "       获取  获取某个元素的下标  lst_1.index(itm) \n",
    "             获取某个下标的元素  lst_1[idx]\n",
    "       for itm in lst_1:\n",
    "            itm \n",
    "            \n",
    "       for idx, itm in enumerate(lst_1):\n",
    "            idx, itm   \n",
    "            \n",
    "       for idx in range(len(lst_1)):\n",
    "            idx, lst_1[idx]\n",
    "                       \n",
    "       lst_1[M1:M2:P]  M1 开始的下标  M2 结束的下标 （但是不包括M2所指的元素） P 步长   \n",
    "    \n",
    "   dict  {}   {1:2,  2:3,   4:5}  键值对  \n",
    "       增  dct_1[key] = value     dct_1.update(dct_2)  \n",
    "       修  dct_1[key] = value  \n",
    "       删  del dct_1[key]   pop(key) \n",
    "       获取  获取某个key的value  dct_1[key]\n",
    "                                 dct_1.get(key,None)\n",
    "            \n",
    "       for key in dct_1:\n",
    "            key,dct_1[key]\n",
    "            \n",
    "       for key, value in dct_1.items():\n",
    "            key,value\n",
    "            \n",
    "       for value in dct_1.values():\n",
    "            value\n",
    "                        \n",
    "            \n",
    "   tuple  ()   (1,2,3,)  1,2,3,3    \n",
    "        count   index \n",
    "        TypeError: 'tuple' object does not support item assignment\n",
    "        获取  获取某个元素的下标  index(itm) 获取某个下标的元素 tpl_1[idx]\n",
    "        tpl_1[M1:M2:P]  M1 开始的下标  M2 结束的下标 （但是不包括M2所指的元素） P 步长  \n",
    "        \n",
    "       for itm in tpl_1:\n",
    "            itm        \n",
    "   \n",
    "   set  set()   {1,2,3,4,5}\n",
    "        去重 list(set([1,2,3,2,3,3,3,3]))\n",
    "        add \n",
    "        pop remove  \n",
    "        intersection\n",
    "        union\n",
    "        symmetric_difference\n",
    "        \n",
    "\n",
    "\n",
    "3   for  : \n",
    "    while  :        \n",
    "    continue\n",
    "    break  \n",
    "        \n",
    "    if  :\n",
    "    else:\n",
    "    elif: \n",
    "   \n",
    "2   def  :\n",
    "1   class  :\n",
    "    \n",
    "    "
   ]
  },
  {
   "cell_type": "code",
   "execution_count": 7,
   "metadata": {},
   "outputs": [
    {
     "data": {
      "text/plain": [
       "{2: 3, 4: 5}"
      ]
     },
     "execution_count": 7,
     "metadata": {},
     "output_type": "execute_result"
    }
   ],
   "source": [
    "dct_1 = {1:2,  2:3, 4:5, 5:2 }\n",
    "dct_2 = {}\n",
    "lst_1 = []\n",
    "#1  dct_2 dct_1 key value 对调\n",
    "\n",
    "#2  删除 dct_1中 value 为 2的元素 \n",
    "for key, value in dct_1.items():\n",
    "    key,value\n",
    "    if value == 2:\n",
    "        lst_1.append(key)\n",
    "        \n",
    "for key in lst_1:\n",
    "    del dct_1[key]\n",
    "dct_1"
   ]
  },
  {
   "cell_type": "code",
   "execution_count": 8,
   "metadata": {},
   "outputs": [
    {
     "name": "stdout",
     "output_type": "stream",
     "text": [
      "['hello', 'world', 'xxxxx', 'hello', 'world', 'xxxxx', 'hello', 'xxxxx', 'xxxxx']\n"
     ]
    }
   ],
   "source": [
    "str_1 = \"hello world xxxxx hello world xxxxx hello xxxxx xxxxx\"\n",
    "dct_1 = {}\n",
    "lst_1 =  str_1.split()\n",
    "print(lst_1)\n",
    "for word in lst_1: \n",
    "    if word in dct_1:\n",
    "        dct_1[word] = dct_1[word] + 1 \n",
    "    else:\n",
    "        dct_1[word] = 1\n",
    "    #setdefault()    \n",
    "dct_1    \n",
    "#dct_1 = {'hello':3, 'world':2 xx}\n",
    "\n"
   ]
  },
  {
   "cell_type": "code",
   "execution_count": null,
   "metadata": {},
   "outputs": [],
   "source": [
    "str_1 = \"hello world xxxxx hello world xxxxx hello xxxxx xxxxx\"\n",
    "dct_1 = {}\n",
    "lst_1 =  str_1.split()\n",
    "print(lst_1)\n",
    "for word in lst_1: \n",
    "    dct_1[word] = dct_1.setdefault(word,0) + 1 \n",
    "dct_1 "
   ]
  },
  {
   "cell_type": "code",
   "execution_count": 10,
   "metadata": {},
   "outputs": [
    {
     "data": {
      "text/plain": [
       "{'hello': 3, 'world': 2, 'xxxxx': 4}"
      ]
     },
     "execution_count": 10,
     "metadata": {},
     "output_type": "execute_result"
    }
   ],
   "source": [
    "str_1 = \"hello world xxxxx hello world xxxxx hello xxxxx xxxxx\"\n",
    "\n",
    "from collections import Counter\n",
    "dct_1 = dict(Counter(str_1.split()))\n",
    "\n",
    "dct_1"
   ]
  },
  {
   "cell_type": "code",
   "execution_count": 5,
   "metadata": {},
   "outputs": [
    {
     "name": "stdout",
     "output_type": "stream",
     "text": [
      "None\n"
     ]
    }
   ],
   "source": [
    "d = {1:2,  2:3,   4:5}\\\n",
    "d.items\n",
    "print(d.get(6,None))"
   ]
  },
  {
   "cell_type": "code",
   "execution_count": 28,
   "metadata": {},
   "outputs": [
    {
     "data": {
      "text/plain": [
       "[2, 3]"
      ]
     },
     "execution_count": 28,
     "metadata": {},
     "output_type": "execute_result"
    }
   ],
   "source": [
    "lst_1 = [2,2,3,3,3,]\n",
    "lst_1 = list(set(lst_1))\n",
    "lst_1"
   ]
  },
  {
   "cell_type": "code",
   "execution_count": 34,
   "metadata": {
    "scrolled": true
   },
   "outputs": [
    {
     "name": "stdout",
     "output_type": "stream",
     "text": [
      "{2, 3, 4, 5}\n"
     ]
    },
    {
     "data": {
      "text/plain": [
       "{2, 3, 4, 5, 6, 7, 8}"
      ]
     },
     "execution_count": 34,
     "metadata": {},
     "output_type": "execute_result"
    }
   ],
   "source": [
    "set_1 = {1,2,3,4,5}\n",
    "print(set_1)\n",
    "set_2 = {4,5,6,7,8}\n",
    "\n",
    "set_1.intersection(set_2)\n",
    "set_1.union(set_2)\n",
    "#1  set_1.symmetric_difference(set_2)\n",
    "#2  \n"
   ]
  },
  {
   "cell_type": "code",
   "execution_count": 24,
   "metadata": {
    "scrolled": true
   },
   "outputs": [
    {
     "data": {
      "text/plain": [
       "['__and__',\n",
       " '__class__',\n",
       " '__contains__',\n",
       " '__delattr__',\n",
       " '__dir__',\n",
       " '__doc__',\n",
       " '__eq__',\n",
       " '__format__',\n",
       " '__ge__',\n",
       " '__getattribute__',\n",
       " '__gt__',\n",
       " '__hash__',\n",
       " '__iand__',\n",
       " '__init__',\n",
       " '__init_subclass__',\n",
       " '__ior__',\n",
       " '__isub__',\n",
       " '__iter__',\n",
       " '__ixor__',\n",
       " '__le__',\n",
       " '__len__',\n",
       " '__lt__',\n",
       " '__ne__',\n",
       " '__new__',\n",
       " '__or__',\n",
       " '__rand__',\n",
       " '__reduce__',\n",
       " '__reduce_ex__',\n",
       " '__repr__',\n",
       " '__ror__',\n",
       " '__rsub__',\n",
       " '__rxor__',\n",
       " '__setattr__',\n",
       " '__sizeof__',\n",
       " '__str__',\n",
       " '__sub__',\n",
       " '__subclasshook__',\n",
       " '__xor__',\n",
       " 'add',\n",
       " 'clear',\n",
       " 'copy',\n",
       " 'difference',\n",
       " 'difference_update',\n",
       " 'discard',\n",
       " 'intersection',\n",
       " 'intersection_update',\n",
       " 'isdisjoint',\n",
       " 'issubset',\n",
       " 'issuperset',\n",
       " 'pop',\n",
       " 'remove',\n",
       " 'symmetric_difference',\n",
       " 'symmetric_difference_update',\n",
       " 'union',\n",
       " 'update']"
      ]
     },
     "execution_count": 24,
     "metadata": {},
     "output_type": "execute_result"
    }
   ],
   "source": [
    "dir({1,2,3,4,5})"
   ]
  },
  {
   "cell_type": "code",
   "execution_count": 23,
   "metadata": {},
   "outputs": [
    {
     "name": "stdout",
     "output_type": "stream",
     "text": [
      "(1, 2, 3, [3, 4])\n"
     ]
    },
    {
     "ename": "TypeError",
     "evalue": "'tuple' object does not support item assignment",
     "output_type": "error",
     "traceback": [
      "\u001b[1;31m---------------------------------------------------------------------------\u001b[0m",
      "\u001b[1;31mTypeError\u001b[0m                                 Traceback (most recent call last)",
      "\u001b[1;32m<ipython-input-23-359436a4e15e>\u001b[0m in \u001b[0;36m<module>\u001b[1;34m\u001b[0m\n\u001b[0;32m      2\u001b[0m \u001b[0mtype\u001b[0m\u001b[1;33m(\u001b[0m\u001b[0mtpl_1\u001b[0m\u001b[1;33m)\u001b[0m\u001b[1;33m\u001b[0m\u001b[1;33m\u001b[0m\u001b[0m\n\u001b[0;32m      3\u001b[0m \u001b[0mprint\u001b[0m\u001b[1;33m(\u001b[0m\u001b[0mtpl_1\u001b[0m\u001b[1;33m)\u001b[0m\u001b[1;33m\u001b[0m\u001b[1;33m\u001b[0m\u001b[0m\n\u001b[1;32m----> 4\u001b[1;33m \u001b[0mtpl_1\u001b[0m\u001b[1;33m[\u001b[0m\u001b[1;36m3\u001b[0m\u001b[1;33m]\u001b[0m \u001b[1;33m=\u001b[0m \u001b[1;34m'XXX'\u001b[0m\u001b[1;33m\u001b[0m\u001b[1;33m\u001b[0m\u001b[0m\n\u001b[0m\u001b[0;32m      5\u001b[0m \u001b[0mprint\u001b[0m\u001b[1;33m(\u001b[0m\u001b[0mtpl_1\u001b[0m\u001b[1;33m)\u001b[0m\u001b[1;33m\u001b[0m\u001b[1;33m\u001b[0m\u001b[0m\n",
      "\u001b[1;31mTypeError\u001b[0m: 'tuple' object does not support item assignment"
     ]
    }
   ],
   "source": [
    "tpl_1 = 1,2,3,[3,4]  \n",
    "type(tpl_1)\n",
    "print(tpl_1)\n",
    "tpl_1[3][1] = 'XXX'\n",
    "print(tpl_1) "
   ]
  },
  {
   "cell_type": "code",
   "execution_count": null,
   "metadata": {},
   "outputs": [],
   "source": []
  },
  {
   "cell_type": "code",
   "execution_count": null,
   "metadata": {},
   "outputs": [],
   "source": [
    "# 实现for循环 使得lst_2 是对应lst_1 元素的平方\n",
    "lst_1 = [1,2,3,4]\n",
    "lst_2 = []\n",
    "for itm in lst_1:\n",
    "    print(itm) \n",
    "    lst_2.append(itm**2) \n",
    "\n",
    "#lst_2 = [1,4,9,16] "
   ]
  },
  {
   "cell_type": "code",
   "execution_count": null,
   "metadata": {},
   "outputs": [],
   "source": [
    "# 实现for循环 使得lst_2  奇数位置元素是对应lst_1 元素的3次方 \n",
    "#偶数位置元素是对应lst_1 元素的4次方\n",
    "lst_1 = [1,2,3,4]\n",
    "lst_2 = []\n",
    "for idx, itm in enumerate(lst_1):\n",
    "    print(idx,itm)   \n",
    "    if idx %2 == 1 :\n",
    "        lst_2.append(itm**3)\n",
    "    else :\n",
    "        lst_2.append(itm**4)\n",
    "#lst_2 = [1,4,9,16] "
   ]
  },
  {
   "cell_type": "code",
   "execution_count": 3,
   "metadata": {},
   "outputs": [
    {
     "data": {
      "text/plain": [
       "range(0, 3)"
      ]
     },
     "execution_count": 3,
     "metadata": {},
     "output_type": "execute_result"
    }
   ],
   "source": [
    "range(len([1,2,3]))"
   ]
  },
  {
   "cell_type": "code",
   "execution_count": 1,
   "metadata": {
    "scrolled": false
   },
   "outputs": [
    {
     "name": "stdout",
     "output_type": "stream",
     "text": [
      "['hello', 'world', 'hello', 'world', 'hello']\n"
     ]
    }
   ],
   "source": [
    "str_1 = \"hello#world#hello#world#hello\"\n",
    "print(str_1.split(\"#\"))"
   ]
  },
  {
   "cell_type": "code",
   "execution_count": 5,
   "metadata": {},
   "outputs": [
    {
     "name": "stdout",
     "output_type": "stream",
     "text": [
      "[1, 2, 3]\n",
      "[1, 2, 3, 4, 5, 6, 7]\n",
      "[1, 2, 4, 5, 6, 7]\n"
     ]
    }
   ],
   "source": [
    "lst_1 = [1,2]\n",
    "lst_1.append(3)\n",
    "print(lst_1)\n",
    "\n",
    "lst_1.extend([4,5,6,7])\n",
    "print(lst_1)\n",
    "\n",
    "lst_1 = [1,2] + [4,5,6,7]\n",
    "print(lst_1)"
   ]
  },
  {
   "cell_type": "code",
   "execution_count": null,
   "metadata": {},
   "outputs": [],
   "source": [
    "1 思考题 \n",
    "  5 + 55 + 555 + 5555 + ..... + 5555555555 = \n",
    "    \n",
    "2 统计单词的个数 \n",
    "\n",
    "3 删除list中所有的3 "
   ]
  },
  {
   "cell_type": "code",
   "execution_count": 6,
   "metadata": {},
   "outputs": [
    {
     "name": "stdout",
     "output_type": "stream",
     "text": [
      "[1, 2, 3, 4, 6]\n"
     ]
    }
   ],
   "source": [
    "lst_1 = [1, 2, 3, 4, 5 ,6]\n",
    "#        0  1  2  3  4  5\n",
    "#                -3 -2 -1\n",
    "\n",
    "\n",
    "lst_1.pop(-2) \n",
    "print(lst_1)"
   ]
  },
  {
   "cell_type": "code",
   "execution_count": null,
   "metadata": {},
   "outputs": [],
   "source": [
    "lst_1 = [1, 2, 3, 4, 5 ,6]\n",
    "#        0  1  2  3  4  5\n",
    "#                -3 -2 -1\n",
    "\n",
    "lst_1[M1:M2:P]  M1 开始的下标  M2 结束的下标 （但是不包括M2所指的元素） P 步长  "
   ]
  },
  {
   "cell_type": "code",
   "execution_count": 16,
   "metadata": {},
   "outputs": [
    {
     "data": {
      "text/plain": [
       "([3, 4, 5, 6], 7)"
      ]
     },
     "execution_count": 16,
     "metadata": {},
     "output_type": "execute_result"
    }
   ],
   "source": [
    "lst_1 = list(range(1,21))\n",
    "\n",
    "lst_1 [2:6], lst_1[6]"
   ]
  },
  {
   "cell_type": "code",
   "execution_count": 16,
   "metadata": {},
   "outputs": [
    {
     "name": "stdout",
     "output_type": "stream",
     "text": [
      "[1, 2, 4, 5, 6]\n",
      "[1, 2, 3, 5, 6]\n",
      "[1, 2, 3, 5, 6]\n",
      "[]\n"
     ]
    }
   ],
   "source": [
    "lst_1 = [1, 2, 3, 4, 5 ,6]\n",
    "#        0  1  2  3  4  5\n",
    "lst_1.remove(3) \n",
    "print(lst_1)\n",
    "\n",
    "lst_1 = [1, 2, 3, 4, 5 ,6]\n",
    "#        0  1  2  3  4  5\n",
    "lst_1.pop(3) \n",
    "print(lst_1)\n",
    "\n",
    "lst_1 = [1, 2, 3, 4, 5 ,6]\n",
    "#        0  1  2  3  4  5\n",
    "del lst_1[3]\n",
    "print(lst_1)\n",
    "\n",
    "lst_1 = [1, 2, 3, 4, 5 ,6]\n",
    "#        0  1  2  3  4  5\n",
    "lst_1.clear()  \n",
    "print(lst_1)"
   ]
  },
  {
   "cell_type": "code",
   "execution_count": 17,
   "metadata": {},
   "outputs": [
    {
     "name": "stdout",
     "output_type": "stream",
     "text": [
      "[1, 2, 3, 8, 5, 6]\n"
     ]
    }
   ],
   "source": [
    "lst_1 = [1, 2, 3, 4, 5 ,6]\n",
    "#        0  1  2  3  4  5\n",
    "lst_1[3] = 8\n",
    "print(lst_1) "
   ]
  },
  {
   "cell_type": "code",
   "execution_count": 22,
   "metadata": {},
   "outputs": [
    {
     "data": {
      "text/plain": [
       "['__add__',\n",
       " '__class__',\n",
       " '__contains__',\n",
       " '__delattr__',\n",
       " '__delitem__',\n",
       " '__dir__',\n",
       " '__doc__',\n",
       " '__eq__',\n",
       " '__format__',\n",
       " '__ge__',\n",
       " '__getattribute__',\n",
       " '__getitem__',\n",
       " '__gt__',\n",
       " '__hash__',\n",
       " '__iadd__',\n",
       " '__imul__',\n",
       " '__init__',\n",
       " '__init_subclass__',\n",
       " '__iter__',\n",
       " '__le__',\n",
       " '__len__',\n",
       " '__lt__',\n",
       " '__mul__',\n",
       " '__ne__',\n",
       " '__new__',\n",
       " '__reduce__',\n",
       " '__reduce_ex__',\n",
       " '__repr__',\n",
       " '__reversed__',\n",
       " '__rmul__',\n",
       " '__setattr__',\n",
       " '__setitem__',\n",
       " '__sizeof__',\n",
       " '__str__',\n",
       " '__subclasshook__',\n",
       " 'append',\n",
       " 'clear',\n",
       " 'copy',\n",
       " 'count',\n",
       " 'extend',\n",
       " 'index',\n",
       " 'insert',\n",
       " 'pop',\n",
       " 'remove',\n",
       " 'reverse',\n",
       " 'sort']"
      ]
     },
     "execution_count": 22,
     "metadata": {},
     "output_type": "execute_result"
    }
   ],
   "source": [
    "dir([])"
   ]
  },
  {
   "cell_type": "code",
   "execution_count": 29,
   "metadata": {},
   "outputs": [
    {
     "name": "stdout",
     "output_type": "stream",
     "text": [
      "True\n"
     ]
    }
   ],
   "source": [
    "lst_1 = [1, 2, 3, 4, 5 ,6]\n",
    "\n",
    "print(3 in lst_1)"
   ]
  },
  {
   "cell_type": "code",
   "execution_count": 24,
   "metadata": {},
   "outputs": [
    {
     "name": "stdout",
     "output_type": "stream",
     "text": [
      "----------\n",
      "[1, 2, 4, 5, 6]\n"
     ]
    }
   ],
   "source": [
    "lst_1 = [1, 2, 3, 4, 5 ,6]\n",
    "ct = lst_1.count(3)\n",
    "while ct:\n",
    "    lst_1.remove(3)\n",
    "    ct=ct -1 \n",
    "    \n",
    "print(\"-\"*10)    \n",
    "print(lst_1) "
   ]
  },
  {
   "cell_type": "code",
   "execution_count": 23,
   "metadata": {},
   "outputs": [
    {
     "name": "stdout",
     "output_type": "stream",
     "text": [
      "----------\n",
      "[1, 2, 4, 5, 6]\n"
     ]
    }
   ],
   "source": [
    "lst_1 = [1, 2, 3, 4, 5 ,6]\n",
    "while lst_1.count(3):\n",
    "    lst_1.remove(3)\n",
    "    \n",
    "print(\"-\"*10)    \n",
    "print(lst_1) "
   ]
  },
  {
   "cell_type": "code",
   "execution_count": null,
   "metadata": {},
   "outputs": [],
   "source": [
    "i = 1\n",
    "while i< 10:\n",
    "    print(i)\n",
    "    i = i + 1\n",
    "    \n",
    "print(\"-\"*10)    \n",
    "print(i)  "
   ]
  },
  {
   "cell_type": "code",
   "execution_count": 21,
   "metadata": {},
   "outputs": [
    {
     "name": "stdout",
     "output_type": "stream",
     "text": [
      "[1, 2, 3, 4, 5, 6] [1, 2, 3, 4, 5, 6] 105334152 104621640\n",
      "[1, 2, 3, 8, 5, 6] [1, 2, 3, 4, 5, 6]\n"
     ]
    }
   ],
   "source": [
    "lst_1 = [1, 2, 3, 4, 5 ,6]\n",
    "#        0  1  2  3  4  5\n",
    "lst_2 = lst_1.copy()\n",
    "print(lst_1, lst_2, id(lst_1), id(lst_2) ) \n",
    "\n",
    "\n",
    "lst_1[3] = 8\n",
    "print(lst_1, lst_2) "
   ]
  },
  {
   "cell_type": "code",
   "execution_count": 32,
   "metadata": {},
   "outputs": [
    {
     "name": "stdout",
     "output_type": "stream",
     "text": [
      "1\n",
      "2\n",
      "3\n",
      "4\n",
      "5\n",
      "6\n",
      "0 1\n",
      "1 2\n",
      "2 3\n",
      "3 4\n",
      "4 5\n",
      "5 6\n"
     ]
    }
   ],
   "source": [
    "lst_1 = [1, 2, 3, 4, 5 ,6]\n",
    "#if    xxx :\n",
    "#while     :\n",
    "for i in lst_1:\n",
    "    print(i)\n",
    "\n",
    "for idx, i in enumerate(lst_1):\n",
    "    print(idx,i)    "
   ]
  },
  {
   "cell_type": "code",
   "execution_count": null,
   "metadata": {},
   "outputs": [],
   "source": [
    "1 思考题 \n",
    "  5 + 55 + 555 + 5555 + ..... + 5555555555 = \n",
    "    \n",
    "2 统计单词的个数 \n",
    "\n",
    "3 删除list中所有的3 \n",
    "\n",
    "4 求最长1串起始位置  [1,0,0,1,1,1,1,1,0,1,1,1,1,1,1,1,1,1,0]"
   ]
  }
 ],
 "metadata": {
  "kernelspec": {
   "display_name": "Python 3",
   "language": "python",
   "name": "python3"
  },
  "language_info": {
   "codemirror_mode": {
    "name": "ipython",
    "version": 3
   },
   "file_extension": ".py",
   "mimetype": "text/x-python",
   "name": "python",
   "nbconvert_exporter": "python",
   "pygments_lexer": "ipython3",
   "version": "3.7.1"
  }
 },
 "nbformat": 4,
 "nbformat_minor": 2
}
